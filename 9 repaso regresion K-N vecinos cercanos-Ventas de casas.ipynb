{
 "cells": [
  {
   "cell_type": "markdown",
   "id": "72a7257b",
   "metadata": {},
   "source": [
    "* [1. Importando librerias](#section1)\n",
    " * [1.1 valores nulos](#section11)\n",
    "* [2. KNN con Sklearn](#section2)\n",
    "* [3. Metricas del Modelo de Regresion Vecinos mas cercanos K-N](#section3)\n",
    " * [3.1 MSE](#section3)\n",
    "   * [3.1.1 Calculado](#section311)\n",
    "   * [3.1.2](#section312)\n",
    " * [3.2 RMSE](#section32)\n",
    "   * [3.2.1 Calculado](#section321)\n",
    "   * [3.2.2 Codigo](#section322)\n",
    " * [3.3 MAE](#section33)\n",
    "   * [3.3.1 Calculo](#section331)\n",
    "   * [3.3.2 Codigo](#section332)\n",
    " * [3.4 MAPE](#section34)\n",
    " * [3.5 R2 Score](#section35)\n",
    "   * [3.5.1 Calculo](#section351)\n",
    "   * [3.5.2 Codigo](#section352)\n",
    " "
   ]
  },
  {
   "cell_type": "markdown",
   "id": "3000938b",
   "metadata": {},
   "source": [
    "<a id=\"section1\"></a>\n",
    "## <font color=\"#004D7F\">1. Importando librerias</font>"
   ]
  },
  {
   "cell_type": "code",
   "execution_count": 1,
   "id": "92531149",
   "metadata": {},
   "outputs": [],
   "source": [
    "import pandas as pd \n",
    "import numpy as np \n",
    "import matplotlib.pyplot as plt \n",
    "import seaborn as sns\n",
    "\n",
    "%matplotlib inline"
   ]
  },
  {
   "cell_type": "markdown",
   "id": "2996b198",
   "metadata": {},
   "source": [
    "<a id=\"section11\"></a>\n",
    "## <font color=\"#004D7F\">1.1 Visualizar maximo de filas y maximo d columnas</font>"
   ]
  },
  {
   "cell_type": "code",
   "execution_count": 2,
   "id": "0049f208",
   "metadata": {},
   "outputs": [],
   "source": [
    "pd.set_option('display.max_columns',None)\n",
    "pd.set_option('display.max_rows',None)"
   ]
  },
  {
   "cell_type": "markdown",
   "id": "dbeb5a8c",
   "metadata": {},
   "source": [
    "<a id=\"section2\"></a>\n",
    "## <font color=\"#004D7F\">2. KNN con Sklearn</font>"
   ]
  },
  {
   "cell_type": "code",
   "execution_count": 3,
   "id": "e1075887",
   "metadata": {},
   "outputs": [],
   "source": [
    "df=pd.read_csv('Datos/housing_data.txt',header=None,sep='\\s+')"
   ]
  },
  {
   "cell_type": "code",
   "execution_count": 4,
   "id": "bd303fc9",
   "metadata": {},
   "outputs": [
    {
     "data": {
      "text/html": [
       "<div>\n",
       "<style scoped>\n",
       "    .dataframe tbody tr th:only-of-type {\n",
       "        vertical-align: middle;\n",
       "    }\n",
       "\n",
       "    .dataframe tbody tr th {\n",
       "        vertical-align: top;\n",
       "    }\n",
       "\n",
       "    .dataframe thead th {\n",
       "        text-align: right;\n",
       "    }\n",
       "</style>\n",
       "<table border=\"1\" class=\"dataframe\">\n",
       "  <thead>\n",
       "    <tr style=\"text-align: right;\">\n",
       "      <th></th>\n",
       "      <th>0</th>\n",
       "      <th>1</th>\n",
       "      <th>2</th>\n",
       "      <th>3</th>\n",
       "      <th>4</th>\n",
       "      <th>5</th>\n",
       "      <th>6</th>\n",
       "      <th>7</th>\n",
       "      <th>8</th>\n",
       "      <th>9</th>\n",
       "      <th>10</th>\n",
       "      <th>11</th>\n",
       "      <th>12</th>\n",
       "      <th>13</th>\n",
       "    </tr>\n",
       "  </thead>\n",
       "  <tbody>\n",
       "    <tr>\n",
       "      <th>0</th>\n",
       "      <td>0.00632</td>\n",
       "      <td>18.0</td>\n",
       "      <td>2.31</td>\n",
       "      <td>0</td>\n",
       "      <td>0.538</td>\n",
       "      <td>6.575</td>\n",
       "      <td>65.2</td>\n",
       "      <td>4.0900</td>\n",
       "      <td>1</td>\n",
       "      <td>296.0</td>\n",
       "      <td>15.3</td>\n",
       "      <td>396.9</td>\n",
       "      <td>4.98</td>\n",
       "      <td>24.0</td>\n",
       "    </tr>\n",
       "    <tr>\n",
       "      <th>1</th>\n",
       "      <td>0.02731</td>\n",
       "      <td>0.0</td>\n",
       "      <td>7.07</td>\n",
       "      <td>0</td>\n",
       "      <td>0.469</td>\n",
       "      <td>6.421</td>\n",
       "      <td>78.9</td>\n",
       "      <td>4.9671</td>\n",
       "      <td>2</td>\n",
       "      <td>242.0</td>\n",
       "      <td>17.8</td>\n",
       "      <td>396.9</td>\n",
       "      <td>9.14</td>\n",
       "      <td>21.6</td>\n",
       "    </tr>\n",
       "  </tbody>\n",
       "</table>\n",
       "</div>"
      ],
      "text/plain": [
       "        0     1     2   3      4      5     6       7   8      9     10  \\\n",
       "0  0.00632  18.0  2.31   0  0.538  6.575  65.2  4.0900   1  296.0  15.3   \n",
       "1  0.02731   0.0  7.07   0  0.469  6.421  78.9  4.9671   2  242.0  17.8   \n",
       "\n",
       "      11    12    13  \n",
       "0  396.9  4.98  24.0  \n",
       "1  396.9  9.14  21.6  "
      ]
     },
     "execution_count": 4,
     "metadata": {},
     "output_type": "execute_result"
    }
   ],
   "source": [
    "df.head(2)"
   ]
  },
  {
   "cell_type": "code",
   "execution_count": 5,
   "id": "a69915fa",
   "metadata": {},
   "outputs": [],
   "source": [
    "df.columns=['CRIM', 'ZN', 'INDUS', 'CHAS', 'NOX', 'RM', 'AGE', 'DIS', 'RAD', 'TAX', 'PTRATIO', 'B', 'LSTAT', 'MEDV']"
   ]
  },
  {
   "cell_type": "code",
   "execution_count": 6,
   "id": "9cb3510e",
   "metadata": {},
   "outputs": [
    {
     "data": {
      "text/html": [
       "<div>\n",
       "<style scoped>\n",
       "    .dataframe tbody tr th:only-of-type {\n",
       "        vertical-align: middle;\n",
       "    }\n",
       "\n",
       "    .dataframe tbody tr th {\n",
       "        vertical-align: top;\n",
       "    }\n",
       "\n",
       "    .dataframe thead th {\n",
       "        text-align: right;\n",
       "    }\n",
       "</style>\n",
       "<table border=\"1\" class=\"dataframe\">\n",
       "  <thead>\n",
       "    <tr style=\"text-align: right;\">\n",
       "      <th></th>\n",
       "      <th>CRIM</th>\n",
       "      <th>ZN</th>\n",
       "      <th>INDUS</th>\n",
       "      <th>CHAS</th>\n",
       "      <th>NOX</th>\n",
       "      <th>RM</th>\n",
       "      <th>AGE</th>\n",
       "      <th>DIS</th>\n",
       "      <th>RAD</th>\n",
       "      <th>TAX</th>\n",
       "      <th>PTRATIO</th>\n",
       "      <th>B</th>\n",
       "      <th>LSTAT</th>\n",
       "      <th>MEDV</th>\n",
       "    </tr>\n",
       "  </thead>\n",
       "  <tbody>\n",
       "    <tr>\n",
       "      <th>0</th>\n",
       "      <td>0.00632</td>\n",
       "      <td>18.0</td>\n",
       "      <td>2.31</td>\n",
       "      <td>0</td>\n",
       "      <td>0.538</td>\n",
       "      <td>6.575</td>\n",
       "      <td>65.2</td>\n",
       "      <td>4.0900</td>\n",
       "      <td>1</td>\n",
       "      <td>296.0</td>\n",
       "      <td>15.3</td>\n",
       "      <td>396.9</td>\n",
       "      <td>4.98</td>\n",
       "      <td>24.0</td>\n",
       "    </tr>\n",
       "    <tr>\n",
       "      <th>1</th>\n",
       "      <td>0.02731</td>\n",
       "      <td>0.0</td>\n",
       "      <td>7.07</td>\n",
       "      <td>0</td>\n",
       "      <td>0.469</td>\n",
       "      <td>6.421</td>\n",
       "      <td>78.9</td>\n",
       "      <td>4.9671</td>\n",
       "      <td>2</td>\n",
       "      <td>242.0</td>\n",
       "      <td>17.8</td>\n",
       "      <td>396.9</td>\n",
       "      <td>9.14</td>\n",
       "      <td>21.6</td>\n",
       "    </tr>\n",
       "  </tbody>\n",
       "</table>\n",
       "</div>"
      ],
      "text/plain": [
       "      CRIM    ZN  INDUS  CHAS    NOX     RM   AGE     DIS  RAD    TAX  \\\n",
       "0  0.00632  18.0   2.31     0  0.538  6.575  65.2  4.0900    1  296.0   \n",
       "1  0.02731   0.0   7.07     0  0.469  6.421  78.9  4.9671    2  242.0   \n",
       "\n",
       "   PTRATIO      B  LSTAT  MEDV  \n",
       "0     15.3  396.9   4.98  24.0  \n",
       "1     17.8  396.9   9.14  21.6  "
      ]
     },
     "execution_count": 6,
     "metadata": {},
     "output_type": "execute_result"
    }
   ],
   "source": [
    "df.head(2)"
   ]
  },
  {
   "cell_type": "markdown",
   "id": "282d9104",
   "metadata": {},
   "source": [
    "#### Imprime 5 lineas"
   ]
  },
  {
   "cell_type": "code",
   "execution_count": 7,
   "id": "ee3c76b6",
   "metadata": {},
   "outputs": [
    {
     "data": {
      "text/html": [
       "<div>\n",
       "<style scoped>\n",
       "    .dataframe tbody tr th:only-of-type {\n",
       "        vertical-align: middle;\n",
       "    }\n",
       "\n",
       "    .dataframe tbody tr th {\n",
       "        vertical-align: top;\n",
       "    }\n",
       "\n",
       "    .dataframe thead th {\n",
       "        text-align: right;\n",
       "    }\n",
       "</style>\n",
       "<table border=\"1\" class=\"dataframe\">\n",
       "  <thead>\n",
       "    <tr style=\"text-align: right;\">\n",
       "      <th></th>\n",
       "      <th>CRIM</th>\n",
       "      <th>ZN</th>\n",
       "      <th>INDUS</th>\n",
       "      <th>CHAS</th>\n",
       "      <th>NOX</th>\n",
       "      <th>RM</th>\n",
       "      <th>AGE</th>\n",
       "      <th>DIS</th>\n",
       "      <th>RAD</th>\n",
       "      <th>TAX</th>\n",
       "      <th>PTRATIO</th>\n",
       "      <th>B</th>\n",
       "      <th>LSTAT</th>\n",
       "      <th>MEDV</th>\n",
       "    </tr>\n",
       "  </thead>\n",
       "  <tbody>\n",
       "    <tr>\n",
       "      <th>0</th>\n",
       "      <td>0.00632</td>\n",
       "      <td>18.0</td>\n",
       "      <td>2.31</td>\n",
       "      <td>0</td>\n",
       "      <td>0.538</td>\n",
       "      <td>6.575</td>\n",
       "      <td>65.2</td>\n",
       "      <td>4.0900</td>\n",
       "      <td>1</td>\n",
       "      <td>296.0</td>\n",
       "      <td>15.3</td>\n",
       "      <td>396.90</td>\n",
       "      <td>4.98</td>\n",
       "      <td>24.0</td>\n",
       "    </tr>\n",
       "    <tr>\n",
       "      <th>1</th>\n",
       "      <td>0.02731</td>\n",
       "      <td>0.0</td>\n",
       "      <td>7.07</td>\n",
       "      <td>0</td>\n",
       "      <td>0.469</td>\n",
       "      <td>6.421</td>\n",
       "      <td>78.9</td>\n",
       "      <td>4.9671</td>\n",
       "      <td>2</td>\n",
       "      <td>242.0</td>\n",
       "      <td>17.8</td>\n",
       "      <td>396.90</td>\n",
       "      <td>9.14</td>\n",
       "      <td>21.6</td>\n",
       "    </tr>\n",
       "    <tr>\n",
       "      <th>2</th>\n",
       "      <td>0.02729</td>\n",
       "      <td>0.0</td>\n",
       "      <td>7.07</td>\n",
       "      <td>0</td>\n",
       "      <td>0.469</td>\n",
       "      <td>7.185</td>\n",
       "      <td>61.1</td>\n",
       "      <td>4.9671</td>\n",
       "      <td>2</td>\n",
       "      <td>242.0</td>\n",
       "      <td>17.8</td>\n",
       "      <td>392.83</td>\n",
       "      <td>4.03</td>\n",
       "      <td>34.7</td>\n",
       "    </tr>\n",
       "    <tr>\n",
       "      <th>3</th>\n",
       "      <td>0.03237</td>\n",
       "      <td>0.0</td>\n",
       "      <td>2.18</td>\n",
       "      <td>0</td>\n",
       "      <td>0.458</td>\n",
       "      <td>6.998</td>\n",
       "      <td>45.8</td>\n",
       "      <td>6.0622</td>\n",
       "      <td>3</td>\n",
       "      <td>222.0</td>\n",
       "      <td>18.7</td>\n",
       "      <td>394.63</td>\n",
       "      <td>2.94</td>\n",
       "      <td>33.4</td>\n",
       "    </tr>\n",
       "    <tr>\n",
       "      <th>4</th>\n",
       "      <td>0.06905</td>\n",
       "      <td>0.0</td>\n",
       "      <td>2.18</td>\n",
       "      <td>0</td>\n",
       "      <td>0.458</td>\n",
       "      <td>7.147</td>\n",
       "      <td>54.2</td>\n",
       "      <td>6.0622</td>\n",
       "      <td>3</td>\n",
       "      <td>222.0</td>\n",
       "      <td>18.7</td>\n",
       "      <td>396.90</td>\n",
       "      <td>5.33</td>\n",
       "      <td>36.2</td>\n",
       "    </tr>\n",
       "  </tbody>\n",
       "</table>\n",
       "</div>"
      ],
      "text/plain": [
       "      CRIM    ZN  INDUS  CHAS    NOX     RM   AGE     DIS  RAD    TAX  \\\n",
       "0  0.00632  18.0   2.31     0  0.538  6.575  65.2  4.0900    1  296.0   \n",
       "1  0.02731   0.0   7.07     0  0.469  6.421  78.9  4.9671    2  242.0   \n",
       "2  0.02729   0.0   7.07     0  0.469  7.185  61.1  4.9671    2  242.0   \n",
       "3  0.03237   0.0   2.18     0  0.458  6.998  45.8  6.0622    3  222.0   \n",
       "4  0.06905   0.0   2.18     0  0.458  7.147  54.2  6.0622    3  222.0   \n",
       "\n",
       "   PTRATIO       B  LSTAT  MEDV  \n",
       "0     15.3  396.90   4.98  24.0  \n",
       "1     17.8  396.90   9.14  21.6  \n",
       "2     17.8  392.83   4.03  34.7  \n",
       "3     18.7  394.63   2.94  33.4  \n",
       "4     18.7  396.90   5.33  36.2  "
      ]
     },
     "execution_count": 7,
     "metadata": {},
     "output_type": "execute_result"
    }
   ],
   "source": [
    "df.head(5)"
   ]
  },
  {
   "cell_type": "code",
   "execution_count": 8,
   "id": "5fed7b55",
   "metadata": {},
   "outputs": [
    {
     "name": "stdout",
     "output_type": "stream",
     "text": [
      "Regression based on k-nearest neighbors.\n",
      "\n",
      "    The target is predicted by local interpolation of the targets\n",
      "    associated of the nearest neighbors in the training set.\n",
      "\n",
      "    Read more in the :ref:`User Guide <regression>`.\n",
      "\n",
      "    .. versionadded:: 0.9\n",
      "\n",
      "    Parameters\n",
      "    ----------\n",
      "    n_neighbors : int, default=5\n",
      "        Number of neighbors to use by default for :meth:`kneighbors` queries.\n",
      "\n",
      "    weights : {'uniform', 'distance'} or callable, default='uniform'\n",
      "        weight function used in prediction.  Possible values:\n",
      "\n",
      "        - 'uniform' : uniform weights.  All points in each neighborhood\n",
      "          are weighted equally.\n",
      "        - 'distance' : weight points by the inverse of their distance.\n",
      "          in this case, closer neighbors of a query point will have a\n",
      "          greater influence than neighbors which are further away.\n",
      "        - [callable] : a user-defined function which accepts an\n",
      "          array of distances, and returns an array of the same shape\n",
      "          containing the weights.\n",
      "\n",
      "        Uniform weights are used by default.\n",
      "\n",
      "    algorithm : {'auto', 'ball_tree', 'kd_tree', 'brute'}, default='auto'\n",
      "        Algorithm used to compute the nearest neighbors:\n",
      "\n",
      "        - 'ball_tree' will use :class:`BallTree`\n",
      "        - 'kd_tree' will use :class:`KDTree`\n",
      "        - 'brute' will use a brute-force search.\n",
      "        - 'auto' will attempt to decide the most appropriate algorithm\n",
      "          based on the values passed to :meth:`fit` method.\n",
      "\n",
      "        Note: fitting on sparse input will override the setting of\n",
      "        this parameter, using brute force.\n",
      "\n",
      "    leaf_size : int, default=30\n",
      "        Leaf size passed to BallTree or KDTree.  This can affect the\n",
      "        speed of the construction and query, as well as the memory\n",
      "        required to store the tree.  The optimal value depends on the\n",
      "        nature of the problem.\n",
      "\n",
      "    p : int, default=2\n",
      "        Power parameter for the Minkowski metric. When p = 1, this is\n",
      "        equivalent to using manhattan_distance (l1), and euclidean_distance\n",
      "        (l2) for p = 2. For arbitrary p, minkowski_distance (l_p) is used.\n",
      "\n",
      "    metric : str or callable, default='minkowski'\n",
      "        the distance metric to use for the tree.  The default metric is\n",
      "        minkowski, and with p=2 is equivalent to the standard Euclidean\n",
      "        metric. See the documentation of :class:`DistanceMetric` for a\n",
      "        list of available metrics.\n",
      "        If metric is \"precomputed\", X is assumed to be a distance matrix and\n",
      "        must be square during fit. X may be a :term:`sparse graph`,\n",
      "        in which case only \"nonzero\" elements may be considered neighbors.\n",
      "\n",
      "    metric_params : dict, default=None\n",
      "        Additional keyword arguments for the metric function.\n",
      "\n",
      "    n_jobs : int, default=None\n",
      "        The number of parallel jobs to run for neighbors search.\n",
      "        ``None`` means 1 unless in a :obj:`joblib.parallel_backend` context.\n",
      "        ``-1`` means using all processors. See :term:`Glossary <n_jobs>`\n",
      "        for more details.\n",
      "        Doesn't affect :meth:`fit` method.\n",
      "\n",
      "    Attributes\n",
      "    ----------\n",
      "    effective_metric_ : str or callable\n",
      "        The distance metric to use. It will be same as the `metric` parameter\n",
      "        or a synonym of it, e.g. 'euclidean' if the `metric` parameter set to\n",
      "        'minkowski' and `p` parameter set to 2.\n",
      "\n",
      "    effective_metric_params_ : dict\n",
      "        Additional keyword arguments for the metric function. For most metrics\n",
      "        will be same with `metric_params` parameter, but may also contain the\n",
      "        `p` parameter value if the `effective_metric_` attribute is set to\n",
      "        'minkowski'.\n",
      "\n",
      "    n_samples_fit_ : int\n",
      "        Number of samples in the fitted data.\n",
      "\n",
      "    Examples\n",
      "    --------\n",
      "    >>> X = [[0], [1], [2], [3]]\n",
      "    >>> y = [0, 0, 1, 1]\n",
      "    >>> from sklearn.neighbors import KNeighborsRegressor\n",
      "    >>> neigh = KNeighborsRegressor(n_neighbors=2)\n",
      "    >>> neigh.fit(X, y)\n",
      "    KNeighborsRegressor(...)\n",
      "    >>> print(neigh.predict([[1.5]]))\n",
      "    [0.5]\n",
      "\n",
      "    See Also\n",
      "    --------\n",
      "    NearestNeighbors\n",
      "    RadiusNeighborsRegressor\n",
      "    KNeighborsClassifier\n",
      "    RadiusNeighborsClassifier\n",
      "\n",
      "    Notes\n",
      "    -----\n",
      "    See :ref:`Nearest Neighbors <neighbors>` in the online documentation\n",
      "    for a discussion of the choice of ``algorithm`` and ``leaf_size``.\n",
      "\n",
      "    .. warning::\n",
      "\n",
      "       Regarding the Nearest Neighbors algorithms, if it is found that two\n",
      "       neighbors, neighbor `k+1` and `k`, have identical distances but\n",
      "       different labels, the results will depend on the ordering of the\n",
      "       training data.\n",
      "\n",
      "    https://en.wikipedia.org/wiki/K-nearest_neighbor_algorithm\n",
      "    \n"
     ]
    }
   ],
   "source": [
    "from sklearn.neighbors import KNeighborsRegressor\n",
    "\n",
    "print(KNeighborsRegressor.__doc__)"
   ]
  },
  {
   "cell_type": "code",
   "execution_count": 9,
   "id": "9b9ec6ec",
   "metadata": {},
   "outputs": [
    {
     "data": {
      "text/plain": [
       "Index(['CRIM', 'ZN', 'INDUS', 'CHAS', 'NOX', 'RM', 'AGE', 'DIS', 'RAD', 'TAX',\n",
       "       'PTRATIO', 'B', 'LSTAT', 'MEDV'],\n",
       "      dtype='object')"
      ]
     },
     "execution_count": 9,
     "metadata": {},
     "output_type": "execute_result"
    }
   ],
   "source": [
    "df.columns"
   ]
  },
  {
   "cell_type": "code",
   "execution_count": 10,
   "id": "74c96f64",
   "metadata": {},
   "outputs": [
    {
     "data": {
      "text/plain": [
       "(506, 14)"
      ]
     },
     "execution_count": 10,
     "metadata": {},
     "output_type": "execute_result"
    }
   ],
   "source": [
    "df.shape"
   ]
  },
  {
   "cell_type": "markdown",
   "id": "4440ac26",
   "metadata": {},
   "source": [
    "#### Variables utilizadas en el algoritmo"
   ]
  },
  {
   "cell_type": "code",
   "execution_count": 11,
   "id": "aaf56c8a",
   "metadata": {},
   "outputs": [],
   "source": [
    "x=df.drop(\"MEDV\",axis=1).values  ### numpy"
   ]
  },
  {
   "cell_type": "code",
   "execution_count": 12,
   "id": "631dc1a8",
   "metadata": {},
   "outputs": [
    {
     "data": {
      "text/plain": [
       "array([2.7310e-02, 0.0000e+00, 7.0700e+00, 0.0000e+00, 4.6900e-01,\n",
       "       6.4210e+00, 7.8900e+01, 4.9671e+00, 2.0000e+00, 2.4200e+02,\n",
       "       1.7800e+01, 3.9690e+02, 9.1400e+00])"
      ]
     },
     "execution_count": 12,
     "metadata": {},
     "output_type": "execute_result"
    }
   ],
   "source": [
    "x[1]# 13"
   ]
  },
  {
   "cell_type": "code",
   "execution_count": 13,
   "id": "b385215c",
   "metadata": {},
   "outputs": [],
   "source": [
    "y=df['MEDV'].values             ### numpy "
   ]
  },
  {
   "cell_type": "markdown",
   "id": "9a332e27",
   "metadata": {},
   "source": [
    "#### Aplicando el algoritmo - entrenando una regresion lineal (con una variable)"
   ]
  },
  {
   "cell_type": "code",
   "execution_count": 14,
   "id": "565b69ca",
   "metadata": {},
   "outputs": [],
   "source": [
    "from sklearn.neighbors import KNeighborsRegressor"
   ]
  },
  {
   "cell_type": "code",
   "execution_count": 15,
   "id": "66477b5b",
   "metadata": {},
   "outputs": [
    {
     "name": "stdout",
     "output_type": "stream",
     "text": [
      "0.24.2\n"
     ]
    }
   ],
   "source": [
    "import sklearn\n",
    "print(sklearn.__version__)"
   ]
  },
  {
   "cell_type": "code",
   "execution_count": 16,
   "id": "d9aeb4f5",
   "metadata": {},
   "outputs": [
    {
     "data": {
      "text/plain": [
       "KNeighborsRegressor()"
      ]
     },
     "execution_count": 16,
     "metadata": {},
     "output_type": "execute_result"
    }
   ],
   "source": [
    "x=df.drop(\"MEDV\",axis=1).values  ### numpy\n",
    "y=df['MEDV'].values  \n",
    "knn= KNeighborsRegressor()\n",
    "knn.fit(x,y)"
   ]
  },
  {
   "cell_type": "markdown",
   "id": "9df430fb",
   "metadata": {},
   "source": [
    "#### Prediccion"
   ]
  },
  {
   "cell_type": "code",
   "execution_count": 17,
   "id": "ecf77eac",
   "metadata": {},
   "outputs": [
    {
     "data": {
      "text/plain": [
       "array([21.78, 22.9 , 25.36, 26.06, 27.1 , 27.1 , 20.88, 19.1 , 18.4 ,\n",
       "       19.48, 19.28, 22.  , 24.34, 20.52, 24.66, 21.3 , 30.48, 20.4 ,\n",
       "       15.7 , 23.54, 16.82, 17.64, 18.3 , 17.08, 16.66, 15.1 , 16.78,\n",
       "       14.94, 19.94, 18.34, 14.1 , 16.82, 15.12, 14.1 , 15.12, 26.92,\n",
       "       22.14, 27.4 , 28.44, 31.88, 31.88, 25.36, 25.36, 24.22, 20.68,\n",
       "       20.44, 20.44, 18.1 , 18.1 , 24.  , 21.54, 24.  , 27.16, 27.16,\n",
       "       25.7 , 39.82, 27.08, 38.28, 24.8 , 25.64, 21.78, 33.6 , 21.78,\n",
       "       24.06, 31.74, 25.3 , 26.98, 22.18, 20.42, 20.42, 27.76, 29.5 ,\n",
       "       27.76, 27.76, 22.92, 21.64, 25.82, 21.64, 21.38, 22.02, 24.8 ,\n",
       "       21.88, 25.22, 25.64, 25.98, 25.98, 23.28, 25.98, 24.02, 25.58,\n",
       "       25.58, 25.06, 26.34, 26.04, 30.1 , 24.84, 23.62, 24.32, 28.52,\n",
       "       24.96, 22.1 , 22.2 , 15.34, 19.74, 19.74, 19.66, 19.56, 21.34,\n",
       "       19.66, 19.56, 22.08, 20.1 , 19.6 , 17.54, 20.1 , 17.7 , 20.2 ,\n",
       "       20.1 , 20.66, 19.8 , 22.76, 20.6 , 19.66, 18.52, 19.66, 20.6 ,\n",
       "       18.52, 16.62, 18.04, 16.88, 18.4 , 18.4 , 18.78, 18.56, 20.24,\n",
       "       17.44, 17.8 , 18.4 , 15.88, 17.06, 15.24, 14.76, 15.62, 15.62,\n",
       "       15.62, 18.26, 18.26, 15.62, 17.82, 17.44, 37.22, 20.66, 19.28,\n",
       "       20.24, 20.24, 15.34, 15.34, 37.78, 25.52, 32.08, 20.66, 42.56,\n",
       "       44.54, 44.54, 30.34, 20.24, 37.22, 19.52, 19.98, 20.24, 19.98,\n",
       "       18.74, 21.9 , 24.4 , 23.74, 25.82, 22.34, 24.2 , 23.84, 38.56,\n",
       "       33.24, 38.56, 33.24, 31.6 , 33.24, 38.56, 37.84, 32.72, 33.14,\n",
       "       32.72, 33.14, 32.72, 33.72, 31.8 , 31.8 , 34.9 , 26.78, 25.24,\n",
       "       26.78, 29.38, 29.5 , 25.2 , 25.3 , 41.28, 41.28, 23.76, 23.78,\n",
       "       20.74, 22.9 , 21.1 , 21.1 , 21.1 , 23.9 , 28.84, 22.6 , 27.28,\n",
       "       22.96, 21.9 , 21.1 , 23.38, 25.42, 17.32, 31.8 , 24.46, 37.82,\n",
       "       36.46, 36.14, 35.96, 29.5 , 29.44, 34.  , 41.28, 38.28, 38.16,\n",
       "       28.12, 29.3 , 34.12, 34.12, 21.44, 21.92, 21.44, 21.4 , 22.1 ,\n",
       "       21.74, 20.  , 19.68, 22.16, 20.  , 21.38, 31.22, 31.22, 26.28,\n",
       "       29.56, 31.22, 27.08, 24.86, 38.28, 42.44, 38.9 , 36.48, 38.82,\n",
       "       41.88, 41.88, 37.9 , 41.88, 34.6 , 38.82, 36.16, 32.42, 31.74,\n",
       "       32.58, 28.82, 31.74, 26.88, 31.96, 31.96, 31.96, 31.96, 31.96,\n",
       "       30.58, 31.74, 32.58, 36.62, 42.8 , 24.84, 21.88, 38.64, 21.88,\n",
       "       24.44, 22.62, 34.9 , 34.9 , 31.88, 24.54, 23.28, 24.44, 23.22,\n",
       "       22.94, 25.28, 29.12, 25.42, 25.78, 28.02, 30.58, 31.22, 27.02,\n",
       "       31.96, 27.02, 23.72, 21.6 , 29.  , 21.32, 21.02, 20.94, 21.44,\n",
       "       21.6 , 18.54, 19.52, 20.5 , 21.3 , 23.32, 23.76, 23.32, 22.9 ,\n",
       "       22.06, 23.76, 26.14, 22.06, 19.7 , 21.22, 19.92, 21.86, 22.98,\n",
       "       23.6 , 21.16, 20.78, 25.74, 24.3 , 20.72, 22.64, 24.32, 24.44,\n",
       "       19.8 , 29.36, 26.58, 19.  , 18.84, 26.48, 33.32, 25.78, 25.78,\n",
       "       28.  , 30.46, 42.8 , 20.96, 24.8 , 15.88, 19.06, 20.94, 21.42,\n",
       "       33.8 , 25.6 , 30.94, 25.6 , 27.22, 27.22, 16.98, 14.58, 39.16,\n",
       "       39.16, 26.46, 36.6 , 27.22, 11.36, 10.54, 10.82, 12.36, 12.5 ,\n",
       "        9.6 , 10.22,  6.86, 10.26, 11.62, 11.62, 14.16, 11.  ,  8.94,\n",
       "        9.74, 13.18, 12.5 , 13.52, 21.66, 11.88, 15.58, 11.74, 13.54,\n",
       "       13.98, 12.46,  8.5 , 14.82,  9.54, 11.14, 15.88, 10.5 , 14.28,\n",
       "        6.86, 13.18, 18.56, 14.52, 17.62, 10.34, 12.74, 11.88, 17.18,\n",
       "       10.92, 11.88, 11.2 , 14.58, 11.96, 10.44, 16.98, 16.98, 14.16,\n",
       "       13.58, 12.94, 11.74, 12.56, 10.26, 13.52, 11.58, 14.  , 12.6 ,\n",
       "       13.52, 13.3 , 12.9 , 12.16, 12.1 , 10.56, 12.12, 11.96, 10.6 ,\n",
       "       14.56, 13.84, 13.34, 13.44, 12.44, 16.98, 13.34, 14.48, 16.06,\n",
       "       13.58, 15.54, 17.04, 16.62, 12.54, 12.2 , 13.58, 12.94, 14.84,\n",
       "       20.24, 14.34, 19.82, 20.24, 20.38, 22.28, 17.56, 12.74, 18.56,\n",
       "       23.7 , 21.26, 20.24, 18.6 , 22.72, 23.28, 15.54, 16.06, 14.18,\n",
       "       14.96, 15.88, 16.36, 22.28, 22.72, 23.44, 20.86, 22.8 , 21.34,\n",
       "       21.42, 21.34, 17.04, 11.54, 12.28, 14.86, 18.3 , 22.08, 21.82,\n",
       "       22.02, 18.7 , 18.7 , 20.64, 18.7 , 19.96, 21.18, 23.12, 20.88,\n",
       "       21.9 , 21.42])"
      ]
     },
     "execution_count": 17,
     "metadata": {},
     "output_type": "execute_result"
    }
   ],
   "source": [
    "y_predicho_knn = knn.predict(x)\n",
    "y_predicho_knn"
   ]
  },
  {
   "cell_type": "code",
   "execution_count": 18,
   "id": "da657af6",
   "metadata": {},
   "outputs": [],
   "source": [
    "y_predicho_knn=pd.DataFrame(y_predicho_knn)"
   ]
  },
  {
   "cell_type": "code",
   "execution_count": 19,
   "id": "dafa5d74",
   "metadata": {},
   "outputs": [
    {
     "data": {
      "text/html": [
       "<div>\n",
       "<style scoped>\n",
       "    .dataframe tbody tr th:only-of-type {\n",
       "        vertical-align: middle;\n",
       "    }\n",
       "\n",
       "    .dataframe tbody tr th {\n",
       "        vertical-align: top;\n",
       "    }\n",
       "\n",
       "    .dataframe thead th {\n",
       "        text-align: right;\n",
       "    }\n",
       "</style>\n",
       "<table border=\"1\" class=\"dataframe\">\n",
       "  <thead>\n",
       "    <tr style=\"text-align: right;\">\n",
       "      <th></th>\n",
       "      <th>0</th>\n",
       "    </tr>\n",
       "  </thead>\n",
       "  <tbody>\n",
       "    <tr>\n",
       "      <th>0</th>\n",
       "      <td>21.78</td>\n",
       "    </tr>\n",
       "    <tr>\n",
       "      <th>1</th>\n",
       "      <td>22.90</td>\n",
       "    </tr>\n",
       "  </tbody>\n",
       "</table>\n",
       "</div>"
      ],
      "text/plain": [
       "       0\n",
       "0  21.78\n",
       "1  22.90"
      ]
     },
     "execution_count": 19,
     "metadata": {},
     "output_type": "execute_result"
    }
   ],
   "source": [
    "y_predicho_knn.head(2)"
   ]
  },
  {
   "cell_type": "code",
   "execution_count": 20,
   "id": "91f9d29d",
   "metadata": {},
   "outputs": [
    {
     "data": {
      "text/plain": [
       "0      24.0\n",
       "1      21.6\n",
       "2      34.7\n",
       "3      33.4\n",
       "4      36.2\n",
       "5      28.7\n",
       "6      22.9\n",
       "7      27.1\n",
       "8      16.5\n",
       "9      18.9\n",
       "10     15.0\n",
       "11     18.9\n",
       "12     21.7\n",
       "13     20.4\n",
       "14     18.2\n",
       "15     19.9\n",
       "16     23.1\n",
       "17     17.5\n",
       "18     20.2\n",
       "19     18.2\n",
       "20     13.6\n",
       "21     19.6\n",
       "22     15.2\n",
       "23     14.5\n",
       "24     15.6\n",
       "25     13.9\n",
       "26     16.6\n",
       "27     14.8\n",
       "28     18.4\n",
       "29     21.0\n",
       "30     12.7\n",
       "31     14.5\n",
       "32     13.2\n",
       "33     13.1\n",
       "34     13.5\n",
       "35     18.9\n",
       "36     20.0\n",
       "37     21.0\n",
       "38     24.7\n",
       "39     30.8\n",
       "40     34.9\n",
       "41     26.6\n",
       "42     25.3\n",
       "43     24.7\n",
       "44     21.2\n",
       "45     19.3\n",
       "46     20.0\n",
       "47     16.6\n",
       "48     14.4\n",
       "49     19.4\n",
       "50     19.7\n",
       "51     20.5\n",
       "52     25.0\n",
       "53     23.4\n",
       "54     18.9\n",
       "55     35.4\n",
       "56     24.7\n",
       "57     31.6\n",
       "58     23.3\n",
       "59     19.6\n",
       "60     18.7\n",
       "61     16.0\n",
       "62     22.2\n",
       "63     25.0\n",
       "64     33.0\n",
       "65     23.5\n",
       "66     19.4\n",
       "67     22.0\n",
       "68     17.4\n",
       "69     20.9\n",
       "70     24.2\n",
       "71     21.7\n",
       "72     22.8\n",
       "73     23.4\n",
       "74     24.1\n",
       "75     21.4\n",
       "76     20.0\n",
       "77     20.8\n",
       "78     21.2\n",
       "79     20.3\n",
       "80     28.0\n",
       "81     23.9\n",
       "82     24.8\n",
       "83     22.9\n",
       "84     23.9\n",
       "85     26.6\n",
       "86     22.5\n",
       "87     22.2\n",
       "88     23.6\n",
       "89     28.7\n",
       "90     22.6\n",
       "91     22.0\n",
       "92     22.9\n",
       "93     25.0\n",
       "94     20.6\n",
       "95     28.4\n",
       "96     21.4\n",
       "97     38.7\n",
       "98     43.8\n",
       "99     33.2\n",
       "100    27.5\n",
       "101    26.5\n",
       "102    18.6\n",
       "103    19.3\n",
       "104    20.1\n",
       "105    19.5\n",
       "106    19.5\n",
       "107    20.4\n",
       "108    19.8\n",
       "109    19.4\n",
       "110    21.7\n",
       "111    22.8\n",
       "112    18.8\n",
       "113    18.7\n",
       "114    18.5\n",
       "115    18.3\n",
       "116    21.2\n",
       "117    19.2\n",
       "118    20.4\n",
       "119    19.3\n",
       "120    22.0\n",
       "121    20.3\n",
       "122    20.5\n",
       "123    17.3\n",
       "124    18.8\n",
       "125    21.4\n",
       "126    15.7\n",
       "127    16.2\n",
       "128    18.0\n",
       "129    14.3\n",
       "130    19.2\n",
       "131    19.6\n",
       "132    23.0\n",
       "133    18.4\n",
       "134    15.6\n",
       "135    18.1\n",
       "136    17.4\n",
       "137    17.1\n",
       "138    13.3\n",
       "139    17.8\n",
       "140    14.0\n",
       "141    14.4\n",
       "142    13.4\n",
       "143    15.6\n",
       "144    11.8\n",
       "145    13.8\n",
       "146    15.6\n",
       "147    14.6\n",
       "148    17.8\n",
       "149    15.4\n",
       "150    21.5\n",
       "151    19.6\n",
       "152    15.3\n",
       "153    19.4\n",
       "154    17.0\n",
       "155    15.6\n",
       "156    13.1\n",
       "157    41.3\n",
       "158    24.3\n",
       "159    23.3\n",
       "160    27.0\n",
       "161    50.0\n",
       "162    50.0\n",
       "163    50.0\n",
       "164    22.7\n",
       "165    25.0\n",
       "166    50.0\n",
       "167    23.8\n",
       "168    23.8\n",
       "169    22.3\n",
       "170    17.4\n",
       "171    19.1\n",
       "172    23.1\n",
       "173    23.6\n",
       "174    22.6\n",
       "175    29.4\n",
       "176    23.2\n",
       "177    24.6\n",
       "178    29.9\n",
       "179    37.2\n",
       "180    39.8\n",
       "181    36.2\n",
       "182    37.9\n",
       "183    32.5\n",
       "184    26.4\n",
       "185    29.6\n",
       "186    50.0\n",
       "187    32.0\n",
       "188    29.8\n",
       "189    34.9\n",
       "190    37.0\n",
       "191    30.5\n",
       "192    36.4\n",
       "193    31.1\n",
       "194    29.1\n",
       "195    50.0\n",
       "196    33.3\n",
       "197    30.3\n",
       "198    34.6\n",
       "199    34.9\n",
       "200    32.9\n",
       "201    24.1\n",
       "202    42.3\n",
       "203    48.5\n",
       "204    50.0\n",
       "205    22.6\n",
       "206    24.4\n",
       "207    22.5\n",
       "208    24.4\n",
       "209    20.0\n",
       "210    21.7\n",
       "211    19.3\n",
       "212    22.4\n",
       "213    28.1\n",
       "214    23.7\n",
       "215    25.0\n",
       "216    23.3\n",
       "217    28.7\n",
       "218    21.5\n",
       "219    23.0\n",
       "220    26.7\n",
       "221    21.7\n",
       "222    27.5\n",
       "223    30.1\n",
       "224    44.8\n",
       "225    50.0\n",
       "226    37.6\n",
       "227    31.6\n",
       "228    46.7\n",
       "229    31.5\n",
       "230    24.3\n",
       "231    31.7\n",
       "232    41.7\n",
       "233    48.3\n",
       "234    29.0\n",
       "235    24.0\n",
       "236    25.1\n",
       "237    31.5\n",
       "238    23.7\n",
       "239    23.3\n",
       "240    22.0\n",
       "241    20.1\n",
       "242    22.2\n",
       "243    23.7\n",
       "244    17.6\n",
       "245    18.5\n",
       "246    24.3\n",
       "247    20.5\n",
       "248    24.5\n",
       "249    26.2\n",
       "250    24.4\n",
       "251    24.8\n",
       "252    29.6\n",
       "253    42.8\n",
       "254    21.9\n",
       "255    20.9\n",
       "256    44.0\n",
       "257    50.0\n",
       "258    36.0\n",
       "259    30.1\n",
       "260    33.8\n",
       "261    43.1\n",
       "262    48.8\n",
       "263    31.0\n",
       "264    36.5\n",
       "265    22.8\n",
       "266    30.7\n",
       "267    50.0\n",
       "268    43.5\n",
       "269    20.7\n",
       "270    21.1\n",
       "271    25.2\n",
       "272    24.4\n",
       "273    35.2\n",
       "274    32.4\n",
       "275    32.0\n",
       "276    33.2\n",
       "277    33.1\n",
       "278    29.1\n",
       "279    35.1\n",
       "280    45.4\n",
       "281    35.4\n",
       "282    46.0\n",
       "283    50.0\n",
       "284    32.2\n",
       "285    22.0\n",
       "286    20.1\n",
       "287    23.2\n",
       "288    22.3\n",
       "289    24.8\n",
       "290    28.5\n",
       "291    37.3\n",
       "292    27.9\n",
       "293    23.9\n",
       "294    21.7\n",
       "295    28.6\n",
       "296    27.1\n",
       "297    20.3\n",
       "298    22.5\n",
       "299    29.0\n",
       "300    24.8\n",
       "301    22.0\n",
       "302    26.4\n",
       "303    33.1\n",
       "304    36.1\n",
       "305    28.4\n",
       "306    33.4\n",
       "307    28.2\n",
       "308    22.8\n",
       "309    20.3\n",
       "310    16.1\n",
       "311    22.1\n",
       "312    19.4\n",
       "313    21.6\n",
       "314    23.8\n",
       "315    16.2\n",
       "316    17.8\n",
       "317    19.8\n",
       "318    23.1\n",
       "319    21.0\n",
       "320    23.8\n",
       "321    23.1\n",
       "322    20.4\n",
       "323    18.5\n",
       "324    25.0\n",
       "325    24.6\n",
       "326    23.0\n",
       "327    22.2\n",
       "328    19.3\n",
       "329    22.6\n",
       "330    19.8\n",
       "331    17.1\n",
       "332    19.4\n",
       "333    22.2\n",
       "334    20.7\n",
       "335    21.1\n",
       "336    19.5\n",
       "337    18.5\n",
       "338    20.6\n",
       "339    19.0\n",
       "340    18.7\n",
       "341    32.7\n",
       "342    16.5\n",
       "343    23.9\n",
       "344    31.2\n",
       "345    17.5\n",
       "346    17.2\n",
       "347    23.1\n",
       "348    24.5\n",
       "349    26.6\n",
       "350    22.9\n",
       "351    24.1\n",
       "352    18.6\n",
       "353    30.1\n",
       "354    18.2\n",
       "355    20.6\n",
       "356    17.8\n",
       "357    21.7\n",
       "358    22.7\n",
       "359    22.6\n",
       "360    25.0\n",
       "361    19.9\n",
       "362    20.8\n",
       "363    16.8\n",
       "364    21.9\n",
       "365    27.5\n",
       "366    21.9\n",
       "367    23.1\n",
       "368    50.0\n",
       "369    50.0\n",
       "370    50.0\n",
       "371    50.0\n",
       "372    50.0\n",
       "373    13.8\n",
       "374    13.8\n",
       "375    15.0\n",
       "376    13.9\n",
       "377    13.3\n",
       "378    13.1\n",
       "379    10.2\n",
       "380    10.4\n",
       "381    10.9\n",
       "382    11.3\n",
       "383    12.3\n",
       "384     8.8\n",
       "385     7.2\n",
       "386    10.5\n",
       "387     7.4\n",
       "388    10.2\n",
       "389    11.5\n",
       "390    15.1\n",
       "391    23.2\n",
       "392     9.7\n",
       "393    13.8\n",
       "394    12.7\n",
       "395    13.1\n",
       "396    12.5\n",
       "397     8.5\n",
       "398     5.0\n",
       "399     6.3\n",
       "400     5.6\n",
       "401     7.2\n",
       "402    12.1\n",
       "403     8.3\n",
       "404     8.5\n",
       "405     5.0\n",
       "406    11.9\n",
       "407    27.9\n",
       "408    17.2\n",
       "409    27.5\n",
       "410    15.0\n",
       "411    17.2\n",
       "412    17.9\n",
       "413    16.3\n",
       "414     7.0\n",
       "415     7.2\n",
       "416     7.5\n",
       "417    10.4\n",
       "418     8.8\n",
       "419     8.4\n",
       "420    16.7\n",
       "421    14.2\n",
       "422    20.8\n",
       "423    13.4\n",
       "424    11.7\n",
       "425     8.3\n",
       "426    10.2\n",
       "427    10.9\n",
       "428    11.0\n",
       "429     9.5\n",
       "430    14.5\n",
       "431    14.1\n",
       "432    16.1\n",
       "433    14.3\n",
       "434    11.7\n",
       "435    13.4\n",
       "436     9.6\n",
       "437     8.7\n",
       "438     8.4\n",
       "439    12.8\n",
       "440    10.5\n",
       "441    17.1\n",
       "442    18.4\n",
       "443    15.4\n",
       "444    10.8\n",
       "445    11.8\n",
       "446    14.9\n",
       "447    12.6\n",
       "448    14.1\n",
       "449    13.0\n",
       "450    13.4\n",
       "451    15.2\n",
       "452    16.1\n",
       "453    17.8\n",
       "454    14.9\n",
       "455    14.1\n",
       "456    12.7\n",
       "457    13.5\n",
       "458    14.9\n",
       "459    20.0\n",
       "460    16.4\n",
       "461    17.7\n",
       "462    19.5\n",
       "463    20.2\n",
       "464    21.4\n",
       "465    19.9\n",
       "466    19.0\n",
       "467    19.1\n",
       "468    19.1\n",
       "469    20.1\n",
       "470    19.9\n",
       "471    19.6\n",
       "472    23.2\n",
       "473    29.8\n",
       "474    13.8\n",
       "475    13.3\n",
       "476    16.7\n",
       "477    12.0\n",
       "478    14.6\n",
       "479    21.4\n",
       "480    23.0\n",
       "481    23.7\n",
       "482    25.0\n",
       "483    21.8\n",
       "484    20.6\n",
       "485    21.2\n",
       "486    19.1\n",
       "487    20.6\n",
       "488    15.2\n",
       "489     7.0\n",
       "490     8.1\n",
       "491    13.6\n",
       "492    20.1\n",
       "493    21.8\n",
       "494    24.5\n",
       "495    23.1\n",
       "496    19.7\n",
       "497    18.3\n",
       "498    21.2\n",
       "499    17.5\n",
       "500    16.8\n",
       "501    22.4\n",
       "502    20.6\n",
       "503    23.9\n",
       "504    22.0\n",
       "505    11.9\n",
       "Name: MEDV, dtype: float64"
      ]
     },
     "execution_count": 20,
     "metadata": {},
     "output_type": "execute_result"
    }
   ],
   "source": [
    "df.MEDV"
   ]
  },
  {
   "cell_type": "code",
   "execution_count": 21,
   "id": "884c5e83",
   "metadata": {},
   "outputs": [],
   "source": [
    "df['y_predicho_knn']=y_predicho_knn"
   ]
  },
  {
   "cell_type": "code",
   "execution_count": 22,
   "id": "281a4395",
   "metadata": {},
   "outputs": [
    {
     "data": {
      "text/html": [
       "<div>\n",
       "<style scoped>\n",
       "    .dataframe tbody tr th:only-of-type {\n",
       "        vertical-align: middle;\n",
       "    }\n",
       "\n",
       "    .dataframe tbody tr th {\n",
       "        vertical-align: top;\n",
       "    }\n",
       "\n",
       "    .dataframe thead th {\n",
       "        text-align: right;\n",
       "    }\n",
       "</style>\n",
       "<table border=\"1\" class=\"dataframe\">\n",
       "  <thead>\n",
       "    <tr style=\"text-align: right;\">\n",
       "      <th></th>\n",
       "      <th>CRIM</th>\n",
       "      <th>ZN</th>\n",
       "      <th>INDUS</th>\n",
       "      <th>CHAS</th>\n",
       "      <th>NOX</th>\n",
       "      <th>RM</th>\n",
       "      <th>AGE</th>\n",
       "      <th>DIS</th>\n",
       "      <th>RAD</th>\n",
       "      <th>TAX</th>\n",
       "      <th>PTRATIO</th>\n",
       "      <th>B</th>\n",
       "      <th>LSTAT</th>\n",
       "      <th>MEDV</th>\n",
       "      <th>y_predicho_knn</th>\n",
       "    </tr>\n",
       "  </thead>\n",
       "  <tbody>\n",
       "    <tr>\n",
       "      <th>0</th>\n",
       "      <td>0.00632</td>\n",
       "      <td>18.0</td>\n",
       "      <td>2.31</td>\n",
       "      <td>0</td>\n",
       "      <td>0.538</td>\n",
       "      <td>6.575</td>\n",
       "      <td>65.2</td>\n",
       "      <td>4.0900</td>\n",
       "      <td>1</td>\n",
       "      <td>296.0</td>\n",
       "      <td>15.3</td>\n",
       "      <td>396.9</td>\n",
       "      <td>4.98</td>\n",
       "      <td>24.0</td>\n",
       "      <td>21.78</td>\n",
       "    </tr>\n",
       "    <tr>\n",
       "      <th>1</th>\n",
       "      <td>0.02731</td>\n",
       "      <td>0.0</td>\n",
       "      <td>7.07</td>\n",
       "      <td>0</td>\n",
       "      <td>0.469</td>\n",
       "      <td>6.421</td>\n",
       "      <td>78.9</td>\n",
       "      <td>4.9671</td>\n",
       "      <td>2</td>\n",
       "      <td>242.0</td>\n",
       "      <td>17.8</td>\n",
       "      <td>396.9</td>\n",
       "      <td>9.14</td>\n",
       "      <td>21.6</td>\n",
       "      <td>22.90</td>\n",
       "    </tr>\n",
       "  </tbody>\n",
       "</table>\n",
       "</div>"
      ],
      "text/plain": [
       "      CRIM    ZN  INDUS  CHAS    NOX     RM   AGE     DIS  RAD    TAX  \\\n",
       "0  0.00632  18.0   2.31     0  0.538  6.575  65.2  4.0900    1  296.0   \n",
       "1  0.02731   0.0   7.07     0  0.469  6.421  78.9  4.9671    2  242.0   \n",
       "\n",
       "   PTRATIO      B  LSTAT  MEDV  y_predicho_knn  \n",
       "0     15.3  396.9   4.98  24.0           21.78  \n",
       "1     17.8  396.9   9.14  21.6           22.90  "
      ]
     },
     "execution_count": 22,
     "metadata": {},
     "output_type": "execute_result"
    }
   ],
   "source": [
    "df.head(2)"
   ]
  },
  {
   "cell_type": "markdown",
   "id": "0a51c84d",
   "metadata": {},
   "source": [
    "<a id=\"section3\"></a>\n",
    "## <font color=\"#004D7F\">3. Metricas del Modelo de Regresion Vecinos mas cercanos K-N</font>"
   ]
  },
  {
   "cell_type": "markdown",
   "id": "53486a1b",
   "metadata": {},
   "source": [
    "<a id=\"section31\"></a>\n",
    "## <font color=\"#004D7F\">3.1 MSE</font>"
   ]
  },
  {
   "cell_type": "markdown",
   "id": "6afff8c2",
   "metadata": {},
   "source": [
    "- **No es robuso para valores ATIPICOS**"
   ]
  },
  {
   "cell_type": "markdown",
   "id": "47f4d78c",
   "metadata": {},
   "source": [
    "## Métricas Regression Model\n",
    "\n",
    "La mayoría de los principiantes y profesionales no se preocupan por el rendimiento del modelo. Se habla de construir un modelo bien generalizado pero el modelo de aprendizaje automático no puede tener una eficiencia del 100% sino mas bien el modelo tiene un nivel de error que además incluye el concepto de sobreajuste y subajuste.\n",
    "\n",
    "Es necesario obtener la precisión en los datos train, pero también es importante obtener un resultado genuino y aproximado en los datos test, de lo contrario el modelo no sirve de nada.\n",
    "\n",
    "Por lo tanto, para construir e implementar un modelo generalizado necesitamos evaluar el modelo en diferentes métricas que nos ayuden a optimizar mejor el rendimiento, afinarlo y obtener un mejor resultado. Por lo tanto aqui vamos a entender de que trata cada métrica que vamos a mostrar para entender los beneficios y las desventajas de evaluación."
   ]
  },
  {
   "cell_type": "markdown",
   "id": "61bd39fd",
   "metadata": {},
   "source": [
    "### MSE (Mean Squared Error)\n",
    "\n",
    "\n",
    "\n",
    "El MSE es una métrica muy utilizada y muy simple este indica que la diferencia cuadrática entre el valor real y el valor estimado.\n",
    "\n",
    "¿Qué representa realmente el MSE? Representa la distancia al cuadrado entre los valores reales y los valores estimados, realizamos el cuadrado para evitar la cancelación de los términos negativos.\n",
    "\n",
    "$$MSE= \\frac{1}{n} \\sum_{i=1}^n (y^{(i)} - \\hat{y}^{(i)})^2$$\n",
    "\n",
    "**Ventajas del MSE**\n",
    "\n",
    "- La gráfica del MSE es diferenciable, por lo que se puede utilizar fácilmente como función de pérdida.\n",
    "\n",
    "**Desventajas del MSE**\n",
    "\n",
    "- El valor que se obtiene después de calcular el MSE es una unidad de salida al cuadrado. Por ejemplo, la variable de salida está en metros (m), entonces después de calcular el MSE la salida que obtenemos está en metros al cuadrado.\n",
    "- Si hay valores atípicos en el conjunto de datos, se penalizan más los valores atípicos y el MSE calculado es mayor. Así que, en resumen, no es robusto a los valores atípicos."
   ]
  },
  {
   "cell_type": "code",
   "execution_count": 23,
   "id": "552abd54",
   "metadata": {},
   "outputs": [
    {
     "data": {
      "text/html": [
       "<div>\n",
       "<style scoped>\n",
       "    .dataframe tbody tr th:only-of-type {\n",
       "        vertical-align: middle;\n",
       "    }\n",
       "\n",
       "    .dataframe tbody tr th {\n",
       "        vertical-align: top;\n",
       "    }\n",
       "\n",
       "    .dataframe thead th {\n",
       "        text-align: right;\n",
       "    }\n",
       "</style>\n",
       "<table border=\"1\" class=\"dataframe\">\n",
       "  <thead>\n",
       "    <tr style=\"text-align: right;\">\n",
       "      <th></th>\n",
       "      <th>0</th>\n",
       "    </tr>\n",
       "  </thead>\n",
       "  <tbody>\n",
       "    <tr>\n",
       "      <th>0</th>\n",
       "      <td>21.78</td>\n",
       "    </tr>\n",
       "    <tr>\n",
       "      <th>1</th>\n",
       "      <td>22.90</td>\n",
       "    </tr>\n",
       "    <tr>\n",
       "      <th>2</th>\n",
       "      <td>25.36</td>\n",
       "    </tr>\n",
       "    <tr>\n",
       "      <th>3</th>\n",
       "      <td>26.06</td>\n",
       "    </tr>\n",
       "    <tr>\n",
       "      <th>4</th>\n",
       "      <td>27.10</td>\n",
       "    </tr>\n",
       "  </tbody>\n",
       "</table>\n",
       "</div>"
      ],
      "text/plain": [
       "       0\n",
       "0  21.78\n",
       "1  22.90\n",
       "2  25.36\n",
       "3  26.06\n",
       "4  27.10"
      ]
     },
     "execution_count": 23,
     "metadata": {},
     "output_type": "execute_result"
    }
   ],
   "source": [
    "y_predicho_knn.head(5)"
   ]
  },
  {
   "cell_type": "code",
   "execution_count": 24,
   "id": "03fb958e",
   "metadata": {},
   "outputs": [],
   "source": [
    "y=pd.DataFrame(y)"
   ]
  },
  {
   "cell_type": "code",
   "execution_count": 25,
   "id": "b25657e3",
   "metadata": {},
   "outputs": [
    {
     "data": {
      "text/html": [
       "<div>\n",
       "<style scoped>\n",
       "    .dataframe tbody tr th:only-of-type {\n",
       "        vertical-align: middle;\n",
       "    }\n",
       "\n",
       "    .dataframe tbody tr th {\n",
       "        vertical-align: top;\n",
       "    }\n",
       "\n",
       "    .dataframe thead th {\n",
       "        text-align: right;\n",
       "    }\n",
       "</style>\n",
       "<table border=\"1\" class=\"dataframe\">\n",
       "  <thead>\n",
       "    <tr style=\"text-align: right;\">\n",
       "      <th></th>\n",
       "      <th>0</th>\n",
       "    </tr>\n",
       "  </thead>\n",
       "  <tbody>\n",
       "    <tr>\n",
       "      <th>0</th>\n",
       "      <td>24.0</td>\n",
       "    </tr>\n",
       "    <tr>\n",
       "      <th>1</th>\n",
       "      <td>21.6</td>\n",
       "    </tr>\n",
       "    <tr>\n",
       "      <th>2</th>\n",
       "      <td>34.7</td>\n",
       "    </tr>\n",
       "    <tr>\n",
       "      <th>3</th>\n",
       "      <td>33.4</td>\n",
       "    </tr>\n",
       "    <tr>\n",
       "      <th>4</th>\n",
       "      <td>36.2</td>\n",
       "    </tr>\n",
       "  </tbody>\n",
       "</table>\n",
       "</div>"
      ],
      "text/plain": [
       "      0\n",
       "0  24.0\n",
       "1  21.6\n",
       "2  34.7\n",
       "3  33.4\n",
       "4  36.2"
      ]
     },
     "execution_count": 25,
     "metadata": {},
     "output_type": "execute_result"
    }
   ],
   "source": [
    "y.head(5)"
   ]
  },
  {
   "cell_type": "markdown",
   "id": "75fa4a62",
   "metadata": {},
   "source": [
    "- Si la variable de ENTRADA es \"metros\"\n",
    "- Si la variable de SALIDA sera \"metros*metros = m^2\""
   ]
  },
  {
   "cell_type": "markdown",
   "id": "ee1357dc",
   "metadata": {},
   "source": [
    "#### En este caso la variable de entrada \"y\"(soles) la variable de salida sera \"y\"(soles*soles)"
   ]
  },
  {
   "cell_type": "markdown",
   "id": "6448cb87",
   "metadata": {},
   "source": [
    "<a id=\"section311\"></a>\n",
    "## <font color=\"#004D7F\">3.1.1 Calculado</font>"
   ]
  },
  {
   "cell_type": "code",
   "execution_count": 26,
   "id": "20b128eb",
   "metadata": {},
   "outputs": [
    {
     "data": {
      "text/plain": [
       "0    23.966862\n",
       "dtype: float64"
      ]
     },
     "execution_count": 26,
     "metadata": {},
     "output_type": "execute_result"
    }
   ],
   "source": [
    "((y-y_predicho_knn)**2).sum()/df.shape[0]"
   ]
  },
  {
   "cell_type": "markdown",
   "id": "258695d5",
   "metadata": {},
   "source": [
    "<a id=\"section312\"></a>\n",
    "## <font color=\"#004D7F\">3.1.2 Codigo</font>"
   ]
  },
  {
   "cell_type": "code",
   "execution_count": 27,
   "id": "fb1e10fb",
   "metadata": {},
   "outputs": [
    {
     "data": {
      "text/plain": [
       "23.966862450592888"
      ]
     },
     "execution_count": 27,
     "metadata": {},
     "output_type": "execute_result"
    }
   ],
   "source": [
    "from sklearn.metrics import mean_squared_error\n",
    "mean_squared_error(y,y_predicho_knn)"
   ]
  },
  {
   "cell_type": "markdown",
   "id": "df1fb90f",
   "metadata": {},
   "source": [
    "<a id=\"section32\"></a>\n",
    "## <font color=\"#004D7F\">3.2 RMSE</font>"
   ]
  },
  {
   "cell_type": "markdown",
   "id": "e26a4956",
   "metadata": {},
   "source": [
    "- **No es robuso para valores ATIPICOS**"
   ]
  },
  {
   "cell_type": "markdown",
   "id": "8037740e",
   "metadata": {},
   "source": [
    "### RMSE (Root Mean Squared Error)\n",
    "\n",
    "La raiz del error cuadrático medio (RMSE) es la raíz cuadrada de MSE. Se usa más comúnmente que MSE porque, en primer lugar, a veces el valor de MSE puede ser demasiado grande para compararlo fácilmente.\n",
    "\n",
    "$$MSE= \\sqrt(\\frac{1}{n} \\sum_{i=1}^n (y^{(i)} - \\hat{y}^{(i)})^2)$$\n",
    "\n",
    "**Ventajas del RMSE**\n",
    "- El valor de salida que se obtiene está en la misma unidad que la variable de salida requerida, lo que facilita la interpretación de la pérdida.\n",
    "\n",
    "**Desventajas del RMSE**\n",
    "- No es tan robusto a los valores atípicos."
   ]
  },
  {
   "cell_type": "markdown",
   "id": "5608873e",
   "metadata": {},
   "source": [
    "<a id=\"section321\"></a>\n",
    "## <font color=\"#004D7F\">3.2.1 Calculado</font>"
   ]
  },
  {
   "cell_type": "code",
   "execution_count": 28,
   "id": "6f265516",
   "metadata": {},
   "outputs": [
    {
     "data": {
      "text/plain": [
       "0    4.895596\n",
       "dtype: float64"
      ]
     },
     "execution_count": 28,
     "metadata": {},
     "output_type": "execute_result"
    }
   ],
   "source": [
    "(   (((y-y_predicho_knn)**2).sum())/df.shape[0]  )**0.5"
   ]
  },
  {
   "cell_type": "markdown",
   "id": "9eb9b656",
   "metadata": {},
   "source": [
    "<a id=\"section322\"></a>\n",
    "## <font color=\"#004D7F\">3.2.2 Codigo</font>"
   ]
  },
  {
   "cell_type": "code",
   "execution_count": 29,
   "id": "20f122a0",
   "metadata": {},
   "outputs": [
    {
     "data": {
      "text/plain": [
       "4.8955962303475244"
      ]
     },
     "execution_count": 29,
     "metadata": {},
     "output_type": "execute_result"
    }
   ],
   "source": [
    "from sklearn.metrics import mean_squared_error\n",
    "(mean_squared_error(y,y_predicho_knn))**.5"
   ]
  },
  {
   "cell_type": "markdown",
   "id": "1b44672d",
   "metadata": {},
   "source": [
    "<a id=\"section33\"></a>\n",
    "## <font color=\"#004D7F\">3.3 MAE</font>"
   ]
  },
  {
   "cell_type": "markdown",
   "id": "a22f488c",
   "metadata": {},
   "source": [
    "- **Es más robusto a los valores atípicos QUE RMSE ,MSE**"
   ]
  },
  {
   "cell_type": "markdown",
   "id": "02c957d1",
   "metadata": {},
   "source": [
    "### MAE (Mean Absolute Error)\n",
    "\n",
    "El error absoluto medio (MAE) es similar al error cuadrático medio (MSE). Sin embargo, en lugar de la suma del cuadrado del error en MSE, MAE está tomando la suma del valor absoluto del valor real vs el valor estimado.\n",
    "\n",
    "$$MAE= \\frac{1}{n} \\sum_{i=1}^n \\vert{y^{(i)} - \\hat{y}^{(i)}}\\vert$$\n",
    "\n",
    "**Ventajas del MAE**\n",
    "\n",
    "- El MAE que se obtiene está en la misma unidad que la variable de salida.\n",
    "- Es más robusto a los valores atípicos.\n",
    "\n",
    "**Desventajas de MAE**\n",
    "\n",
    "- La gráfica del MAE no es diferenciable por lo que tenemos que aplicar varios optimizadores como el Descenso Gradiente que sí puede ser diferenciable"
   ]
  },
  {
   "cell_type": "markdown",
   "id": "c23f3bbe",
   "metadata": {},
   "source": [
    "<a id=\"section331\"></a>\n",
    "## <font color=\"#004D7F\">3.3.1 Calculo</font>"
   ]
  },
  {
   "cell_type": "code",
   "execution_count": 30,
   "id": "f00479f7",
   "metadata": {},
   "outputs": [
    {
     "data": {
      "text/plain": [
       "0    3.375217\n",
       "dtype: float64"
      ]
     },
     "execution_count": 30,
     "metadata": {},
     "output_type": "execute_result"
    }
   ],
   "source": [
    "(abs(y-y_predicho_knn)).sum()/df.shape[0]"
   ]
  },
  {
   "cell_type": "markdown",
   "id": "cf843b12",
   "metadata": {},
   "source": [
    "<a id=\"section332\"></a>\n",
    "## <font color=\"#004D7F\">3.3.2 Codigo</font>"
   ]
  },
  {
   "cell_type": "code",
   "execution_count": 31,
   "id": "f6ad3af9",
   "metadata": {},
   "outputs": [
    {
     "data": {
      "text/plain": [
       "3.3752173913043477"
      ]
     },
     "execution_count": 31,
     "metadata": {},
     "output_type": "execute_result"
    }
   ],
   "source": [
    "from sklearn.metrics import mean_absolute_error\n",
    "mean_absolute_error(y,y_predicho_knn)"
   ]
  },
  {
   "cell_type": "markdown",
   "id": "a7a3a8f8",
   "metadata": {},
   "source": [
    "<a id=\"section34\"></a>\n",
    "## <font color=\"#004D7F\">3.4 MAPE</font>"
   ]
  },
  {
   "cell_type": "markdown",
   "id": "4adca436",
   "metadata": {},
   "source": [
    "### MAPE (Mean Absolute Percentage Error)\n",
    "\n",
    "MAPE da el error en términos de porcentaje es decir que porcentaje del valor real esta sesgado el valor estimado.\n",
    "\n",
    "Mientras que el MAE te da un valor que puedes discutir si es aceptable o no la métrica nunca te da una pista de cuánto \"error\" es aceptable.\n",
    "Por ejemplo, si tiene un error absoluto medio de 10 dólares, ¿es demasiado? ¿O es aceptable? esto depende de la escala de su valor real. Por ejemplo si tenemos un valor predicho de 100 y el valor real es de 150, el error porcentual absoluto es (150 - 100) / 150 que da 33%.\n",
    "\n",
    "$$MAPE= \\frac{1}{n} \\sum_{i=1}^n \\frac{{y^{(i)} - \\hat{y}^{(i)}}}{y^{(i)}}$$\n",
    "\n",
    "**Algunas características**\n",
    "\n",
    "- Puede tener algunos problemas para tratar los errores cuando el valor real es 0. Cuando hay algunos ejemplos como éste en su muestra, se recomiendan otras métricas.\n",
    "- El MAPE tiene algunos problemas con los valores cercanos a cero. Si se esperan estos valores en su objetivo, debería elegir otra métrica."
   ]
  },
  {
   "cell_type": "code",
   "execution_count": 32,
   "id": "424730d2",
   "metadata": {},
   "outputs": [
    {
     "data": {
      "text/plain": [
       "0    0.157121\n",
       "dtype: float64"
      ]
     },
     "execution_count": 32,
     "metadata": {},
     "output_type": "execute_result"
    }
   ],
   "source": [
    "((abs(y-y_predicho_knn)/y)).sum()/df.shape[0]"
   ]
  },
  {
   "cell_type": "markdown",
   "id": "d58fbe28",
   "metadata": {},
   "source": [
    "<a id=\"section35\"></a>\n",
    "## <font color=\"#004D7F\">3.5 R2 Score</font>"
   ]
  },
  {
   "cell_type": "markdown",
   "id": "92b144f1",
   "metadata": {},
   "source": [
    "### R2 score\n",
    "\n",
    "R2 score es una métrica que indica el rendimiento de su modelo, no el sesgo que tienen las predicciones. Así, con la ayuda de R2 score tenemos un modelo de referencia para comparar vs un modelo minimo cosa que ninguna de las otras métricas proporciona. Entonces, básicamente, R2 score calcula en qué medida la línea de regresión es mejor que una línea media.\n",
    "\n",
    "R2 score también se conoce como Coeficiente de Determinación o a veces también se conoce como Bondad de ajuste.\n",
    "$$R^2= 1 - \\frac{SSE}{SST}$$\n",
    "Donde: \n",
    "\n",
    "**SSE** error de la suma cuadrada de la línea de regresión.\n",
    "\n",
    "**SST** error de la suma cuadrada de la línea media."
   ]
  },
  {
   "cell_type": "markdown",
   "id": "096224eb",
   "metadata": {},
   "source": [
    "<a id=\"section351\"></a>\n",
    "## <font color=\"#004D7F\">3.5.1 Calculo</font>"
   ]
  },
  {
   "cell_type": "code",
   "execution_count": 33,
   "id": "cce56a74",
   "metadata": {},
   "outputs": [],
   "source": [
    "sse=((y-y_predicho_knn)**2).sum()"
   ]
  },
  {
   "cell_type": "code",
   "execution_count": 34,
   "id": "730acd72",
   "metadata": {},
   "outputs": [],
   "source": [
    "sst=((y-y_predicho_knn.mean())**2).sum()"
   ]
  },
  {
   "cell_type": "code",
   "execution_count": 35,
   "id": "c55953a0",
   "metadata": {},
   "outputs": [
    {
     "data": {
      "text/plain": [
       "0    0.716193\n",
       "dtype: float64"
      ]
     },
     "execution_count": 35,
     "metadata": {},
     "output_type": "execute_result"
    }
   ],
   "source": [
    "r2=1-sse/sst;r2"
   ]
  },
  {
   "cell_type": "markdown",
   "id": "0bfcf3d6",
   "metadata": {},
   "source": [
    "<a id=\"section352\"></a>\n",
    "## <font color=\"#004D7F\">3.5.2 Codigo</font>"
   ]
  },
  {
   "cell_type": "code",
   "execution_count": 36,
   "id": "73a2db8c",
   "metadata": {},
   "outputs": [],
   "source": [
    "from sklearn.metrics import r2_score\n"
   ]
  },
  {
   "cell_type": "code",
   "execution_count": 37,
   "id": "4d1d13d8",
   "metadata": {},
   "outputs": [
    {
     "data": {
      "text/plain": [
       "0.716098217736928"
      ]
     },
     "execution_count": 37,
     "metadata": {},
     "output_type": "execute_result"
    }
   ],
   "source": [
    "r2_score(y,y_predicho_knn)"
   ]
  }
 ],
 "metadata": {
  "kernelspec": {
   "display_name": "Python 3 (ipykernel)",
   "language": "python",
   "name": "python3"
  },
  "language_info": {
   "codemirror_mode": {
    "name": "ipython",
    "version": 3
   },
   "file_extension": ".py",
   "mimetype": "text/x-python",
   "name": "python",
   "nbconvert_exporter": "python",
   "pygments_lexer": "ipython3",
   "version": "3.9.7"
  }
 },
 "nbformat": 4,
 "nbformat_minor": 5
}
