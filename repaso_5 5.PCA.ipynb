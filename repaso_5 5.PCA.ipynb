{
 "cells": [
  {
   "cell_type": "markdown",
   "id": "90c21b4e",
   "metadata": {},
   "source": [
    "* [1. Impotar DataFrame de datos](#section1)\n",
    "* [1.1 Impotar DataFrame de datos (compra_alquiar.csv)](#section11)\n",
    "* [1.2 Informacion del DataFrame](#section12)\n",
    "* [1.3 Dimension del DataFrame](#section13)\n",
    "* [1.4 Verificacion de valores nulos](#section14)\n",
    "* [2. Graficas  Histograma de las  variables](#section2)\n",
    "* [2.1 Grafica de desviacion - Un mejor panorama lo multiplicamos por 'logaritmo'](#section21)\n",
    "* [2.1.1 Grafica de desviacion - Alta variabilidad](#section211)\n",
    "* [2.1.2 Grafica de desviacion - Baja variabilidad](#section212)\n",
    "* [3. Reporte](#section3)\n",
    "* [4. Grafica de Dispersion](#section4)\n",
    "* [5. Escalamiento--> Estandarizacion](#section5)"
   ]
  },
  {
   "cell_type": "markdown",
   "id": "af25ce61",
   "metadata": {},
   "source": [
    "<a id=\"section1\"></a>\n",
    "## <font color=\"#004D7F\">1. Importar librerias</font>"
   ]
  },
  {
   "cell_type": "code",
   "execution_count": 1,
   "id": "f1eb6465",
   "metadata": {},
   "outputs": [],
   "source": [
    "import pandas as pd\n",
    "import numpy as np\n",
    "import seaborn as sns\n",
    "import matplotlib.pyplot as plt\n",
    "from sklearn.decomposition import PCA\n",
    "from sklearn.preprocessing import StandardScaler"
   ]
  },
  {
   "cell_type": "markdown",
   "id": "19a03d09",
   "metadata": {},
   "source": [
    "<a id=\"section11\"></a>\n",
    "## <font color=\"#004D7F\">1.1 Impotar DataFrame de datos (compra_alquiar.csv)</font>"
   ]
  },
  {
   "cell_type": "code",
   "execution_count": 2,
   "id": "0d593b27",
   "metadata": {},
   "outputs": [],
   "source": [
    "df=pd.read_csv('Datos/comprar_alquilar.csv')"
   ]
  },
  {
   "cell_type": "markdown",
   "id": "a8a6ac40",
   "metadata": {},
   "source": [
    "### Primeros datos del DataFrame"
   ]
  },
  {
   "cell_type": "code",
   "execution_count": 3,
   "id": "579763db",
   "metadata": {},
   "outputs": [
    {
     "data": {
      "text/html": [
       "<div>\n",
       "<style scoped>\n",
       "    .dataframe tbody tr th:only-of-type {\n",
       "        vertical-align: middle;\n",
       "    }\n",
       "\n",
       "    .dataframe tbody tr th {\n",
       "        vertical-align: top;\n",
       "    }\n",
       "\n",
       "    .dataframe thead th {\n",
       "        text-align: right;\n",
       "    }\n",
       "</style>\n",
       "<table border=\"1\" class=\"dataframe\">\n",
       "  <thead>\n",
       "    <tr style=\"text-align: right;\">\n",
       "      <th></th>\n",
       "      <th>ingresos</th>\n",
       "      <th>gastos_comunes</th>\n",
       "      <th>pago_coche</th>\n",
       "      <th>gastos_otros</th>\n",
       "      <th>ahorros</th>\n",
       "      <th>vivienda</th>\n",
       "      <th>estado_civil</th>\n",
       "      <th>hijos</th>\n",
       "      <th>trabajo</th>\n",
       "      <th>comprar</th>\n",
       "    </tr>\n",
       "  </thead>\n",
       "  <tbody>\n",
       "    <tr>\n",
       "      <th>0</th>\n",
       "      <td>6000</td>\n",
       "      <td>1000</td>\n",
       "      <td>0</td>\n",
       "      <td>600</td>\n",
       "      <td>50000</td>\n",
       "      <td>400000</td>\n",
       "      <td>0</td>\n",
       "      <td>2</td>\n",
       "      <td>2</td>\n",
       "      <td>1</td>\n",
       "    </tr>\n",
       "    <tr>\n",
       "      <th>1</th>\n",
       "      <td>6745</td>\n",
       "      <td>944</td>\n",
       "      <td>123</td>\n",
       "      <td>429</td>\n",
       "      <td>43240</td>\n",
       "      <td>636897</td>\n",
       "      <td>1</td>\n",
       "      <td>3</td>\n",
       "      <td>6</td>\n",
       "      <td>0</td>\n",
       "    </tr>\n",
       "    <tr>\n",
       "      <th>2</th>\n",
       "      <td>6455</td>\n",
       "      <td>1033</td>\n",
       "      <td>98</td>\n",
       "      <td>795</td>\n",
       "      <td>57463</td>\n",
       "      <td>321779</td>\n",
       "      <td>2</td>\n",
       "      <td>1</td>\n",
       "      <td>8</td>\n",
       "      <td>1</td>\n",
       "    </tr>\n",
       "    <tr>\n",
       "      <th>3</th>\n",
       "      <td>7098</td>\n",
       "      <td>1278</td>\n",
       "      <td>15</td>\n",
       "      <td>254</td>\n",
       "      <td>54506</td>\n",
       "      <td>660933</td>\n",
       "      <td>0</td>\n",
       "      <td>0</td>\n",
       "      <td>3</td>\n",
       "      <td>0</td>\n",
       "    </tr>\n",
       "    <tr>\n",
       "      <th>4</th>\n",
       "      <td>6167</td>\n",
       "      <td>863</td>\n",
       "      <td>223</td>\n",
       "      <td>520</td>\n",
       "      <td>41512</td>\n",
       "      <td>348932</td>\n",
       "      <td>0</td>\n",
       "      <td>0</td>\n",
       "      <td>3</td>\n",
       "      <td>1</td>\n",
       "    </tr>\n",
       "  </tbody>\n",
       "</table>\n",
       "</div>"
      ],
      "text/plain": [
       "   ingresos  gastos_comunes  pago_coche  gastos_otros  ahorros  vivienda  \\\n",
       "0      6000            1000           0           600    50000    400000   \n",
       "1      6745             944         123           429    43240    636897   \n",
       "2      6455            1033          98           795    57463    321779   \n",
       "3      7098            1278          15           254    54506    660933   \n",
       "4      6167             863         223           520    41512    348932   \n",
       "\n",
       "   estado_civil  hijos  trabajo  comprar  \n",
       "0             0      2        2        1  \n",
       "1             1      3        6        0  \n",
       "2             2      1        8        1  \n",
       "3             0      0        3        0  \n",
       "4             0      0        3        1  "
      ]
     },
     "execution_count": 3,
     "metadata": {},
     "output_type": "execute_result"
    }
   ],
   "source": [
    "df.head()"
   ]
  },
  {
   "cell_type": "markdown",
   "id": "87f2afdb",
   "metadata": {},
   "source": [
    "### Informacion del DataFrame"
   ]
  },
  {
   "cell_type": "markdown",
   "id": "7f621c6d",
   "metadata": {},
   "source": [
    "Ingresos y gastos son mensuales de 1 personas o 2 si están casados.\n",
    "\n",
    "Trabajo: 0-sin trabajo 1-autonomo 2-asalariado 3-empresario 4-Autonomos 5-Asalariados 6-Autonomo y Asalariado 7-Empresario y Autonomo 8 Empresarios o empresario y autónomo\n",
    "\n",
    "Estado_civil: 0-soltero 1-casado 2-divorciado\n",
    "\n",
    "Hijos: Cantidad de hijos menores (no trabajan)\n",
    "\n",
    "Comprar: 0-mejor alquilar 1-Comprar casa"
   ]
  },
  {
   "cell_type": "markdown",
   "id": "0f7f9b9c",
   "metadata": {},
   "source": [
    "<a id=\"section12\"></a>\n",
    "## <font color=\"#004D7F\">1.2 Informacion del DataFrame</font>\n",
    " "
   ]
  },
  {
   "cell_type": "code",
   "execution_count": 4,
   "id": "825335cc",
   "metadata": {},
   "outputs": [
    {
     "data": {
      "text/html": [
       "<div>\n",
       "<style scoped>\n",
       "    .dataframe tbody tr th:only-of-type {\n",
       "        vertical-align: middle;\n",
       "    }\n",
       "\n",
       "    .dataframe tbody tr th {\n",
       "        vertical-align: top;\n",
       "    }\n",
       "\n",
       "    .dataframe thead th {\n",
       "        text-align: right;\n",
       "    }\n",
       "</style>\n",
       "<table border=\"1\" class=\"dataframe\">\n",
       "  <thead>\n",
       "    <tr style=\"text-align: right;\">\n",
       "      <th></th>\n",
       "      <th>ingresos</th>\n",
       "      <th>gastos_comunes</th>\n",
       "      <th>pago_coche</th>\n",
       "      <th>gastos_otros</th>\n",
       "      <th>ahorros</th>\n",
       "      <th>vivienda</th>\n",
       "      <th>estado_civil</th>\n",
       "      <th>hijos</th>\n",
       "      <th>trabajo</th>\n",
       "      <th>comprar</th>\n",
       "    </tr>\n",
       "  </thead>\n",
       "  <tbody>\n",
       "    <tr>\n",
       "      <th>count</th>\n",
       "      <td>202.000000</td>\n",
       "      <td>202.000000</td>\n",
       "      <td>202.000000</td>\n",
       "      <td>202.000000</td>\n",
       "      <td>202.000000</td>\n",
       "      <td>202.000000</td>\n",
       "      <td>202.000000</td>\n",
       "      <td>202.000000</td>\n",
       "      <td>202.000000</td>\n",
       "      <td>202.000000</td>\n",
       "    </tr>\n",
       "    <tr>\n",
       "      <th>mean</th>\n",
       "      <td>4958.995050</td>\n",
       "      <td>971.584158</td>\n",
       "      <td>211.742574</td>\n",
       "      <td>515.425743</td>\n",
       "      <td>38749.668317</td>\n",
       "      <td>373349.638614</td>\n",
       "      <td>1.024752</td>\n",
       "      <td>1.232673</td>\n",
       "      <td>4.490099</td>\n",
       "      <td>0.331683</td>\n",
       "    </tr>\n",
       "    <tr>\n",
       "      <th>std</th>\n",
       "      <td>1682.862556</td>\n",
       "      <td>272.106351</td>\n",
       "      <td>124.940754</td>\n",
       "      <td>168.103075</td>\n",
       "      <td>17365.231870</td>\n",
       "      <td>136371.525622</td>\n",
       "      <td>0.837184</td>\n",
       "      <td>1.367833</td>\n",
       "      <td>2.535794</td>\n",
       "      <td>0.471988</td>\n",
       "    </tr>\n",
       "    <tr>\n",
       "      <th>min</th>\n",
       "      <td>2008.000000</td>\n",
       "      <td>384.000000</td>\n",
       "      <td>0.000000</td>\n",
       "      <td>201.000000</td>\n",
       "      <td>10319.000000</td>\n",
       "      <td>176553.000000</td>\n",
       "      <td>0.000000</td>\n",
       "      <td>0.000000</td>\n",
       "      <td>0.000000</td>\n",
       "      <td>0.000000</td>\n",
       "    </tr>\n",
       "    <tr>\n",
       "      <th>25%</th>\n",
       "      <td>3513.750000</td>\n",
       "      <td>766.750000</td>\n",
       "      <td>99.000000</td>\n",
       "      <td>383.250000</td>\n",
       "      <td>24964.250000</td>\n",
       "      <td>274810.000000</td>\n",
       "      <td>0.000000</td>\n",
       "      <td>0.000000</td>\n",
       "      <td>2.000000</td>\n",
       "      <td>0.000000</td>\n",
       "    </tr>\n",
       "    <tr>\n",
       "      <th>50%</th>\n",
       "      <td>4947.500000</td>\n",
       "      <td>968.000000</td>\n",
       "      <td>208.500000</td>\n",
       "      <td>522.500000</td>\n",
       "      <td>38523.000000</td>\n",
       "      <td>340783.500000</td>\n",
       "      <td>1.000000</td>\n",
       "      <td>1.000000</td>\n",
       "      <td>5.000000</td>\n",
       "      <td>0.000000</td>\n",
       "    </tr>\n",
       "    <tr>\n",
       "      <th>75%</th>\n",
       "      <td>6374.500000</td>\n",
       "      <td>1165.250000</td>\n",
       "      <td>318.750000</td>\n",
       "      <td>656.750000</td>\n",
       "      <td>52150.750000</td>\n",
       "      <td>444482.000000</td>\n",
       "      <td>2.000000</td>\n",
       "      <td>2.000000</td>\n",
       "      <td>7.000000</td>\n",
       "      <td>1.000000</td>\n",
       "    </tr>\n",
       "    <tr>\n",
       "      <th>max</th>\n",
       "      <td>7984.000000</td>\n",
       "      <td>1585.000000</td>\n",
       "      <td>448.000000</td>\n",
       "      <td>828.000000</td>\n",
       "      <td>69934.000000</td>\n",
       "      <td>669540.000000</td>\n",
       "      <td>2.000000</td>\n",
       "      <td>4.000000</td>\n",
       "      <td>8.000000</td>\n",
       "      <td>1.000000</td>\n",
       "    </tr>\n",
       "  </tbody>\n",
       "</table>\n",
       "</div>"
      ],
      "text/plain": [
       "          ingresos  gastos_comunes  pago_coche  gastos_otros       ahorros  \\\n",
       "count   202.000000      202.000000  202.000000    202.000000    202.000000   \n",
       "mean   4958.995050      971.584158  211.742574    515.425743  38749.668317   \n",
       "std    1682.862556      272.106351  124.940754    168.103075  17365.231870   \n",
       "min    2008.000000      384.000000    0.000000    201.000000  10319.000000   \n",
       "25%    3513.750000      766.750000   99.000000    383.250000  24964.250000   \n",
       "50%    4947.500000      968.000000  208.500000    522.500000  38523.000000   \n",
       "75%    6374.500000     1165.250000  318.750000    656.750000  52150.750000   \n",
       "max    7984.000000     1585.000000  448.000000    828.000000  69934.000000   \n",
       "\n",
       "            vivienda  estado_civil       hijos     trabajo     comprar  \n",
       "count     202.000000    202.000000  202.000000  202.000000  202.000000  \n",
       "mean   373349.638614      1.024752    1.232673    4.490099    0.331683  \n",
       "std    136371.525622      0.837184    1.367833    2.535794    0.471988  \n",
       "min    176553.000000      0.000000    0.000000    0.000000    0.000000  \n",
       "25%    274810.000000      0.000000    0.000000    2.000000    0.000000  \n",
       "50%    340783.500000      1.000000    1.000000    5.000000    0.000000  \n",
       "75%    444482.000000      2.000000    2.000000    7.000000    1.000000  \n",
       "max    669540.000000      2.000000    4.000000    8.000000    1.000000  "
      ]
     },
     "execution_count": 4,
     "metadata": {},
     "output_type": "execute_result"
    }
   ],
   "source": [
    "df.describe()"
   ]
  },
  {
   "cell_type": "code",
   "execution_count": 5,
   "id": "9335ff7b",
   "metadata": {},
   "outputs": [
    {
     "name": "stdout",
     "output_type": "stream",
     "text": [
      "<class 'pandas.core.frame.DataFrame'>\n",
      "RangeIndex: 202 entries, 0 to 201\n",
      "Data columns (total 10 columns):\n",
      " #   Column          Non-Null Count  Dtype\n",
      "---  ------          --------------  -----\n",
      " 0   ingresos        202 non-null    int64\n",
      " 1   gastos_comunes  202 non-null    int64\n",
      " 2   pago_coche      202 non-null    int64\n",
      " 3   gastos_otros    202 non-null    int64\n",
      " 4   ahorros         202 non-null    int64\n",
      " 5   vivienda        202 non-null    int64\n",
      " 6   estado_civil    202 non-null    int64\n",
      " 7   hijos           202 non-null    int64\n",
      " 8   trabajo         202 non-null    int64\n",
      " 9   comprar         202 non-null    int64\n",
      "dtypes: int64(10)\n",
      "memory usage: 15.9 KB\n"
     ]
    }
   ],
   "source": [
    "df.info()"
   ]
  },
  {
   "cell_type": "markdown",
   "id": "e0fac39b",
   "metadata": {},
   "source": [
    "<a id=\"section13\"></a>\n",
    "## <font color=\"#004D7F\">1.3 Dimension del DataFrame</font>\n"
   ]
  },
  {
   "cell_type": "code",
   "execution_count": 6,
   "id": "7f817b0a",
   "metadata": {},
   "outputs": [
    {
     "data": {
      "text/plain": [
       "(202, 10)"
      ]
     },
     "execution_count": 6,
     "metadata": {},
     "output_type": "execute_result"
    }
   ],
   "source": [
    "df.shape"
   ]
  },
  {
   "cell_type": "markdown",
   "id": "2ab32eb2",
   "metadata": {},
   "source": [
    "<a id=\"section14\"></a>\n",
    "## <font color=\"#004D7F\">1.4 Verificacion de valores nulos</font>\n"
   ]
  },
  {
   "cell_type": "code",
   "execution_count": 7,
   "id": "7aea9333",
   "metadata": {},
   "outputs": [
    {
     "data": {
      "text/plain": [
       "ingresos          0\n",
       "gastos_comunes    0\n",
       "pago_coche        0\n",
       "gastos_otros      0\n",
       "ahorros           0\n",
       "vivienda          0\n",
       "estado_civil      0\n",
       "hijos             0\n",
       "trabajo           0\n",
       "comprar           0\n",
       "dtype: int64"
      ]
     },
     "execution_count": 7,
     "metadata": {},
     "output_type": "execute_result"
    }
   ],
   "source": [
    "df.isnull().sum()"
   ]
  },
  {
   "cell_type": "markdown",
   "id": "d82cb138",
   "metadata": {},
   "source": [
    "<a id=\"section2\"></a>\n",
    "## <font color=\"#004D7F\">2. Graficas  Histograma de las  variables</font>"
   ]
  },
  {
   "cell_type": "code",
   "execution_count": 8,
   "id": "7250ba23",
   "metadata": {},
   "outputs": [
    {
     "name": "stderr",
     "output_type": "stream",
     "text": [
      "C:\\Users\\Luis\\AppData\\Local\\Temp/ipykernel_8232/2166563055.py:2: FutureWarning: In a future version of pandas all arguments of DataFrame.drop except for the argument 'labels' will be keyword-only\n",
      "  df.drop([],1).hist()  #(bins=9)\n"
     ]
    },
    {
     "data": {
      "image/png": "[encoded data removed]",
      "text/plain": [
       "<Figure size 1080x1080 with 12 Axes>"
      ]
     },
     "metadata": {
      "needs_background": "light"
     },
     "output_type": "display_data"
    }
   ],
   "source": [
    "plt.rcParams['figure.figsize']=[15,15]\n",
    "df.drop([],1).hist()  #(bins=9)\n",
    "plt.show()"
   ]
  },
  {
   "cell_type": "markdown",
   "id": "9dddea78",
   "metadata": {},
   "source": [
    "<a id=\"section21\"></a>\n",
    "## <font color=\"#004D7F\">2.1 Grafica de desviacion - Un mejor panorama lo multiplicamos por 'logaritmo'</font>"
   ]
  },
  {
   "cell_type": "code",
   "execution_count": 9,
   "id": "b0016c14",
   "metadata": {},
   "outputs": [
    {
     "data": {
      "text/plain": [
       "<AxesSubplot:title={'center':'variables con sd'}>"
      ]
     },
     "execution_count": 9,
     "metadata": {},
     "output_type": "execute_result"
    },
    {
     "data": {
      "image/png": "[encoded data removed]",
      "text/plain": [
       "<Figure size 576x432 with 1 Axes>"
      ]
     },
     "metadata": {
      "needs_background": "light"
     },
     "output_type": "display_data"
    }
   ],
   "source": [
    "df.std().plot(kind='bar',figsize=(8,6),logy=True,title='variables con sd')"
   ]
  },
  {
   "cell_type": "code",
   "execution_count": 10,
   "id": "9ab76e67",
   "metadata": {},
   "outputs": [
    {
     "data": {
      "text/plain": [
       "Index(['ingresos', 'gastos_comunes', 'pago_coche', 'gastos_otros', 'ahorros',\n",
       "       'vivienda', 'estado_civil', 'hijos', 'trabajo', 'comprar'],\n",
       "      dtype='object')"
      ]
     },
     "execution_count": 10,
     "metadata": {},
     "output_type": "execute_result"
    }
   ],
   "source": [
    "df.columns"
   ]
  },
  {
   "cell_type": "markdown",
   "id": "d65db527",
   "metadata": {},
   "source": [
    "<a id=\"section211\"></a>\n",
    "## <font color=\"#004D7F\">2.1.1 Grafica de desviacion - Alta variabilidad</font>"
   ]
  },
  {
   "cell_type": "markdown",
   "id": "2f0c419d",
   "metadata": {},
   "source": [
    "### Vivienda"
   ]
  },
  {
   "cell_type": "code",
   "execution_count": 11,
   "id": "c0f75538",
   "metadata": {},
   "outputs": [
    {
     "data": {
      "text/plain": [
       "count       202.000000\n",
       "mean     373349.638614\n",
       "std      136371.525622\n",
       "min      176553.000000\n",
       "25%      274810.000000\n",
       "50%      340783.500000\n",
       "75%      444482.000000\n",
       "max      669540.000000\n",
       "Name: vivienda, dtype: float64"
      ]
     },
     "execution_count": 11,
     "metadata": {},
     "output_type": "execute_result"
    }
   ],
   "source": [
    "df.vivienda.describe()"
   ]
  },
  {
   "cell_type": "code",
   "execution_count": 12,
   "id": "7a7449e0",
   "metadata": {},
   "outputs": [
    {
     "data": {
      "text/plain": [
       "<AxesSubplot:>"
      ]
     },
     "execution_count": 12,
     "metadata": {},
     "output_type": "execute_result"
    },
    {
     "data": {
      "image/png": "[encoded data removed]",
      "text/plain": [
       "<Figure size 1080x1080 with 1 Axes>"
      ]
     },
     "metadata": {
      "needs_background": "light"
     },
     "output_type": "display_data"
    }
   ],
   "source": [
    "df.vivienda.hist()"
   ]
  },
  {
   "cell_type": "markdown",
   "id": "01aa72f5",
   "metadata": {},
   "source": [
    "<a id=\"section212\"></a>\n",
    "## <font color=\"#004D7F\">2.1.2 Grafica de desviacion - Baja variabilidad</font>"
   ]
  },
  {
   "cell_type": "markdown",
   "id": "0d2c8090",
   "metadata": {},
   "source": [
    "### Estado Civil"
   ]
  },
  {
   "cell_type": "code",
   "execution_count": 13,
   "id": "5501ffb9",
   "metadata": {},
   "outputs": [
    {
     "data": {
      "text/plain": [
       "count    202.000000\n",
       "mean       1.024752\n",
       "std        0.837184\n",
       "min        0.000000\n",
       "25%        0.000000\n",
       "50%        1.000000\n",
       "75%        2.000000\n",
       "max        2.000000\n",
       "Name: estado_civil, dtype: float64"
      ]
     },
     "execution_count": 13,
     "metadata": {},
     "output_type": "execute_result"
    }
   ],
   "source": [
    "df.estado_civil.describe()"
   ]
  },
  {
   "cell_type": "code",
   "execution_count": 14,
   "id": "7cd8bb64",
   "metadata": {},
   "outputs": [
    {
     "data": {
      "text/plain": [
       "<AxesSubplot:>"
      ]
     },
     "execution_count": 14,
     "metadata": {},
     "output_type": "execute_result"
    },
    {
     "data": {
      "image/png": "[encoded data removed]",
      "text/plain": [
       "<Figure size 1080x1080 with 1 Axes>"
      ]
     },
     "metadata": {
      "needs_background": "light"
     },
     "output_type": "display_data"
    }
   ],
   "source": [
    "df.estado_civil.hist()"
   ]
  },
  {
   "cell_type": "code",
   "execution_count": 15,
   "id": "a0612c1f",
   "metadata": {},
   "outputs": [
    {
     "data": {
      "text/plain": [
       "array([0, 1, 2], dtype=int64)"
      ]
     },
     "execution_count": 15,
     "metadata": {},
     "output_type": "execute_result"
    }
   ],
   "source": [
    "### # son valores unicos\n",
    "df.estado_civil.unique()"
   ]
  },
  {
   "cell_type": "markdown",
   "id": "10f62bf5",
   "metadata": {},
   "source": [
    "<a id=\"section3\"></a>\n",
    "## <font color=\"#004D7F\">3. Reporte</font>"
   ]
  },
  {
   "cell_type": "code",
   "execution_count": 16,
   "id": "de8b1f5b",
   "metadata": {},
   "outputs": [],
   "source": [
    "from pandas_profiling import ProfileReport"
   ]
  },
  {
   "cell_type": "code",
   "execution_count": 17,
   "id": "c15b0250",
   "metadata": {},
   "outputs": [],
   "source": [
    "reporte= ProfileReport(df,title='Reporte de Variables',explorative=True)\n"
   ]
  },
  {
   "cell_type": "code",
   "execution_count": 18,
   "id": "2376007e",
   "metadata": {},
   "outputs": [
    {
     "data": {
      "application/vnd.jupyter.widget-view+json": {
       "model_id": "292d67e583494a629d285c6b15a8db95",
       "version_major": 2,
       "version_minor": 0
      },
      "text/plain": [
       "Summarize dataset:   0%|          | 0/5 [00:00<?, ?it/s]"
      ]
     },
     "metadata": {},
     "output_type": "display_data"
    },
    {
     "data": {
      "application/vnd.jupyter.widget-view+json": {
       "model_id": "0838471c6d7d42b8868c165406c934ec",
       "version_major": 2,
       "version_minor": 0
      },
      "text/plain": [
       "Generate report structure:   0%|          | 0/1 [00:00<?, ?it/s]"
      ]
     },
     "metadata": {},
     "output_type": "display_data"
    },
    {
     "data": {
      "application/vnd.jupyter.widget-view+json": {
       "model_id": "5a8a77100d4c4cfd956d57daa5a7b5b1",
       "version_major": 2,
       "version_minor": 0
      },
      "text/plain": [
       "Render HTML:   0%|          | 0/1 [00:00<?, ?it/s]"
      ]
     },
     "metadata": {},
     "output_type": "display_data"
    },
    {
     "data": {
      "application/vnd.jupyter.widget-view+json": {
       "model_id": "8a8bbefbd0ac48aa96fb9ca9ecd127ee",
       "version_major": 2,
       "version_minor": 0
      },
      "text/plain": [
       "Export report to file:   0%|          | 0/1 [00:00<?, ?it/s]"
      ]
     },
     "metadata": {},
     "output_type": "display_data"
    }
   ],
   "source": [
    "reporte.to_file(\"repaso_5 5.PCA df.html\")"
   ]
  },
  {
   "cell_type": "markdown",
   "id": "c4815ef2",
   "metadata": {},
   "source": [
    "<a id=\"section4\"></a>\n",
    "## <font color=\"#004D7F\">4. Grafica de Dispersion</font>"
   ]
  },
  {
   "cell_type": "code",
   "execution_count": 19,
   "id": "6f50ba19",
   "metadata": {},
   "outputs": [
    {
     "data": {
      "text/plain": [
       "Index(['ingresos', 'gastos_comunes', 'pago_coche', 'gastos_otros', 'ahorros',\n",
       "       'vivienda', 'estado_civil', 'hijos', 'trabajo', 'comprar'],\n",
       "      dtype='object')"
      ]
     },
     "execution_count": 19,
     "metadata": {},
     "output_type": "execute_result"
    }
   ],
   "source": [
    "df.columns"
   ]
  },
  {
   "cell_type": "markdown",
   "id": "34f83dbc",
   "metadata": {},
   "source": [
    "### Ingresos vs ahorros --> vivienda"
   ]
  },
  {
   "cell_type": "code",
   "execution_count": 20,
   "id": "0f4803b1",
   "metadata": {},
   "outputs": [
    {
     "data": {
      "text/plain": [
       "Text(0, 0.5, 'ahorros')"
      ]
     },
     "execution_count": 20,
     "metadata": {},
     "output_type": "execute_result"
    },
    {
     "data": {
      "image/png": "[encoded data removed]",
      "text/plain": [
       "<Figure size 720x360 with 1 Axes>"
      ]
     },
     "metadata": {
      "needs_background": "light"
     },
     "output_type": "display_data"
    }
   ],
   "source": [
    "plt.rcParams[\"figure.figsize\"]=(10,5)\n",
    "plt.subplot(1,2,1)\n",
    "plt.scatter(df[\"ingresos\"],df[\"ahorros\"],s=df[\"vivienda\"]*0.0005,color=\"magenta\",label=\"check\",alpha=0.3)\n",
    "plt.xlabel(\"ingresos\")\n",
    "plt.ylabel(\"ahorros\")"
   ]
  },
  {
   "cell_type": "markdown",
   "id": "e8a21674",
   "metadata": {},
   "source": [
    "### gastos comunes vs gastos otros --> vivienda"
   ]
  },
  {
   "cell_type": "code",
   "execution_count": 21,
   "id": "7d7d3ebd",
   "metadata": {},
   "outputs": [
    {
     "data": {
      "text/plain": [
       "Text(0, 0.5, 'gastos_otros')"
      ]
     },
     "execution_count": 21,
     "metadata": {},
     "output_type": "execute_result"
    },
    {
     "data": {
      "image/png": "[encoded data removed]",
      "text/plain": [
       "<Figure size 720x360 with 1 Axes>"
      ]
     },
     "metadata": {
      "needs_background": "light"
     },
     "output_type": "display_data"
    }
   ],
   "source": [
    "plt.rcParams[\"figure.figsize\"]=(10,5)\n",
    "plt.subplot(1,2,1)\n",
    "plt.scatter(df[\"gastos_comunes\"],df[\"gastos_otros\"],s=df[\"vivienda\"]*0.0005,color=\"blue\",label=\"check\",alpha=0.3)\n",
    "plt.xlabel(\"gastos_comunes\")\n",
    "plt.ylabel(\"gastos_otros\")"
   ]
  },
  {
   "cell_type": "markdown",
   "id": "e8c428e1",
   "metadata": {},
   "source": [
    "<a id=\"section5\"></a>\n",
    "## <font color=\"#004D7F\">5. Escalamiento--> Estandarizacion</font>"
   ]
  },
  {
   "cell_type": "code",
   "execution_count": 22,
   "id": "9ae51275",
   "metadata": {},
   "outputs": [],
   "source": [
    "from sklearn.preprocessing import StandardScaler"
   ]
  },
  {
   "cell_type": "markdown",
   "id": "f0903381",
   "metadata": {},
   "source": [
    "### 1.Estandarizar"
   ]
  },
  {
   "cell_type": "code",
   "execution_count": 26,
   "id": "b7657984",
   "metadata": {},
   "outputs": [],
   "source": [
    "scaler=StandardScaler()"
   ]
  },
  {
   "cell_type": "markdown",
   "id": "3d504467",
   "metadata": {},
   "source": [
    "### 2.Creando un DataFrame"
   ]
  },
  {
   "cell_type": "code",
   "execution_count": 24,
   "id": "4bd7fe30",
   "metadata": {},
   "outputs": [],
   "source": [
    "df1=df.drop(['comprar'],axis=1)"
   ]
  },
  {
   "cell_type": "markdown",
   "id": "3d00a028",
   "metadata": {},
   "source": [
    "### 3.Ajustar"
   ]
  },
  {
   "cell_type": "code",
   "execution_count": 27,
   "id": "9c716dcf",
   "metadata": {},
   "outputs": [
    {
     "data": {
      "text/plain": [
       "StandardScaler()"
      ]
     },
     "execution_count": 27,
     "metadata": {},
     "output_type": "execute_result"
    }
   ],
   "source": [
    "scaler.fit(df1)"
   ]
  },
  {
   "cell_type": "code",
   "execution_count": 28,
   "id": "f76ae6dc",
   "metadata": {},
   "outputs": [],
   "source": [
    "x_scaled=scaler.transform(df1)"
   ]
  },
  {
   "cell_type": "code",
   "execution_count": 29,
   "id": "f773ee10",
   "metadata": {},
   "outputs": [
    {
     "data": {
      "text/plain": [
       "array([[ 0.62012866,  0.10468863, -1.69895439, ..., -1.22708822,\n",
       "         0.5623736 , -0.98441983],\n",
       "       [ 1.0639266 , -0.10162457, -0.71204191, ..., -0.02963981,\n",
       "         1.29527339,  0.59691461],\n",
       "       [ 0.89117304,  0.22626604, -0.91263388, ...,  1.1678086 ,\n",
       "        -0.17052619,  1.38758182],\n",
       "       ...,\n",
       "       [-1.05736798, -0.06109876,  0.51558094, ..., -0.02963981,\n",
       "         1.29527339,  1.38758182],\n",
       "       [-0.96801269, -0.38530521,  1.26178306, ..., -0.02963981,\n",
       "         0.5623736 ,  0.201581  ],\n",
       "       [-0.57842363,  0.68310241, -0.85646812, ..., -1.22708822,\n",
       "        -0.90342598, -0.19375261]])"
      ]
     },
     "execution_count": 29,
     "metadata": {},
     "output_type": "execute_result"
    }
   ],
   "source": [
    "x_scaled"
   ]
  },
  {
   "cell_type": "markdown",
   "id": "8d57e4e8",
   "metadata": {},
   "source": [
    "### 4.Aplicar PCA al objeto 'x_scaled'"
   ]
  },
  {
   "cell_type": "code",
   "execution_count": 31,
   "id": "c88e0758",
   "metadata": {},
   "outputs": [],
   "source": [
    "pca=PCA(n_components=9)\n",
    "pca.fit(x_scaled)\n",
    "x_pca=pca.transform(x_scaled)"
   ]
  },
  {
   "cell_type": "code",
   "execution_count": 32,
   "id": "de02e1e3",
   "metadata": {},
   "outputs": [
    {
     "name": "stdout",
     "output_type": "stream",
     "text": [
      "[0.29913557 0.23294923 0.11711241 0.10685622 0.09635279 0.05629866\n",
      " 0.04145579 0.03017819 0.01966115]\n"
     ]
    }
   ],
   "source": [
    "expl=pca.explained_variance_ratio_\n",
    "print(expl)"
   ]
  },
  {
   "cell_type": "markdown",
   "id": "50b94dfa",
   "metadata": {},
   "source": [
    "### 5.Variancia Acumulativa"
   ]
  },
  {
   "cell_type": "code",
   "execution_count": 35,
   "id": "6542e61f",
   "metadata": {},
   "outputs": [
    {
     "name": "stdout",
     "output_type": "stream",
     "text": [
      "variancia acumulada 0.8524062117714313\n"
     ]
    }
   ],
   "source": [
    "print(\"variancia acumulada\",sum(expl[0:5]))"
   ]
  },
  {
   "cell_type": "markdown",
   "id": "3816b289",
   "metadata": {},
   "source": [
    "### 6. Grafica de la Variancia Acumulada"
   ]
  },
  {
   "cell_type": "code",
   "execution_count": 36,
   "id": "566b8a3e",
   "metadata": {},
   "outputs": [
    {
     "data": {
      "text/plain": [
       "[<matplotlib.lines.Line2D at 0x184a58a0250>]"
      ]
     },
     "execution_count": 36,
     "metadata": {},
     "output_type": "execute_result"
    },
    {
     "data": {
      "image/png": "[encoded data removed]",
      "text/plain": [
       "<Figure size 720x360 with 1 Axes>"
      ]
     },
     "metadata": {
      "needs_background": "light"
     },
     "output_type": "display_data"
    }
   ],
   "source": [
    "plt.plot(expl)"
   ]
  },
  {
   "cell_type": "code",
   "execution_count": 39,
   "id": "b53d43ea",
   "metadata": {},
   "outputs": [
    {
     "data": {
      "text/plain": [
       "<BarContainer object of 9 artists>"
      ]
     },
     "execution_count": 39,
     "metadata": {},
     "output_type": "execute_result"
    },
    {
     "data": {
      "image/png": "[encoded data removed]",
      "text/plain": [
       "<Figure size 720x360 with 1 Axes>"
      ]
     },
     "metadata": {
      "needs_background": "light"
     },
     "output_type": "display_data"
    }
   ],
   "source": [
    "plt.bar(range(0,9),np.cumsum(expl),alpha=.3)"
   ]
  },
  {
   "cell_type": "code",
   "execution_count": 40,
   "id": "2963fd14",
   "metadata": {},
   "outputs": [
    {
     "name": "stderr",
     "output_type": "stream",
     "text": [
      "C:\\Users\\Luis\\AppData\\Local\\Temp/ipykernel_8232/1331226312.py:5: UserWarning: Matplotlib is currently using agg, which is a non-GUI backend, so cannot show the figure.\n",
      "  plt.show()\n"
     ]
    },
    {
     "data": {
      "image/png": "[encoded data removed]",
      "text/plain": [
       "<Figure size 720x360 with 1 Axes>"
      ]
     },
     "metadata": {
      "needs_background": "light"
     },
     "output_type": "display_data"
    }
   ],
   "source": [
    "plt.plot((expl))\n",
    "plt.bar(range(0,9),np.cumsum(expl),alpha=.3)\n",
    "plt.xlabel(\"numeros de componentes\")\n",
    "plt.ylabel(\"vaianza explciada acumulada\")\n",
    "plt.show()"
   ]
  },
  {
   "cell_type": "code",
   "execution_count": null,
   "id": "811feb48",
   "metadata": {},
   "outputs": [],
   "source": []
  }
 ],
 "metadata": {
  "kernelspec": {
   "display_name": "Python 3 (ipykernel)",
   "language": "python",
   "name": "python3"
  },
  "language_info": {
   "codemirror_mode": {
    "name": "ipython",
    "version": 3
   },
   "file_extension": ".py",
   "mimetype": "text/x-python",
   "name": "python",
   "nbconvert_exporter": "python",
   "pygments_lexer": "ipython3",
   "version": "3.9.7"
  }
 },
 "nbformat": 4,
 "nbformat_minor": 5
}
