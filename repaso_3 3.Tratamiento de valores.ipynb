{
 "cells": [
  {
   "cell_type": "markdown",
   "id": "eb3405e6",
   "metadata": {},
   "source": [
    "* [1. Creacion de Dataset](#section1)\n",
    "  * [1.1 Cargar DataFrame](#section11)\n",
    "  * [1.2 Nombres de columnas](#section12)\n",
    "  * [1.3 Limpiar el DataFrame](#section13)\n",
    "     * [1.3.1 Limpiar el DataFrame con Ceros](#section131)\n",
    "       * [1.3.1.1 Comparacion del DataFrame 'df' y 'df2'](#section1311)\n",
    "       * [1.3.1.2 Comparacion del DataFrame 'df' y 'df3'](#section1312)\n",
    "  * [1.4 Limpiar el DataFrame con SimpleImputer](#section14)\n",
    "     * [1.4.1 Reemplazando por la media a la columna 'Valor2'](#section141)\n",
    "     * [1.4.2 Reemplazando por la mediana a la columna 'Valor2'](#section142)"
   ]
  },
  {
   "cell_type": "markdown",
   "id": "b6542e59",
   "metadata": {},
   "source": [
    "<a id=\"section1\"></a>\n",
    "## <font color=\"#004D7F\">1. Importar librerias</font>"
   ]
  },
  {
   "cell_type": "code",
   "execution_count": 1,
   "id": "63e6ff12",
   "metadata": {},
   "outputs": [],
   "source": [
    "import pandas as pd\n",
    "import os\n",
    "import numpy as np"
   ]
  },
  {
   "cell_type": "markdown",
   "id": "06a96fea",
   "metadata": {},
   "source": [
    "<a id=\"section11\"></a>\n",
    "## <font color=\"#004D7F\">1.1 Cargar DataFrame</font>"
   ]
  },
  {
   "cell_type": "code",
   "execution_count": 2,
   "id": "b112498c",
   "metadata": {},
   "outputs": [],
   "source": [
    "df=pd.read_csv('Datos/Example_DataImputation.csv')"
   ]
  },
  {
   "cell_type": "code",
   "execution_count": 3,
   "id": "b254637b",
   "metadata": {},
   "outputs": [
    {
     "data": {
      "text/html": [
       "<div>\n",
       "<style scoped>\n",
       "    .dataframe tbody tr th:only-of-type {\n",
       "        vertical-align: middle;\n",
       "    }\n",
       "\n",
       "    .dataframe tbody tr th {\n",
       "        vertical-align: top;\n",
       "    }\n",
       "\n",
       "    .dataframe thead th {\n",
       "        text-align: right;\n",
       "    }\n",
       "</style>\n",
       "<table border=\"1\" class=\"dataframe\">\n",
       "  <thead>\n",
       "    <tr style=\"text-align: right;\">\n",
       "      <th></th>\n",
       "      <th>Valor1</th>\n",
       "      <th>Valor2</th>\n",
       "      <th>Valor3</th>\n",
       "      <th>Valor4</th>\n",
       "    </tr>\n",
       "  </thead>\n",
       "  <tbody>\n",
       "    <tr>\n",
       "      <th>0</th>\n",
       "      <td>8.3252</td>\n",
       "      <td>41.0</td>\n",
       "      <td>6.984127</td>\n",
       "      <td>DDD</td>\n",
       "    </tr>\n",
       "    <tr>\n",
       "      <th>1</th>\n",
       "      <td>NaN</td>\n",
       "      <td>21.0</td>\n",
       "      <td>6.238137</td>\n",
       "      <td>BBB</td>\n",
       "    </tr>\n",
       "    <tr>\n",
       "      <th>2</th>\n",
       "      <td>7.2574</td>\n",
       "      <td>52.0</td>\n",
       "      <td>8.288136</td>\n",
       "      <td>CCC</td>\n",
       "    </tr>\n",
       "    <tr>\n",
       "      <th>3</th>\n",
       "      <td>NaN</td>\n",
       "      <td>52.0</td>\n",
       "      <td>5.817352</td>\n",
       "      <td>AAA</td>\n",
       "    </tr>\n",
       "    <tr>\n",
       "      <th>4</th>\n",
       "      <td>3.8462</td>\n",
       "      <td>52.0</td>\n",
       "      <td>6.281853</td>\n",
       "      <td>CCC</td>\n",
       "    </tr>\n",
       "    <tr>\n",
       "      <th>5</th>\n",
       "      <td>4.0368</td>\n",
       "      <td>52.0</td>\n",
       "      <td>NaN</td>\n",
       "      <td>DDD</td>\n",
       "    </tr>\n",
       "    <tr>\n",
       "      <th>6</th>\n",
       "      <td>NaN</td>\n",
       "      <td>NaN</td>\n",
       "      <td>NaN</td>\n",
       "      <td>CCC</td>\n",
       "    </tr>\n",
       "    <tr>\n",
       "      <th>7</th>\n",
       "      <td>NaN</td>\n",
       "      <td>NaN</td>\n",
       "      <td>4.797527</td>\n",
       "      <td>BBB</td>\n",
       "    </tr>\n",
       "    <tr>\n",
       "      <th>8</th>\n",
       "      <td>2.0804</td>\n",
       "      <td>NaN</td>\n",
       "      <td>4.294118</td>\n",
       "      <td>AAA</td>\n",
       "    </tr>\n",
       "    <tr>\n",
       "      <th>9</th>\n",
       "      <td>3.6912</td>\n",
       "      <td>52.0</td>\n",
       "      <td>4.970588</td>\n",
       "      <td>BBB</td>\n",
       "    </tr>\n",
       "  </tbody>\n",
       "</table>\n",
       "</div>"
      ],
      "text/plain": [
       "   Valor1  Valor2    Valor3 Valor4\n",
       "0  8.3252    41.0  6.984127    DDD\n",
       "1     NaN    21.0  6.238137    BBB\n",
       "2  7.2574    52.0  8.288136    CCC\n",
       "3     NaN    52.0  5.817352    AAA\n",
       "4  3.8462    52.0  6.281853    CCC\n",
       "5  4.0368    52.0       NaN    DDD\n",
       "6     NaN     NaN       NaN    CCC\n",
       "7     NaN     NaN  4.797527    BBB\n",
       "8  2.0804     NaN  4.294118    AAA\n",
       "9  3.6912    52.0  4.970588    BBB"
      ]
     },
     "execution_count": 3,
     "metadata": {},
     "output_type": "execute_result"
    }
   ],
   "source": [
    "df.head(10)"
   ]
  },
  {
   "cell_type": "code",
   "execution_count": 4,
   "id": "0904dc33",
   "metadata": {},
   "outputs": [
    {
     "data": {
      "text/html": [
       "<div>\n",
       "<style scoped>\n",
       "    .dataframe tbody tr th:only-of-type {\n",
       "        vertical-align: middle;\n",
       "    }\n",
       "\n",
       "    .dataframe tbody tr th {\n",
       "        vertical-align: top;\n",
       "    }\n",
       "\n",
       "    .dataframe thead th {\n",
       "        text-align: right;\n",
       "    }\n",
       "</style>\n",
       "<table border=\"1\" class=\"dataframe\">\n",
       "  <thead>\n",
       "    <tr style=\"text-align: right;\">\n",
       "      <th></th>\n",
       "      <th>Valor1</th>\n",
       "      <th>Valor2</th>\n",
       "      <th>Valor3</th>\n",
       "      <th>Valor4</th>\n",
       "    </tr>\n",
       "  </thead>\n",
       "  <tbody>\n",
       "    <tr>\n",
       "      <th>count</th>\n",
       "      <td>660.000000</td>\n",
       "      <td>607.000000</td>\n",
       "      <td>743.000000</td>\n",
       "      <td>927</td>\n",
       "    </tr>\n",
       "    <tr>\n",
       "      <th>unique</th>\n",
       "      <td>NaN</td>\n",
       "      <td>NaN</td>\n",
       "      <td>NaN</td>\n",
       "      <td>4</td>\n",
       "    </tr>\n",
       "    <tr>\n",
       "      <th>top</th>\n",
       "      <td>NaN</td>\n",
       "      <td>NaN</td>\n",
       "      <td>NaN</td>\n",
       "      <td>CCC</td>\n",
       "    </tr>\n",
       "    <tr>\n",
       "      <th>freq</th>\n",
       "      <td>NaN</td>\n",
       "      <td>NaN</td>\n",
       "      <td>NaN</td>\n",
       "      <td>239</td>\n",
       "    </tr>\n",
       "    <tr>\n",
       "      <th>mean</th>\n",
       "      <td>3.822165</td>\n",
       "      <td>38.105437</td>\n",
       "      <td>5.187392</td>\n",
       "      <td>NaN</td>\n",
       "    </tr>\n",
       "    <tr>\n",
       "      <th>std</th>\n",
       "      <td>1.806333</td>\n",
       "      <td>13.159422</td>\n",
       "      <td>1.170151</td>\n",
       "      <td>NaN</td>\n",
       "    </tr>\n",
       "    <tr>\n",
       "      <th>min</th>\n",
       "      <td>0.499900</td>\n",
       "      <td>3.000000</td>\n",
       "      <td>1.714286</td>\n",
       "      <td>NaN</td>\n",
       "    </tr>\n",
       "    <tr>\n",
       "      <th>25%</th>\n",
       "      <td>2.562500</td>\n",
       "      <td>29.000000</td>\n",
       "      <td>4.337893</td>\n",
       "      <td>NaN</td>\n",
       "    </tr>\n",
       "    <tr>\n",
       "      <th>50%</th>\n",
       "      <td>3.481950</td>\n",
       "      <td>41.000000</td>\n",
       "      <td>5.045113</td>\n",
       "      <td>NaN</td>\n",
       "    </tr>\n",
       "    <tr>\n",
       "      <th>75%</th>\n",
       "      <td>4.828825</td>\n",
       "      <td>52.000000</td>\n",
       "      <td>5.922716</td>\n",
       "      <td>NaN</td>\n",
       "    </tr>\n",
       "    <tr>\n",
       "      <th>max</th>\n",
       "      <td>13.499000</td>\n",
       "      <td>52.000000</td>\n",
       "      <td>9.000000</td>\n",
       "      <td>NaN</td>\n",
       "    </tr>\n",
       "  </tbody>\n",
       "</table>\n",
       "</div>"
      ],
      "text/plain": [
       "            Valor1      Valor2      Valor3 Valor4\n",
       "count   660.000000  607.000000  743.000000    927\n",
       "unique         NaN         NaN         NaN      4\n",
       "top            NaN         NaN         NaN    CCC\n",
       "freq           NaN         NaN         NaN    239\n",
       "mean      3.822165   38.105437    5.187392    NaN\n",
       "std       1.806333   13.159422    1.170151    NaN\n",
       "min       0.499900    3.000000    1.714286    NaN\n",
       "25%       2.562500   29.000000    4.337893    NaN\n",
       "50%       3.481950   41.000000    5.045113    NaN\n",
       "75%       4.828825   52.000000    5.922716    NaN\n",
       "max      13.499000   52.000000    9.000000    NaN"
      ]
     },
     "execution_count": 4,
     "metadata": {},
     "output_type": "execute_result"
    }
   ],
   "source": [
    "df.describe(include='all')"
   ]
  },
  {
   "cell_type": "markdown",
   "id": "23c0f158",
   "metadata": {},
   "source": [
    "<a id=\"section12\"></a>\n",
    "## <font color=\"#004D7F\">1.2 Nombres de columnas</font>"
   ]
  },
  {
   "cell_type": "code",
   "execution_count": 5,
   "id": "30895e45",
   "metadata": {},
   "outputs": [
    {
     "data": {
      "text/plain": [
       "Index(['Valor1', 'Valor2', 'Valor3', 'Valor4'], dtype='object')"
      ]
     },
     "execution_count": 5,
     "metadata": {},
     "output_type": "execute_result"
    }
   ],
   "source": [
    "df.columns"
   ]
  },
  {
   "cell_type": "code",
   "execution_count": 6,
   "id": "5310936d",
   "metadata": {},
   "outputs": [
    {
     "data": {
      "text/plain": [
       "CCC    239\n",
       "DDD    231\n",
       "BBB    231\n",
       "AAA    226\n",
       "Name: Valor4, dtype: int64"
      ]
     },
     "execution_count": 6,
     "metadata": {},
     "output_type": "execute_result"
    }
   ],
   "source": [
    "df.Valor4.value_counts()"
   ]
  },
  {
   "cell_type": "code",
   "execution_count": 7,
   "id": "479bc61a",
   "metadata": {},
   "outputs": [
    {
     "data": {
      "text/plain": [
       "927"
      ]
     },
     "execution_count": 7,
     "metadata": {},
     "output_type": "execute_result"
    }
   ],
   "source": [
    "239+231+231+226"
   ]
  },
  {
   "cell_type": "markdown",
   "id": "0a555e06",
   "metadata": {},
   "source": [
    "<a id=\"section13\"></a>\n",
    "## <font color=\"#004D7F\">1.3 Limpiar el DataFrame</font>"
   ]
  },
  {
   "cell_type": "markdown",
   "id": "53efe881",
   "metadata": {},
   "source": [
    "### se observa \"count\" que hay valores perdidos"
   ]
  },
  {
   "cell_type": "code",
   "execution_count": 8,
   "id": "21244576",
   "metadata": {},
   "outputs": [
    {
     "data": {
      "text/html": [
       "<div>\n",
       "<style scoped>\n",
       "    .dataframe tbody tr th:only-of-type {\n",
       "        vertical-align: middle;\n",
       "    }\n",
       "\n",
       "    .dataframe tbody tr th {\n",
       "        vertical-align: top;\n",
       "    }\n",
       "\n",
       "    .dataframe thead th {\n",
       "        text-align: right;\n",
       "    }\n",
       "</style>\n",
       "<table border=\"1\" class=\"dataframe\">\n",
       "  <thead>\n",
       "    <tr style=\"text-align: right;\">\n",
       "      <th></th>\n",
       "      <th>Valor1</th>\n",
       "      <th>Valor2</th>\n",
       "      <th>Valor3</th>\n",
       "    </tr>\n",
       "  </thead>\n",
       "  <tbody>\n",
       "    <tr>\n",
       "      <th>count</th>\n",
       "      <td>660.000000</td>\n",
       "      <td>607.000000</td>\n",
       "      <td>743.000000</td>\n",
       "    </tr>\n",
       "    <tr>\n",
       "      <th>mean</th>\n",
       "      <td>3.822165</td>\n",
       "      <td>38.105437</td>\n",
       "      <td>5.187392</td>\n",
       "    </tr>\n",
       "    <tr>\n",
       "      <th>std</th>\n",
       "      <td>1.806333</td>\n",
       "      <td>13.159422</td>\n",
       "      <td>1.170151</td>\n",
       "    </tr>\n",
       "    <tr>\n",
       "      <th>min</th>\n",
       "      <td>0.499900</td>\n",
       "      <td>3.000000</td>\n",
       "      <td>1.714286</td>\n",
       "    </tr>\n",
       "    <tr>\n",
       "      <th>25%</th>\n",
       "      <td>2.562500</td>\n",
       "      <td>29.000000</td>\n",
       "      <td>4.337893</td>\n",
       "    </tr>\n",
       "    <tr>\n",
       "      <th>50%</th>\n",
       "      <td>3.481950</td>\n",
       "      <td>41.000000</td>\n",
       "      <td>5.045113</td>\n",
       "    </tr>\n",
       "    <tr>\n",
       "      <th>75%</th>\n",
       "      <td>4.828825</td>\n",
       "      <td>52.000000</td>\n",
       "      <td>5.922716</td>\n",
       "    </tr>\n",
       "    <tr>\n",
       "      <th>max</th>\n",
       "      <td>13.499000</td>\n",
       "      <td>52.000000</td>\n",
       "      <td>9.000000</td>\n",
       "    </tr>\n",
       "  </tbody>\n",
       "</table>\n",
       "</div>"
      ],
      "text/plain": [
       "           Valor1      Valor2      Valor3\n",
       "count  660.000000  607.000000  743.000000\n",
       "mean     3.822165   38.105437    5.187392\n",
       "std      1.806333   13.159422    1.170151\n",
       "min      0.499900    3.000000    1.714286\n",
       "25%      2.562500   29.000000    4.337893\n",
       "50%      3.481950   41.000000    5.045113\n",
       "75%      4.828825   52.000000    5.922716\n",
       "max     13.499000   52.000000    9.000000"
      ]
     },
     "execution_count": 8,
     "metadata": {},
     "output_type": "execute_result"
    }
   ],
   "source": [
    "\n",
    "df.describe()"
   ]
  },
  {
   "cell_type": "markdown",
   "id": "ad7edcbe",
   "metadata": {},
   "source": [
    "<a id=\"section131\"></a>\n",
    "## <font color=\"#004D7F\">1.3.1 Limpiar el DataFrame con Ceros</font>"
   ]
  },
  {
   "cell_type": "markdown",
   "id": "24b88a11",
   "metadata": {},
   "source": [
    "### FORMA 1: Limpiar el DataFrame con Ceros"
   ]
  },
  {
   "cell_type": "code",
   "execution_count": 9,
   "id": "6c19d828",
   "metadata": {},
   "outputs": [],
   "source": [
    "df1=df.fillna(0)"
   ]
  },
  {
   "cell_type": "code",
   "execution_count": 10,
   "id": "46b59408",
   "metadata": {},
   "outputs": [
    {
     "data": {
      "text/html": [
       "<div>\n",
       "<style scoped>\n",
       "    .dataframe tbody tr th:only-of-type {\n",
       "        vertical-align: middle;\n",
       "    }\n",
       "\n",
       "    .dataframe tbody tr th {\n",
       "        vertical-align: top;\n",
       "    }\n",
       "\n",
       "    .dataframe thead th {\n",
       "        text-align: right;\n",
       "    }\n",
       "</style>\n",
       "<table border=\"1\" class=\"dataframe\">\n",
       "  <thead>\n",
       "    <tr style=\"text-align: right;\">\n",
       "      <th></th>\n",
       "      <th>Valor1</th>\n",
       "      <th>Valor2</th>\n",
       "      <th>Valor3</th>\n",
       "    </tr>\n",
       "  </thead>\n",
       "  <tbody>\n",
       "    <tr>\n",
       "      <th>count</th>\n",
       "      <td>1000.000000</td>\n",
       "      <td>1000.000000</td>\n",
       "      <td>1000.000000</td>\n",
       "    </tr>\n",
       "    <tr>\n",
       "      <th>mean</th>\n",
       "      <td>2.522629</td>\n",
       "      <td>23.130000</td>\n",
       "      <td>3.854232</td>\n",
       "    </tr>\n",
       "    <tr>\n",
       "      <th>std</th>\n",
       "      <td>2.331071</td>\n",
       "      <td>21.254996</td>\n",
       "      <td>2.482026</td>\n",
       "    </tr>\n",
       "    <tr>\n",
       "      <th>min</th>\n",
       "      <td>0.000000</td>\n",
       "      <td>0.000000</td>\n",
       "      <td>0.000000</td>\n",
       "    </tr>\n",
       "    <tr>\n",
       "      <th>25%</th>\n",
       "      <td>0.000000</td>\n",
       "      <td>0.000000</td>\n",
       "      <td>0.000000</td>\n",
       "    </tr>\n",
       "    <tr>\n",
       "      <th>50%</th>\n",
       "      <td>2.538550</td>\n",
       "      <td>25.000000</td>\n",
       "      <td>4.583205</td>\n",
       "    </tr>\n",
       "    <tr>\n",
       "      <th>75%</th>\n",
       "      <td>4.027925</td>\n",
       "      <td>44.000000</td>\n",
       "      <td>5.565260</td>\n",
       "    </tr>\n",
       "    <tr>\n",
       "      <th>max</th>\n",
       "      <td>13.499000</td>\n",
       "      <td>52.000000</td>\n",
       "      <td>9.000000</td>\n",
       "    </tr>\n",
       "  </tbody>\n",
       "</table>\n",
       "</div>"
      ],
      "text/plain": [
       "            Valor1       Valor2       Valor3\n",
       "count  1000.000000  1000.000000  1000.000000\n",
       "mean      2.522629    23.130000     3.854232\n",
       "std       2.331071    21.254996     2.482026\n",
       "min       0.000000     0.000000     0.000000\n",
       "25%       0.000000     0.000000     0.000000\n",
       "50%       2.538550    25.000000     4.583205\n",
       "75%       4.027925    44.000000     5.565260\n",
       "max      13.499000    52.000000     9.000000"
      ]
     },
     "execution_count": 10,
     "metadata": {},
     "output_type": "execute_result"
    }
   ],
   "source": [
    "df1.describe()"
   ]
  },
  {
   "cell_type": "markdown",
   "id": "98665bed",
   "metadata": {},
   "source": [
    "### FORMA 2: Limpiar el DataFrame con Ceros "
   ]
  },
  {
   "cell_type": "code",
   "execution_count": 11,
   "id": "7b9d842f",
   "metadata": {},
   "outputs": [],
   "source": [
    "df2=df.replace(np.nan,0)"
   ]
  },
  {
   "cell_type": "code",
   "execution_count": 12,
   "id": "736c526f",
   "metadata": {},
   "outputs": [
    {
     "data": {
      "text/html": [
       "<div>\n",
       "<style scoped>\n",
       "    .dataframe tbody tr th:only-of-type {\n",
       "        vertical-align: middle;\n",
       "    }\n",
       "\n",
       "    .dataframe tbody tr th {\n",
       "        vertical-align: top;\n",
       "    }\n",
       "\n",
       "    .dataframe thead th {\n",
       "        text-align: right;\n",
       "    }\n",
       "</style>\n",
       "<table border=\"1\" class=\"dataframe\">\n",
       "  <thead>\n",
       "    <tr style=\"text-align: right;\">\n",
       "      <th></th>\n",
       "      <th>Valor1</th>\n",
       "      <th>Valor2</th>\n",
       "      <th>Valor3</th>\n",
       "    </tr>\n",
       "  </thead>\n",
       "  <tbody>\n",
       "    <tr>\n",
       "      <th>count</th>\n",
       "      <td>1000.000000</td>\n",
       "      <td>1000.000000</td>\n",
       "      <td>1000.000000</td>\n",
       "    </tr>\n",
       "    <tr>\n",
       "      <th>mean</th>\n",
       "      <td>2.522629</td>\n",
       "      <td>23.130000</td>\n",
       "      <td>3.854232</td>\n",
       "    </tr>\n",
       "    <tr>\n",
       "      <th>std</th>\n",
       "      <td>2.331071</td>\n",
       "      <td>21.254996</td>\n",
       "      <td>2.482026</td>\n",
       "    </tr>\n",
       "    <tr>\n",
       "      <th>min</th>\n",
       "      <td>0.000000</td>\n",
       "      <td>0.000000</td>\n",
       "      <td>0.000000</td>\n",
       "    </tr>\n",
       "    <tr>\n",
       "      <th>25%</th>\n",
       "      <td>0.000000</td>\n",
       "      <td>0.000000</td>\n",
       "      <td>0.000000</td>\n",
       "    </tr>\n",
       "    <tr>\n",
       "      <th>50%</th>\n",
       "      <td>2.538550</td>\n",
       "      <td>25.000000</td>\n",
       "      <td>4.583205</td>\n",
       "    </tr>\n",
       "    <tr>\n",
       "      <th>75%</th>\n",
       "      <td>4.027925</td>\n",
       "      <td>44.000000</td>\n",
       "      <td>5.565260</td>\n",
       "    </tr>\n",
       "    <tr>\n",
       "      <th>max</th>\n",
       "      <td>13.499000</td>\n",
       "      <td>52.000000</td>\n",
       "      <td>9.000000</td>\n",
       "    </tr>\n",
       "  </tbody>\n",
       "</table>\n",
       "</div>"
      ],
      "text/plain": [
       "            Valor1       Valor2       Valor3\n",
       "count  1000.000000  1000.000000  1000.000000\n",
       "mean      2.522629    23.130000     3.854232\n",
       "std       2.331071    21.254996     2.482026\n",
       "min       0.000000     0.000000     0.000000\n",
       "25%       0.000000     0.000000     0.000000\n",
       "50%       2.538550    25.000000     4.583205\n",
       "75%       4.027925    44.000000     5.565260\n",
       "max      13.499000    52.000000     9.000000"
      ]
     },
     "execution_count": 12,
     "metadata": {},
     "output_type": "execute_result"
    }
   ],
   "source": [
    "df2.describe()"
   ]
  },
  {
   "cell_type": "markdown",
   "id": "1915c222",
   "metadata": {},
   "source": [
    "<a id=\"section1311\"></a>\n",
    "## <font color=\"#004D7F\">1.3.1.1 Comparacion del DataFrame  'df'  y 'df2'</font>"
   ]
  },
  {
   "cell_type": "markdown",
   "id": "018814cf",
   "metadata": {},
   "source": [
    "### El DataFrame Original"
   ]
  },
  {
   "cell_type": "code",
   "execution_count": 13,
   "id": "2e56c00e",
   "metadata": {},
   "outputs": [
    {
     "data": {
      "text/plain": [
       "<AxesSubplot:>"
      ]
     },
     "execution_count": 13,
     "metadata": {},
     "output_type": "execute_result"
    },
    {
     "data": {
      "image/png": "[encoded data removed]",
      "text/plain": [
       "<Figure size 432x288 with 1 Axes>"
      ]
     },
     "metadata": {
      "needs_background": "light"
     },
     "output_type": "display_data"
    }
   ],
   "source": [
    "df.Valor2.hist()"
   ]
  },
  {
   "cell_type": "markdown",
   "id": "bc13ebac",
   "metadata": {},
   "source": [
    "### El DataFrame --> con ceros"
   ]
  },
  {
   "cell_type": "code",
   "execution_count": 14,
   "id": "27447249",
   "metadata": {},
   "outputs": [
    {
     "data": {
      "text/plain": [
       "<AxesSubplot:>"
      ]
     },
     "execution_count": 14,
     "metadata": {},
     "output_type": "execute_result"
    },
    {
     "data": {
      "image/png": "[encoded data removed]",
      "text/plain": [
       "<Figure size 432x288 with 1 Axes>"
      ]
     },
     "metadata": {
      "needs_background": "light"
     },
     "output_type": "display_data"
    }
   ],
   "source": [
    "df2.Valor2.hist()"
   ]
  },
  {
   "cell_type": "markdown",
   "id": "53e7a8a6",
   "metadata": {},
   "source": [
    "### Conclusion:\n",
    "#### Se puede observar que el 'df' y el 'df2' son diferentes  GRAFICAMENTE lo que quiere decir que reemplazarlo por puros  cero al DataFrame\n",
    "####  'df2 'no es conveniente, PROBEMOS CON LA MEDIA."
   ]
  },
  {
   "cell_type": "markdown",
   "id": "f8d71a91",
   "metadata": {},
   "source": [
    "<a id=\"section1312\"></a>\n",
    "## <font color=\"#004D7F\">1.3.1.2 Comparacion del DataFrame  'df'  y 'df3'</font>"
   ]
  },
  {
   "cell_type": "code",
   "execution_count": 15,
   "id": "ce16b420",
   "metadata": {},
   "outputs": [
    {
     "data": {
      "text/plain": [
       "38.105436573311366"
      ]
     },
     "execution_count": 15,
     "metadata": {},
     "output_type": "execute_result"
    }
   ],
   "source": [
    "df.Valor2.mean()"
   ]
  },
  {
   "cell_type": "code",
   "execution_count": 16,
   "id": "784143de",
   "metadata": {},
   "outputs": [],
   "source": [
    "df3=df.fillna(df.Valor2.mean())"
   ]
  },
  {
   "cell_type": "markdown",
   "id": "e5216652",
   "metadata": {},
   "source": [
    "### df : El  DataFrame --> original"
   ]
  },
  {
   "cell_type": "code",
   "execution_count": 17,
   "id": "9926dedf",
   "metadata": {},
   "outputs": [
    {
     "data": {
      "text/plain": [
       "<AxesSubplot:>"
      ]
     },
     "execution_count": 17,
     "metadata": {},
     "output_type": "execute_result"
    },
    {
     "data": {
      "image/png": "[encoded data removed]",
      "text/plain": [
       "<Figure size 432x288 with 1 Axes>"
      ]
     },
     "metadata": {
      "needs_background": "light"
     },
     "output_type": "display_data"
    }
   ],
   "source": [
    "df.Valor2.hist()"
   ]
  },
  {
   "cell_type": "markdown",
   "id": "74992860",
   "metadata": {},
   "source": [
    "### df3 : El  DataFrame --> con media de la columna 'Valor2'"
   ]
  },
  {
   "cell_type": "code",
   "execution_count": 18,
   "id": "af8e969d",
   "metadata": {},
   "outputs": [
    {
     "data": {
      "text/plain": [
       "<AxesSubplot:>"
      ]
     },
     "execution_count": 18,
     "metadata": {},
     "output_type": "execute_result"
    },
    {
     "data": {
      "image/png": "[encoded data removed]",
      "text/plain": [
       "<Figure size 432x288 with 1 Axes>"
      ]
     },
     "metadata": {
      "needs_background": "light"
     },
     "output_type": "display_data"
    }
   ],
   "source": [
    "df3.Valor2.hist()"
   ]
  },
  {
   "cell_type": "code",
   "execution_count": 19,
   "id": "46689223",
   "metadata": {},
   "outputs": [
    {
     "data": {
      "text/html": [
       "<div>\n",
       "<style scoped>\n",
       "    .dataframe tbody tr th:only-of-type {\n",
       "        vertical-align: middle;\n",
       "    }\n",
       "\n",
       "    .dataframe tbody tr th {\n",
       "        vertical-align: top;\n",
       "    }\n",
       "\n",
       "    .dataframe thead th {\n",
       "        text-align: right;\n",
       "    }\n",
       "</style>\n",
       "<table border=\"1\" class=\"dataframe\">\n",
       "  <thead>\n",
       "    <tr style=\"text-align: right;\">\n",
       "      <th></th>\n",
       "      <th>Valor1</th>\n",
       "      <th>Valor2</th>\n",
       "      <th>Valor3</th>\n",
       "    </tr>\n",
       "  </thead>\n",
       "  <tbody>\n",
       "    <tr>\n",
       "      <th>count</th>\n",
       "      <td>1000.000000</td>\n",
       "      <td>1000.000000</td>\n",
       "      <td>1000.000000</td>\n",
       "    </tr>\n",
       "    <tr>\n",
       "      <th>mean</th>\n",
       "      <td>15.478477</td>\n",
       "      <td>38.105437</td>\n",
       "      <td>13.647329</td>\n",
       "    </tr>\n",
       "    <tr>\n",
       "      <th>std</th>\n",
       "      <td>16.314511</td>\n",
       "      <td>10.249210</td>\n",
       "      <td>14.426995</td>\n",
       "    </tr>\n",
       "    <tr>\n",
       "      <th>min</th>\n",
       "      <td>0.499900</td>\n",
       "      <td>3.000000</td>\n",
       "      <td>1.714286</td>\n",
       "    </tr>\n",
       "    <tr>\n",
       "      <th>25%</th>\n",
       "      <td>3.014475</td>\n",
       "      <td>36.000000</td>\n",
       "      <td>4.614113</td>\n",
       "    </tr>\n",
       "    <tr>\n",
       "      <th>50%</th>\n",
       "      <td>4.952400</td>\n",
       "      <td>38.105437</td>\n",
       "      <td>5.596838</td>\n",
       "    </tr>\n",
       "    <tr>\n",
       "      <th>75%</th>\n",
       "      <td>38.105437</td>\n",
       "      <td>44.000000</td>\n",
       "      <td>38.105437</td>\n",
       "    </tr>\n",
       "    <tr>\n",
       "      <th>max</th>\n",
       "      <td>38.105437</td>\n",
       "      <td>52.000000</td>\n",
       "      <td>38.105437</td>\n",
       "    </tr>\n",
       "  </tbody>\n",
       "</table>\n",
       "</div>"
      ],
      "text/plain": [
       "            Valor1       Valor2       Valor3\n",
       "count  1000.000000  1000.000000  1000.000000\n",
       "mean     15.478477    38.105437    13.647329\n",
       "std      16.314511    10.249210    14.426995\n",
       "min       0.499900     3.000000     1.714286\n",
       "25%       3.014475    36.000000     4.614113\n",
       "50%       4.952400    38.105437     5.596838\n",
       "75%      38.105437    44.000000    38.105437\n",
       "max      38.105437    52.000000    38.105437"
      ]
     },
     "execution_count": 19,
     "metadata": {},
     "output_type": "execute_result"
    }
   ],
   "source": [
    "df3.describe()"
   ]
  },
  {
   "cell_type": "markdown",
   "id": "306cdf72",
   "metadata": {},
   "source": [
    "### Conclusion:\n",
    "#### Se puede observar que el 'df' y el 'df3' son diferentes GRAFICAMENTE  lo que quiere decir que reemplazarlo por media  no es \n",
    "#### conveniente, PROBEMOS k-vecinos mas cercanos... PERO ESTA MEJOR QUE REEMPLAZARLO QUE POR PUROS CEROS."
   ]
  },
  {
   "cell_type": "markdown",
   "id": "7f982bab",
   "metadata": {},
   "source": [
    "### La TARGET  es Valor4"
   ]
  },
  {
   "cell_type": "code",
   "execution_count": 20,
   "id": "d49fb70c",
   "metadata": {},
   "outputs": [
    {
     "data": {
      "text/plain": [
       "array(['DDD', 'BBB', 'CCC', 'AAA', nan], dtype=object)"
      ]
     },
     "execution_count": 20,
     "metadata": {},
     "output_type": "execute_result"
    }
   ],
   "source": [
    "df.Valor4.unique()"
   ]
  },
  {
   "cell_type": "markdown",
   "id": "9d9ed9bf",
   "metadata": {},
   "source": [
    "<a id=\"section14\"></a>\n",
    "## <font color=\"#004D7F\">1.4 Limpiar el DataFrame con SimpleImputer</font>"
   ]
  },
  {
   "cell_type": "markdown",
   "id": "56699994",
   "metadata": {},
   "source": [
    "### Numero de valores perdidos"
   ]
  },
  {
   "cell_type": "code",
   "execution_count": 21,
   "id": "8f423a0d",
   "metadata": {},
   "outputs": [
    {
     "data": {
      "text/plain": [
       "Valor1    340\n",
       "Valor2    393\n",
       "Valor3    257\n",
       "Valor4     73\n",
       "dtype: int64"
      ]
     },
     "execution_count": 21,
     "metadata": {},
     "output_type": "execute_result"
    }
   ],
   "source": [
    "df.isnull().sum()"
   ]
  },
  {
   "cell_type": "markdown",
   "id": "39dae4bf",
   "metadata": {},
   "source": [
    "<a id=\"section141\"></a>\n",
    "## <font color=\"#004D7F\">1.4.1  Reemplazando por la media a la columna 'Valor2'</font>\n"
   ]
  },
  {
   "cell_type": "markdown",
   "id": "2412388e",
   "metadata": {},
   "source": [
    "### SimpleImputer"
   ]
  },
  {
   "cell_type": "code",
   "execution_count": 22,
   "id": "68374a7d",
   "metadata": {},
   "outputs": [],
   "source": [
    "from sklearn.impute import SimpleImputer"
   ]
  },
  {
   "cell_type": "code",
   "execution_count": 23,
   "id": "653d0ee5",
   "metadata": {},
   "outputs": [],
   "source": [
    "df4=df"
   ]
  },
  {
   "cell_type": "markdown",
   "id": "8148e416",
   "metadata": {},
   "source": [
    "#### Paso 1 : imputador"
   ]
  },
  {
   "cell_type": "code",
   "execution_count": 24,
   "id": "7dbb008f",
   "metadata": {},
   "outputs": [],
   "source": [
    "imp=SimpleImputer(missing_values=np.nan,strategy='mean') #median ,most_Frequent"
   ]
  },
  {
   "cell_type": "markdown",
   "id": "3f4df8ed",
   "metadata": {},
   "source": [
    "#### Paso 2 : ajustar"
   ]
  },
  {
   "cell_type": "code",
   "execution_count": 25,
   "id": "41219795",
   "metadata": {},
   "outputs": [
    {
     "data": {
      "text/plain": [
       "SimpleImputer()"
      ]
     },
     "execution_count": 25,
     "metadata": {},
     "output_type": "execute_result"
    }
   ],
   "source": [
    "imp.fit(df4[['Valor2']])"
   ]
  },
  {
   "cell_type": "markdown",
   "id": "4b67145a",
   "metadata": {},
   "source": [
    "#### Paso 3: transformar"
   ]
  },
  {
   "cell_type": "code",
   "execution_count": 26,
   "id": "c902291c",
   "metadata": {},
   "outputs": [],
   "source": [
    "df4['Valor2']=imp.transform(df4[['Valor2']])"
   ]
  },
  {
   "cell_type": "code",
   "execution_count": 27,
   "id": "7e67eb44",
   "metadata": {},
   "outputs": [
    {
     "data": {
      "text/plain": [
       "Valor1    340\n",
       "Valor2      0\n",
       "Valor3    257\n",
       "Valor4     73\n",
       "dtype: int64"
      ]
     },
     "execution_count": 27,
     "metadata": {},
     "output_type": "execute_result"
    }
   ],
   "source": [
    "df4.isnull().sum()"
   ]
  },
  {
   "cell_type": "markdown",
   "id": "3e346a31",
   "metadata": {},
   "source": [
    "### df4 :  Media de la columna  'Valor2'"
   ]
  },
  {
   "cell_type": "code",
   "execution_count": 28,
   "id": "6f52cd67",
   "metadata": {},
   "outputs": [
    {
     "data": {
      "text/plain": [
       "<AxesSubplot:>"
      ]
     },
     "execution_count": 28,
     "metadata": {},
     "output_type": "execute_result"
    },
    {
     "data": {
      "image/png": "[encoded data removed]",
      "text/plain": [
       "<Figure size 432x288 with 1 Axes>"
      ]
     },
     "metadata": {
      "needs_background": "light"
     },
     "output_type": "display_data"
    }
   ],
   "source": [
    "df4.Valor2.hist()"
   ]
  },
  {
   "cell_type": "markdown",
   "id": "949c6dcb",
   "metadata": {},
   "source": [
    "### df: Es el original"
   ]
  },
  {
   "cell_type": "code",
   "execution_count": 29,
   "id": "7d40c66f",
   "metadata": {},
   "outputs": [
    {
     "data": {
      "text/plain": [
       "<AxesSubplot:>"
      ]
     },
     "execution_count": 29,
     "metadata": {},
     "output_type": "execute_result"
    },
    {
     "data": {
      "image/png": "[encoded data removed]",
      "text/plain": [
       "<Figure size 432x288 with 1 Axes>"
      ]
     },
     "metadata": {
      "needs_background": "light"
     },
     "output_type": "display_data"
    }
   ],
   "source": [
    "df.Valor2.hist()"
   ]
  },
  {
   "cell_type": "markdown",
   "id": "78a122d3",
   "metadata": {},
   "source": [
    "<a id=\"section142\"></a>\n",
    "## <font color=\"#004D7F\">1.4.2 Reemplazando por la mediana a la columna 'Valor2'</font>\n",
    "\n"
   ]
  },
  {
   "cell_type": "markdown",
   "id": "0e871c66",
   "metadata": {},
   "source": [
    "### SimpleImputer"
   ]
  },
  {
   "cell_type": "code",
   "execution_count": 30,
   "id": "9c16c633",
   "metadata": {},
   "outputs": [],
   "source": [
    "from sklearn.impute import SimpleImputer"
   ]
  },
  {
   "cell_type": "code",
   "execution_count": 31,
   "id": "9edaac6e",
   "metadata": {},
   "outputs": [],
   "source": [
    "df5=df"
   ]
  },
  {
   "cell_type": "markdown",
   "id": "5f98e038",
   "metadata": {},
   "source": [
    "#### Paso 1 : imputador"
   ]
  },
  {
   "cell_type": "code",
   "execution_count": 32,
   "id": "4795873f",
   "metadata": {},
   "outputs": [],
   "source": [
    "imp=SimpleImputer(missing_values=np.nan,strategy='median') #most_Frequent,mean"
   ]
  },
  {
   "cell_type": "markdown",
   "id": "fa895f15",
   "metadata": {},
   "source": [
    "#### Paso 2 : ajustar"
   ]
  },
  {
   "cell_type": "code",
   "execution_count": 33,
   "id": "5eaeb0a2",
   "metadata": {},
   "outputs": [
    {
     "data": {
      "text/plain": [
       "SimpleImputer(strategy='median')"
      ]
     },
     "execution_count": 33,
     "metadata": {},
     "output_type": "execute_result"
    }
   ],
   "source": [
    "imp.fit(df5[['Valor2']])"
   ]
  },
  {
   "cell_type": "markdown",
   "id": "1d4cd92d",
   "metadata": {},
   "source": [
    "#### Paso 3: transformar"
   ]
  },
  {
   "cell_type": "code",
   "execution_count": 34,
   "id": "07f66fdf",
   "metadata": {},
   "outputs": [],
   "source": [
    "df5['Valor2']=imp.transform(df5[['Valor2']])"
   ]
  },
  {
   "cell_type": "code",
   "execution_count": 35,
   "id": "78efedbc",
   "metadata": {},
   "outputs": [
    {
     "data": {
      "text/plain": [
       "Valor1    340\n",
       "Valor2      0\n",
       "Valor3    257\n",
       "Valor4     73\n",
       "dtype: int64"
      ]
     },
     "execution_count": 35,
     "metadata": {},
     "output_type": "execute_result"
    }
   ],
   "source": [
    "df5.isnull().sum()"
   ]
  },
  {
   "cell_type": "markdown",
   "id": "c0328586",
   "metadata": {},
   "source": [
    "### df5 : Mediana de la columna 'Valor2'"
   ]
  },
  {
   "cell_type": "code",
   "execution_count": 36,
   "id": "b38ba1f6",
   "metadata": {},
   "outputs": [
    {
     "data": {
      "text/plain": [
       "<AxesSubplot:>"
      ]
     },
     "execution_count": 36,
     "metadata": {},
     "output_type": "execute_result"
    },
    {
     "data": {
      "image/png": "[encoded data removed]",
      "text/plain": [
       "<Figure size 432x288 with 1 Axes>"
      ]
     },
     "metadata": {
      "needs_background": "light"
     },
     "output_type": "display_data"
    }
   ],
   "source": [
    "df5.Valor2.hist()"
   ]
  },
  {
   "cell_type": "markdown",
   "id": "deb9d57e",
   "metadata": {},
   "source": [
    "### df: Es el original"
   ]
  },
  {
   "cell_type": "code",
   "execution_count": 37,
   "id": "c8ca67a4",
   "metadata": {},
   "outputs": [
    {
     "data": {
      "text/plain": [
       "<AxesSubplot:>"
      ]
     },
     "execution_count": 37,
     "metadata": {},
     "output_type": "execute_result"
    },
    {
     "data": {
      "image/png": "[encoded data removed]",
      "text/plain": [
       "<Figure size 432x288 with 1 Axes>"
      ]
     },
     "metadata": {
      "needs_background": "light"
     },
     "output_type": "display_data"
    }
   ],
   "source": [
    "df.Valor2.hist()"
   ]
  },
  {
   "cell_type": "code",
   "execution_count": null,
   "id": "c0fb606a",
   "metadata": {},
   "outputs": [],
   "source": []
  }
 ],
 "metadata": {
  "kernelspec": {
   "display_name": "Python 3 (ipykernel)",
   "language": "python",
   "name": "python3"
  },
  "language_info": {
   "codemirror_mode": {
    "name": "ipython",
    "version": 3
   },
   "file_extension": ".py",
   "mimetype": "text/x-python",
   "name": "python",
   "nbconvert_exporter": "python",
   "pygments_lexer": "ipython3",
   "version": "3.9.7"
  }
 },
 "nbformat": 4,
 "nbformat_minor": 5
}
