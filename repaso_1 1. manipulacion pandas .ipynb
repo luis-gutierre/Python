{
 "cells": [
  {
   "cell_type": "markdown",
   "id": "f11ca132",
   "metadata": {},
   "source": [
    "* [1. Creacion de Dataset](#section1)\n",
    "* [2. Filtrar](#section2)\n",
    "* [3. Operaciones entre columnas](#section3)\n",
    "* [4. Funciones](#section4)\n",
    "* [5. Mapeo](#section5)\n",
    "* [6. Reordenamos columnas](#section6)\n",
    "* [7. join entre tablas](#section7)\n",
    "* [8. Adicionar multiples filas desde otra tabla con Append](#section8)\n",
    "* [9. Agrupar](#section9)\n",
    "* [10. Pivotear una tabla](#section10)\n",
    "* [11. Transponer una tabla](#section11)\n",
    "* [12. Visualizacion](#section12)\n",
    "* [13. BASICOS](#section13)\n",
    "* [13.1 Leer un archivo csv](#section131)\n",
    "* [13.2 Leer un archivo Excel](#section132)\n"
   ]
  },
  {
   "cell_type": "code",
   "execution_count": 1,
   "id": "de2ff6a6",
   "metadata": {},
   "outputs": [],
   "source": [
    "import pandas as pd"
   ]
  },
  {
   "cell_type": "markdown",
   "id": "034109f1",
   "metadata": {},
   "source": [
    "### paso 1 \n",
    "##### lista:colchetes\n",
    "### paso 2\n",
    "##### diccionario:llaves\n",
    "### paso 3\n",
    "##### tupla:parentesis"
   ]
  },
  {
   "cell_type": "markdown",
   "id": "17afe585",
   "metadata": {},
   "source": [
    "<a id=\"section1\"></a>\n",
    "## <font color=\"#004D7F\">1. Creacion de Dataset</font>"
   ]
  },
  {
   "cell_type": "markdown",
   "id": "4fce1a29",
   "metadata": {},
   "source": [
    "### Ejemplo 1 Creamos un Dataset"
   ]
  },
  {
   "cell_type": "code",
   "execution_count": 2,
   "id": "99a35291",
   "metadata": {},
   "outputs": [],
   "source": [
    "\n",
    "df=pd.DataFrame(data={\n",
    "'nombre':['luis','nicole','mibsan','tania'],\n",
    "'apellido':['gutierrez','saldaña','velasquez','vidal']\n",
    "})\n"
   ]
  },
  {
   "cell_type": "code",
   "execution_count": 3,
   "id": "8929bf30",
   "metadata": {},
   "outputs": [
    {
     "data": {
      "text/html": [
       "<div>\n",
       "<style scoped>\n",
       "    .dataframe tbody tr th:only-of-type {\n",
       "        vertical-align: middle;\n",
       "    }\n",
       "\n",
       "    .dataframe tbody tr th {\n",
       "        vertical-align: top;\n",
       "    }\n",
       "\n",
       "    .dataframe thead th {\n",
       "        text-align: right;\n",
       "    }\n",
       "</style>\n",
       "<table border=\"1\" class=\"dataframe\">\n",
       "  <thead>\n",
       "    <tr style=\"text-align: right;\">\n",
       "      <th></th>\n",
       "      <th>nombre</th>\n",
       "      <th>apellido</th>\n",
       "    </tr>\n",
       "  </thead>\n",
       "  <tbody>\n",
       "    <tr>\n",
       "      <th>0</th>\n",
       "      <td>luis</td>\n",
       "      <td>gutierrez</td>\n",
       "    </tr>\n",
       "    <tr>\n",
       "      <th>1</th>\n",
       "      <td>nicole</td>\n",
       "      <td>saldaña</td>\n",
       "    </tr>\n",
       "    <tr>\n",
       "      <th>2</th>\n",
       "      <td>mibsan</td>\n",
       "      <td>velasquez</td>\n",
       "    </tr>\n",
       "    <tr>\n",
       "      <th>3</th>\n",
       "      <td>tania</td>\n",
       "      <td>vidal</td>\n",
       "    </tr>\n",
       "  </tbody>\n",
       "</table>\n",
       "</div>"
      ],
      "text/plain": [
       "   nombre   apellido\n",
       "0    luis  gutierrez\n",
       "1  nicole    saldaña\n",
       "2  mibsan  velasquez\n",
       "3   tania      vidal"
      ]
     },
     "execution_count": 3,
     "metadata": {},
     "output_type": "execute_result"
    }
   ],
   "source": [
    "df"
   ]
  },
  {
   "cell_type": "markdown",
   "id": "408d1e99",
   "metadata": {},
   "source": [
    "### Agregando una columna"
   ]
  },
  {
   "cell_type": "code",
   "execution_count": 4,
   "id": "a87d2bc7",
   "metadata": {},
   "outputs": [],
   "source": [
    "ingreso=[1000,1500,2000,2500]"
   ]
  },
  {
   "cell_type": "code",
   "execution_count": 5,
   "id": "78409f61",
   "metadata": {},
   "outputs": [
    {
     "data": {
      "text/plain": [
       "[1000, 1500, 2000, 2500]"
      ]
     },
     "execution_count": 5,
     "metadata": {},
     "output_type": "execute_result"
    }
   ],
   "source": [
    "ingreso"
   ]
  },
  {
   "cell_type": "code",
   "execution_count": 6,
   "id": "2db1ea65",
   "metadata": {},
   "outputs": [],
   "source": [
    "df['ingreso']=ingreso"
   ]
  },
  {
   "cell_type": "code",
   "execution_count": 7,
   "id": "d7c8f695",
   "metadata": {},
   "outputs": [
    {
     "data": {
      "text/html": [
       "<div>\n",
       "<style scoped>\n",
       "    .dataframe tbody tr th:only-of-type {\n",
       "        vertical-align: middle;\n",
       "    }\n",
       "\n",
       "    .dataframe tbody tr th {\n",
       "        vertical-align: top;\n",
       "    }\n",
       "\n",
       "    .dataframe thead th {\n",
       "        text-align: right;\n",
       "    }\n",
       "</style>\n",
       "<table border=\"1\" class=\"dataframe\">\n",
       "  <thead>\n",
       "    <tr style=\"text-align: right;\">\n",
       "      <th></th>\n",
       "      <th>nombre</th>\n",
       "      <th>apellido</th>\n",
       "      <th>ingreso</th>\n",
       "    </tr>\n",
       "  </thead>\n",
       "  <tbody>\n",
       "    <tr>\n",
       "      <th>0</th>\n",
       "      <td>luis</td>\n",
       "      <td>gutierrez</td>\n",
       "      <td>1000</td>\n",
       "    </tr>\n",
       "    <tr>\n",
       "      <th>1</th>\n",
       "      <td>nicole</td>\n",
       "      <td>saldaña</td>\n",
       "      <td>1500</td>\n",
       "    </tr>\n",
       "    <tr>\n",
       "      <th>2</th>\n",
       "      <td>mibsan</td>\n",
       "      <td>velasquez</td>\n",
       "      <td>2000</td>\n",
       "    </tr>\n",
       "    <tr>\n",
       "      <th>3</th>\n",
       "      <td>tania</td>\n",
       "      <td>vidal</td>\n",
       "      <td>2500</td>\n",
       "    </tr>\n",
       "  </tbody>\n",
       "</table>\n",
       "</div>"
      ],
      "text/plain": [
       "   nombre   apellido  ingreso\n",
       "0    luis  gutierrez     1000\n",
       "1  nicole    saldaña     1500\n",
       "2  mibsan  velasquez     2000\n",
       "3   tania      vidal     2500"
      ]
     },
     "execution_count": 7,
     "metadata": {},
     "output_type": "execute_result"
    }
   ],
   "source": [
    "df"
   ]
  },
  {
   "cell_type": "markdown",
   "id": "d7b8e9a6",
   "metadata": {},
   "source": [
    "### Ejemplo 2 Creamos un DataSet "
   ]
  },
  {
   "cell_type": "code",
   "execution_count": 8,
   "id": "4b6dd5ce",
   "metadata": {},
   "outputs": [],
   "source": [
    "#LITAS []\n",
    "linea=['claro','movistar','bitel','entel']\n",
    "animal=['perro','gato','delfin','lobo']"
   ]
  },
  {
   "cell_type": "code",
   "execution_count": 9,
   "id": "d235b69c",
   "metadata": {},
   "outputs": [],
   "source": [
    "#DICCIONARIO {}\n",
    "#TUPLA ()\n",
    "df1=pd.DataFrame(data={'linea':linea,'animal':animal})"
   ]
  },
  {
   "cell_type": "code",
   "execution_count": 10,
   "id": "99bdbfd8",
   "metadata": {},
   "outputs": [
    {
     "data": {
      "text/html": [
       "<div>\n",
       "<style scoped>\n",
       "    .dataframe tbody tr th:only-of-type {\n",
       "        vertical-align: middle;\n",
       "    }\n",
       "\n",
       "    .dataframe tbody tr th {\n",
       "        vertical-align: top;\n",
       "    }\n",
       "\n",
       "    .dataframe thead th {\n",
       "        text-align: right;\n",
       "    }\n",
       "</style>\n",
       "<table border=\"1\" class=\"dataframe\">\n",
       "  <thead>\n",
       "    <tr style=\"text-align: right;\">\n",
       "      <th></th>\n",
       "      <th>linea</th>\n",
       "      <th>animal</th>\n",
       "    </tr>\n",
       "  </thead>\n",
       "  <tbody>\n",
       "    <tr>\n",
       "      <th>0</th>\n",
       "      <td>claro</td>\n",
       "      <td>perro</td>\n",
       "    </tr>\n",
       "    <tr>\n",
       "      <th>1</th>\n",
       "      <td>movistar</td>\n",
       "      <td>gato</td>\n",
       "    </tr>\n",
       "    <tr>\n",
       "      <th>2</th>\n",
       "      <td>bitel</td>\n",
       "      <td>delfin</td>\n",
       "    </tr>\n",
       "    <tr>\n",
       "      <th>3</th>\n",
       "      <td>entel</td>\n",
       "      <td>lobo</td>\n",
       "    </tr>\n",
       "  </tbody>\n",
       "</table>\n",
       "</div>"
      ],
      "text/plain": [
       "      linea  animal\n",
       "0     claro   perro\n",
       "1  movistar    gato\n",
       "2     bitel  delfin\n",
       "3     entel    lobo"
      ]
     },
     "execution_count": 10,
     "metadata": {},
     "output_type": "execute_result"
    }
   ],
   "source": [
    "df1"
   ]
  },
  {
   "cell_type": "markdown",
   "id": "defb7583",
   "metadata": {},
   "source": [
    "### Agregar una columna"
   ]
  },
  {
   "cell_type": "code",
   "execution_count": 11,
   "id": "7a3fde65",
   "metadata": {},
   "outputs": [],
   "source": [
    "ingreso_1=[20,25,30,35]"
   ]
  },
  {
   "cell_type": "code",
   "execution_count": 12,
   "id": "fb9f57ed",
   "metadata": {},
   "outputs": [
    {
     "data": {
      "text/html": [
       "<div>\n",
       "<style scoped>\n",
       "    .dataframe tbody tr th:only-of-type {\n",
       "        vertical-align: middle;\n",
       "    }\n",
       "\n",
       "    .dataframe tbody tr th {\n",
       "        vertical-align: top;\n",
       "    }\n",
       "\n",
       "    .dataframe thead th {\n",
       "        text-align: right;\n",
       "    }\n",
       "</style>\n",
       "<table border=\"1\" class=\"dataframe\">\n",
       "  <thead>\n",
       "    <tr style=\"text-align: right;\">\n",
       "      <th></th>\n",
       "      <th>linea</th>\n",
       "      <th>animal</th>\n",
       "      <th>ingreso</th>\n",
       "    </tr>\n",
       "  </thead>\n",
       "  <tbody>\n",
       "    <tr>\n",
       "      <th>0</th>\n",
       "      <td>claro</td>\n",
       "      <td>perro</td>\n",
       "      <td>20</td>\n",
       "    </tr>\n",
       "    <tr>\n",
       "      <th>1</th>\n",
       "      <td>movistar</td>\n",
       "      <td>gato</td>\n",
       "      <td>25</td>\n",
       "    </tr>\n",
       "    <tr>\n",
       "      <th>2</th>\n",
       "      <td>bitel</td>\n",
       "      <td>delfin</td>\n",
       "      <td>30</td>\n",
       "    </tr>\n",
       "    <tr>\n",
       "      <th>3</th>\n",
       "      <td>entel</td>\n",
       "      <td>lobo</td>\n",
       "      <td>35</td>\n",
       "    </tr>\n",
       "  </tbody>\n",
       "</table>\n",
       "</div>"
      ],
      "text/plain": [
       "      linea  animal  ingreso\n",
       "0     claro   perro       20\n",
       "1  movistar    gato       25\n",
       "2     bitel  delfin       30\n",
       "3     entel    lobo       35"
      ]
     },
     "execution_count": 12,
     "metadata": {},
     "output_type": "execute_result"
    }
   ],
   "source": [
    "df1['ingreso']=ingreso_1\n",
    "df1"
   ]
  },
  {
   "cell_type": "markdown",
   "id": "7ca6d9ff",
   "metadata": {},
   "source": [
    "### Ejemplo 3 Creamos un DataSet"
   ]
  },
  {
   "cell_type": "code",
   "execution_count": 13,
   "id": "2ff0f533",
   "metadata": {},
   "outputs": [],
   "source": [
    "df2=pd.DataFrame(data={'pais':['Mexico','Argentina','España','Colombia'],\n",
    "                        'poblacion':[127212000, 45167000, 47099000, 48922000]})\n"
   ]
  },
  {
   "cell_type": "code",
   "execution_count": 14,
   "id": "1b56716b",
   "metadata": {},
   "outputs": [
    {
     "data": {
      "text/html": [
       "<div>\n",
       "<style scoped>\n",
       "    .dataframe tbody tr th:only-of-type {\n",
       "        vertical-align: middle;\n",
       "    }\n",
       "\n",
       "    .dataframe tbody tr th {\n",
       "        vertical-align: top;\n",
       "    }\n",
       "\n",
       "    .dataframe thead th {\n",
       "        text-align: right;\n",
       "    }\n",
       "</style>\n",
       "<table border=\"1\" class=\"dataframe\">\n",
       "  <thead>\n",
       "    <tr style=\"text-align: right;\">\n",
       "      <th></th>\n",
       "      <th>pais</th>\n",
       "      <th>poblacion</th>\n",
       "    </tr>\n",
       "  </thead>\n",
       "  <tbody>\n",
       "    <tr>\n",
       "      <th>0</th>\n",
       "      <td>Mexico</td>\n",
       "      <td>127212000</td>\n",
       "    </tr>\n",
       "    <tr>\n",
       "      <th>1</th>\n",
       "      <td>Argentina</td>\n",
       "      <td>45167000</td>\n",
       "    </tr>\n",
       "    <tr>\n",
       "      <th>2</th>\n",
       "      <td>España</td>\n",
       "      <td>47099000</td>\n",
       "    </tr>\n",
       "    <tr>\n",
       "      <th>3</th>\n",
       "      <td>Colombia</td>\n",
       "      <td>48922000</td>\n",
       "    </tr>\n",
       "  </tbody>\n",
       "</table>\n",
       "</div>"
      ],
      "text/plain": [
       "        pais  poblacion\n",
       "0     Mexico  127212000\n",
       "1  Argentina   45167000\n",
       "2     España   47099000\n",
       "3   Colombia   48922000"
      ]
     },
     "execution_count": 14,
     "metadata": {},
     "output_type": "execute_result"
    }
   ],
   "source": [
    "df2"
   ]
  },
  {
   "cell_type": "markdown",
   "id": "dbf8fe7b",
   "metadata": {},
   "source": [
    "# juguemos con el df2"
   ]
  },
  {
   "cell_type": "markdown",
   "id": "cb3c7a9a",
   "metadata": {},
   "source": [
    "### Ordenamos por columna"
   ]
  },
  {
   "cell_type": "code",
   "execution_count": 15,
   "id": "15fe5a2a",
   "metadata": {},
   "outputs": [
    {
     "data": {
      "text/html": [
       "<div>\n",
       "<style scoped>\n",
       "    .dataframe tbody tr th:only-of-type {\n",
       "        vertical-align: middle;\n",
       "    }\n",
       "\n",
       "    .dataframe tbody tr th {\n",
       "        vertical-align: top;\n",
       "    }\n",
       "\n",
       "    .dataframe thead th {\n",
       "        text-align: right;\n",
       "    }\n",
       "</style>\n",
       "<table border=\"1\" class=\"dataframe\">\n",
       "  <thead>\n",
       "    <tr style=\"text-align: right;\">\n",
       "      <th></th>\n",
       "      <th>pais</th>\n",
       "      <th>poblacion</th>\n",
       "    </tr>\n",
       "  </thead>\n",
       "  <tbody>\n",
       "    <tr>\n",
       "      <th>1</th>\n",
       "      <td>Argentina</td>\n",
       "      <td>45167000</td>\n",
       "    </tr>\n",
       "    <tr>\n",
       "      <th>2</th>\n",
       "      <td>España</td>\n",
       "      <td>47099000</td>\n",
       "    </tr>\n",
       "    <tr>\n",
       "      <th>3</th>\n",
       "      <td>Colombia</td>\n",
       "      <td>48922000</td>\n",
       "    </tr>\n",
       "    <tr>\n",
       "      <th>0</th>\n",
       "      <td>Mexico</td>\n",
       "      <td>127212000</td>\n",
       "    </tr>\n",
       "  </tbody>\n",
       "</table>\n",
       "</div>"
      ],
      "text/plain": [
       "        pais  poblacion\n",
       "1  Argentina   45167000\n",
       "2     España   47099000\n",
       "3   Colombia   48922000\n",
       "0     Mexico  127212000"
      ]
     },
     "execution_count": 15,
     "metadata": {},
     "output_type": "execute_result"
    }
   ],
   "source": [
    "df2.sort_values(['poblacion'])# por defecto lo ordena de menor a mayor la columna 'poblacion'!"
   ]
  },
  {
   "cell_type": "code",
   "execution_count": 16,
   "id": "76ef1bb4",
   "metadata": {},
   "outputs": [
    {
     "data": {
      "text/html": [
       "<div>\n",
       "<style scoped>\n",
       "    .dataframe tbody tr th:only-of-type {\n",
       "        vertical-align: middle;\n",
       "    }\n",
       "\n",
       "    .dataframe tbody tr th {\n",
       "        vertical-align: top;\n",
       "    }\n",
       "\n",
       "    .dataframe thead th {\n",
       "        text-align: right;\n",
       "    }\n",
       "</style>\n",
       "<table border=\"1\" class=\"dataframe\">\n",
       "  <thead>\n",
       "    <tr style=\"text-align: right;\">\n",
       "      <th></th>\n",
       "      <th>pais</th>\n",
       "      <th>poblacion</th>\n",
       "    </tr>\n",
       "  </thead>\n",
       "  <tbody>\n",
       "    <tr>\n",
       "      <th>1</th>\n",
       "      <td>Argentina</td>\n",
       "      <td>45167000</td>\n",
       "    </tr>\n",
       "    <tr>\n",
       "      <th>3</th>\n",
       "      <td>Colombia</td>\n",
       "      <td>48922000</td>\n",
       "    </tr>\n",
       "    <tr>\n",
       "      <th>2</th>\n",
       "      <td>España</td>\n",
       "      <td>47099000</td>\n",
       "    </tr>\n",
       "    <tr>\n",
       "      <th>0</th>\n",
       "      <td>Mexico</td>\n",
       "      <td>127212000</td>\n",
       "    </tr>\n",
       "  </tbody>\n",
       "</table>\n",
       "</div>"
      ],
      "text/plain": [
       "        pais  poblacion\n",
       "1  Argentina   45167000\n",
       "3   Colombia   48922000\n",
       "2     España   47099000\n",
       "0     Mexico  127212000"
      ]
     },
     "execution_count": 16,
     "metadata": {},
     "output_type": "execute_result"
    }
   ],
   "source": [
    "df2.sort_values(['pais'])# por defecto lo ordena la columa 'pais' de forma abecedario!!"
   ]
  },
  {
   "cell_type": "markdown",
   "id": "a00e5c30",
   "metadata": {},
   "source": [
    "### Agregar una columna "
   ]
  },
  {
   "cell_type": "code",
   "execution_count": 17,
   "id": "fc8fcb9c",
   "metadata": {},
   "outputs": [],
   "source": [
    "area=[1000,1500,2000,2500]"
   ]
  },
  {
   "cell_type": "code",
   "execution_count": 18,
   "id": "fbb67a20",
   "metadata": {},
   "outputs": [],
   "source": [
    "df2['area']=area"
   ]
  },
  {
   "cell_type": "code",
   "execution_count": 19,
   "id": "7f7ee9fd",
   "metadata": {},
   "outputs": [
    {
     "data": {
      "text/html": [
       "<div>\n",
       "<style scoped>\n",
       "    .dataframe tbody tr th:only-of-type {\n",
       "        vertical-align: middle;\n",
       "    }\n",
       "\n",
       "    .dataframe tbody tr th {\n",
       "        vertical-align: top;\n",
       "    }\n",
       "\n",
       "    .dataframe thead th {\n",
       "        text-align: right;\n",
       "    }\n",
       "</style>\n",
       "<table border=\"1\" class=\"dataframe\">\n",
       "  <thead>\n",
       "    <tr style=\"text-align: right;\">\n",
       "      <th></th>\n",
       "      <th>pais</th>\n",
       "      <th>poblacion</th>\n",
       "      <th>area</th>\n",
       "    </tr>\n",
       "  </thead>\n",
       "  <tbody>\n",
       "    <tr>\n",
       "      <th>0</th>\n",
       "      <td>Mexico</td>\n",
       "      <td>127212000</td>\n",
       "      <td>1000</td>\n",
       "    </tr>\n",
       "    <tr>\n",
       "      <th>1</th>\n",
       "      <td>Argentina</td>\n",
       "      <td>45167000</td>\n",
       "      <td>1500</td>\n",
       "    </tr>\n",
       "    <tr>\n",
       "      <th>2</th>\n",
       "      <td>España</td>\n",
       "      <td>47099000</td>\n",
       "      <td>2000</td>\n",
       "    </tr>\n",
       "    <tr>\n",
       "      <th>3</th>\n",
       "      <td>Colombia</td>\n",
       "      <td>48922000</td>\n",
       "      <td>2500</td>\n",
       "    </tr>\n",
       "  </tbody>\n",
       "</table>\n",
       "</div>"
      ],
      "text/plain": [
       "        pais  poblacion  area\n",
       "0     Mexico  127212000  1000\n",
       "1  Argentina   45167000  1500\n",
       "2     España   47099000  2000\n",
       "3   Colombia   48922000  2500"
      ]
     },
     "execution_count": 19,
     "metadata": {},
     "output_type": "execute_result"
    }
   ],
   "source": [
    "df2"
   ]
  },
  {
   "cell_type": "markdown",
   "id": "1ac8f0b3",
   "metadata": {},
   "source": [
    "### Listado de la columnas"
   ]
  },
  {
   "cell_type": "code",
   "execution_count": 20,
   "id": "9581c787",
   "metadata": {},
   "outputs": [
    {
     "data": {
      "text/plain": [
       "Index(['pais', 'poblacion', 'area'], dtype='object')"
      ]
     },
     "execution_count": 20,
     "metadata": {},
     "output_type": "execute_result"
    }
   ],
   "source": [
    "df2.columns"
   ]
  },
  {
   "cell_type": "markdown",
   "id": "e0f557e4",
   "metadata": {},
   "source": [
    "### Asigno el mismo valor para todas las filas de una columna nueva"
   ]
  },
  {
   "cell_type": "code",
   "execution_count": 21,
   "id": "27b7fb1f",
   "metadata": {},
   "outputs": [],
   "source": [
    "df2['columna_nueva']='campeon'"
   ]
  },
  {
   "cell_type": "code",
   "execution_count": 22,
   "id": "ec8c4b48",
   "metadata": {},
   "outputs": [
    {
     "data": {
      "text/html": [
       "<div>\n",
       "<style scoped>\n",
       "    .dataframe tbody tr th:only-of-type {\n",
       "        vertical-align: middle;\n",
       "    }\n",
       "\n",
       "    .dataframe tbody tr th {\n",
       "        vertical-align: top;\n",
       "    }\n",
       "\n",
       "    .dataframe thead th {\n",
       "        text-align: right;\n",
       "    }\n",
       "</style>\n",
       "<table border=\"1\" class=\"dataframe\">\n",
       "  <thead>\n",
       "    <tr style=\"text-align: right;\">\n",
       "      <th></th>\n",
       "      <th>pais</th>\n",
       "      <th>poblacion</th>\n",
       "      <th>area</th>\n",
       "      <th>columna_nueva</th>\n",
       "    </tr>\n",
       "  </thead>\n",
       "  <tbody>\n",
       "    <tr>\n",
       "      <th>0</th>\n",
       "      <td>Mexico</td>\n",
       "      <td>127212000</td>\n",
       "      <td>1000</td>\n",
       "      <td>campeon</td>\n",
       "    </tr>\n",
       "    <tr>\n",
       "      <th>1</th>\n",
       "      <td>Argentina</td>\n",
       "      <td>45167000</td>\n",
       "      <td>1500</td>\n",
       "      <td>campeon</td>\n",
       "    </tr>\n",
       "    <tr>\n",
       "      <th>2</th>\n",
       "      <td>España</td>\n",
       "      <td>47099000</td>\n",
       "      <td>2000</td>\n",
       "      <td>campeon</td>\n",
       "    </tr>\n",
       "    <tr>\n",
       "      <th>3</th>\n",
       "      <td>Colombia</td>\n",
       "      <td>48922000</td>\n",
       "      <td>2500</td>\n",
       "      <td>campeon</td>\n",
       "    </tr>\n",
       "  </tbody>\n",
       "</table>\n",
       "</div>"
      ],
      "text/plain": [
       "        pais  poblacion  area columna_nueva\n",
       "0     Mexico  127212000  1000       campeon\n",
       "1  Argentina   45167000  1500       campeon\n",
       "2     España   47099000  2000       campeon\n",
       "3   Colombia   48922000  2500       campeon"
      ]
     },
     "execution_count": 22,
     "metadata": {},
     "output_type": "execute_result"
    }
   ],
   "source": [
    "df2"
   ]
  },
  {
   "cell_type": "markdown",
   "id": "7108d9e1",
   "metadata": {},
   "source": [
    "### Eliminar una columna"
   ]
  },
  {
   "cell_type": "code",
   "execution_count": 23,
   "id": "0c11256c",
   "metadata": {},
   "outputs": [
    {
     "data": {
      "text/html": [
       "<div>\n",
       "<style scoped>\n",
       "    .dataframe tbody tr th:only-of-type {\n",
       "        vertical-align: middle;\n",
       "    }\n",
       "\n",
       "    .dataframe tbody tr th {\n",
       "        vertical-align: top;\n",
       "    }\n",
       "\n",
       "    .dataframe thead th {\n",
       "        text-align: right;\n",
       "    }\n",
       "</style>\n",
       "<table border=\"1\" class=\"dataframe\">\n",
       "  <thead>\n",
       "    <tr style=\"text-align: right;\">\n",
       "      <th></th>\n",
       "      <th>pais</th>\n",
       "      <th>poblacion</th>\n",
       "      <th>area</th>\n",
       "    </tr>\n",
       "  </thead>\n",
       "  <tbody>\n",
       "    <tr>\n",
       "      <th>0</th>\n",
       "      <td>Mexico</td>\n",
       "      <td>127212000</td>\n",
       "      <td>1000</td>\n",
       "    </tr>\n",
       "    <tr>\n",
       "      <th>1</th>\n",
       "      <td>Argentina</td>\n",
       "      <td>45167000</td>\n",
       "      <td>1500</td>\n",
       "    </tr>\n",
       "    <tr>\n",
       "      <th>2</th>\n",
       "      <td>España</td>\n",
       "      <td>47099000</td>\n",
       "      <td>2000</td>\n",
       "    </tr>\n",
       "    <tr>\n",
       "      <th>3</th>\n",
       "      <td>Colombia</td>\n",
       "      <td>48922000</td>\n",
       "      <td>2500</td>\n",
       "    </tr>\n",
       "  </tbody>\n",
       "</table>\n",
       "</div>"
      ],
      "text/plain": [
       "        pais  poblacion  area\n",
       "0     Mexico  127212000  1000\n",
       "1  Argentina   45167000  1500\n",
       "2     España   47099000  2000\n",
       "3   Colombia   48922000  2500"
      ]
     },
     "execution_count": 23,
     "metadata": {},
     "output_type": "execute_result"
    }
   ],
   "source": [
    "df2=df2.drop(['columna_nueva'],axis=1)\n",
    "df2"
   ]
  },
  {
   "cell_type": "markdown",
   "id": "acd19e0b",
   "metadata": {},
   "source": [
    "### Eliminar multiples columnas"
   ]
  },
  {
   "cell_type": "code",
   "execution_count": 24,
   "id": "b358913b",
   "metadata": {},
   "outputs": [
    {
     "data": {
      "text/html": [
       "<div>\n",
       "<style scoped>\n",
       "    .dataframe tbody tr th:only-of-type {\n",
       "        vertical-align: middle;\n",
       "    }\n",
       "\n",
       "    .dataframe tbody tr th {\n",
       "        vertical-align: top;\n",
       "    }\n",
       "\n",
       "    .dataframe thead th {\n",
       "        text-align: right;\n",
       "    }\n",
       "</style>\n",
       "<table border=\"1\" class=\"dataframe\">\n",
       "  <thead>\n",
       "    <tr style=\"text-align: right;\">\n",
       "      <th></th>\n",
       "      <th>area</th>\n",
       "    </tr>\n",
       "  </thead>\n",
       "  <tbody>\n",
       "    <tr>\n",
       "      <th>0</th>\n",
       "      <td>1000</td>\n",
       "    </tr>\n",
       "    <tr>\n",
       "      <th>1</th>\n",
       "      <td>1500</td>\n",
       "    </tr>\n",
       "    <tr>\n",
       "      <th>2</th>\n",
       "      <td>2000</td>\n",
       "    </tr>\n",
       "    <tr>\n",
       "      <th>3</th>\n",
       "      <td>2500</td>\n",
       "    </tr>\n",
       "  </tbody>\n",
       "</table>\n",
       "</div>"
      ],
      "text/plain": [
       "   area\n",
       "0  1000\n",
       "1  1500\n",
       "2  2000\n",
       "3  2500"
      ]
     },
     "execution_count": 24,
     "metadata": {},
     "output_type": "execute_result"
    }
   ],
   "source": [
    "df2.drop(['pais','poblacion'],axis=1)"
   ]
  },
  {
   "cell_type": "code",
   "execution_count": 25,
   "id": "62194899",
   "metadata": {},
   "outputs": [
    {
     "data": {
      "text/html": [
       "<div>\n",
       "<style scoped>\n",
       "    .dataframe tbody tr th:only-of-type {\n",
       "        vertical-align: middle;\n",
       "    }\n",
       "\n",
       "    .dataframe tbody tr th {\n",
       "        vertical-align: top;\n",
       "    }\n",
       "\n",
       "    .dataframe thead th {\n",
       "        text-align: right;\n",
       "    }\n",
       "</style>\n",
       "<table border=\"1\" class=\"dataframe\">\n",
       "  <thead>\n",
       "    <tr style=\"text-align: right;\">\n",
       "      <th></th>\n",
       "      <th>pais</th>\n",
       "      <th>poblacion</th>\n",
       "      <th>area</th>\n",
       "    </tr>\n",
       "  </thead>\n",
       "  <tbody>\n",
       "    <tr>\n",
       "      <th>0</th>\n",
       "      <td>Mexico</td>\n",
       "      <td>127212000</td>\n",
       "      <td>1000</td>\n",
       "    </tr>\n",
       "    <tr>\n",
       "      <th>1</th>\n",
       "      <td>Argentina</td>\n",
       "      <td>45167000</td>\n",
       "      <td>1500</td>\n",
       "    </tr>\n",
       "    <tr>\n",
       "      <th>2</th>\n",
       "      <td>España</td>\n",
       "      <td>47099000</td>\n",
       "      <td>2000</td>\n",
       "    </tr>\n",
       "    <tr>\n",
       "      <th>3</th>\n",
       "      <td>Colombia</td>\n",
       "      <td>48922000</td>\n",
       "      <td>2500</td>\n",
       "    </tr>\n",
       "  </tbody>\n",
       "</table>\n",
       "</div>"
      ],
      "text/plain": [
       "        pais  poblacion  area\n",
       "0     Mexico  127212000  1000\n",
       "1  Argentina   45167000  1500\n",
       "2     España   47099000  2000\n",
       "3   Colombia   48922000  2500"
      ]
     },
     "execution_count": 25,
     "metadata": {},
     "output_type": "execute_result"
    }
   ],
   "source": [
    "#Como no asignamos, el df2 queda intacto\n",
    "df2"
   ]
  },
  {
   "cell_type": "markdown",
   "id": "d20f2b04",
   "metadata": {},
   "source": [
    "### Agregar una fila nueva al final"
   ]
  },
  {
   "cell_type": "code",
   "execution_count": 26,
   "id": "b13ac12b",
   "metadata": {},
   "outputs": [
    {
     "data": {
      "text/plain": [
       "4"
      ]
     },
     "execution_count": 26,
     "metadata": {},
     "output_type": "execute_result"
    }
   ],
   "source": [
    "numero_filas=len(df2)\n",
    "numero_filas"
   ]
  },
  {
   "cell_type": "code",
   "execution_count": 27,
   "id": "36c604d6",
   "metadata": {},
   "outputs": [],
   "source": [
    "df2.loc[numero_filas]=['Venezzuela',50000,6000]# me equivoque en escribir 'Venezzuela' a proposito jeje"
   ]
  },
  {
   "cell_type": "code",
   "execution_count": 28,
   "id": "960f3f87",
   "metadata": {},
   "outputs": [
    {
     "data": {
      "text/html": [
       "<div>\n",
       "<style scoped>\n",
       "    .dataframe tbody tr th:only-of-type {\n",
       "        vertical-align: middle;\n",
       "    }\n",
       "\n",
       "    .dataframe tbody tr th {\n",
       "        vertical-align: top;\n",
       "    }\n",
       "\n",
       "    .dataframe thead th {\n",
       "        text-align: right;\n",
       "    }\n",
       "</style>\n",
       "<table border=\"1\" class=\"dataframe\">\n",
       "  <thead>\n",
       "    <tr style=\"text-align: right;\">\n",
       "      <th></th>\n",
       "      <th>pais</th>\n",
       "      <th>poblacion</th>\n",
       "      <th>area</th>\n",
       "    </tr>\n",
       "  </thead>\n",
       "  <tbody>\n",
       "    <tr>\n",
       "      <th>0</th>\n",
       "      <td>Mexico</td>\n",
       "      <td>127212000</td>\n",
       "      <td>1000</td>\n",
       "    </tr>\n",
       "    <tr>\n",
       "      <th>1</th>\n",
       "      <td>Argentina</td>\n",
       "      <td>45167000</td>\n",
       "      <td>1500</td>\n",
       "    </tr>\n",
       "    <tr>\n",
       "      <th>2</th>\n",
       "      <td>España</td>\n",
       "      <td>47099000</td>\n",
       "      <td>2000</td>\n",
       "    </tr>\n",
       "    <tr>\n",
       "      <th>3</th>\n",
       "      <td>Colombia</td>\n",
       "      <td>48922000</td>\n",
       "      <td>2500</td>\n",
       "    </tr>\n",
       "    <tr>\n",
       "      <th>4</th>\n",
       "      <td>Venezzuela</td>\n",
       "      <td>50000</td>\n",
       "      <td>6000</td>\n",
       "    </tr>\n",
       "  </tbody>\n",
       "</table>\n",
       "</div>"
      ],
      "text/plain": [
       "         pais  poblacion  area\n",
       "0      Mexico  127212000  1000\n",
       "1   Argentina   45167000  1500\n",
       "2      España   47099000  2000\n",
       "3    Colombia   48922000  2500\n",
       "4  Venezzuela      50000  6000"
      ]
     },
     "execution_count": 28,
     "metadata": {},
     "output_type": "execute_result"
    }
   ],
   "source": [
    "df2"
   ]
  },
  {
   "cell_type": "markdown",
   "id": "9dcc77d3",
   "metadata": {},
   "source": [
    "### Actualizo la fila entera"
   ]
  },
  {
   "cell_type": "code",
   "execution_count": 29,
   "id": "a2b8d88a",
   "metadata": {},
   "outputs": [],
   "source": [
    "df2.loc[4]=['Venezuela',50000,6000]"
   ]
  },
  {
   "cell_type": "code",
   "execution_count": 30,
   "id": "0c3d9c72",
   "metadata": {},
   "outputs": [
    {
     "data": {
      "text/html": [
       "<div>\n",
       "<style scoped>\n",
       "    .dataframe tbody tr th:only-of-type {\n",
       "        vertical-align: middle;\n",
       "    }\n",
       "\n",
       "    .dataframe tbody tr th {\n",
       "        vertical-align: top;\n",
       "    }\n",
       "\n",
       "    .dataframe thead th {\n",
       "        text-align: right;\n",
       "    }\n",
       "</style>\n",
       "<table border=\"1\" class=\"dataframe\">\n",
       "  <thead>\n",
       "    <tr style=\"text-align: right;\">\n",
       "      <th></th>\n",
       "      <th>pais</th>\n",
       "      <th>poblacion</th>\n",
       "      <th>area</th>\n",
       "    </tr>\n",
       "  </thead>\n",
       "  <tbody>\n",
       "    <tr>\n",
       "      <th>0</th>\n",
       "      <td>Mexico</td>\n",
       "      <td>127212000</td>\n",
       "      <td>1000</td>\n",
       "    </tr>\n",
       "    <tr>\n",
       "      <th>1</th>\n",
       "      <td>Argentina</td>\n",
       "      <td>45167000</td>\n",
       "      <td>1500</td>\n",
       "    </tr>\n",
       "    <tr>\n",
       "      <th>2</th>\n",
       "      <td>España</td>\n",
       "      <td>47099000</td>\n",
       "      <td>2000</td>\n",
       "    </tr>\n",
       "    <tr>\n",
       "      <th>3</th>\n",
       "      <td>Colombia</td>\n",
       "      <td>48922000</td>\n",
       "      <td>2500</td>\n",
       "    </tr>\n",
       "    <tr>\n",
       "      <th>4</th>\n",
       "      <td>Venezuela</td>\n",
       "      <td>50000</td>\n",
       "      <td>6000</td>\n",
       "    </tr>\n",
       "  </tbody>\n",
       "</table>\n",
       "</div>"
      ],
      "text/plain": [
       "        pais  poblacion  area\n",
       "0     Mexico  127212000  1000\n",
       "1  Argentina   45167000  1500\n",
       "2     España   47099000  2000\n",
       "3   Colombia   48922000  2500\n",
       "4  Venezuela      50000  6000"
      ]
     },
     "execution_count": 30,
     "metadata": {},
     "output_type": "execute_result"
    }
   ],
   "source": [
    "df2"
   ]
  },
  {
   "cell_type": "markdown",
   "id": "3454c776",
   "metadata": {},
   "source": [
    "### Eliminar la ultima fila"
   ]
  },
  {
   "cell_type": "code",
   "execution_count": 31,
   "id": "feed125d",
   "metadata": {},
   "outputs": [
    {
     "data": {
      "text/html": [
       "<div>\n",
       "<style scoped>\n",
       "    .dataframe tbody tr th:only-of-type {\n",
       "        vertical-align: middle;\n",
       "    }\n",
       "\n",
       "    .dataframe tbody tr th {\n",
       "        vertical-align: top;\n",
       "    }\n",
       "\n",
       "    .dataframe thead th {\n",
       "        text-align: right;\n",
       "    }\n",
       "</style>\n",
       "<table border=\"1\" class=\"dataframe\">\n",
       "  <thead>\n",
       "    <tr style=\"text-align: right;\">\n",
       "      <th></th>\n",
       "      <th>pais</th>\n",
       "      <th>poblacion</th>\n",
       "      <th>area</th>\n",
       "    </tr>\n",
       "  </thead>\n",
       "  <tbody>\n",
       "    <tr>\n",
       "      <th>0</th>\n",
       "      <td>Mexico</td>\n",
       "      <td>127212000</td>\n",
       "      <td>1000</td>\n",
       "    </tr>\n",
       "    <tr>\n",
       "      <th>1</th>\n",
       "      <td>Argentina</td>\n",
       "      <td>45167000</td>\n",
       "      <td>1500</td>\n",
       "    </tr>\n",
       "    <tr>\n",
       "      <th>2</th>\n",
       "      <td>España</td>\n",
       "      <td>47099000</td>\n",
       "      <td>2000</td>\n",
       "    </tr>\n",
       "    <tr>\n",
       "      <th>3</th>\n",
       "      <td>Colombia</td>\n",
       "      <td>48922000</td>\n",
       "      <td>2500</td>\n",
       "    </tr>\n",
       "  </tbody>\n",
       "</table>\n",
       "</div>"
      ],
      "text/plain": [
       "        pais  poblacion  area\n",
       "0     Mexico  127212000  1000\n",
       "1  Argentina   45167000  1500\n",
       "2     España   47099000  2000\n",
       "3   Colombia   48922000  2500"
      ]
     },
     "execution_count": 31,
     "metadata": {},
     "output_type": "execute_result"
    }
   ],
   "source": [
    "df2.drop([4],axis=0)"
   ]
  },
  {
   "cell_type": "markdown",
   "id": "088db990",
   "metadata": {},
   "source": [
    "<a id=\"section2\"></a>\n",
    "## <font color=\"#004D7F\">2. Filtrar</font>"
   ]
  },
  {
   "cell_type": "markdown",
   "id": "98dbbffa",
   "metadata": {},
   "source": [
    "### 1)Paises con mas de 47099000 de habitantes"
   ]
  },
  {
   "cell_type": "code",
   "execution_count": 32,
   "id": "3cc0915b",
   "metadata": {},
   "outputs": [
    {
     "data": {
      "text/html": [
       "<div>\n",
       "<style scoped>\n",
       "    .dataframe tbody tr th:only-of-type {\n",
       "        vertical-align: middle;\n",
       "    }\n",
       "\n",
       "    .dataframe tbody tr th {\n",
       "        vertical-align: top;\n",
       "    }\n",
       "\n",
       "    .dataframe thead th {\n",
       "        text-align: right;\n",
       "    }\n",
       "</style>\n",
       "<table border=\"1\" class=\"dataframe\">\n",
       "  <thead>\n",
       "    <tr style=\"text-align: right;\">\n",
       "      <th></th>\n",
       "      <th>pais</th>\n",
       "      <th>poblacion</th>\n",
       "      <th>area</th>\n",
       "    </tr>\n",
       "  </thead>\n",
       "  <tbody>\n",
       "    <tr>\n",
       "      <th>0</th>\n",
       "      <td>Mexico</td>\n",
       "      <td>127212000</td>\n",
       "      <td>1000</td>\n",
       "    </tr>\n",
       "    <tr>\n",
       "      <th>3</th>\n",
       "      <td>Colombia</td>\n",
       "      <td>48922000</td>\n",
       "      <td>2500</td>\n",
       "    </tr>\n",
       "  </tbody>\n",
       "</table>\n",
       "</div>"
      ],
      "text/plain": [
       "       pais  poblacion  area\n",
       "0    Mexico  127212000  1000\n",
       "3  Colombia   48922000  2500"
      ]
     },
     "execution_count": 32,
     "metadata": {},
     "output_type": "execute_result"
    }
   ],
   "source": [
    "df2[df2['poblacion']>47099000]"
   ]
  },
  {
   "cell_type": "markdown",
   "id": "4b662569",
   "metadata": {},
   "source": [
    "### 2) Paises con mas de 47099000 y un area menor 1500"
   ]
  },
  {
   "cell_type": "code",
   "execution_count": 33,
   "id": "27455dda",
   "metadata": {},
   "outputs": [
    {
     "data": {
      "text/html": [
       "<div>\n",
       "<style scoped>\n",
       "    .dataframe tbody tr th:only-of-type {\n",
       "        vertical-align: middle;\n",
       "    }\n",
       "\n",
       "    .dataframe tbody tr th {\n",
       "        vertical-align: top;\n",
       "    }\n",
       "\n",
       "    .dataframe thead th {\n",
       "        text-align: right;\n",
       "    }\n",
       "</style>\n",
       "<table border=\"1\" class=\"dataframe\">\n",
       "  <thead>\n",
       "    <tr style=\"text-align: right;\">\n",
       "      <th></th>\n",
       "      <th>pais</th>\n",
       "      <th>poblacion</th>\n",
       "      <th>area</th>\n",
       "    </tr>\n",
       "  </thead>\n",
       "  <tbody>\n",
       "    <tr>\n",
       "      <th>0</th>\n",
       "      <td>Mexico</td>\n",
       "      <td>127212000</td>\n",
       "      <td>1000</td>\n",
       "    </tr>\n",
       "  </tbody>\n",
       "</table>\n",
       "</div>"
      ],
      "text/plain": [
       "     pais  poblacion  area\n",
       "0  Mexico  127212000  1000"
      ]
     },
     "execution_count": 33,
     "metadata": {},
     "output_type": "execute_result"
    }
   ],
   "source": [
    "df2[  (df2['poblacion']>47099000)   &   (df2['area']<1500)   ]"
   ]
  },
  {
   "cell_type": "markdown",
   "id": "2e584513",
   "metadata": {},
   "source": [
    "### 3) Pais Colombia"
   ]
  },
  {
   "cell_type": "code",
   "execution_count": 34,
   "id": "255a8da8",
   "metadata": {},
   "outputs": [
    {
     "data": {
      "text/html": [
       "<div>\n",
       "<style scoped>\n",
       "    .dataframe tbody tr th:only-of-type {\n",
       "        vertical-align: middle;\n",
       "    }\n",
       "\n",
       "    .dataframe tbody tr th {\n",
       "        vertical-align: top;\n",
       "    }\n",
       "\n",
       "    .dataframe thead th {\n",
       "        text-align: right;\n",
       "    }\n",
       "</style>\n",
       "<table border=\"1\" class=\"dataframe\">\n",
       "  <thead>\n",
       "    <tr style=\"text-align: right;\">\n",
       "      <th></th>\n",
       "      <th>pais</th>\n",
       "      <th>poblacion</th>\n",
       "      <th>area</th>\n",
       "    </tr>\n",
       "  </thead>\n",
       "  <tbody>\n",
       "    <tr>\n",
       "      <th>3</th>\n",
       "      <td>Colombia</td>\n",
       "      <td>48922000</td>\n",
       "      <td>2500</td>\n",
       "    </tr>\n",
       "  </tbody>\n",
       "</table>\n",
       "</div>"
      ],
      "text/plain": [
       "       pais  poblacion  area\n",
       "3  Colombia   48922000  2500"
      ]
     },
     "execution_count": 34,
     "metadata": {},
     "output_type": "execute_result"
    }
   ],
   "source": [
    "df2[df2['pais']=='Colombia']"
   ]
  },
  {
   "cell_type": "markdown",
   "id": "27df8af9",
   "metadata": {},
   "source": [
    "### 4) Paises con nombre mayor a 6 letras\n",
    " "
   ]
  },
  {
   "cell_type": "code",
   "execution_count": 35,
   "id": "fe6240ce",
   "metadata": {},
   "outputs": [
    {
     "data": {
      "text/html": [
       "<div>\n",
       "<style scoped>\n",
       "    .dataframe tbody tr th:only-of-type {\n",
       "        vertical-align: middle;\n",
       "    }\n",
       "\n",
       "    .dataframe tbody tr th {\n",
       "        vertical-align: top;\n",
       "    }\n",
       "\n",
       "    .dataframe thead th {\n",
       "        text-align: right;\n",
       "    }\n",
       "</style>\n",
       "<table border=\"1\" class=\"dataframe\">\n",
       "  <thead>\n",
       "    <tr style=\"text-align: right;\">\n",
       "      <th></th>\n",
       "      <th>pais</th>\n",
       "      <th>poblacion</th>\n",
       "      <th>area</th>\n",
       "    </tr>\n",
       "  </thead>\n",
       "  <tbody>\n",
       "    <tr>\n",
       "      <th>1</th>\n",
       "      <td>Argentina</td>\n",
       "      <td>45167000</td>\n",
       "      <td>1500</td>\n",
       "    </tr>\n",
       "    <tr>\n",
       "      <th>3</th>\n",
       "      <td>Colombia</td>\n",
       "      <td>48922000</td>\n",
       "      <td>2500</td>\n",
       "    </tr>\n",
       "    <tr>\n",
       "      <th>4</th>\n",
       "      <td>Venezuela</td>\n",
       "      <td>50000</td>\n",
       "      <td>6000</td>\n",
       "    </tr>\n",
       "  </tbody>\n",
       "</table>\n",
       "</div>"
      ],
      "text/plain": [
       "        pais  poblacion  area\n",
       "1  Argentina   45167000  1500\n",
       "3   Colombia   48922000  2500\n",
       "4  Venezuela      50000  6000"
      ]
     },
     "execution_count": 35,
     "metadata": {},
     "output_type": "execute_result"
    }
   ],
   "source": [
    "df2[      df2['pais'].str.len()  > 6     ]"
   ]
  },
  {
   "cell_type": "code",
   "execution_count": 36,
   "id": "fb654389",
   "metadata": {},
   "outputs": [
    {
     "name": "stdout",
     "output_type": "stream",
     "text": [
      "Variable       Type         Data/Info\n",
      "-------------------------------------\n",
      "animal         list         n=4\n",
      "area           list         n=4\n",
      "df             DataFrame       nombre   apellido  ing<...>tania      vidal     2500\n",
      "df1            DataFrame          linea  animal  ingr<...>   entel    lobo       35\n",
      "df2            DataFrame            pais  poblacion  <...>enezuela      50000  6000\n",
      "ingreso        list         n=4\n",
      "ingreso_1      list         n=4\n",
      "linea          list         n=4\n",
      "numero_filas   int          4\n",
      "pd             module       <module 'pandas' from 'C:<...>es\\\\pandas\\\\__init__.py'>\n"
     ]
    }
   ],
   "source": [
    "#observar lo que hemos creado!\n",
    "%whos"
   ]
  },
  {
   "cell_type": "markdown",
   "id": "8839e54a",
   "metadata": {},
   "source": [
    "<a id=\"section3\"></a>\n",
    "## <font color=\"#004D7F\">3. Operaciones entre columnas</font>"
   ]
  },
  {
   "cell_type": "markdown",
   "id": "adfed369",
   "metadata": {},
   "source": [
    "##### Crearemos una nueva columna le llamaremos 'habitantes_por_km2' donde sera la division entre la columna 'poblacion' y la columna 'area'"
   ]
  },
  {
   "cell_type": "code",
   "execution_count": 37,
   "id": "2979bcab",
   "metadata": {},
   "outputs": [],
   "source": [
    "df2['habitantes_por_km2']=df2['poblacion']/df2['area']"
   ]
  },
  {
   "cell_type": "code",
   "execution_count": 38,
   "id": "7d61f3fa",
   "metadata": {},
   "outputs": [
    {
     "data": {
      "text/html": [
       "<div>\n",
       "<style scoped>\n",
       "    .dataframe tbody tr th:only-of-type {\n",
       "        vertical-align: middle;\n",
       "    }\n",
       "\n",
       "    .dataframe tbody tr th {\n",
       "        vertical-align: top;\n",
       "    }\n",
       "\n",
       "    .dataframe thead th {\n",
       "        text-align: right;\n",
       "    }\n",
       "</style>\n",
       "<table border=\"1\" class=\"dataframe\">\n",
       "  <thead>\n",
       "    <tr style=\"text-align: right;\">\n",
       "      <th></th>\n",
       "      <th>pais</th>\n",
       "      <th>poblacion</th>\n",
       "      <th>area</th>\n",
       "      <th>habitantes_por_km2</th>\n",
       "    </tr>\n",
       "  </thead>\n",
       "  <tbody>\n",
       "    <tr>\n",
       "      <th>0</th>\n",
       "      <td>Mexico</td>\n",
       "      <td>127212000</td>\n",
       "      <td>1000</td>\n",
       "      <td>127212.000000</td>\n",
       "    </tr>\n",
       "    <tr>\n",
       "      <th>1</th>\n",
       "      <td>Argentina</td>\n",
       "      <td>45167000</td>\n",
       "      <td>1500</td>\n",
       "      <td>30111.333333</td>\n",
       "    </tr>\n",
       "    <tr>\n",
       "      <th>2</th>\n",
       "      <td>España</td>\n",
       "      <td>47099000</td>\n",
       "      <td>2000</td>\n",
       "      <td>23549.500000</td>\n",
       "    </tr>\n",
       "    <tr>\n",
       "      <th>3</th>\n",
       "      <td>Colombia</td>\n",
       "      <td>48922000</td>\n",
       "      <td>2500</td>\n",
       "      <td>19568.800000</td>\n",
       "    </tr>\n",
       "    <tr>\n",
       "      <th>4</th>\n",
       "      <td>Venezuela</td>\n",
       "      <td>50000</td>\n",
       "      <td>6000</td>\n",
       "      <td>8.333333</td>\n",
       "    </tr>\n",
       "  </tbody>\n",
       "</table>\n",
       "</div>"
      ],
      "text/plain": [
       "        pais  poblacion  area  habitantes_por_km2\n",
       "0     Mexico  127212000  1000       127212.000000\n",
       "1  Argentina   45167000  1500        30111.333333\n",
       "2     España   47099000  2000        23549.500000\n",
       "3   Colombia   48922000  2500        19568.800000\n",
       "4  Venezuela      50000  6000            8.333333"
      ]
     },
     "execution_count": 38,
     "metadata": {},
     "output_type": "execute_result"
    }
   ],
   "source": [
    "df2"
   ]
  },
  {
   "cell_type": "markdown",
   "id": "f41b21c1",
   "metadata": {},
   "source": [
    "<a id=\"section4\"></a>\n",
    "## <font color=\"#004D7F\">4. Funciones</font>"
   ]
  },
  {
   "cell_type": "markdown",
   "id": "1a43305e",
   "metadata": {},
   "source": [
    "### De minuscula a mayuscula"
   ]
  },
  {
   "cell_type": "code",
   "execution_count": 39,
   "id": "79da1c43",
   "metadata": {},
   "outputs": [],
   "source": [
    "def minus_a_mayus(name):\n",
    "    name=name.upper() # de minuscula a mayuscula\n",
    "    name=name[0:5]# las 5 primeras letras\n",
    "    return name"
   ]
  },
  {
   "cell_type": "code",
   "execution_count": 40,
   "id": "7b360545",
   "metadata": {},
   "outputs": [],
   "source": [
    "df2['minus_a_mayus']=df2['pais'].apply(minus_a_mayus)"
   ]
  },
  {
   "cell_type": "code",
   "execution_count": 41,
   "id": "c57a2360",
   "metadata": {},
   "outputs": [
    {
     "data": {
      "text/html": [
       "<div>\n",
       "<style scoped>\n",
       "    .dataframe tbody tr th:only-of-type {\n",
       "        vertical-align: middle;\n",
       "    }\n",
       "\n",
       "    .dataframe tbody tr th {\n",
       "        vertical-align: top;\n",
       "    }\n",
       "\n",
       "    .dataframe thead th {\n",
       "        text-align: right;\n",
       "    }\n",
       "</style>\n",
       "<table border=\"1\" class=\"dataframe\">\n",
       "  <thead>\n",
       "    <tr style=\"text-align: right;\">\n",
       "      <th></th>\n",
       "      <th>pais</th>\n",
       "      <th>poblacion</th>\n",
       "      <th>area</th>\n",
       "      <th>habitantes_por_km2</th>\n",
       "      <th>minus_a_mayus</th>\n",
       "    </tr>\n",
       "  </thead>\n",
       "  <tbody>\n",
       "    <tr>\n",
       "      <th>0</th>\n",
       "      <td>Mexico</td>\n",
       "      <td>127212000</td>\n",
       "      <td>1000</td>\n",
       "      <td>127212.000000</td>\n",
       "      <td>MEXIC</td>\n",
       "    </tr>\n",
       "    <tr>\n",
       "      <th>1</th>\n",
       "      <td>Argentina</td>\n",
       "      <td>45167000</td>\n",
       "      <td>1500</td>\n",
       "      <td>30111.333333</td>\n",
       "      <td>ARGEN</td>\n",
       "    </tr>\n",
       "    <tr>\n",
       "      <th>2</th>\n",
       "      <td>España</td>\n",
       "      <td>47099000</td>\n",
       "      <td>2000</td>\n",
       "      <td>23549.500000</td>\n",
       "      <td>ESPAÑ</td>\n",
       "    </tr>\n",
       "    <tr>\n",
       "      <th>3</th>\n",
       "      <td>Colombia</td>\n",
       "      <td>48922000</td>\n",
       "      <td>2500</td>\n",
       "      <td>19568.800000</td>\n",
       "      <td>COLOM</td>\n",
       "    </tr>\n",
       "    <tr>\n",
       "      <th>4</th>\n",
       "      <td>Venezuela</td>\n",
       "      <td>50000</td>\n",
       "      <td>6000</td>\n",
       "      <td>8.333333</td>\n",
       "      <td>VENEZ</td>\n",
       "    </tr>\n",
       "  </tbody>\n",
       "</table>\n",
       "</div>"
      ],
      "text/plain": [
       "        pais  poblacion  area  habitantes_por_km2 minus_a_mayus\n",
       "0     Mexico  127212000  1000       127212.000000         MEXIC\n",
       "1  Argentina   45167000  1500        30111.333333         ARGEN\n",
       "2     España   47099000  2000        23549.500000         ESPAÑ\n",
       "3   Colombia   48922000  2500        19568.800000         COLOM\n",
       "4  Venezuela      50000  6000            8.333333         VENEZ"
      ]
     },
     "execution_count": 41,
     "metadata": {},
     "output_type": "execute_result"
    }
   ],
   "source": [
    "df2"
   ]
  },
  {
   "cell_type": "markdown",
   "id": "6643d57b",
   "metadata": {},
   "source": [
    "### Creando Categorias"
   ]
  },
  {
   "cell_type": "code",
   "execution_count": 42,
   "id": "b9b3f69e",
   "metadata": {},
   "outputs": [],
   "source": [
    "def categoria(x):\n",
    "    pob=x['poblacion']\n",
    "    habitantes_por_km2=x['habitantes_por_km2']\n",
    "    if pob> 47099000:\n",
    "        if habitantes_por_km2<23549.500000:\n",
    "            return 'A'\n",
    "        else:\n",
    "            return 'B'\n",
    "    return 'C'    \n",
    "          "
   ]
  },
  {
   "cell_type": "code",
   "execution_count": 43,
   "id": "0aa4e81d",
   "metadata": {},
   "outputs": [],
   "source": [
    "df2['categoria']=df2.apply(categoria,axis=1)"
   ]
  },
  {
   "cell_type": "code",
   "execution_count": 44,
   "id": "9f603d40",
   "metadata": {},
   "outputs": [
    {
     "data": {
      "text/html": [
       "<div>\n",
       "<style scoped>\n",
       "    .dataframe tbody tr th:only-of-type {\n",
       "        vertical-align: middle;\n",
       "    }\n",
       "\n",
       "    .dataframe tbody tr th {\n",
       "        vertical-align: top;\n",
       "    }\n",
       "\n",
       "    .dataframe thead th {\n",
       "        text-align: right;\n",
       "    }\n",
       "</style>\n",
       "<table border=\"1\" class=\"dataframe\">\n",
       "  <thead>\n",
       "    <tr style=\"text-align: right;\">\n",
       "      <th></th>\n",
       "      <th>pais</th>\n",
       "      <th>poblacion</th>\n",
       "      <th>area</th>\n",
       "      <th>habitantes_por_km2</th>\n",
       "      <th>minus_a_mayus</th>\n",
       "      <th>categoria</th>\n",
       "    </tr>\n",
       "  </thead>\n",
       "  <tbody>\n",
       "    <tr>\n",
       "      <th>0</th>\n",
       "      <td>Mexico</td>\n",
       "      <td>127212000</td>\n",
       "      <td>1000</td>\n",
       "      <td>127212.000000</td>\n",
       "      <td>MEXIC</td>\n",
       "      <td>B</td>\n",
       "    </tr>\n",
       "    <tr>\n",
       "      <th>1</th>\n",
       "      <td>Argentina</td>\n",
       "      <td>45167000</td>\n",
       "      <td>1500</td>\n",
       "      <td>30111.333333</td>\n",
       "      <td>ARGEN</td>\n",
       "      <td>C</td>\n",
       "    </tr>\n",
       "    <tr>\n",
       "      <th>2</th>\n",
       "      <td>España</td>\n",
       "      <td>47099000</td>\n",
       "      <td>2000</td>\n",
       "      <td>23549.500000</td>\n",
       "      <td>ESPAÑ</td>\n",
       "      <td>C</td>\n",
       "    </tr>\n",
       "    <tr>\n",
       "      <th>3</th>\n",
       "      <td>Colombia</td>\n",
       "      <td>48922000</td>\n",
       "      <td>2500</td>\n",
       "      <td>19568.800000</td>\n",
       "      <td>COLOM</td>\n",
       "      <td>A</td>\n",
       "    </tr>\n",
       "    <tr>\n",
       "      <th>4</th>\n",
       "      <td>Venezuela</td>\n",
       "      <td>50000</td>\n",
       "      <td>6000</td>\n",
       "      <td>8.333333</td>\n",
       "      <td>VENEZ</td>\n",
       "      <td>C</td>\n",
       "    </tr>\n",
       "  </tbody>\n",
       "</table>\n",
       "</div>"
      ],
      "text/plain": [
       "        pais  poblacion  area  habitantes_por_km2 minus_a_mayus categoria\n",
       "0     Mexico  127212000  1000       127212.000000         MEXIC         B\n",
       "1  Argentina   45167000  1500        30111.333333         ARGEN         C\n",
       "2     España   47099000  2000        23549.500000         ESPAÑ         C\n",
       "3   Colombia   48922000  2500        19568.800000         COLOM         A\n",
       "4  Venezuela      50000  6000            8.333333         VENEZ         C"
      ]
     },
     "execution_count": 44,
     "metadata": {},
     "output_type": "execute_result"
    }
   ],
   "source": [
    "df2"
   ]
  },
  {
   "cell_type": "markdown",
   "id": "367bc4ec",
   "metadata": {},
   "source": [
    "### Aplicar las columnas como parametros"
   ]
  },
  {
   "cell_type": "code",
   "execution_count": 45,
   "id": "2821f581",
   "metadata": {},
   "outputs": [],
   "source": [
    "def asigna_color(minus_a_mayus,categoria):\n",
    "    if categoria=='A':\n",
    "        return 'rojo'\n",
    "    if minus_a_mayus=='MEXIC':\n",
    "        return 'verde'\n",
    "    return 'azul'"
   ]
  },
  {
   "cell_type": "code",
   "execution_count": 46,
   "id": "d0c917ac",
   "metadata": {},
   "outputs": [],
   "source": [
    "df2['color']=df2.apply(lambda x:asigna_color(x['minus_a_mayus'],x['categoria']), axis=1)"
   ]
  },
  {
   "cell_type": "code",
   "execution_count": 47,
   "id": "b43be6ee",
   "metadata": {},
   "outputs": [
    {
     "data": {
      "text/html": [
       "<div>\n",
       "<style scoped>\n",
       "    .dataframe tbody tr th:only-of-type {\n",
       "        vertical-align: middle;\n",
       "    }\n",
       "\n",
       "    .dataframe tbody tr th {\n",
       "        vertical-align: top;\n",
       "    }\n",
       "\n",
       "    .dataframe thead th {\n",
       "        text-align: right;\n",
       "    }\n",
       "</style>\n",
       "<table border=\"1\" class=\"dataframe\">\n",
       "  <thead>\n",
       "    <tr style=\"text-align: right;\">\n",
       "      <th></th>\n",
       "      <th>pais</th>\n",
       "      <th>poblacion</th>\n",
       "      <th>area</th>\n",
       "      <th>habitantes_por_km2</th>\n",
       "      <th>minus_a_mayus</th>\n",
       "      <th>categoria</th>\n",
       "      <th>color</th>\n",
       "    </tr>\n",
       "  </thead>\n",
       "  <tbody>\n",
       "    <tr>\n",
       "      <th>0</th>\n",
       "      <td>Mexico</td>\n",
       "      <td>127212000</td>\n",
       "      <td>1000</td>\n",
       "      <td>127212.000000</td>\n",
       "      <td>MEXIC</td>\n",
       "      <td>B</td>\n",
       "      <td>verde</td>\n",
       "    </tr>\n",
       "    <tr>\n",
       "      <th>1</th>\n",
       "      <td>Argentina</td>\n",
       "      <td>45167000</td>\n",
       "      <td>1500</td>\n",
       "      <td>30111.333333</td>\n",
       "      <td>ARGEN</td>\n",
       "      <td>C</td>\n",
       "      <td>azul</td>\n",
       "    </tr>\n",
       "    <tr>\n",
       "      <th>2</th>\n",
       "      <td>España</td>\n",
       "      <td>47099000</td>\n",
       "      <td>2000</td>\n",
       "      <td>23549.500000</td>\n",
       "      <td>ESPAÑ</td>\n",
       "      <td>C</td>\n",
       "      <td>azul</td>\n",
       "    </tr>\n",
       "    <tr>\n",
       "      <th>3</th>\n",
       "      <td>Colombia</td>\n",
       "      <td>48922000</td>\n",
       "      <td>2500</td>\n",
       "      <td>19568.800000</td>\n",
       "      <td>COLOM</td>\n",
       "      <td>A</td>\n",
       "      <td>rojo</td>\n",
       "    </tr>\n",
       "    <tr>\n",
       "      <th>4</th>\n",
       "      <td>Venezuela</td>\n",
       "      <td>50000</td>\n",
       "      <td>6000</td>\n",
       "      <td>8.333333</td>\n",
       "      <td>VENEZ</td>\n",
       "      <td>C</td>\n",
       "      <td>azul</td>\n",
       "    </tr>\n",
       "  </tbody>\n",
       "</table>\n",
       "</div>"
      ],
      "text/plain": [
       "        pais  poblacion  area  habitantes_por_km2 minus_a_mayus categoria  \\\n",
       "0     Mexico  127212000  1000       127212.000000         MEXIC         B   \n",
       "1  Argentina   45167000  1500        30111.333333         ARGEN         C   \n",
       "2     España   47099000  2000        23549.500000         ESPAÑ         C   \n",
       "3   Colombia   48922000  2500        19568.800000         COLOM         A   \n",
       "4  Venezuela      50000  6000            8.333333         VENEZ         C   \n",
       "\n",
       "   color  \n",
       "0  verde  \n",
       "1   azul  \n",
       "2   azul  \n",
       "3   rojo  \n",
       "4   azul  "
      ]
     },
     "execution_count": 47,
     "metadata": {},
     "output_type": "execute_result"
    }
   ],
   "source": [
    "df2"
   ]
  },
  {
   "cell_type": "markdown",
   "id": "4777c75f",
   "metadata": {},
   "source": [
    "<a id=\"section5\"></a>\n",
    "## <font color=\"#004D7F\">5. Mapeo</font>"
   ]
  },
  {
   "cell_type": "code",
   "execution_count": 48,
   "id": "c9b547c9",
   "metadata": {},
   "outputs": [
    {
     "data": {
      "text/html": [
       "<div>\n",
       "<style scoped>\n",
       "    .dataframe tbody tr th:only-of-type {\n",
       "        vertical-align: middle;\n",
       "    }\n",
       "\n",
       "    .dataframe tbody tr th {\n",
       "        vertical-align: top;\n",
       "    }\n",
       "\n",
       "    .dataframe thead th {\n",
       "        text-align: right;\n",
       "    }\n",
       "</style>\n",
       "<table border=\"1\" class=\"dataframe\">\n",
       "  <thead>\n",
       "    <tr style=\"text-align: right;\">\n",
       "      <th></th>\n",
       "      <th>pais</th>\n",
       "      <th>poblacion</th>\n",
       "      <th>area</th>\n",
       "      <th>habitantes_por_km2</th>\n",
       "      <th>minus_a_mayus</th>\n",
       "      <th>categoria</th>\n",
       "      <th>color</th>\n",
       "      <th>mapeo_color</th>\n",
       "    </tr>\n",
       "  </thead>\n",
       "  <tbody>\n",
       "    <tr>\n",
       "      <th>0</th>\n",
       "      <td>Mexico</td>\n",
       "      <td>127212000</td>\n",
       "      <td>1000</td>\n",
       "      <td>127212.000000</td>\n",
       "      <td>MEXIC</td>\n",
       "      <td>B</td>\n",
       "      <td>verde</td>\n",
       "      <td>2</td>\n",
       "    </tr>\n",
       "    <tr>\n",
       "      <th>1</th>\n",
       "      <td>Argentina</td>\n",
       "      <td>45167000</td>\n",
       "      <td>1500</td>\n",
       "      <td>30111.333333</td>\n",
       "      <td>ARGEN</td>\n",
       "      <td>C</td>\n",
       "      <td>azul</td>\n",
       "      <td>0</td>\n",
       "    </tr>\n",
       "    <tr>\n",
       "      <th>2</th>\n",
       "      <td>España</td>\n",
       "      <td>47099000</td>\n",
       "      <td>2000</td>\n",
       "      <td>23549.500000</td>\n",
       "      <td>ESPAÑ</td>\n",
       "      <td>C</td>\n",
       "      <td>azul</td>\n",
       "      <td>0</td>\n",
       "    </tr>\n",
       "    <tr>\n",
       "      <th>3</th>\n",
       "      <td>Colombia</td>\n",
       "      <td>48922000</td>\n",
       "      <td>2500</td>\n",
       "      <td>19568.800000</td>\n",
       "      <td>COLOM</td>\n",
       "      <td>A</td>\n",
       "      <td>rojo</td>\n",
       "      <td>1</td>\n",
       "    </tr>\n",
       "    <tr>\n",
       "      <th>4</th>\n",
       "      <td>Venezuela</td>\n",
       "      <td>50000</td>\n",
       "      <td>6000</td>\n",
       "      <td>8.333333</td>\n",
       "      <td>VENEZ</td>\n",
       "      <td>C</td>\n",
       "      <td>azul</td>\n",
       "      <td>0</td>\n",
       "    </tr>\n",
       "  </tbody>\n",
       "</table>\n",
       "</div>"
      ],
      "text/plain": [
       "        pais  poblacion  area  habitantes_por_km2 minus_a_mayus categoria  \\\n",
       "0     Mexico  127212000  1000       127212.000000         MEXIC         B   \n",
       "1  Argentina   45167000  1500        30111.333333         ARGEN         C   \n",
       "2     España   47099000  2000        23549.500000         ESPAÑ         C   \n",
       "3   Colombia   48922000  2500        19568.800000         COLOM         A   \n",
       "4  Venezuela      50000  6000            8.333333         VENEZ         C   \n",
       "\n",
       "   color  mapeo_color  \n",
       "0  verde            2  \n",
       "1   azul            0  \n",
       "2   azul            0  \n",
       "3   rojo            1  \n",
       "4   azul            0  "
      ]
     },
     "execution_count": 48,
     "metadata": {},
     "output_type": "execute_result"
    }
   ],
   "source": [
    "df2['mapeo_color']=df2['color'].map({'azul':0,'rojo':1,'verde':2}).astype(int)\n",
    "df2"
   ]
  },
  {
   "cell_type": "code",
   "execution_count": 49,
   "id": "406a05c8",
   "metadata": {},
   "outputs": [
    {
     "name": "stdout",
     "output_type": "stream",
     "text": [
      "<class 'pandas.core.frame.DataFrame'>\n",
      "Int64Index: 5 entries, 0 to 4\n",
      "Data columns (total 8 columns):\n",
      " #   Column              Non-Null Count  Dtype  \n",
      "---  ------              --------------  -----  \n",
      " 0   pais                5 non-null      object \n",
      " 1   poblacion           5 non-null      int64  \n",
      " 2   area                5 non-null      int64  \n",
      " 3   habitantes_por_km2  5 non-null      float64\n",
      " 4   minus_a_mayus       5 non-null      object \n",
      " 5   categoria           5 non-null      object \n",
      " 6   color               5 non-null      object \n",
      " 7   mapeo_color         5 non-null      int32  \n",
      "dtypes: float64(1), int32(1), int64(2), object(4)\n",
      "memory usage: 512.0+ bytes\n"
     ]
    }
   ],
   "source": [
    "df2.info()"
   ]
  },
  {
   "cell_type": "markdown",
   "id": "6823435e",
   "metadata": {},
   "source": [
    "<a id=\"section6\"></a>\n",
    "## <font color=\"#004D7F\">6. Reordenamos columnas</font>"
   ]
  },
  {
   "cell_type": "code",
   "execution_count": 50,
   "id": "a25e60aa",
   "metadata": {},
   "outputs": [
    {
     "data": {
      "text/plain": [
       "Index(['pais', 'poblacion', 'area', 'habitantes_por_km2', 'minus_a_mayus',\n",
       "       'categoria', 'color', 'mapeo_color'],\n",
       "      dtype='object')"
      ]
     },
     "execution_count": 50,
     "metadata": {},
     "output_type": "execute_result"
    }
   ],
   "source": [
    "df2.columns"
   ]
  },
  {
   "cell_type": "code",
   "execution_count": 51,
   "id": "649a8438",
   "metadata": {},
   "outputs": [
    {
     "data": {
      "text/plain": [
       "(5, 8)"
      ]
     },
     "execution_count": 51,
     "metadata": {},
     "output_type": "execute_result"
    }
   ],
   "source": [
    "df2.shape"
   ]
  },
  {
   "cell_type": "code",
   "execution_count": 52,
   "id": "a12bf3fb",
   "metadata": {},
   "outputs": [],
   "source": [
    "df2=df2[['minus_a_mayus','categoria','color','pais', 'poblacion', 'area','habitantes_por_km2','mapeo_color']]"
   ]
  },
  {
   "cell_type": "code",
   "execution_count": 53,
   "id": "72ae54ee",
   "metadata": {},
   "outputs": [
    {
     "data": {
      "text/html": [
       "<div>\n",
       "<style scoped>\n",
       "    .dataframe tbody tr th:only-of-type {\n",
       "        vertical-align: middle;\n",
       "    }\n",
       "\n",
       "    .dataframe tbody tr th {\n",
       "        vertical-align: top;\n",
       "    }\n",
       "\n",
       "    .dataframe thead th {\n",
       "        text-align: right;\n",
       "    }\n",
       "</style>\n",
       "<table border=\"1\" class=\"dataframe\">\n",
       "  <thead>\n",
       "    <tr style=\"text-align: right;\">\n",
       "      <th></th>\n",
       "      <th>minus_a_mayus</th>\n",
       "      <th>categoria</th>\n",
       "      <th>color</th>\n",
       "      <th>pais</th>\n",
       "      <th>poblacion</th>\n",
       "      <th>area</th>\n",
       "      <th>habitantes_por_km2</th>\n",
       "      <th>mapeo_color</th>\n",
       "    </tr>\n",
       "  </thead>\n",
       "  <tbody>\n",
       "    <tr>\n",
       "      <th>0</th>\n",
       "      <td>MEXIC</td>\n",
       "      <td>B</td>\n",
       "      <td>verde</td>\n",
       "      <td>Mexico</td>\n",
       "      <td>127212000</td>\n",
       "      <td>1000</td>\n",
       "      <td>127212.000000</td>\n",
       "      <td>2</td>\n",
       "    </tr>\n",
       "    <tr>\n",
       "      <th>1</th>\n",
       "      <td>ARGEN</td>\n",
       "      <td>C</td>\n",
       "      <td>azul</td>\n",
       "      <td>Argentina</td>\n",
       "      <td>45167000</td>\n",
       "      <td>1500</td>\n",
       "      <td>30111.333333</td>\n",
       "      <td>0</td>\n",
       "    </tr>\n",
       "    <tr>\n",
       "      <th>2</th>\n",
       "      <td>ESPAÑ</td>\n",
       "      <td>C</td>\n",
       "      <td>azul</td>\n",
       "      <td>España</td>\n",
       "      <td>47099000</td>\n",
       "      <td>2000</td>\n",
       "      <td>23549.500000</td>\n",
       "      <td>0</td>\n",
       "    </tr>\n",
       "    <tr>\n",
       "      <th>3</th>\n",
       "      <td>COLOM</td>\n",
       "      <td>A</td>\n",
       "      <td>rojo</td>\n",
       "      <td>Colombia</td>\n",
       "      <td>48922000</td>\n",
       "      <td>2500</td>\n",
       "      <td>19568.800000</td>\n",
       "      <td>1</td>\n",
       "    </tr>\n",
       "    <tr>\n",
       "      <th>4</th>\n",
       "      <td>VENEZ</td>\n",
       "      <td>C</td>\n",
       "      <td>azul</td>\n",
       "      <td>Venezuela</td>\n",
       "      <td>50000</td>\n",
       "      <td>6000</td>\n",
       "      <td>8.333333</td>\n",
       "      <td>0</td>\n",
       "    </tr>\n",
       "  </tbody>\n",
       "</table>\n",
       "</div>"
      ],
      "text/plain": [
       "  minus_a_mayus categoria  color       pais  poblacion  area  \\\n",
       "0         MEXIC         B  verde     Mexico  127212000  1000   \n",
       "1         ARGEN         C   azul  Argentina   45167000  1500   \n",
       "2         ESPAÑ         C   azul     España   47099000  2000   \n",
       "3         COLOM         A   rojo   Colombia   48922000  2500   \n",
       "4         VENEZ         C   azul  Venezuela      50000  6000   \n",
       "\n",
       "   habitantes_por_km2  mapeo_color  \n",
       "0       127212.000000            2  \n",
       "1        30111.333333            0  \n",
       "2        23549.500000            0  \n",
       "3        19568.800000            1  \n",
       "4            8.333333            0  "
      ]
     },
     "execution_count": 53,
     "metadata": {},
     "output_type": "execute_result"
    }
   ],
   "source": [
    "df2"
   ]
  },
  {
   "cell_type": "markdown",
   "id": "be7665d2",
   "metadata": {},
   "source": [
    "<a id=\"section7\"></a>\n",
    "## <font color=\"#004D7F\">7. join entre tablas</font>"
   ]
  },
  {
   "cell_type": "markdown",
   "id": "a5fa38a3",
   "metadata": {},
   "source": [
    "### concat usando indice"
   ]
  },
  {
   "cell_type": "markdown",
   "id": "e7c1322f",
   "metadata": {},
   "source": [
    "### Creando un nuevo Dataset  <br>    <br >'df_comida'"
   ]
  },
  {
   "cell_type": "code",
   "execution_count": 54,
   "id": "5d4ca0c8",
   "metadata": {},
   "outputs": [
    {
     "data": {
      "text/plain": [
       "<bound method Series.unique of 0    MEXIC\n",
       "1    ARGEN\n",
       "2    ESPAÑ\n",
       "3    COLOM\n",
       "4    VENEZ\n",
       "Name: minus_a_mayus, dtype: object>"
      ]
     },
     "execution_count": 54,
     "metadata": {},
     "output_type": "execute_result"
    }
   ],
   "source": [
    "df2.minus_a_mayus.unique"
   ]
  },
  {
   "cell_type": "code",
   "execution_count": 55,
   "id": "997eff31",
   "metadata": {},
   "outputs": [],
   "source": [
    "# creamos un DF nuevo, le asignamos el codigo como identificador unico\n",
    "df_comida=pd.DataFrame(data={\n",
    "    'comida':['chaufa','pollo_brasa','lentejitas','hamburguesas','bistek']},\n",
    "    index=['MEXIC','ARGEN','ESPAÑ','COLOM','VENEZ'])#indice"
   ]
  },
  {
   "cell_type": "code",
   "execution_count": 56,
   "id": "47093226",
   "metadata": {},
   "outputs": [
    {
     "data": {
      "text/html": [
       "<div>\n",
       "<style scoped>\n",
       "    .dataframe tbody tr th:only-of-type {\n",
       "        vertical-align: middle;\n",
       "    }\n",
       "\n",
       "    .dataframe tbody tr th {\n",
       "        vertical-align: top;\n",
       "    }\n",
       "\n",
       "    .dataframe thead th {\n",
       "        text-align: right;\n",
       "    }\n",
       "</style>\n",
       "<table border=\"1\" class=\"dataframe\">\n",
       "  <thead>\n",
       "    <tr style=\"text-align: right;\">\n",
       "      <th></th>\n",
       "      <th>comida</th>\n",
       "    </tr>\n",
       "  </thead>\n",
       "  <tbody>\n",
       "    <tr>\n",
       "      <th>MEXIC</th>\n",
       "      <td>chaufa</td>\n",
       "    </tr>\n",
       "    <tr>\n",
       "      <th>ARGEN</th>\n",
       "      <td>pollo_brasa</td>\n",
       "    </tr>\n",
       "    <tr>\n",
       "      <th>ESPAÑ</th>\n",
       "      <td>lentejitas</td>\n",
       "    </tr>\n",
       "    <tr>\n",
       "      <th>COLOM</th>\n",
       "      <td>hamburguesas</td>\n",
       "    </tr>\n",
       "    <tr>\n",
       "      <th>VENEZ</th>\n",
       "      <td>bistek</td>\n",
       "    </tr>\n",
       "  </tbody>\n",
       "</table>\n",
       "</div>"
      ],
      "text/plain": [
       "             comida\n",
       "MEXIC        chaufa\n",
       "ARGEN   pollo_brasa\n",
       "ESPAÑ    lentejitas\n",
       "COLOM  hamburguesas\n",
       "VENEZ        bistek"
      ]
     },
     "execution_count": 56,
     "metadata": {},
     "output_type": "execute_result"
    }
   ],
   "source": [
    "df_comida"
   ]
  },
  {
   "cell_type": "markdown",
   "id": "02e64d95",
   "metadata": {},
   "source": [
    "### 'df2'"
   ]
  },
  {
   "cell_type": "code",
   "execution_count": 57,
   "id": "fcec94ef",
   "metadata": {},
   "outputs": [
    {
     "data": {
      "text/html": [
       "<div>\n",
       "<style scoped>\n",
       "    .dataframe tbody tr th:only-of-type {\n",
       "        vertical-align: middle;\n",
       "    }\n",
       "\n",
       "    .dataframe tbody tr th {\n",
       "        vertical-align: top;\n",
       "    }\n",
       "\n",
       "    .dataframe thead th {\n",
       "        text-align: right;\n",
       "    }\n",
       "</style>\n",
       "<table border=\"1\" class=\"dataframe\">\n",
       "  <thead>\n",
       "    <tr style=\"text-align: right;\">\n",
       "      <th></th>\n",
       "      <th>minus_a_mayus</th>\n",
       "      <th>categoria</th>\n",
       "      <th>color</th>\n",
       "      <th>pais</th>\n",
       "      <th>poblacion</th>\n",
       "      <th>area</th>\n",
       "      <th>habitantes_por_km2</th>\n",
       "      <th>mapeo_color</th>\n",
       "    </tr>\n",
       "  </thead>\n",
       "  <tbody>\n",
       "    <tr>\n",
       "      <th>0</th>\n",
       "      <td>MEXIC</td>\n",
       "      <td>B</td>\n",
       "      <td>verde</td>\n",
       "      <td>Mexico</td>\n",
       "      <td>127212000</td>\n",
       "      <td>1000</td>\n",
       "      <td>127212.000000</td>\n",
       "      <td>2</td>\n",
       "    </tr>\n",
       "    <tr>\n",
       "      <th>1</th>\n",
       "      <td>ARGEN</td>\n",
       "      <td>C</td>\n",
       "      <td>azul</td>\n",
       "      <td>Argentina</td>\n",
       "      <td>45167000</td>\n",
       "      <td>1500</td>\n",
       "      <td>30111.333333</td>\n",
       "      <td>0</td>\n",
       "    </tr>\n",
       "    <tr>\n",
       "      <th>2</th>\n",
       "      <td>ESPAÑ</td>\n",
       "      <td>C</td>\n",
       "      <td>azul</td>\n",
       "      <td>España</td>\n",
       "      <td>47099000</td>\n",
       "      <td>2000</td>\n",
       "      <td>23549.500000</td>\n",
       "      <td>0</td>\n",
       "    </tr>\n",
       "    <tr>\n",
       "      <th>3</th>\n",
       "      <td>COLOM</td>\n",
       "      <td>A</td>\n",
       "      <td>rojo</td>\n",
       "      <td>Colombia</td>\n",
       "      <td>48922000</td>\n",
       "      <td>2500</td>\n",
       "      <td>19568.800000</td>\n",
       "      <td>1</td>\n",
       "    </tr>\n",
       "    <tr>\n",
       "      <th>4</th>\n",
       "      <td>VENEZ</td>\n",
       "      <td>C</td>\n",
       "      <td>azul</td>\n",
       "      <td>Venezuela</td>\n",
       "      <td>50000</td>\n",
       "      <td>6000</td>\n",
       "      <td>8.333333</td>\n",
       "      <td>0</td>\n",
       "    </tr>\n",
       "  </tbody>\n",
       "</table>\n",
       "</div>"
      ],
      "text/plain": [
       "  minus_a_mayus categoria  color       pais  poblacion  area  \\\n",
       "0         MEXIC         B  verde     Mexico  127212000  1000   \n",
       "1         ARGEN         C   azul  Argentina   45167000  1500   \n",
       "2         ESPAÑ         C   azul     España   47099000  2000   \n",
       "3         COLOM         A   rojo   Colombia   48922000  2500   \n",
       "4         VENEZ         C   azul  Venezuela      50000  6000   \n",
       "\n",
       "   habitantes_por_km2  mapeo_color  \n",
       "0       127212.000000            2  \n",
       "1        30111.333333            0  \n",
       "2        23549.500000            0  \n",
       "3        19568.800000            1  \n",
       "4            8.333333            0  "
      ]
     },
     "execution_count": 57,
     "metadata": {},
     "output_type": "execute_result"
    }
   ],
   "source": [
    "df2"
   ]
  },
  {
   "cell_type": "markdown",
   "id": "b0b22c31",
   "metadata": {},
   "source": [
    "### Asignamos indice a la columna 'minus_a_mayus' en nuestro df2 \n"
   ]
  },
  {
   "cell_type": "code",
   "execution_count": 58,
   "id": "f8ea314c",
   "metadata": {},
   "outputs": [],
   "source": [
    "df2_indice=df2.set_index('minus_a_mayus')"
   ]
  },
  {
   "cell_type": "code",
   "execution_count": 59,
   "id": "a5ee6bfc",
   "metadata": {
    "scrolled": true
   },
   "outputs": [
    {
     "data": {
      "text/html": [
       "<div>\n",
       "<style scoped>\n",
       "    .dataframe tbody tr th:only-of-type {\n",
       "        vertical-align: middle;\n",
       "    }\n",
       "\n",
       "    .dataframe tbody tr th {\n",
       "        vertical-align: top;\n",
       "    }\n",
       "\n",
       "    .dataframe thead th {\n",
       "        text-align: right;\n",
       "    }\n",
       "</style>\n",
       "<table border=\"1\" class=\"dataframe\">\n",
       "  <thead>\n",
       "    <tr style=\"text-align: right;\">\n",
       "      <th></th>\n",
       "      <th>categoria</th>\n",
       "      <th>color</th>\n",
       "      <th>pais</th>\n",
       "      <th>poblacion</th>\n",
       "      <th>area</th>\n",
       "      <th>habitantes_por_km2</th>\n",
       "      <th>mapeo_color</th>\n",
       "    </tr>\n",
       "    <tr>\n",
       "      <th>minus_a_mayus</th>\n",
       "      <th></th>\n",
       "      <th></th>\n",
       "      <th></th>\n",
       "      <th></th>\n",
       "      <th></th>\n",
       "      <th></th>\n",
       "      <th></th>\n",
       "    </tr>\n",
       "  </thead>\n",
       "  <tbody>\n",
       "    <tr>\n",
       "      <th>MEXIC</th>\n",
       "      <td>B</td>\n",
       "      <td>verde</td>\n",
       "      <td>Mexico</td>\n",
       "      <td>127212000</td>\n",
       "      <td>1000</td>\n",
       "      <td>127212.000000</td>\n",
       "      <td>2</td>\n",
       "    </tr>\n",
       "    <tr>\n",
       "      <th>ARGEN</th>\n",
       "      <td>C</td>\n",
       "      <td>azul</td>\n",
       "      <td>Argentina</td>\n",
       "      <td>45167000</td>\n",
       "      <td>1500</td>\n",
       "      <td>30111.333333</td>\n",
       "      <td>0</td>\n",
       "    </tr>\n",
       "    <tr>\n",
       "      <th>ESPAÑ</th>\n",
       "      <td>C</td>\n",
       "      <td>azul</td>\n",
       "      <td>España</td>\n",
       "      <td>47099000</td>\n",
       "      <td>2000</td>\n",
       "      <td>23549.500000</td>\n",
       "      <td>0</td>\n",
       "    </tr>\n",
       "    <tr>\n",
       "      <th>COLOM</th>\n",
       "      <td>A</td>\n",
       "      <td>rojo</td>\n",
       "      <td>Colombia</td>\n",
       "      <td>48922000</td>\n",
       "      <td>2500</td>\n",
       "      <td>19568.800000</td>\n",
       "      <td>1</td>\n",
       "    </tr>\n",
       "    <tr>\n",
       "      <th>VENEZ</th>\n",
       "      <td>C</td>\n",
       "      <td>azul</td>\n",
       "      <td>Venezuela</td>\n",
       "      <td>50000</td>\n",
       "      <td>6000</td>\n",
       "      <td>8.333333</td>\n",
       "      <td>0</td>\n",
       "    </tr>\n",
       "  </tbody>\n",
       "</table>\n",
       "</div>"
      ],
      "text/plain": [
       "              categoria  color       pais  poblacion  area  \\\n",
       "minus_a_mayus                                                \n",
       "MEXIC                 B  verde     Mexico  127212000  1000   \n",
       "ARGEN                 C   azul  Argentina   45167000  1500   \n",
       "ESPAÑ                 C   azul     España   47099000  2000   \n",
       "COLOM                 A   rojo   Colombia   48922000  2500   \n",
       "VENEZ                 C   azul  Venezuela      50000  6000   \n",
       "\n",
       "               habitantes_por_km2  mapeo_color  \n",
       "minus_a_mayus                                   \n",
       "MEXIC               127212.000000            2  \n",
       "ARGEN                30111.333333            0  \n",
       "ESPAÑ                23549.500000            0  \n",
       "COLOM                19568.800000            1  \n",
       "VENEZ                    8.333333            0  "
      ]
     },
     "execution_count": 59,
     "metadata": {},
     "output_type": "execute_result"
    }
   ],
   "source": [
    "df2_indice"
   ]
  },
  {
   "cell_type": "markdown",
   "id": "0889142b",
   "metadata": {},
   "source": [
    "### Hacemos un join"
   ]
  },
  {
   "cell_type": "code",
   "execution_count": 60,
   "id": "b245bec6",
   "metadata": {},
   "outputs": [],
   "source": [
    "result=pd.concat([df2_indice,df_comida],axis=1,sort=True)"
   ]
  },
  {
   "cell_type": "code",
   "execution_count": 61,
   "id": "96c78a31",
   "metadata": {},
   "outputs": [
    {
     "data": {
      "text/html": [
       "<div>\n",
       "<style scoped>\n",
       "    .dataframe tbody tr th:only-of-type {\n",
       "        vertical-align: middle;\n",
       "    }\n",
       "\n",
       "    .dataframe tbody tr th {\n",
       "        vertical-align: top;\n",
       "    }\n",
       "\n",
       "    .dataframe thead th {\n",
       "        text-align: right;\n",
       "    }\n",
       "</style>\n",
       "<table border=\"1\" class=\"dataframe\">\n",
       "  <thead>\n",
       "    <tr style=\"text-align: right;\">\n",
       "      <th></th>\n",
       "      <th>categoria</th>\n",
       "      <th>color</th>\n",
       "      <th>pais</th>\n",
       "      <th>poblacion</th>\n",
       "      <th>area</th>\n",
       "      <th>habitantes_por_km2</th>\n",
       "      <th>mapeo_color</th>\n",
       "      <th>comida</th>\n",
       "    </tr>\n",
       "  </thead>\n",
       "  <tbody>\n",
       "    <tr>\n",
       "      <th>ARGEN</th>\n",
       "      <td>C</td>\n",
       "      <td>azul</td>\n",
       "      <td>Argentina</td>\n",
       "      <td>45167000</td>\n",
       "      <td>1500</td>\n",
       "      <td>30111.333333</td>\n",
       "      <td>0</td>\n",
       "      <td>pollo_brasa</td>\n",
       "    </tr>\n",
       "    <tr>\n",
       "      <th>COLOM</th>\n",
       "      <td>A</td>\n",
       "      <td>rojo</td>\n",
       "      <td>Colombia</td>\n",
       "      <td>48922000</td>\n",
       "      <td>2500</td>\n",
       "      <td>19568.800000</td>\n",
       "      <td>1</td>\n",
       "      <td>hamburguesas</td>\n",
       "    </tr>\n",
       "    <tr>\n",
       "      <th>ESPAÑ</th>\n",
       "      <td>C</td>\n",
       "      <td>azul</td>\n",
       "      <td>España</td>\n",
       "      <td>47099000</td>\n",
       "      <td>2000</td>\n",
       "      <td>23549.500000</td>\n",
       "      <td>0</td>\n",
       "      <td>lentejitas</td>\n",
       "    </tr>\n",
       "    <tr>\n",
       "      <th>MEXIC</th>\n",
       "      <td>B</td>\n",
       "      <td>verde</td>\n",
       "      <td>Mexico</td>\n",
       "      <td>127212000</td>\n",
       "      <td>1000</td>\n",
       "      <td>127212.000000</td>\n",
       "      <td>2</td>\n",
       "      <td>chaufa</td>\n",
       "    </tr>\n",
       "    <tr>\n",
       "      <th>VENEZ</th>\n",
       "      <td>C</td>\n",
       "      <td>azul</td>\n",
       "      <td>Venezuela</td>\n",
       "      <td>50000</td>\n",
       "      <td>6000</td>\n",
       "      <td>8.333333</td>\n",
       "      <td>0</td>\n",
       "      <td>bistek</td>\n",
       "    </tr>\n",
       "  </tbody>\n",
       "</table>\n",
       "</div>"
      ],
      "text/plain": [
       "      categoria  color       pais  poblacion  area  habitantes_por_km2  \\\n",
       "ARGEN         C   azul  Argentina   45167000  1500        30111.333333   \n",
       "COLOM         A   rojo   Colombia   48922000  2500        19568.800000   \n",
       "ESPAÑ         C   azul     España   47099000  2000        23549.500000   \n",
       "MEXIC         B  verde     Mexico  127212000  1000       127212.000000   \n",
       "VENEZ         C   azul  Venezuela      50000  6000            8.333333   \n",
       "\n",
       "       mapeo_color        comida  \n",
       "ARGEN            0   pollo_brasa  \n",
       "COLOM            1  hamburguesas  \n",
       "ESPAÑ            0    lentejitas  \n",
       "MEXIC            2        chaufa  \n",
       "VENEZ            0        bistek  "
      ]
     },
     "execution_count": 61,
     "metadata": {},
     "output_type": "execute_result"
    }
   ],
   "source": [
    "result"
   ]
  },
  {
   "cell_type": "markdown",
   "id": "dc84bead",
   "metadata": {},
   "source": [
    "### Creando un DataFrame nuevo <br>  <br>'df_factor'"
   ]
  },
  {
   "cell_type": "code",
   "execution_count": 69,
   "id": "7adfa723",
   "metadata": {},
   "outputs": [
    {
     "data": {
      "text/html": [
       "<div>\n",
       "<style scoped>\n",
       "    .dataframe tbody tr th:only-of-type {\n",
       "        vertical-align: middle;\n",
       "    }\n",
       "\n",
       "    .dataframe tbody tr th {\n",
       "        vertical-align: top;\n",
       "    }\n",
       "\n",
       "    .dataframe thead th {\n",
       "        text-align: right;\n",
       "    }\n",
       "</style>\n",
       "<table border=\"1\" class=\"dataframe\">\n",
       "  <thead>\n",
       "    <tr style=\"text-align: right;\">\n",
       "      <th></th>\n",
       "      <th>categoria</th>\n",
       "      <th>Factor</th>\n",
       "    </tr>\n",
       "  </thead>\n",
       "  <tbody>\n",
       "    <tr>\n",
       "      <th>0</th>\n",
       "      <td>A</td>\n",
       "      <td>12.50</td>\n",
       "    </tr>\n",
       "    <tr>\n",
       "      <th>1</th>\n",
       "      <td>B</td>\n",
       "      <td>15.50</td>\n",
       "    </tr>\n",
       "    <tr>\n",
       "      <th>2</th>\n",
       "      <td>C</td>\n",
       "      <td>0.02</td>\n",
       "    </tr>\n",
       "  </tbody>\n",
       "</table>\n",
       "</div>"
      ],
      "text/plain": [
       "  categoria  Factor\n",
       "0         A   12.50\n",
       "1         B   15.50\n",
       "2         C    0.02"
      ]
     },
     "execution_count": 69,
     "metadata": {},
     "output_type": "execute_result"
    }
   ],
   "source": [
    "df_factor=pd.DataFrame(data={'categoria':['A','B','C'],\n",
    "                              'Factor':[12.5,15.5,0.02]})\n",
    "df_factor"
   ]
  },
  {
   "cell_type": "markdown",
   "id": "d675a64f",
   "metadata": {},
   "source": [
    "Fuente: https://pandas.pydata.org/pandas-docs/stable/reference/api/pandas.DataFrame.merge.html"
   ]
  },
  {
   "cell_type": "code",
   "execution_count": 70,
   "id": "ac9e3304",
   "metadata": {},
   "outputs": [
    {
     "name": "stdout",
     "output_type": "stream",
     "text": [
      "Help on function merge in module pandas.core.reshape.merge:\n",
      "\n",
      "merge(left: 'DataFrame | Series', right: 'DataFrame | Series', how: 'str' = 'inner', on: 'IndexLabel | None' = None, left_on: 'IndexLabel | None' = None, right_on: 'IndexLabel | None' = None, left_index: 'bool' = False, right_index: 'bool' = False, sort: 'bool' = False, suffixes: 'Suffixes' = ('_x', '_y'), copy: 'bool' = True, indicator: 'bool' = False, validate: 'str | None' = None) -> 'DataFrame'\n",
      "    Merge DataFrame or named Series objects with a database-style join.\n",
      "    \n",
      "    A named Series object is treated as a DataFrame with a single named column.\n",
      "    \n",
      "    The join is done on columns or indexes. If joining columns on\n",
      "    columns, the DataFrame indexes *will be ignored*. Otherwise if joining indexes\n",
      "    on indexes or indexes on a column or columns, the index will be passed on.\n",
      "    When performing a cross merge, no column specifications to merge on are\n",
      "    allowed.\n",
      "    \n",
      "    Parameters\n",
      "    ----------\n",
      "    left : DataFrame\n",
      "    right : DataFrame or named Series\n",
      "        Object to merge with.\n",
      "    how : {'left', 'right', 'outer', 'inner', 'cross'}, default 'inner'\n",
      "        Type of merge to be performed.\n",
      "    \n",
      "        * left: use only keys from left frame, similar to a SQL left outer join;\n",
      "          preserve key order.\n",
      "        * right: use only keys from right frame, similar to a SQL right outer join;\n",
      "          preserve key order.\n",
      "        * outer: use union of keys from both frames, similar to a SQL full outer\n",
      "          join; sort keys lexicographically.\n",
      "        * inner: use intersection of keys from both frames, similar to a SQL inner\n",
      "          join; preserve the order of the left keys.\n",
      "        * cross: creates the cartesian product from both frames, preserves the order\n",
      "          of the left keys.\n",
      "    \n",
      "          .. versionadded:: 1.2.0\n",
      "    \n",
      "    on : label or list\n",
      "        Column or index level names to join on. These must be found in both\n",
      "        DataFrames. If `on` is None and not merging on indexes then this defaults\n",
      "        to the intersection of the columns in both DataFrames.\n",
      "    left_on : label or list, or array-like\n",
      "        Column or index level names to join on in the left DataFrame. Can also\n",
      "        be an array or list of arrays of the length of the left DataFrame.\n",
      "        These arrays are treated as if they are columns.\n",
      "    right_on : label or list, or array-like\n",
      "        Column or index level names to join on in the right DataFrame. Can also\n",
      "        be an array or list of arrays of the length of the right DataFrame.\n",
      "        These arrays are treated as if they are columns.\n",
      "    left_index : bool, default False\n",
      "        Use the index from the left DataFrame as the join key(s). If it is a\n",
      "        MultiIndex, the number of keys in the other DataFrame (either the index\n",
      "        or a number of columns) must match the number of levels.\n",
      "    right_index : bool, default False\n",
      "        Use the index from the right DataFrame as the join key. Same caveats as\n",
      "        left_index.\n",
      "    sort : bool, default False\n",
      "        Sort the join keys lexicographically in the result DataFrame. If False,\n",
      "        the order of the join keys depends on the join type (how keyword).\n",
      "    suffixes : list-like, default is (\"_x\", \"_y\")\n",
      "        A length-2 sequence where each element is optionally a string\n",
      "        indicating the suffix to add to overlapping column names in\n",
      "        `left` and `right` respectively. Pass a value of `None` instead\n",
      "        of a string to indicate that the column name from `left` or\n",
      "        `right` should be left as-is, with no suffix. At least one of the\n",
      "        values must not be None.\n",
      "    copy : bool, default True\n",
      "        If False, avoid copy if possible.\n",
      "    indicator : bool or str, default False\n",
      "        If True, adds a column to the output DataFrame called \"_merge\" with\n",
      "        information on the source of each row. The column can be given a different\n",
      "        name by providing a string argument. The column will have a Categorical\n",
      "        type with the value of \"left_only\" for observations whose merge key only\n",
      "        appears in the left DataFrame, \"right_only\" for observations\n",
      "        whose merge key only appears in the right DataFrame, and \"both\"\n",
      "        if the observation's merge key is found in both DataFrames.\n",
      "    \n",
      "    validate : str, optional\n",
      "        If specified, checks if merge is of specified type.\n",
      "    \n",
      "        * \"one_to_one\" or \"1:1\": check if merge keys are unique in both\n",
      "          left and right datasets.\n",
      "        * \"one_to_many\" or \"1:m\": check if merge keys are unique in left\n",
      "          dataset.\n",
      "        * \"many_to_one\" or \"m:1\": check if merge keys are unique in right\n",
      "          dataset.\n",
      "        * \"many_to_many\" or \"m:m\": allowed, but does not result in checks.\n",
      "    \n",
      "    Returns\n",
      "    -------\n",
      "    DataFrame\n",
      "        A DataFrame of the two merged objects.\n",
      "    \n",
      "    See Also\n",
      "    --------\n",
      "    merge_ordered : Merge with optional filling/interpolation.\n",
      "    merge_asof : Merge on nearest keys.\n",
      "    DataFrame.join : Similar method using indices.\n",
      "    \n",
      "    Notes\n",
      "    -----\n",
      "    Support for specifying index levels as the `on`, `left_on`, and\n",
      "    `right_on` parameters was added in version 0.23.0\n",
      "    Support for merging named Series objects was added in version 0.24.0\n",
      "    \n",
      "    Examples\n",
      "    --------\n",
      "    >>> df1 = pd.DataFrame({'lkey': ['foo', 'bar', 'baz', 'foo'],\n",
      "    ...                     'value': [1, 2, 3, 5]})\n",
      "    >>> df2 = pd.DataFrame({'rkey': ['foo', 'bar', 'baz', 'foo'],\n",
      "    ...                     'value': [5, 6, 7, 8]})\n",
      "    >>> df1\n",
      "        lkey value\n",
      "    0   foo      1\n",
      "    1   bar      2\n",
      "    2   baz      3\n",
      "    3   foo      5\n",
      "    >>> df2\n",
      "        rkey value\n",
      "    0   foo      5\n",
      "    1   bar      6\n",
      "    2   baz      7\n",
      "    3   foo      8\n",
      "    \n",
      "    Merge df1 and df2 on the lkey and rkey columns. The value columns have\n",
      "    the default suffixes, _x and _y, appended.\n",
      "    \n",
      "    >>> df1.merge(df2, left_on='lkey', right_on='rkey')\n",
      "      lkey  value_x rkey  value_y\n",
      "    0  foo        1  foo        5\n",
      "    1  foo        1  foo        8\n",
      "    2  foo        5  foo        5\n",
      "    3  foo        5  foo        8\n",
      "    4  bar        2  bar        6\n",
      "    5  baz        3  baz        7\n",
      "    \n",
      "    Merge DataFrames df1 and df2 with specified left and right suffixes\n",
      "    appended to any overlapping columns.\n",
      "    \n",
      "    >>> df1.merge(df2, left_on='lkey', right_on='rkey',\n",
      "    ...           suffixes=('_left', '_right'))\n",
      "      lkey  value_left rkey  value_right\n",
      "    0  foo           1  foo            5\n",
      "    1  foo           1  foo            8\n",
      "    2  foo           5  foo            5\n",
      "    3  foo           5  foo            8\n",
      "    4  bar           2  bar            6\n",
      "    5  baz           3  baz            7\n",
      "    \n",
      "    Merge DataFrames df1 and df2, but raise an exception if the DataFrames have\n",
      "    any overlapping columns.\n",
      "    \n",
      "    >>> df1.merge(df2, left_on='lkey', right_on='rkey', suffixes=(False, False))\n",
      "    Traceback (most recent call last):\n",
      "    ...\n",
      "    ValueError: columns overlap but no suffix specified:\n",
      "        Index(['value'], dtype='object')\n",
      "    \n",
      "    >>> df1 = pd.DataFrame({'a': ['foo', 'bar'], 'b': [1, 2]})\n",
      "    >>> df2 = pd.DataFrame({'a': ['foo', 'baz'], 'c': [3, 4]})\n",
      "    >>> df1\n",
      "          a  b\n",
      "    0   foo  1\n",
      "    1   bar  2\n",
      "    >>> df2\n",
      "          a  c\n",
      "    0   foo  3\n",
      "    1   baz  4\n",
      "    \n",
      "    >>> df1.merge(df2, how='inner', on='a')\n",
      "          a  b  c\n",
      "    0   foo  1  3\n",
      "    \n",
      "    >>> df1.merge(df2, how='left', on='a')\n",
      "          a  b  c\n",
      "    0   foo  1  3.0\n",
      "    1   bar  2  NaN\n",
      "    \n",
      "    >>> df1 = pd.DataFrame({'left': ['foo', 'bar']})\n",
      "    >>> df2 = pd.DataFrame({'right': [7, 8]})\n",
      "    >>> df1\n",
      "        left\n",
      "    0   foo\n",
      "    1   bar\n",
      "    >>> df2\n",
      "        right\n",
      "    0   7\n",
      "    1   8\n",
      "    \n",
      "    >>> df1.merge(df2, how='cross')\n",
      "       left  right\n",
      "    0   foo      7\n",
      "    1   foo      8\n",
      "    2   bar      7\n",
      "    3   bar      8\n",
      "\n"
     ]
    }
   ],
   "source": [
    "help(pd.merge)"
   ]
  },
  {
   "cell_type": "code",
   "execution_count": 71,
   "id": "079cca1b",
   "metadata": {},
   "outputs": [
    {
     "data": {
      "text/html": [
       "<div>\n",
       "<style scoped>\n",
       "    .dataframe tbody tr th:only-of-type {\n",
       "        vertical-align: middle;\n",
       "    }\n",
       "\n",
       "    .dataframe tbody tr th {\n",
       "        vertical-align: top;\n",
       "    }\n",
       "\n",
       "    .dataframe thead th {\n",
       "        text-align: right;\n",
       "    }\n",
       "</style>\n",
       "<table border=\"1\" class=\"dataframe\">\n",
       "  <thead>\n",
       "    <tr style=\"text-align: right;\">\n",
       "      <th></th>\n",
       "      <th>minus_a_mayus</th>\n",
       "      <th>categoria</th>\n",
       "      <th>color</th>\n",
       "      <th>pais</th>\n",
       "      <th>poblacion</th>\n",
       "      <th>area</th>\n",
       "      <th>habitantes_por_km2</th>\n",
       "      <th>mapeo_color</th>\n",
       "    </tr>\n",
       "  </thead>\n",
       "  <tbody>\n",
       "    <tr>\n",
       "      <th>0</th>\n",
       "      <td>MEXIC</td>\n",
       "      <td>B</td>\n",
       "      <td>verde</td>\n",
       "      <td>Mexico</td>\n",
       "      <td>127212000</td>\n",
       "      <td>1000</td>\n",
       "      <td>127212.000000</td>\n",
       "      <td>2</td>\n",
       "    </tr>\n",
       "    <tr>\n",
       "      <th>1</th>\n",
       "      <td>ARGEN</td>\n",
       "      <td>C</td>\n",
       "      <td>azul</td>\n",
       "      <td>Argentina</td>\n",
       "      <td>45167000</td>\n",
       "      <td>1500</td>\n",
       "      <td>30111.333333</td>\n",
       "      <td>0</td>\n",
       "    </tr>\n",
       "    <tr>\n",
       "      <th>2</th>\n",
       "      <td>ESPAÑ</td>\n",
       "      <td>C</td>\n",
       "      <td>azul</td>\n",
       "      <td>España</td>\n",
       "      <td>47099000</td>\n",
       "      <td>2000</td>\n",
       "      <td>23549.500000</td>\n",
       "      <td>0</td>\n",
       "    </tr>\n",
       "    <tr>\n",
       "      <th>3</th>\n",
       "      <td>COLOM</td>\n",
       "      <td>A</td>\n",
       "      <td>rojo</td>\n",
       "      <td>Colombia</td>\n",
       "      <td>48922000</td>\n",
       "      <td>2500</td>\n",
       "      <td>19568.800000</td>\n",
       "      <td>1</td>\n",
       "    </tr>\n",
       "    <tr>\n",
       "      <th>4</th>\n",
       "      <td>VENEZ</td>\n",
       "      <td>C</td>\n",
       "      <td>azul</td>\n",
       "      <td>Venezuela</td>\n",
       "      <td>50000</td>\n",
       "      <td>6000</td>\n",
       "      <td>8.333333</td>\n",
       "      <td>0</td>\n",
       "    </tr>\n",
       "  </tbody>\n",
       "</table>\n",
       "</div>"
      ],
      "text/plain": [
       "  minus_a_mayus categoria  color       pais  poblacion  area  \\\n",
       "0         MEXIC         B  verde     Mexico  127212000  1000   \n",
       "1         ARGEN         C   azul  Argentina   45167000  1500   \n",
       "2         ESPAÑ         C   azul     España   47099000  2000   \n",
       "3         COLOM         A   rojo   Colombia   48922000  2500   \n",
       "4         VENEZ         C   azul  Venezuela      50000  6000   \n",
       "\n",
       "   habitantes_por_km2  mapeo_color  \n",
       "0       127212.000000            2  \n",
       "1        30111.333333            0  \n",
       "2        23549.500000            0  \n",
       "3        19568.800000            1  \n",
       "4            8.333333            0  "
      ]
     },
     "execution_count": 71,
     "metadata": {},
     "output_type": "execute_result"
    }
   ],
   "source": [
    "df2"
   ]
  },
  {
   "cell_type": "code",
   "execution_count": 83,
   "id": "d88e2cd7",
   "metadata": {},
   "outputs": [
    {
     "data": {
      "text/html": [
       "<div>\n",
       "<style scoped>\n",
       "    .dataframe tbody tr th:only-of-type {\n",
       "        vertical-align: middle;\n",
       "    }\n",
       "\n",
       "    .dataframe tbody tr th {\n",
       "        vertical-align: top;\n",
       "    }\n",
       "\n",
       "    .dataframe thead th {\n",
       "        text-align: right;\n",
       "    }\n",
       "</style>\n",
       "<table border=\"1\" class=\"dataframe\">\n",
       "  <thead>\n",
       "    <tr style=\"text-align: right;\">\n",
       "      <th></th>\n",
       "      <th>minus_a_mayus</th>\n",
       "      <th>categoria</th>\n",
       "      <th>color</th>\n",
       "      <th>pais</th>\n",
       "      <th>poblacion</th>\n",
       "      <th>area</th>\n",
       "      <th>habitantes_por_km2</th>\n",
       "      <th>mapeo_color</th>\n",
       "      <th>Factor</th>\n",
       "    </tr>\n",
       "  </thead>\n",
       "  <tbody>\n",
       "    <tr>\n",
       "      <th>0</th>\n",
       "      <td>MEXIC</td>\n",
       "      <td>B</td>\n",
       "      <td>verde</td>\n",
       "      <td>Mexico</td>\n",
       "      <td>127212000</td>\n",
       "      <td>1000</td>\n",
       "      <td>127212.000000</td>\n",
       "      <td>2</td>\n",
       "      <td>15.50</td>\n",
       "    </tr>\n",
       "    <tr>\n",
       "      <th>1</th>\n",
       "      <td>ARGEN</td>\n",
       "      <td>C</td>\n",
       "      <td>azul</td>\n",
       "      <td>Argentina</td>\n",
       "      <td>45167000</td>\n",
       "      <td>1500</td>\n",
       "      <td>30111.333333</td>\n",
       "      <td>0</td>\n",
       "      <td>0.02</td>\n",
       "    </tr>\n",
       "    <tr>\n",
       "      <th>2</th>\n",
       "      <td>ESPAÑ</td>\n",
       "      <td>C</td>\n",
       "      <td>azul</td>\n",
       "      <td>España</td>\n",
       "      <td>47099000</td>\n",
       "      <td>2000</td>\n",
       "      <td>23549.500000</td>\n",
       "      <td>0</td>\n",
       "      <td>0.02</td>\n",
       "    </tr>\n",
       "    <tr>\n",
       "      <th>3</th>\n",
       "      <td>COLOM</td>\n",
       "      <td>A</td>\n",
       "      <td>rojo</td>\n",
       "      <td>Colombia</td>\n",
       "      <td>48922000</td>\n",
       "      <td>2500</td>\n",
       "      <td>19568.800000</td>\n",
       "      <td>1</td>\n",
       "      <td>12.50</td>\n",
       "    </tr>\n",
       "    <tr>\n",
       "      <th>4</th>\n",
       "      <td>VENEZ</td>\n",
       "      <td>C</td>\n",
       "      <td>azul</td>\n",
       "      <td>Venezuela</td>\n",
       "      <td>50000</td>\n",
       "      <td>6000</td>\n",
       "      <td>8.333333</td>\n",
       "      <td>0</td>\n",
       "      <td>0.02</td>\n",
       "    </tr>\n",
       "  </tbody>\n",
       "</table>\n",
       "</div>"
      ],
      "text/plain": [
       "  minus_a_mayus categoria  color       pais  poblacion  area  \\\n",
       "0         MEXIC         B  verde     Mexico  127212000  1000   \n",
       "1         ARGEN         C   azul  Argentina   45167000  1500   \n",
       "2         ESPAÑ         C   azul     España   47099000  2000   \n",
       "3         COLOM         A   rojo   Colombia   48922000  2500   \n",
       "4         VENEZ         C   azul  Venezuela      50000  6000   \n",
       "\n",
       "   habitantes_por_km2  mapeo_color  Factor  \n",
       "0       127212.000000            2   15.50  \n",
       "1        30111.333333            0    0.02  \n",
       "2        23549.500000            0    0.02  \n",
       "3        19568.800000            1   12.50  \n",
       "4            8.333333            0    0.02  "
      ]
     },
     "execution_count": 83,
     "metadata": {},
     "output_type": "execute_result"
    }
   ],
   "source": [
    "result2=pd.merge(df2,df_factor,how='left',on=['categoria'])\n",
    "result2"
   ]
  },
  {
   "cell_type": "markdown",
   "id": "a42d9847",
   "metadata": {},
   "source": [
    "<a id=\"section8\"></a>\n",
    "## <font color=\"#004D7F\">8. Adicionar multiples filas desde otra tabla con Append</font>\n"
   ]
  },
  {
   "cell_type": "code",
   "execution_count": 84,
   "id": "f644ee01",
   "metadata": {},
   "outputs": [
    {
     "data": {
      "text/html": [
       "<div>\n",
       "<style scoped>\n",
       "    .dataframe tbody tr th:only-of-type {\n",
       "        vertical-align: middle;\n",
       "    }\n",
       "\n",
       "    .dataframe tbody tr th {\n",
       "        vertical-align: top;\n",
       "    }\n",
       "\n",
       "    .dataframe thead th {\n",
       "        text-align: right;\n",
       "    }\n",
       "</style>\n",
       "<table border=\"1\" class=\"dataframe\">\n",
       "  <thead>\n",
       "    <tr style=\"text-align: right;\">\n",
       "      <th></th>\n",
       "      <th>pais</th>\n",
       "      <th>poblacion</th>\n",
       "      <th>area</th>\n",
       "    </tr>\n",
       "  </thead>\n",
       "  <tbody>\n",
       "    <tr>\n",
       "      <th>0</th>\n",
       "      <td>Brasil</td>\n",
       "      <td>15000</td>\n",
       "      <td>85200</td>\n",
       "    </tr>\n",
       "    <tr>\n",
       "      <th>1</th>\n",
       "      <td>Chile</td>\n",
       "      <td>4000</td>\n",
       "      <td>87452</td>\n",
       "    </tr>\n",
       "  </tbody>\n",
       "</table>\n",
       "</div>"
      ],
      "text/plain": [
       "     pais  poblacion   area\n",
       "0  Brasil      15000  85200\n",
       "1   Chile       4000  87452"
      ]
     },
     "execution_count": 84,
     "metadata": {},
     "output_type": "execute_result"
    }
   ],
   "source": [
    "#Supongamos que tenemos otra tabla:\n",
    "df_otros=pd.DataFrame(data={'pais':['Brasil','Chile'],\n",
    "                             'poblacion':[15000,4000],\n",
    "                             'area':[85200,87452]})\n",
    "df_otros"
   ]
  },
  {
   "cell_type": "code",
   "execution_count": 85,
   "id": "8810e3a5",
   "metadata": {},
   "outputs": [
    {
     "data": {
      "text/html": [
       "<div>\n",
       "<style scoped>\n",
       "    .dataframe tbody tr th:only-of-type {\n",
       "        vertical-align: middle;\n",
       "    }\n",
       "\n",
       "    .dataframe tbody tr th {\n",
       "        vertical-align: top;\n",
       "    }\n",
       "\n",
       "    .dataframe thead th {\n",
       "        text-align: right;\n",
       "    }\n",
       "</style>\n",
       "<table border=\"1\" class=\"dataframe\">\n",
       "  <thead>\n",
       "    <tr style=\"text-align: right;\">\n",
       "      <th></th>\n",
       "      <th>area</th>\n",
       "      <th>categoria</th>\n",
       "      <th>color</th>\n",
       "      <th>habitantes_por_km2</th>\n",
       "      <th>mapeo_color</th>\n",
       "      <th>minus_a_mayus</th>\n",
       "      <th>pais</th>\n",
       "      <th>poblacion</th>\n",
       "    </tr>\n",
       "  </thead>\n",
       "  <tbody>\n",
       "    <tr>\n",
       "      <th>0</th>\n",
       "      <td>1000</td>\n",
       "      <td>B</td>\n",
       "      <td>verde</td>\n",
       "      <td>127212.000000</td>\n",
       "      <td>2.0</td>\n",
       "      <td>MEXIC</td>\n",
       "      <td>Mexico</td>\n",
       "      <td>127212000</td>\n",
       "    </tr>\n",
       "    <tr>\n",
       "      <th>1</th>\n",
       "      <td>1500</td>\n",
       "      <td>C</td>\n",
       "      <td>azul</td>\n",
       "      <td>30111.333333</td>\n",
       "      <td>0.0</td>\n",
       "      <td>ARGEN</td>\n",
       "      <td>Argentina</td>\n",
       "      <td>45167000</td>\n",
       "    </tr>\n",
       "    <tr>\n",
       "      <th>2</th>\n",
       "      <td>2000</td>\n",
       "      <td>C</td>\n",
       "      <td>azul</td>\n",
       "      <td>23549.500000</td>\n",
       "      <td>0.0</td>\n",
       "      <td>ESPAÑ</td>\n",
       "      <td>España</td>\n",
       "      <td>47099000</td>\n",
       "    </tr>\n",
       "    <tr>\n",
       "      <th>3</th>\n",
       "      <td>2500</td>\n",
       "      <td>A</td>\n",
       "      <td>rojo</td>\n",
       "      <td>19568.800000</td>\n",
       "      <td>1.0</td>\n",
       "      <td>COLOM</td>\n",
       "      <td>Colombia</td>\n",
       "      <td>48922000</td>\n",
       "    </tr>\n",
       "    <tr>\n",
       "      <th>4</th>\n",
       "      <td>6000</td>\n",
       "      <td>C</td>\n",
       "      <td>azul</td>\n",
       "      <td>8.333333</td>\n",
       "      <td>0.0</td>\n",
       "      <td>VENEZ</td>\n",
       "      <td>Venezuela</td>\n",
       "      <td>50000</td>\n",
       "    </tr>\n",
       "    <tr>\n",
       "      <th>5</th>\n",
       "      <td>85200</td>\n",
       "      <td>NaN</td>\n",
       "      <td>NaN</td>\n",
       "      <td>NaN</td>\n",
       "      <td>NaN</td>\n",
       "      <td>NaN</td>\n",
       "      <td>Brasil</td>\n",
       "      <td>15000</td>\n",
       "    </tr>\n",
       "    <tr>\n",
       "      <th>6</th>\n",
       "      <td>87452</td>\n",
       "      <td>NaN</td>\n",
       "      <td>NaN</td>\n",
       "      <td>NaN</td>\n",
       "      <td>NaN</td>\n",
       "      <td>NaN</td>\n",
       "      <td>Chile</td>\n",
       "      <td>4000</td>\n",
       "    </tr>\n",
       "  </tbody>\n",
       "</table>\n",
       "</div>"
      ],
      "text/plain": [
       "    area categoria  color  habitantes_por_km2  mapeo_color minus_a_mayus  \\\n",
       "0   1000         B  verde       127212.000000          2.0         MEXIC   \n",
       "1   1500         C   azul        30111.333333          0.0         ARGEN   \n",
       "2   2000         C   azul        23549.500000          0.0         ESPAÑ   \n",
       "3   2500         A   rojo        19568.800000          1.0         COLOM   \n",
       "4   6000         C   azul            8.333333          0.0         VENEZ   \n",
       "5  85200       NaN    NaN                 NaN          NaN           NaN   \n",
       "6  87452       NaN    NaN                 NaN          NaN           NaN   \n",
       "\n",
       "        pais  poblacion  \n",
       "0     Mexico  127212000  \n",
       "1  Argentina   45167000  \n",
       "2     España   47099000  \n",
       "3   Colombia   48922000  \n",
       "4  Venezuela      50000  \n",
       "5     Brasil      15000  \n",
       "6      Chile       4000  "
      ]
     },
     "execution_count": 85,
     "metadata": {},
     "output_type": "execute_result"
    }
   ],
   "source": [
    "#Queremos agregar estas filas al final\n",
    "df2.append(df_otros,ignore_index=True,sort=True)"
   ]
  },
  {
   "cell_type": "markdown",
   "id": "fa3e830e",
   "metadata": {},
   "source": [
    "<a id=\"section9\"></a>\n",
    "## <font color=\"#004D7F\">9. Agrupar</font>"
   ]
  },
  {
   "cell_type": "code",
   "execution_count": 86,
   "id": "2f2d18b2",
   "metadata": {},
   "outputs": [
    {
     "data": {
      "text/plain": [
       "categoria\n",
       "A    1\n",
       "B    1\n",
       "C    3\n",
       "dtype: int64"
      ]
     },
     "execution_count": 86,
     "metadata": {},
     "output_type": "execute_result"
    }
   ],
   "source": [
    "# agrupo por categoria y sumo cuantos hay de cada una\n",
    "grupo2 = df2.groupby(['categoria']).size()\n",
    "grupo2"
   ]
  },
  {
   "cell_type": "code",
   "execution_count": 87,
   "id": "329849ad",
   "metadata": {},
   "outputs": [
    {
     "data": {
      "text/html": [
       "<div>\n",
       "<style scoped>\n",
       "    .dataframe tbody tr th:only-of-type {\n",
       "        vertical-align: middle;\n",
       "    }\n",
       "\n",
       "    .dataframe tbody tr th {\n",
       "        vertical-align: top;\n",
       "    }\n",
       "\n",
       "    .dataframe thead th {\n",
       "        text-align: right;\n",
       "    }\n",
       "</style>\n",
       "<table border=\"1\" class=\"dataframe\">\n",
       "  <thead>\n",
       "    <tr style=\"text-align: right;\">\n",
       "      <th></th>\n",
       "      <th>poblacion</th>\n",
       "      <th>area</th>\n",
       "      <th>habitantes_por_km2</th>\n",
       "      <th>mapeo_color</th>\n",
       "    </tr>\n",
       "    <tr>\n",
       "      <th>categoria</th>\n",
       "      <th></th>\n",
       "      <th></th>\n",
       "      <th></th>\n",
       "      <th></th>\n",
       "    </tr>\n",
       "  </thead>\n",
       "  <tbody>\n",
       "    <tr>\n",
       "      <th>A</th>\n",
       "      <td>48922000</td>\n",
       "      <td>2500</td>\n",
       "      <td>19568.800000</td>\n",
       "      <td>1</td>\n",
       "    </tr>\n",
       "    <tr>\n",
       "      <th>C</th>\n",
       "      <td>92316000</td>\n",
       "      <td>9500</td>\n",
       "      <td>53669.166667</td>\n",
       "      <td>0</td>\n",
       "    </tr>\n",
       "    <tr>\n",
       "      <th>B</th>\n",
       "      <td>127212000</td>\n",
       "      <td>1000</td>\n",
       "      <td>127212.000000</td>\n",
       "      <td>2</td>\n",
       "    </tr>\n",
       "  </tbody>\n",
       "</table>\n",
       "</div>"
      ],
      "text/plain": [
       "           poblacion  area  habitantes_por_km2  mapeo_color\n",
       "categoria                                                  \n",
       "A           48922000  2500        19568.800000            1\n",
       "C           92316000  9500        53669.166667            0\n",
       "B          127212000  1000       127212.000000            2"
      ]
     },
     "execution_count": 87,
     "metadata": {},
     "output_type": "execute_result"
    }
   ],
   "source": [
    "# agrupo por cateroría y sumo\n",
    "grupo1 = df2.groupby(['categoria']).sum().sort_values([\"poblacion\"])\n",
    "grupo1"
   ]
  },
  {
   "cell_type": "markdown",
   "id": "53028f84",
   "metadata": {},
   "source": [
    "### Agrupamos por 2 variables y sumarizamos"
   ]
  },
  {
   "cell_type": "code",
   "execution_count": 100,
   "id": "06561691",
   "metadata": {},
   "outputs": [
    {
     "data": {
      "text/html": [
       "<div>\n",
       "<style scoped>\n",
       "    .dataframe tbody tr th:only-of-type {\n",
       "        vertical-align: middle;\n",
       "    }\n",
       "\n",
       "    .dataframe tbody tr th {\n",
       "        vertical-align: top;\n",
       "    }\n",
       "\n",
       "    .dataframe thead tr th {\n",
       "        text-align: left;\n",
       "    }\n",
       "\n",
       "    .dataframe thead tr:last-of-type th {\n",
       "        text-align: right;\n",
       "    }\n",
       "</style>\n",
       "<table border=\"1\" class=\"dataframe\">\n",
       "  <thead>\n",
       "    <tr>\n",
       "      <th></th>\n",
       "      <th colspan=\"3\" halign=\"left\">Factor</th>\n",
       "    </tr>\n",
       "    <tr>\n",
       "      <th></th>\n",
       "      <th>mean</th>\n",
       "      <th>count</th>\n",
       "      <th>sum</th>\n",
       "    </tr>\n",
       "    <tr>\n",
       "      <th>categoria</th>\n",
       "      <th></th>\n",
       "      <th></th>\n",
       "      <th></th>\n",
       "    </tr>\n",
       "  </thead>\n",
       "  <tbody>\n",
       "    <tr>\n",
       "      <th>A</th>\n",
       "      <td>12.50</td>\n",
       "      <td>1</td>\n",
       "      <td>12.50</td>\n",
       "    </tr>\n",
       "    <tr>\n",
       "      <th>B</th>\n",
       "      <td>15.50</td>\n",
       "      <td>1</td>\n",
       "      <td>15.50</td>\n",
       "    </tr>\n",
       "    <tr>\n",
       "      <th>C</th>\n",
       "      <td>0.02</td>\n",
       "      <td>3</td>\n",
       "      <td>0.06</td>\n",
       "    </tr>\n",
       "  </tbody>\n",
       "</table>\n",
       "</div>"
      ],
      "text/plain": [
       "          Factor             \n",
       "            mean count    sum\n",
       "categoria                    \n",
       "A          12.50     1  12.50\n",
       "B          15.50     1  15.50\n",
       "C           0.02     3   0.06"
      ]
     },
     "execution_count": 100,
     "metadata": {},
     "output_type": "execute_result"
    }
   ],
   "source": [
    "tabla=result2[['categoria','Factor']].groupby(['categoria'], as_index=False).agg(['mean', 'count', 'sum'])\n",
    "tabla"
   ]
  },
  {
   "cell_type": "markdown",
   "id": "94483cd3",
   "metadata": {},
   "source": [
    "<a id=\"section10\"></a>\n",
    "## <font color=\"#004D7F\">10. Pivotear una tabla</font>"
   ]
  },
  {
   "cell_type": "code",
   "execution_count": 104,
   "id": "22e0dae1",
   "metadata": {},
   "outputs": [
    {
     "data": {
      "text/plain": [
       "Index(['minus_a_mayus', 'categoria', 'color', 'pais', 'poblacion', 'area',\n",
       "       'habitantes_por_km2', 'mapeo_color', 'Factor'],\n",
       "      dtype='object')"
      ]
     },
     "execution_count": 104,
     "metadata": {},
     "output_type": "execute_result"
    }
   ],
   "source": [
    "result2.columns"
   ]
  },
  {
   "cell_type": "code",
   "execution_count": 102,
   "id": "42cd9bf0",
   "metadata": {},
   "outputs": [
    {
     "data": {
      "text/html": [
       "<div>\n",
       "<style scoped>\n",
       "    .dataframe tbody tr th:only-of-type {\n",
       "        vertical-align: middle;\n",
       "    }\n",
       "\n",
       "    .dataframe tbody tr th {\n",
       "        vertical-align: top;\n",
       "    }\n",
       "\n",
       "    .dataframe thead th {\n",
       "        text-align: right;\n",
       "    }\n",
       "</style>\n",
       "<table border=\"1\" class=\"dataframe\">\n",
       "  <thead>\n",
       "    <tr style=\"text-align: right;\">\n",
       "      <th>pais</th>\n",
       "      <th>Argentina</th>\n",
       "      <th>Colombia</th>\n",
       "      <th>España</th>\n",
       "      <th>Mexico</th>\n",
       "      <th>Venezuela</th>\n",
       "    </tr>\n",
       "    <tr>\n",
       "      <th>categoria</th>\n",
       "      <th></th>\n",
       "      <th></th>\n",
       "      <th></th>\n",
       "      <th></th>\n",
       "      <th></th>\n",
       "    </tr>\n",
       "  </thead>\n",
       "  <tbody>\n",
       "    <tr>\n",
       "      <th>A</th>\n",
       "      <td>0.0</td>\n",
       "      <td>2500.0</td>\n",
       "      <td>0.0</td>\n",
       "      <td>0.0</td>\n",
       "      <td>0.0</td>\n",
       "    </tr>\n",
       "    <tr>\n",
       "      <th>B</th>\n",
       "      <td>0.0</td>\n",
       "      <td>0.0</td>\n",
       "      <td>0.0</td>\n",
       "      <td>1000.0</td>\n",
       "      <td>0.0</td>\n",
       "    </tr>\n",
       "    <tr>\n",
       "      <th>C</th>\n",
       "      <td>1500.0</td>\n",
       "      <td>0.0</td>\n",
       "      <td>2000.0</td>\n",
       "      <td>0.0</td>\n",
       "      <td>6000.0</td>\n",
       "    </tr>\n",
       "  </tbody>\n",
       "</table>\n",
       "</div>"
      ],
      "text/plain": [
       "pais       Argentina  Colombia  España  Mexico  Venezuela\n",
       "categoria                                                \n",
       "A                0.0    2500.0     0.0     0.0        0.0\n",
       "B                0.0       0.0     0.0  1000.0        0.0\n",
       "C             1500.0       0.0  2000.0     0.0     6000.0"
      ]
     },
     "execution_count": 102,
     "metadata": {},
     "output_type": "execute_result"
    }
   ],
   "source": [
    "tabla_t = pd.pivot_table(result2, index='categoria', columns='pais', values='area').fillna(0)#los NAN  se rellena con 0\n",
    "tabla_t"
   ]
  },
  {
   "cell_type": "markdown",
   "id": "67f83934",
   "metadata": {},
   "source": [
    "<a id=\"section11\"></a>\n",
    "## <font color=\"#004D7F\">11. Transponer una tabla</font>"
   ]
  },
  {
   "cell_type": "code",
   "execution_count": 106,
   "id": "ae24bdd3",
   "metadata": {},
   "outputs": [
    {
     "data": {
      "text/html": [
       "<div>\n",
       "<style scoped>\n",
       "    .dataframe tbody tr th:only-of-type {\n",
       "        vertical-align: middle;\n",
       "    }\n",
       "\n",
       "    .dataframe tbody tr th {\n",
       "        vertical-align: top;\n",
       "    }\n",
       "\n",
       "    .dataframe thead th {\n",
       "        text-align: right;\n",
       "    }\n",
       "</style>\n",
       "<table border=\"1\" class=\"dataframe\">\n",
       "  <thead>\n",
       "    <tr style=\"text-align: right;\">\n",
       "      <th></th>\n",
       "      <th>0</th>\n",
       "      <th>1</th>\n",
       "      <th>2</th>\n",
       "      <th>3</th>\n",
       "      <th>4</th>\n",
       "    </tr>\n",
       "  </thead>\n",
       "  <tbody>\n",
       "    <tr>\n",
       "      <th>minus_a_mayus</th>\n",
       "      <td>MEXIC</td>\n",
       "      <td>ARGEN</td>\n",
       "      <td>ESPAÑ</td>\n",
       "      <td>COLOM</td>\n",
       "      <td>VENEZ</td>\n",
       "    </tr>\n",
       "    <tr>\n",
       "      <th>categoria</th>\n",
       "      <td>B</td>\n",
       "      <td>C</td>\n",
       "      <td>C</td>\n",
       "      <td>A</td>\n",
       "      <td>C</td>\n",
       "    </tr>\n",
       "    <tr>\n",
       "      <th>color</th>\n",
       "      <td>verde</td>\n",
       "      <td>azul</td>\n",
       "      <td>azul</td>\n",
       "      <td>rojo</td>\n",
       "      <td>azul</td>\n",
       "    </tr>\n",
       "    <tr>\n",
       "      <th>pais</th>\n",
       "      <td>Mexico</td>\n",
       "      <td>Argentina</td>\n",
       "      <td>España</td>\n",
       "      <td>Colombia</td>\n",
       "      <td>Venezuela</td>\n",
       "    </tr>\n",
       "    <tr>\n",
       "      <th>poblacion</th>\n",
       "      <td>127212000</td>\n",
       "      <td>45167000</td>\n",
       "      <td>47099000</td>\n",
       "      <td>48922000</td>\n",
       "      <td>50000</td>\n",
       "    </tr>\n",
       "    <tr>\n",
       "      <th>area</th>\n",
       "      <td>1000</td>\n",
       "      <td>1500</td>\n",
       "      <td>2000</td>\n",
       "      <td>2500</td>\n",
       "      <td>6000</td>\n",
       "    </tr>\n",
       "    <tr>\n",
       "      <th>habitantes_por_km2</th>\n",
       "      <td>127212.0</td>\n",
       "      <td>30111.333333</td>\n",
       "      <td>23549.5</td>\n",
       "      <td>19568.8</td>\n",
       "      <td>8.333333</td>\n",
       "    </tr>\n",
       "    <tr>\n",
       "      <th>mapeo_color</th>\n",
       "      <td>2</td>\n",
       "      <td>0</td>\n",
       "      <td>0</td>\n",
       "      <td>1</td>\n",
       "      <td>0</td>\n",
       "    </tr>\n",
       "  </tbody>\n",
       "</table>\n",
       "</div>"
      ],
      "text/plain": [
       "                            0             1         2         3          4\n",
       "minus_a_mayus           MEXIC         ARGEN     ESPAÑ     COLOM      VENEZ\n",
       "categoria                   B             C         C         A          C\n",
       "color                   verde          azul      azul      rojo       azul\n",
       "pais                   Mexico     Argentina    España  Colombia  Venezuela\n",
       "poblacion           127212000      45167000  47099000  48922000      50000\n",
       "area                     1000          1500      2000      2500       6000\n",
       "habitantes_por_km2   127212.0  30111.333333   23549.5   19568.8   8.333333\n",
       "mapeo_color                 2             0         0         1          0"
      ]
     },
     "execution_count": 106,
     "metadata": {},
     "output_type": "execute_result"
    }
   ],
   "source": [
    "df2.T"
   ]
  },
  {
   "cell_type": "markdown",
   "id": "9a9b82f5",
   "metadata": {},
   "source": [
    "<a id=\"section12\"></a>\n",
    "## <font color=\"#004D7F\">12. Visualizacion</font>"
   ]
  },
  {
   "cell_type": "code",
   "execution_count": 111,
   "id": "fc529aee",
   "metadata": {},
   "outputs": [
    {
     "data": {
      "text/plain": [
       "<AxesSubplot:ylabel='Frequency'>"
      ]
     },
     "execution_count": 111,
     "metadata": {},
     "output_type": "execute_result"
    },
    {
     "data": {
      "image/png": "[encoded data removed]",
      "text/plain": [
       "<Figure size 432x288 with 1 Axes>"
      ]
     },
     "metadata": {
      "needs_background": "light"
     },
     "output_type": "display_data"
    }
   ],
   "source": [
    "#import matplotlib.pyplot as plt\n",
    "%matplotlib inline\n",
    "\n",
    "df2[['poblacion','area']].plot.hist(bins=5,alpha=0.5)\n"
   ]
  },
  {
   "cell_type": "code",
   "execution_count": 112,
   "id": "c2de0a7b",
   "metadata": {},
   "outputs": [
    {
     "data": {
      "text/plain": [
       "<AxesSubplot:xlabel='pais'>"
      ]
     },
     "execution_count": 112,
     "metadata": {},
     "output_type": "execute_result"
    },
    {
     "data": {
      "image/png": "[encoded data removed]",
      "text/plain": [
       "<Figure size 432x288 with 1 Axes>"
      ]
     },
     "metadata": {
      "needs_background": "light"
     },
     "output_type": "display_data"
    }
   ],
   "source": [
    "df2.set_index('pais')['poblacion'].plot(kind='bar')"
   ]
  },
  {
   "cell_type": "code",
   "execution_count": 113,
   "id": "6c9f3327",
   "metadata": {},
   "outputs": [
    {
     "data": {
      "text/plain": [
       "Index(['minus_a_mayus', 'categoria', 'color', 'pais', 'poblacion', 'area',\n",
       "       'habitantes_por_km2', 'mapeo_color'],\n",
       "      dtype='object')"
      ]
     },
     "execution_count": 113,
     "metadata": {},
     "output_type": "execute_result"
    }
   ],
   "source": [
    "df2.columns"
   ]
  },
  {
   "cell_type": "code",
   "execution_count": 114,
   "id": "b7617181",
   "metadata": {},
   "outputs": [
    {
     "data": {
      "text/plain": [
       "<AxesSubplot:xlabel='pais'>"
      ]
     },
     "execution_count": 114,
     "metadata": {},
     "output_type": "execute_result"
    },
    {
     "data": {
      "image/png": "[encoded data removed]",
      "text/plain": [
       "<Figure size 432x288 with 1 Axes>"
      ]
     },
     "metadata": {
      "needs_background": "light"
     },
     "output_type": "display_data"
    }
   ],
   "source": [
    "df2.set_index('pais')['habitantes_por_km2'].plot(kind='area')"
   ]
  },
  {
   "cell_type": "code",
   "execution_count": 115,
   "id": "a6932aaa",
   "metadata": {},
   "outputs": [
    {
     "data": {
      "image/png": "[encoded data removed]",
      "text/plain": [
       "<Figure size 432x288 with 1 Axes>"
      ]
     },
     "metadata": {
      "needs_background": "light"
     },
     "output_type": "display_data"
    }
   ],
   "source": [
    "df2.set_index('pais').plot.barh(stacked=True);"
   ]
  },
  {
   "cell_type": "code",
   "execution_count": 117,
   "id": "76db83a8",
   "metadata": {},
   "outputs": [
    {
     "data": {
      "image/png": "[encoded data removed]",
      "text/plain": [
       "<Figure size 432x288 with 1 Axes>"
      ]
     },
     "metadata": {},
     "output_type": "display_data"
    }
   ],
   "source": [
    "df2.set_index('pais')['poblacion'].plot.pie();"
   ]
  },
  {
   "cell_type": "code",
   "execution_count": 119,
   "id": "45709c0a",
   "metadata": {},
   "outputs": [
    {
     "data": {
      "image/png": "[encoded data removed]",
      "text/plain": [
       "<Figure size 432x288 with 1 Axes>"
      ]
     },
     "metadata": {
      "needs_background": "light"
     },
     "output_type": "display_data"
    }
   ],
   "source": [
    "df2.plot.scatter(x='habitantes_por_km2', y='area');"
   ]
  },
  {
   "cell_type": "markdown",
   "id": "c61eb9c1",
   "metadata": {},
   "source": [
    "<a id=\"section13\"></a>\n",
    "## <font color=\"#004D7F\">13. BASICOS</font>"
   ]
  },
  {
   "cell_type": "markdown",
   "id": "dd96f7b5",
   "metadata": {},
   "source": [
    "<a id=\"section131\"></a>\n",
    "## <font color=\"#004D7F\">13.1 Leer un archivo csv</font>\n"
   ]
  },
  {
   "cell_type": "code",
   "execution_count": 126,
   "id": "c572a8c0",
   "metadata": {},
   "outputs": [],
   "source": [
    "df_csv = pd.read_csv(\"Datos/train.csv\",sep=\",\")"
   ]
  },
  {
   "cell_type": "code",
   "execution_count": 127,
   "id": "7ef3f5f1",
   "metadata": {},
   "outputs": [
    {
     "data": {
      "text/html": [
       "<div>\n",
       "<style scoped>\n",
       "    .dataframe tbody tr th:only-of-type {\n",
       "        vertical-align: middle;\n",
       "    }\n",
       "\n",
       "    .dataframe tbody tr th {\n",
       "        vertical-align: top;\n",
       "    }\n",
       "\n",
       "    .dataframe thead th {\n",
       "        text-align: right;\n",
       "    }\n",
       "</style>\n",
       "<table border=\"1\" class=\"dataframe\">\n",
       "  <thead>\n",
       "    <tr style=\"text-align: right;\">\n",
       "      <th></th>\n",
       "      <th>id</th>\n",
       "      <th>cycle</th>\n",
       "      <th>setting1</th>\n",
       "      <th>setting2</th>\n",
       "      <th>setting3</th>\n",
       "      <th>s1</th>\n",
       "      <th>s2</th>\n",
       "      <th>s3</th>\n",
       "      <th>s4</th>\n",
       "      <th>s5</th>\n",
       "      <th>...</th>\n",
       "      <th>sd15</th>\n",
       "      <th>sd16</th>\n",
       "      <th>sd17</th>\n",
       "      <th>sd18</th>\n",
       "      <th>sd19</th>\n",
       "      <th>sd20</th>\n",
       "      <th>sd21</th>\n",
       "      <th>ttf</th>\n",
       "      <th>label_bnc</th>\n",
       "      <th>label_mcc</th>\n",
       "    </tr>\n",
       "  </thead>\n",
       "  <tbody>\n",
       "    <tr>\n",
       "      <th>0</th>\n",
       "      <td>1</td>\n",
       "      <td>1</td>\n",
       "      <td>-0.0007</td>\n",
       "      <td>-0.0004</td>\n",
       "      <td>100.0</td>\n",
       "      <td>518.67</td>\n",
       "      <td>641.82</td>\n",
       "      <td>1589.70</td>\n",
       "      <td>1400.60</td>\n",
       "      <td>14.62</td>\n",
       "      <td>...</td>\n",
       "      <td>0.000000</td>\n",
       "      <td>0.0</td>\n",
       "      <td>0.000000</td>\n",
       "      <td>0.0</td>\n",
       "      <td>0.0</td>\n",
       "      <td>0.000000</td>\n",
       "      <td>0.000000</td>\n",
       "      <td>191</td>\n",
       "      <td>0</td>\n",
       "      <td>0</td>\n",
       "    </tr>\n",
       "    <tr>\n",
       "      <th>1</th>\n",
       "      <td>1</td>\n",
       "      <td>2</td>\n",
       "      <td>0.0019</td>\n",
       "      <td>-0.0003</td>\n",
       "      <td>100.0</td>\n",
       "      <td>518.67</td>\n",
       "      <td>642.15</td>\n",
       "      <td>1591.82</td>\n",
       "      <td>1403.14</td>\n",
       "      <td>14.62</td>\n",
       "      <td>...</td>\n",
       "      <td>0.008697</td>\n",
       "      <td>0.0</td>\n",
       "      <td>0.000000</td>\n",
       "      <td>0.0</td>\n",
       "      <td>0.0</td>\n",
       "      <td>0.042426</td>\n",
       "      <td>0.003253</td>\n",
       "      <td>190</td>\n",
       "      <td>0</td>\n",
       "      <td>0</td>\n",
       "    </tr>\n",
       "    <tr>\n",
       "      <th>2</th>\n",
       "      <td>1</td>\n",
       "      <td>3</td>\n",
       "      <td>-0.0043</td>\n",
       "      <td>0.0003</td>\n",
       "      <td>100.0</td>\n",
       "      <td>518.67</td>\n",
       "      <td>642.35</td>\n",
       "      <td>1587.99</td>\n",
       "      <td>1404.20</td>\n",
       "      <td>14.62</td>\n",
       "      <td>...</td>\n",
       "      <td>0.007640</td>\n",
       "      <td>0.0</td>\n",
       "      <td>1.154701</td>\n",
       "      <td>0.0</td>\n",
       "      <td>0.0</td>\n",
       "      <td>0.055076</td>\n",
       "      <td>0.044573</td>\n",
       "      <td>189</td>\n",
       "      <td>0</td>\n",
       "      <td>0</td>\n",
       "    </tr>\n",
       "    <tr>\n",
       "      <th>3</th>\n",
       "      <td>1</td>\n",
       "      <td>4</td>\n",
       "      <td>0.0007</td>\n",
       "      <td>0.0000</td>\n",
       "      <td>100.0</td>\n",
       "      <td>518.67</td>\n",
       "      <td>642.35</td>\n",
       "      <td>1582.79</td>\n",
       "      <td>1401.87</td>\n",
       "      <td>14.62</td>\n",
       "      <td>...</td>\n",
       "      <td>0.028117</td>\n",
       "      <td>0.0</td>\n",
       "      <td>1.000000</td>\n",
       "      <td>0.0</td>\n",
       "      <td>0.0</td>\n",
       "      <td>0.076322</td>\n",
       "      <td>0.037977</td>\n",
       "      <td>188</td>\n",
       "      <td>0</td>\n",
       "      <td>0</td>\n",
       "    </tr>\n",
       "    <tr>\n",
       "      <th>4</th>\n",
       "      <td>1</td>\n",
       "      <td>5</td>\n",
       "      <td>-0.0019</td>\n",
       "      <td>-0.0002</td>\n",
       "      <td>100.0</td>\n",
       "      <td>518.67</td>\n",
       "      <td>642.37</td>\n",
       "      <td>1582.85</td>\n",
       "      <td>1406.22</td>\n",
       "      <td>14.62</td>\n",
       "      <td>...</td>\n",
       "      <td>0.025953</td>\n",
       "      <td>0.0</td>\n",
       "      <td>1.095445</td>\n",
       "      <td>0.0</td>\n",
       "      <td>0.0</td>\n",
       "      <td>0.073621</td>\n",
       "      <td>0.033498</td>\n",
       "      <td>187</td>\n",
       "      <td>0</td>\n",
       "      <td>0</td>\n",
       "    </tr>\n",
       "    <tr>\n",
       "      <th>...</th>\n",
       "      <td>...</td>\n",
       "      <td>...</td>\n",
       "      <td>...</td>\n",
       "      <td>...</td>\n",
       "      <td>...</td>\n",
       "      <td>...</td>\n",
       "      <td>...</td>\n",
       "      <td>...</td>\n",
       "      <td>...</td>\n",
       "      <td>...</td>\n",
       "      <td>...</td>\n",
       "      <td>...</td>\n",
       "      <td>...</td>\n",
       "      <td>...</td>\n",
       "      <td>...</td>\n",
       "      <td>...</td>\n",
       "      <td>...</td>\n",
       "      <td>...</td>\n",
       "      <td>...</td>\n",
       "      <td>...</td>\n",
       "      <td>...</td>\n",
       "    </tr>\n",
       "    <tr>\n",
       "      <th>20626</th>\n",
       "      <td>100</td>\n",
       "      <td>196</td>\n",
       "      <td>-0.0004</td>\n",
       "      <td>-0.0003</td>\n",
       "      <td>100.0</td>\n",
       "      <td>518.67</td>\n",
       "      <td>643.49</td>\n",
       "      <td>1597.98</td>\n",
       "      <td>1428.63</td>\n",
       "      <td>14.62</td>\n",
       "      <td>...</td>\n",
       "      <td>0.027684</td>\n",
       "      <td>0.0</td>\n",
       "      <td>1.643168</td>\n",
       "      <td>0.0</td>\n",
       "      <td>0.0</td>\n",
       "      <td>0.163003</td>\n",
       "      <td>0.086540</td>\n",
       "      <td>4</td>\n",
       "      <td>1</td>\n",
       "      <td>2</td>\n",
       "    </tr>\n",
       "    <tr>\n",
       "      <th>20627</th>\n",
       "      <td>100</td>\n",
       "      <td>197</td>\n",
       "      <td>-0.0016</td>\n",
       "      <td>-0.0005</td>\n",
       "      <td>100.0</td>\n",
       "      <td>518.67</td>\n",
       "      <td>643.54</td>\n",
       "      <td>1604.50</td>\n",
       "      <td>1433.58</td>\n",
       "      <td>14.62</td>\n",
       "      <td>...</td>\n",
       "      <td>0.022507</td>\n",
       "      <td>0.0</td>\n",
       "      <td>1.516575</td>\n",
       "      <td>0.0</td>\n",
       "      <td>0.0</td>\n",
       "      <td>0.142583</td>\n",
       "      <td>0.093479</td>\n",
       "      <td>3</td>\n",
       "      <td>1</td>\n",
       "      <td>2</td>\n",
       "    </tr>\n",
       "    <tr>\n",
       "      <th>20628</th>\n",
       "      <td>100</td>\n",
       "      <td>198</td>\n",
       "      <td>0.0004</td>\n",
       "      <td>0.0000</td>\n",
       "      <td>100.0</td>\n",
       "      <td>518.67</td>\n",
       "      <td>643.42</td>\n",
       "      <td>1602.46</td>\n",
       "      <td>1428.18</td>\n",
       "      <td>14.62</td>\n",
       "      <td>...</td>\n",
       "      <td>0.028242</td>\n",
       "      <td>0.0</td>\n",
       "      <td>1.816590</td>\n",
       "      <td>0.0</td>\n",
       "      <td>0.0</td>\n",
       "      <td>0.137113</td>\n",
       "      <td>0.116735</td>\n",
       "      <td>2</td>\n",
       "      <td>1</td>\n",
       "      <td>2</td>\n",
       "    </tr>\n",
       "    <tr>\n",
       "      <th>20629</th>\n",
       "      <td>100</td>\n",
       "      <td>199</td>\n",
       "      <td>-0.0011</td>\n",
       "      <td>0.0003</td>\n",
       "      <td>100.0</td>\n",
       "      <td>518.67</td>\n",
       "      <td>643.23</td>\n",
       "      <td>1605.26</td>\n",
       "      <td>1426.53</td>\n",
       "      <td>14.62</td>\n",
       "      <td>...</td>\n",
       "      <td>0.028081</td>\n",
       "      <td>0.0</td>\n",
       "      <td>1.643168</td>\n",
       "      <td>0.0</td>\n",
       "      <td>0.0</td>\n",
       "      <td>0.138094</td>\n",
       "      <td>0.112731</td>\n",
       "      <td>1</td>\n",
       "      <td>1</td>\n",
       "      <td>2</td>\n",
       "    </tr>\n",
       "    <tr>\n",
       "      <th>20630</th>\n",
       "      <td>100</td>\n",
       "      <td>200</td>\n",
       "      <td>-0.0032</td>\n",
       "      <td>-0.0005</td>\n",
       "      <td>100.0</td>\n",
       "      <td>518.67</td>\n",
       "      <td>643.85</td>\n",
       "      <td>1600.38</td>\n",
       "      <td>1432.14</td>\n",
       "      <td>14.62</td>\n",
       "      <td>...</td>\n",
       "      <td>0.028252</td>\n",
       "      <td>0.0</td>\n",
       "      <td>1.303840</td>\n",
       "      <td>0.0</td>\n",
       "      <td>0.0</td>\n",
       "      <td>0.087006</td>\n",
       "      <td>0.087645</td>\n",
       "      <td>0</td>\n",
       "      <td>1</td>\n",
       "      <td>2</td>\n",
       "    </tr>\n",
       "  </tbody>\n",
       "</table>\n",
       "<p>20631 rows × 71 columns</p>\n",
       "</div>"
      ],
      "text/plain": [
       "        id  cycle  setting1  setting2  setting3      s1      s2       s3  \\\n",
       "0        1      1   -0.0007   -0.0004     100.0  518.67  641.82  1589.70   \n",
       "1        1      2    0.0019   -0.0003     100.0  518.67  642.15  1591.82   \n",
       "2        1      3   -0.0043    0.0003     100.0  518.67  642.35  1587.99   \n",
       "3        1      4    0.0007    0.0000     100.0  518.67  642.35  1582.79   \n",
       "4        1      5   -0.0019   -0.0002     100.0  518.67  642.37  1582.85   \n",
       "...    ...    ...       ...       ...       ...     ...     ...      ...   \n",
       "20626  100    196   -0.0004   -0.0003     100.0  518.67  643.49  1597.98   \n",
       "20627  100    197   -0.0016   -0.0005     100.0  518.67  643.54  1604.50   \n",
       "20628  100    198    0.0004    0.0000     100.0  518.67  643.42  1602.46   \n",
       "20629  100    199   -0.0011    0.0003     100.0  518.67  643.23  1605.26   \n",
       "20630  100    200   -0.0032   -0.0005     100.0  518.67  643.85  1600.38   \n",
       "\n",
       "            s4     s5  ...      sd15  sd16      sd17  sd18  sd19      sd20  \\\n",
       "0      1400.60  14.62  ...  0.000000   0.0  0.000000   0.0   0.0  0.000000   \n",
       "1      1403.14  14.62  ...  0.008697   0.0  0.000000   0.0   0.0  0.042426   \n",
       "2      1404.20  14.62  ...  0.007640   0.0  1.154701   0.0   0.0  0.055076   \n",
       "3      1401.87  14.62  ...  0.028117   0.0  1.000000   0.0   0.0  0.076322   \n",
       "4      1406.22  14.62  ...  0.025953   0.0  1.095445   0.0   0.0  0.073621   \n",
       "...        ...    ...  ...       ...   ...       ...   ...   ...       ...   \n",
       "20626  1428.63  14.62  ...  0.027684   0.0  1.643168   0.0   0.0  0.163003   \n",
       "20627  1433.58  14.62  ...  0.022507   0.0  1.516575   0.0   0.0  0.142583   \n",
       "20628  1428.18  14.62  ...  0.028242   0.0  1.816590   0.0   0.0  0.137113   \n",
       "20629  1426.53  14.62  ...  0.028081   0.0  1.643168   0.0   0.0  0.138094   \n",
       "20630  1432.14  14.62  ...  0.028252   0.0  1.303840   0.0   0.0  0.087006   \n",
       "\n",
       "           sd21  ttf  label_bnc  label_mcc  \n",
       "0      0.000000  191          0          0  \n",
       "1      0.003253  190          0          0  \n",
       "2      0.044573  189          0          0  \n",
       "3      0.037977  188          0          0  \n",
       "4      0.033498  187          0          0  \n",
       "...         ...  ...        ...        ...  \n",
       "20626  0.086540    4          1          2  \n",
       "20627  0.093479    3          1          2  \n",
       "20628  0.116735    2          1          2  \n",
       "20629  0.112731    1          1          2  \n",
       "20630  0.087645    0          1          2  \n",
       "\n",
       "[20631 rows x 71 columns]"
      ]
     },
     "execution_count": 127,
     "metadata": {},
     "output_type": "execute_result"
    }
   ],
   "source": [
    "df_csv"
   ]
  },
  {
   "cell_type": "code",
   "execution_count": 128,
   "id": "e8c8459b",
   "metadata": {},
   "outputs": [
    {
     "name": "stdout",
     "output_type": "stream",
     "text": [
      "<class 'pandas.core.frame.DataFrame'>\n",
      "Int64Index: 5 entries, 0 to 4\n",
      "Data columns (total 8 columns):\n",
      " #   Column              Non-Null Count  Dtype  \n",
      "---  ------              --------------  -----  \n",
      " 0   minus_a_mayus       5 non-null      object \n",
      " 1   categoria           5 non-null      object \n",
      " 2   color               5 non-null      object \n",
      " 3   pais                5 non-null      object \n",
      " 4   poblacion           5 non-null      int64  \n",
      " 5   area                5 non-null      int64  \n",
      " 6   habitantes_por_km2  5 non-null      float64\n",
      " 7   mapeo_color         5 non-null      int32  \n",
      "dtypes: float64(1), int32(1), int64(2), object(4)\n",
      "memory usage: 512.0+ bytes\n"
     ]
    }
   ],
   "source": [
    "df2.info()"
   ]
  },
  {
   "cell_type": "code",
   "execution_count": 129,
   "id": "c157c004",
   "metadata": {},
   "outputs": [
    {
     "data": {
      "text/html": [
       "<div>\n",
       "<style scoped>\n",
       "    .dataframe tbody tr th:only-of-type {\n",
       "        vertical-align: middle;\n",
       "    }\n",
       "\n",
       "    .dataframe tbody tr th {\n",
       "        vertical-align: top;\n",
       "    }\n",
       "\n",
       "    .dataframe thead th {\n",
       "        text-align: right;\n",
       "    }\n",
       "</style>\n",
       "<table border=\"1\" class=\"dataframe\">\n",
       "  <thead>\n",
       "    <tr style=\"text-align: right;\">\n",
       "      <th></th>\n",
       "      <th>minus_a_mayus</th>\n",
       "      <th>categoria</th>\n",
       "      <th>color</th>\n",
       "      <th>pais</th>\n",
       "      <th>poblacion</th>\n",
       "      <th>area</th>\n",
       "      <th>habitantes_por_km2</th>\n",
       "      <th>mapeo_color</th>\n",
       "    </tr>\n",
       "  </thead>\n",
       "  <tbody>\n",
       "    <tr>\n",
       "      <th>count</th>\n",
       "      <td>5</td>\n",
       "      <td>5</td>\n",
       "      <td>5</td>\n",
       "      <td>5</td>\n",
       "      <td>5.000000e+00</td>\n",
       "      <td>5.000000</td>\n",
       "      <td>5.000000</td>\n",
       "      <td>5.000000</td>\n",
       "    </tr>\n",
       "    <tr>\n",
       "      <th>unique</th>\n",
       "      <td>5</td>\n",
       "      <td>3</td>\n",
       "      <td>3</td>\n",
       "      <td>5</td>\n",
       "      <td>NaN</td>\n",
       "      <td>NaN</td>\n",
       "      <td>NaN</td>\n",
       "      <td>NaN</td>\n",
       "    </tr>\n",
       "    <tr>\n",
       "      <th>top</th>\n",
       "      <td>MEXIC</td>\n",
       "      <td>C</td>\n",
       "      <td>azul</td>\n",
       "      <td>Mexico</td>\n",
       "      <td>NaN</td>\n",
       "      <td>NaN</td>\n",
       "      <td>NaN</td>\n",
       "      <td>NaN</td>\n",
       "    </tr>\n",
       "    <tr>\n",
       "      <th>freq</th>\n",
       "      <td>1</td>\n",
       "      <td>3</td>\n",
       "      <td>3</td>\n",
       "      <td>1</td>\n",
       "      <td>NaN</td>\n",
       "      <td>NaN</td>\n",
       "      <td>NaN</td>\n",
       "      <td>NaN</td>\n",
       "    </tr>\n",
       "    <tr>\n",
       "      <th>mean</th>\n",
       "      <td>NaN</td>\n",
       "      <td>NaN</td>\n",
       "      <td>NaN</td>\n",
       "      <td>NaN</td>\n",
       "      <td>5.369000e+07</td>\n",
       "      <td>2600.000000</td>\n",
       "      <td>40089.993333</td>\n",
       "      <td>0.600000</td>\n",
       "    </tr>\n",
       "    <tr>\n",
       "      <th>std</th>\n",
       "      <td>NaN</td>\n",
       "      <td>NaN</td>\n",
       "      <td>NaN</td>\n",
       "      <td>NaN</td>\n",
       "      <td>4.588450e+07</td>\n",
       "      <td>1981.161276</td>\n",
       "      <td>49977.656170</td>\n",
       "      <td>0.894427</td>\n",
       "    </tr>\n",
       "    <tr>\n",
       "      <th>min</th>\n",
       "      <td>NaN</td>\n",
       "      <td>NaN</td>\n",
       "      <td>NaN</td>\n",
       "      <td>NaN</td>\n",
       "      <td>5.000000e+04</td>\n",
       "      <td>1000.000000</td>\n",
       "      <td>8.333333</td>\n",
       "      <td>0.000000</td>\n",
       "    </tr>\n",
       "    <tr>\n",
       "      <th>25%</th>\n",
       "      <td>NaN</td>\n",
       "      <td>NaN</td>\n",
       "      <td>NaN</td>\n",
       "      <td>NaN</td>\n",
       "      <td>4.516700e+07</td>\n",
       "      <td>1500.000000</td>\n",
       "      <td>19568.800000</td>\n",
       "      <td>0.000000</td>\n",
       "    </tr>\n",
       "    <tr>\n",
       "      <th>50%</th>\n",
       "      <td>NaN</td>\n",
       "      <td>NaN</td>\n",
       "      <td>NaN</td>\n",
       "      <td>NaN</td>\n",
       "      <td>4.709900e+07</td>\n",
       "      <td>2000.000000</td>\n",
       "      <td>23549.500000</td>\n",
       "      <td>0.000000</td>\n",
       "    </tr>\n",
       "    <tr>\n",
       "      <th>75%</th>\n",
       "      <td>NaN</td>\n",
       "      <td>NaN</td>\n",
       "      <td>NaN</td>\n",
       "      <td>NaN</td>\n",
       "      <td>4.892200e+07</td>\n",
       "      <td>2500.000000</td>\n",
       "      <td>30111.333333</td>\n",
       "      <td>1.000000</td>\n",
       "    </tr>\n",
       "    <tr>\n",
       "      <th>max</th>\n",
       "      <td>NaN</td>\n",
       "      <td>NaN</td>\n",
       "      <td>NaN</td>\n",
       "      <td>NaN</td>\n",
       "      <td>1.272120e+08</td>\n",
       "      <td>6000.000000</td>\n",
       "      <td>127212.000000</td>\n",
       "      <td>2.000000</td>\n",
       "    </tr>\n",
       "  </tbody>\n",
       "</table>\n",
       "</div>"
      ],
      "text/plain": [
       "       minus_a_mayus categoria color    pais     poblacion         area  \\\n",
       "count              5         5     5       5  5.000000e+00     5.000000   \n",
       "unique             5         3     3       5           NaN          NaN   \n",
       "top            MEXIC         C  azul  Mexico           NaN          NaN   \n",
       "freq               1         3     3       1           NaN          NaN   \n",
       "mean             NaN       NaN   NaN     NaN  5.369000e+07  2600.000000   \n",
       "std              NaN       NaN   NaN     NaN  4.588450e+07  1981.161276   \n",
       "min              NaN       NaN   NaN     NaN  5.000000e+04  1000.000000   \n",
       "25%              NaN       NaN   NaN     NaN  4.516700e+07  1500.000000   \n",
       "50%              NaN       NaN   NaN     NaN  4.709900e+07  2000.000000   \n",
       "75%              NaN       NaN   NaN     NaN  4.892200e+07  2500.000000   \n",
       "max              NaN       NaN   NaN     NaN  1.272120e+08  6000.000000   \n",
       "\n",
       "        habitantes_por_km2  mapeo_color  \n",
       "count             5.000000     5.000000  \n",
       "unique                 NaN          NaN  \n",
       "top                    NaN          NaN  \n",
       "freq                   NaN          NaN  \n",
       "mean          40089.993333     0.600000  \n",
       "std           49977.656170     0.894427  \n",
       "min               8.333333     0.000000  \n",
       "25%           19568.800000     0.000000  \n",
       "50%           23549.500000     0.000000  \n",
       "75%           30111.333333     1.000000  \n",
       "max          127212.000000     2.000000  "
      ]
     },
     "execution_count": 129,
     "metadata": {},
     "output_type": "execute_result"
    }
   ],
   "source": [
    "### Estadisticas sobre las columnas numericas\n",
    "df2.describe(include='all')#df2.describe(include='all')"
   ]
  },
  {
   "cell_type": "code",
   "execution_count": 130,
   "id": "448d4b83",
   "metadata": {},
   "outputs": [
    {
     "data": {
      "text/plain": [
       "count       5.000000\n",
       "mean     2600.000000\n",
       "std      1981.161276\n",
       "min      1000.000000\n",
       "25%      1500.000000\n",
       "50%      2000.000000\n",
       "75%      2500.000000\n",
       "max      6000.000000\n",
       "Name: area, dtype: float64"
      ]
     },
     "execution_count": 130,
     "metadata": {},
     "output_type": "execute_result"
    }
   ],
   "source": [
    "df2.area.describe()"
   ]
  },
  {
   "cell_type": "code",
   "execution_count": 133,
   "id": "3cc028b5",
   "metadata": {},
   "outputs": [
    {
     "data": {
      "text/html": [
       "<div>\n",
       "<style scoped>\n",
       "    .dataframe tbody tr th:only-of-type {\n",
       "        vertical-align: middle;\n",
       "    }\n",
       "\n",
       "    .dataframe tbody tr th {\n",
       "        vertical-align: top;\n",
       "    }\n",
       "\n",
       "    .dataframe thead th {\n",
       "        text-align: right;\n",
       "    }\n",
       "</style>\n",
       "<table border=\"1\" class=\"dataframe\">\n",
       "  <thead>\n",
       "    <tr style=\"text-align: right;\">\n",
       "      <th></th>\n",
       "      <th>minus_a_mayus</th>\n",
       "      <th>categoria</th>\n",
       "      <th>color</th>\n",
       "      <th>pais</th>\n",
       "      <th>poblacion</th>\n",
       "      <th>area</th>\n",
       "      <th>habitantes_por_km2</th>\n",
       "      <th>mapeo_color</th>\n",
       "    </tr>\n",
       "  </thead>\n",
       "  <tbody>\n",
       "    <tr>\n",
       "      <th>0</th>\n",
       "      <td>MEXIC</td>\n",
       "      <td>B</td>\n",
       "      <td>verde</td>\n",
       "      <td>Mexico</td>\n",
       "      <td>127212000</td>\n",
       "      <td>1000</td>\n",
       "      <td>127212.0</td>\n",
       "      <td>2</td>\n",
       "    </tr>\n",
       "  </tbody>\n",
       "</table>\n",
       "</div>"
      ],
      "text/plain": [
       "  minus_a_mayus categoria  color    pais  poblacion  area  habitantes_por_km2  \\\n",
       "0         MEXIC         B  verde  Mexico  127212000  1000            127212.0   \n",
       "\n",
       "   mapeo_color  \n",
       "0            2  "
      ]
     },
     "execution_count": 133,
     "metadata": {},
     "output_type": "execute_result"
    }
   ],
   "source": [
    "df2.head(1)"
   ]
  },
  {
   "cell_type": "code",
   "execution_count": 134,
   "id": "8d828bf9",
   "metadata": {},
   "outputs": [
    {
     "data": {
      "text/html": [
       "<div>\n",
       "<style scoped>\n",
       "    .dataframe tbody tr th:only-of-type {\n",
       "        vertical-align: middle;\n",
       "    }\n",
       "\n",
       "    .dataframe tbody tr th {\n",
       "        vertical-align: top;\n",
       "    }\n",
       "\n",
       "    .dataframe thead th {\n",
       "        text-align: right;\n",
       "    }\n",
       "</style>\n",
       "<table border=\"1\" class=\"dataframe\">\n",
       "  <thead>\n",
       "    <tr style=\"text-align: right;\">\n",
       "      <th></th>\n",
       "      <th>minus_a_mayus</th>\n",
       "      <th>categoria</th>\n",
       "      <th>color</th>\n",
       "      <th>pais</th>\n",
       "      <th>poblacion</th>\n",
       "      <th>area</th>\n",
       "      <th>habitantes_por_km2</th>\n",
       "      <th>mapeo_color</th>\n",
       "    </tr>\n",
       "  </thead>\n",
       "  <tbody>\n",
       "    <tr>\n",
       "      <th>4</th>\n",
       "      <td>VENEZ</td>\n",
       "      <td>C</td>\n",
       "      <td>azul</td>\n",
       "      <td>Venezuela</td>\n",
       "      <td>50000</td>\n",
       "      <td>6000</td>\n",
       "      <td>8.333333</td>\n",
       "      <td>0</td>\n",
       "    </tr>\n",
       "  </tbody>\n",
       "</table>\n",
       "</div>"
      ],
      "text/plain": [
       "  minus_a_mayus categoria color       pais  poblacion  area  \\\n",
       "4         VENEZ         C  azul  Venezuela      50000  6000   \n",
       "\n",
       "   habitantes_por_km2  mapeo_color  \n",
       "4            8.333333            0  "
      ]
     },
     "execution_count": 134,
     "metadata": {},
     "output_type": "execute_result"
    }
   ],
   "source": [
    "df2.tail(1)"
   ]
  },
  {
   "cell_type": "code",
   "execution_count": 135,
   "id": "169e0407",
   "metadata": {},
   "outputs": [
    {
     "data": {
      "text/plain": [
       "5"
      ]
     },
     "execution_count": 135,
     "metadata": {},
     "output_type": "execute_result"
    }
   ],
   "source": [
    "## cantidad de filas\n",
    "len(df2)"
   ]
  },
  {
   "cell_type": "code",
   "execution_count": 136,
   "id": "5d20baa0",
   "metadata": {},
   "outputs": [
    {
     "data": {
      "text/plain": [
       "(5, 8)"
      ]
     },
     "execution_count": 136,
     "metadata": {},
     "output_type": "execute_result"
    }
   ],
   "source": [
    "## dimensiones del dataframe (filas, columnas)\n",
    "df2.shape"
   ]
  },
  {
   "cell_type": "code",
   "execution_count": 137,
   "id": "8c4a899c",
   "metadata": {},
   "outputs": [
    {
     "name": "stdout",
     "output_type": "stream",
     "text": [
      "0 Mexico\n",
      "1 Argentina\n",
      "2 España\n",
      "3 Colombia\n",
      "4 Venezuela\n"
     ]
    }
   ],
   "source": [
    "###iterar un DataFrame\n",
    "for index, row in df2.iterrows():\n",
    "    print(index,row['pais'])"
   ]
  },
  {
   "cell_type": "code",
   "execution_count": 138,
   "id": "2beaddc5",
   "metadata": {},
   "outputs": [
    {
     "data": {
      "text/plain": [
       "Index(['minus_a_mayus', 'categoria', 'color', 'pais', 'poblacion', 'area',\n",
       "       'habitantes_por_km2', 'mapeo_color'],\n",
       "      dtype='object')"
      ]
     },
     "execution_count": 138,
     "metadata": {},
     "output_type": "execute_result"
    }
   ],
   "source": [
    "df2.columns"
   ]
  },
  {
   "cell_type": "code",
   "execution_count": 139,
   "id": "f920b007",
   "metadata": {},
   "outputs": [
    {
     "name": "stdout",
     "output_type": "stream",
     "text": [
      "el valor de habit_x_mk2 promedio 40089.99333333333\n",
      "el valor de habit_x_mk2 suma 200449.96666666667\n",
      "el valor de habit_x_mk2 contabilkización 5\n",
      "el valor de habit_x_mk2 valor min 8.333333333333334\n",
      "el valor de habit_x_mk2 valor max 127212.0\n"
     ]
    }
   ],
   "source": [
    "# Obtener sumatoria, media y cantidad de una columna\n",
    "print(\"el valor de habit_x_mk2 promedio\",df2['habitantes_por_km2'].mean())\n",
    "print(\"el valor de habit_x_mk2 suma\",df2['habitantes_por_km2'].sum())\n",
    "print(\"el valor de habit_x_mk2 contabilkización\",df2['habitantes_por_km2'].count())\n",
    "print(\"el valor de habit_x_mk2 valor min\",df2['habitantes_por_km2'].min())\n",
    "print(\"el valor de habit_x_mk2 valor max\",df2['habitantes_por_km2'].max())"
   ]
  },
  {
   "cell_type": "code",
   "execution_count": 140,
   "id": "8a69ab44",
   "metadata": {},
   "outputs": [
    {
     "data": {
      "text/plain": [
       "minus_a_mayus         0\n",
       "categoria             0\n",
       "color                 0\n",
       "pais                  0\n",
       "poblacion             0\n",
       "area                  0\n",
       "habitantes_por_km2    0\n",
       "mapeo_color           0\n",
       "dtype: int64"
      ]
     },
     "execution_count": 140,
     "metadata": {},
     "output_type": "execute_result"
    }
   ],
   "source": [
    "# Revisar si tenemos nulos en la tabla\n",
    "df2.isnull().sum()"
   ]
  },
  {
   "cell_type": "code",
   "execution_count": 141,
   "id": "bd034c94",
   "metadata": {},
   "outputs": [
    {
     "data": {
      "text/plain": [
       "0    1000\n",
       "1    1500\n",
       "2    2000\n",
       "3    2500\n",
       "4    6000\n",
       "Name: area, dtype: int64"
      ]
     },
     "execution_count": 141,
     "metadata": {},
     "output_type": "execute_result"
    }
   ],
   "source": [
    "# acceso a una columna\n",
    "df2.area"
   ]
  },
  {
   "cell_type": "code",
   "execution_count": 142,
   "id": "ccb6f898",
   "metadata": {},
   "outputs": [
    {
     "data": {
      "text/plain": [
       "0    1000\n",
       "1    1500\n",
       "2    2000\n",
       "3    2500\n",
       "4    6000\n",
       "Name: area, dtype: int64"
      ]
     },
     "execution_count": 142,
     "metadata": {},
     "output_type": "execute_result"
    }
   ],
   "source": [
    "df2['area']"
   ]
  },
  {
   "cell_type": "code",
   "execution_count": 143,
   "id": "2145ee9e",
   "metadata": {},
   "outputs": [
    {
     "data": {
      "text/plain": [
       "array(['B', 'C', 'A'], dtype=object)"
      ]
     },
     "execution_count": 143,
     "metadata": {},
     "output_type": "execute_result"
    }
   ],
   "source": [
    "df2.categoria.unique()"
   ]
  },
  {
   "cell_type": "code",
   "execution_count": 145,
   "id": "3c93294e",
   "metadata": {},
   "outputs": [
    {
     "data": {
      "text/plain": [
       "3"
      ]
     },
     "execution_count": 145,
     "metadata": {},
     "output_type": "execute_result"
    }
   ],
   "source": [
    "# cantidad de unicos\n",
    "len(df2.categoria.unique())"
   ]
  },
  {
   "cell_type": "code",
   "execution_count": 146,
   "id": "dbb723e4",
   "metadata": {},
   "outputs": [
    {
     "data": {
      "text/plain": [
       "minus_a_mayus             VENEZ\n",
       "categoria                     C\n",
       "color                      azul\n",
       "pais                  Venezuela\n",
       "poblacion                 50000\n",
       "area                       6000\n",
       "habitantes_por_km2     8.333333\n",
       "mapeo_color                   0\n",
       "Name: 4, dtype: object"
      ]
     },
     "execution_count": 146,
     "metadata": {},
     "output_type": "execute_result"
    }
   ],
   "source": [
    "#obtener ultima fila\n",
    "df2.iloc[-1]"
   ]
  },
  {
   "cell_type": "code",
   "execution_count": 148,
   "id": "3e81e644",
   "metadata": {},
   "outputs": [
    {
     "data": {
      "text/plain": [
       "minus_a_mayus             MEXIC\n",
       "categoria                     B\n",
       "color                     verde\n",
       "pais                     Mexico\n",
       "poblacion             127212000\n",
       "area                       1000\n",
       "habitantes_por_km2     127212.0\n",
       "mapeo_color                   2\n",
       "Name: 0, dtype: object"
      ]
     },
     "execution_count": 148,
     "metadata": {},
     "output_type": "execute_result"
    }
   ],
   "source": [
    "#obtener primera fila\n",
    "df2.iloc[0]"
   ]
  },
  {
   "cell_type": "code",
   "execution_count": 152,
   "id": "ede07475",
   "metadata": {},
   "outputs": [
    {
     "data": {
      "text/plain": [
       "0    MEXIC\n",
       "1    ARGEN\n",
       "2    ESPAÑ\n",
       "3    COLOM\n",
       "4    VENEZ\n",
       "Name: minus_a_mayus, dtype: object"
      ]
     },
     "execution_count": 152,
     "metadata": {},
     "output_type": "execute_result"
    }
   ],
   "source": [
    "# obtener primera columna\n",
    "df2.iloc[:,0]"
   ]
  },
  {
   "cell_type": "code",
   "execution_count": 153,
   "id": "122c1a9e",
   "metadata": {},
   "outputs": [
    {
     "data": {
      "text/plain": [
       "minus_a_mayus            ESPAÑ\n",
       "categoria                    C\n",
       "color                     azul\n",
       "pais                    España\n",
       "poblacion             47099000\n",
       "area                      2000\n",
       "habitantes_por_km2     23549.5\n",
       "mapeo_color                  0\n",
       "Name: 2, dtype: object"
      ]
     },
     "execution_count": 153,
     "metadata": {},
     "output_type": "execute_result"
    }
   ],
   "source": [
    "# Busco por indice\n",
    "df2.loc[2]"
   ]
  },
  {
   "cell_type": "markdown",
   "id": "6fd33652",
   "metadata": {},
   "source": [
    "<a id=\"section132\"></a>\n",
    "## <font color=\"#004D7F\">13.2 Leer un archivo Excel</font>"
   ]
  },
  {
   "cell_type": "code",
   "execution_count": null,
   "id": "45cff212",
   "metadata": {},
   "outputs": [],
   "source": [
    "pd.read_excel (\"nombre_archivo.xlsx\",sheet_name=\"nombre_hoja\")"
   ]
  }
 ],
 "metadata": {
  "kernelspec": {
   "display_name": "Python 3 (ipykernel)",
   "language": "python",
   "name": "python3"
  },
  "language_info": {
   "codemirror_mode": {
    "name": "ipython",
    "version": 3
   },
   "file_extension": ".py",
   "mimetype": "text/x-python",
   "name": "python",
   "nbconvert_exporter": "python",
   "pygments_lexer": "ipython3",
   "version": "3.9.7"
  }
 },
 "nbformat": 4,
 "nbformat_minor": 5
}
