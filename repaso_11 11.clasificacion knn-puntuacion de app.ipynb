{
 "cells": [
  {
   "cell_type": "markdown",
   "id": "a0ec7e5a",
   "metadata": {},
   "source": [
    "* [1. Creacion de Dataset](#section1)\n",
    "* [2. Filtrar](#section2)\n",
    "* [3. Operaciones entre columnas](#section3)\n",
    "* [4. Funciones](#section4)\n",
    "* [5. Mapeo](#section5)\n",
    "* [6. Reordenamos columnas](#section6)\n",
    "* [7. join entre tablas](#section7)\n",
    "* [8. Adicionar multiples filas desde otra tabla con Append](#section8)\n",
    "* [9. Agrupar](#section9)\n",
    "* [10. Pivotear una tabla](#section10)\n",
    "* [11. Transponer una tabla](#section11)\n",
    "* [12. Visualizacion](#section12)\n",
    "* [13. BASICOS](#section13)\n",
    "* [13.1 Leer un archivo csv](#section131)\n",
    "* [13.2 Leer un archivo Excel](#section132)"
   ]
  },
  {
   "cell_type": "markdown",
   "id": "47e595a1",
   "metadata": {},
   "source": [
    "<a id=\"section1\"></a>\n",
    "## <font color=\"#004D7F\">1. Importando librerias</font>"
   ]
  },
  {
   "cell_type": "code",
   "execution_count": 1,
   "id": "55fa9905",
   "metadata": {},
   "outputs": [],
   "source": [
    "import pandas as pd \n",
    "import numpy as np\n",
    "import matplotlib.pyplot as plt\n",
    "from matplotlib.colors import ListedColormap\n",
    "import matplotlib.patches as mpatches\n",
    "import seaborn as sns"
   ]
  },
  {
   "cell_type": "code",
   "execution_count": 2,
   "id": "812e3140",
   "metadata": {},
   "outputs": [],
   "source": [
    "%matplotlib inline\n",
    "plt.rcParams['figure.figsize']=(10,10)\n",
    "plt.style.use('ggplot')"
   ]
  },
  {
   "cell_type": "markdown",
   "id": "b4e0278d",
   "metadata": {},
   "source": [
    "<a id=\"section11\"></a>\n",
    "## <font color=\"#004D7F\">1.1 Visualizacion de todas las filas y las columnas</font>"
   ]
  },
  {
   "cell_type": "code",
   "execution_count": 3,
   "id": "d772db12",
   "metadata": {},
   "outputs": [],
   "source": [
    "pd.set_option('display.max_columns',None)\n",
    "pd.set_option('display.max_rows',None)"
   ]
  },
  {
   "cell_type": "markdown",
   "id": "ce9ab0cc",
   "metadata": {},
   "source": [
    "## Ejercicio KNN\n",
    "Para nuestro ejercicio tomaremos 257 registros con Opiniones de usuarios sobre una app (Reviews). \n",
    "Utilizaremos 2 columnas de datos como fuente de alimento del algoritmo.\n",
    "Recuerden que sólo tomaré 2 features para poder graficar en 2 dimensiones, \n",
    "PERO para un problema «en la vida real» conviene tomar más características de lo que sea que queramos resolver. \n",
    "Esto es únicamente con fines de enseñanza. Las columnas que utilizaremos serán: \n",
    "    \n",
    "    \n",
    "-Wordcount con la cantidad de palabras utilizadas \n",
    "-SentimentValue con un valor entre -4 y 4 que indica si el comentario fue valorado como positivo o negativo. \n",
    "\n",
    "\n",
    "Nuestras etiquetas, serán las estrellas que dieron los usuarios a la app, que son valores discretos del 1 al 5. \n",
    "Podemos pensar que si el usuario puntúa con más estrellas, tendrá un sentimiento positivo, \n",
    "pero no necesariamente siempre es así."
   ]
  },
  {
   "cell_type": "markdown",
   "id": "095f19e2",
   "metadata": {},
   "source": [
    "#### Cargamos los datos"
   ]
  },
  {
   "cell_type": "code",
   "execution_count": 4,
   "id": "cb34395d",
   "metadata": {},
   "outputs": [],
   "source": [
    "df=pd.read_csv('Datos/reviews_sentiment.csv',sep=';')"
   ]
  },
  {
   "cell_type": "code",
   "execution_count": 5,
   "id": "80a8b4b3",
   "metadata": {},
   "outputs": [
    {
     "data": {
      "text/html": [
       "<div>\n",
       "<style scoped>\n",
       "    .dataframe tbody tr th:only-of-type {\n",
       "        vertical-align: middle;\n",
       "    }\n",
       "\n",
       "    .dataframe tbody tr th {\n",
       "        vertical-align: top;\n",
       "    }\n",
       "\n",
       "    .dataframe thead th {\n",
       "        text-align: right;\n",
       "    }\n",
       "</style>\n",
       "<table border=\"1\" class=\"dataframe\">\n",
       "  <thead>\n",
       "    <tr style=\"text-align: right;\">\n",
       "      <th></th>\n",
       "      <th>Review Title</th>\n",
       "      <th>Review Text</th>\n",
       "      <th>wordcount</th>\n",
       "      <th>titleSentiment</th>\n",
       "      <th>textSentiment</th>\n",
       "      <th>Star Rating</th>\n",
       "      <th>sentimentValue</th>\n",
       "    </tr>\n",
       "  </thead>\n",
       "  <tbody>\n",
       "    <tr>\n",
       "      <th>0</th>\n",
       "      <td>Sin conexión</td>\n",
       "      <td>Hola desde hace algo más de un mes me pone sin...</td>\n",
       "      <td>23</td>\n",
       "      <td>negative</td>\n",
       "      <td>negative</td>\n",
       "      <td>1</td>\n",
       "      <td>-0.486389</td>\n",
       "    </tr>\n",
       "    <tr>\n",
       "      <th>1</th>\n",
       "      <td>faltan cosas</td>\n",
       "      <td>Han mejorado la apariencia pero no</td>\n",
       "      <td>20</td>\n",
       "      <td>negative</td>\n",
       "      <td>negative</td>\n",
       "      <td>1</td>\n",
       "      <td>-0.586187</td>\n",
       "    </tr>\n",
       "  </tbody>\n",
       "</table>\n",
       "</div>"
      ],
      "text/plain": [
       "   Review Title                                        Review Text  wordcount  \\\n",
       "0  Sin conexión  Hola desde hace algo más de un mes me pone sin...         23   \n",
       "1  faltan cosas                 Han mejorado la apariencia pero no         20   \n",
       "\n",
       "  titleSentiment textSentiment  Star Rating  sentimentValue  \n",
       "0       negative      negative            1       -0.486389  \n",
       "1       negative      negative            1       -0.586187  "
      ]
     },
     "execution_count": 5,
     "metadata": {},
     "output_type": "execute_result"
    }
   ],
   "source": [
    "df.head(2)"
   ]
  },
  {
   "cell_type": "code",
   "execution_count": 6,
   "id": "ed68427e",
   "metadata": {},
   "outputs": [
    {
     "data": {
      "text/plain": [
       "Index(['Review Title', 'Review Text', 'wordcount', 'titleSentiment',\n",
       "       'textSentiment', 'Star Rating', 'sentimentValue'],\n",
       "      dtype='object')"
      ]
     },
     "execution_count": 6,
     "metadata": {},
     "output_type": "execute_result"
    }
   ],
   "source": [
    "df.columns"
   ]
  },
  {
   "cell_type": "code",
   "execution_count": 7,
   "id": "6f21f7ec",
   "metadata": {},
   "outputs": [
    {
     "data": {
      "text/plain": [
       "count    257.000000\n",
       "mean      11.501946\n",
       "std       13.159812\n",
       "min        1.000000\n",
       "25%        3.000000\n",
       "50%        7.000000\n",
       "75%       16.000000\n",
       "max      103.000000\n",
       "Name: wordcount, dtype: float64"
      ]
     },
     "execution_count": 7,
     "metadata": {},
     "output_type": "execute_result"
    }
   ],
   "source": [
    "df['wordcount'].describe()"
   ]
  },
  {
   "cell_type": "code",
   "execution_count": 8,
   "id": "d3833f14",
   "metadata": {},
   "outputs": [
    {
     "data": {
      "text/plain": [
       "16.0"
      ]
     },
     "execution_count": 8,
     "metadata": {},
     "output_type": "execute_result"
    }
   ],
   "source": [
    "df['wordcount'].quantile(0.75)"
   ]
  },
  {
   "cell_type": "code",
   "execution_count": 9,
   "id": "7fcfa95e",
   "metadata": {},
   "outputs": [
    {
     "name": "stdout",
     "output_type": "stream",
     "text": [
      "<class 'pandas.core.frame.DataFrame'>\n",
      "RangeIndex: 257 entries, 0 to 256\n",
      "Data columns (total 7 columns):\n",
      " #   Column          Non-Null Count  Dtype  \n",
      "---  ------          --------------  -----  \n",
      " 0   Review Title    257 non-null    object \n",
      " 1   Review Text     257 non-null    object \n",
      " 2   wordcount       257 non-null    int64  \n",
      " 3   titleSentiment  231 non-null    object \n",
      " 4   textSentiment   257 non-null    object \n",
      " 5   Star Rating     257 non-null    int64  \n",
      " 6   sentimentValue  257 non-null    float64\n",
      "dtypes: float64(1), int64(2), object(4)\n",
      "memory usage: 14.2+ KB\n"
     ]
    }
   ],
   "source": [
    "df.info()"
   ]
  },
  {
   "cell_type": "code",
   "execution_count": 10,
   "id": "8103b034",
   "metadata": {},
   "outputs": [
    {
     "data": {
      "text/plain": [
       "Review Title       object\n",
       "Review Text        object\n",
       "wordcount           int64\n",
       "titleSentiment     object\n",
       "textSentiment      object\n",
       "Star Rating         int64\n",
       "sentimentValue    float64\n",
       "dtype: object"
      ]
     },
     "execution_count": 10,
     "metadata": {},
     "output_type": "execute_result"
    }
   ],
   "source": [
    "df.dtypes"
   ]
  },
  {
   "cell_type": "markdown",
   "id": "67e2a33f",
   "metadata": {},
   "source": [
    "#### Descripcion total"
   ]
  },
  {
   "cell_type": "code",
   "execution_count": 11,
   "id": "24cc4b90",
   "metadata": {},
   "outputs": [
    {
     "data": {
      "text/html": [
       "<div>\n",
       "<style scoped>\n",
       "    .dataframe tbody tr th:only-of-type {\n",
       "        vertical-align: middle;\n",
       "    }\n",
       "\n",
       "    .dataframe tbody tr th {\n",
       "        vertical-align: top;\n",
       "    }\n",
       "\n",
       "    .dataframe thead th {\n",
       "        text-align: right;\n",
       "    }\n",
       "</style>\n",
       "<table border=\"1\" class=\"dataframe\">\n",
       "  <thead>\n",
       "    <tr style=\"text-align: right;\">\n",
       "      <th></th>\n",
       "      <th>Review Title</th>\n",
       "      <th>Review Text</th>\n",
       "      <th>wordcount</th>\n",
       "      <th>titleSentiment</th>\n",
       "      <th>textSentiment</th>\n",
       "      <th>Star Rating</th>\n",
       "      <th>sentimentValue</th>\n",
       "    </tr>\n",
       "  </thead>\n",
       "  <tbody>\n",
       "    <tr>\n",
       "      <th>count</th>\n",
       "      <td>257</td>\n",
       "      <td>257</td>\n",
       "      <td>257.000000</td>\n",
       "      <td>231</td>\n",
       "      <td>257</td>\n",
       "      <td>257.000000</td>\n",
       "      <td>257.000000</td>\n",
       "    </tr>\n",
       "    <tr>\n",
       "      <th>unique</th>\n",
       "      <td>186</td>\n",
       "      <td>241</td>\n",
       "      <td>NaN</td>\n",
       "      <td>2</td>\n",
       "      <td>2</td>\n",
       "      <td>NaN</td>\n",
       "      <td>NaN</td>\n",
       "    </tr>\n",
       "    <tr>\n",
       "      <th>top</th>\n",
       "      <td>Muy buena</td>\n",
       "      <td>…</td>\n",
       "      <td>NaN</td>\n",
       "      <td>positive</td>\n",
       "      <td>positive</td>\n",
       "      <td>NaN</td>\n",
       "      <td>NaN</td>\n",
       "    </tr>\n",
       "    <tr>\n",
       "      <th>freq</th>\n",
       "      <td>22</td>\n",
       "      <td>10</td>\n",
       "      <td>NaN</td>\n",
       "      <td>195</td>\n",
       "      <td>211</td>\n",
       "      <td>NaN</td>\n",
       "      <td>NaN</td>\n",
       "    </tr>\n",
       "    <tr>\n",
       "      <th>mean</th>\n",
       "      <td>NaN</td>\n",
       "      <td>NaN</td>\n",
       "      <td>11.501946</td>\n",
       "      <td>NaN</td>\n",
       "      <td>NaN</td>\n",
       "      <td>3.420233</td>\n",
       "      <td>0.383849</td>\n",
       "    </tr>\n",
       "    <tr>\n",
       "      <th>std</th>\n",
       "      <td>NaN</td>\n",
       "      <td>NaN</td>\n",
       "      <td>13.159812</td>\n",
       "      <td>NaN</td>\n",
       "      <td>NaN</td>\n",
       "      <td>1.409531</td>\n",
       "      <td>0.897987</td>\n",
       "    </tr>\n",
       "    <tr>\n",
       "      <th>min</th>\n",
       "      <td>NaN</td>\n",
       "      <td>NaN</td>\n",
       "      <td>1.000000</td>\n",
       "      <td>NaN</td>\n",
       "      <td>NaN</td>\n",
       "      <td>1.000000</td>\n",
       "      <td>-2.276469</td>\n",
       "    </tr>\n",
       "    <tr>\n",
       "      <th>25%</th>\n",
       "      <td>NaN</td>\n",
       "      <td>NaN</td>\n",
       "      <td>3.000000</td>\n",
       "      <td>NaN</td>\n",
       "      <td>NaN</td>\n",
       "      <td>3.000000</td>\n",
       "      <td>-0.108144</td>\n",
       "    </tr>\n",
       "    <tr>\n",
       "      <th>50%</th>\n",
       "      <td>NaN</td>\n",
       "      <td>NaN</td>\n",
       "      <td>7.000000</td>\n",
       "      <td>NaN</td>\n",
       "      <td>NaN</td>\n",
       "      <td>3.000000</td>\n",
       "      <td>0.264091</td>\n",
       "    </tr>\n",
       "    <tr>\n",
       "      <th>75%</th>\n",
       "      <td>NaN</td>\n",
       "      <td>NaN</td>\n",
       "      <td>16.000000</td>\n",
       "      <td>NaN</td>\n",
       "      <td>NaN</td>\n",
       "      <td>5.000000</td>\n",
       "      <td>0.808384</td>\n",
       "    </tr>\n",
       "    <tr>\n",
       "      <th>max</th>\n",
       "      <td>NaN</td>\n",
       "      <td>NaN</td>\n",
       "      <td>103.000000</td>\n",
       "      <td>NaN</td>\n",
       "      <td>NaN</td>\n",
       "      <td>5.000000</td>\n",
       "      <td>3.264579</td>\n",
       "    </tr>\n",
       "  </tbody>\n",
       "</table>\n",
       "</div>"
      ],
      "text/plain": [
       "       Review Title Review Text   wordcount titleSentiment textSentiment  \\\n",
       "count           257         257  257.000000            231           257   \n",
       "unique          186         241         NaN              2             2   \n",
       "top       Muy buena           …         NaN       positive      positive   \n",
       "freq             22          10         NaN            195           211   \n",
       "mean            NaN         NaN   11.501946            NaN           NaN   \n",
       "std             NaN         NaN   13.159812            NaN           NaN   \n",
       "min             NaN         NaN    1.000000            NaN           NaN   \n",
       "25%             NaN         NaN    3.000000            NaN           NaN   \n",
       "50%             NaN         NaN    7.000000            NaN           NaN   \n",
       "75%             NaN         NaN   16.000000            NaN           NaN   \n",
       "max             NaN         NaN  103.000000            NaN           NaN   \n",
       "\n",
       "        Star Rating  sentimentValue  \n",
       "count    257.000000      257.000000  \n",
       "unique          NaN             NaN  \n",
       "top             NaN             NaN  \n",
       "freq            NaN             NaN  \n",
       "mean       3.420233        0.383849  \n",
       "std        1.409531        0.897987  \n",
       "min        1.000000       -2.276469  \n",
       "25%        3.000000       -0.108144  \n",
       "50%        3.000000        0.264091  \n",
       "75%        5.000000        0.808384  \n",
       "max        5.000000        3.264579  "
      ]
     },
     "execution_count": 11,
     "metadata": {},
     "output_type": "execute_result"
    }
   ],
   "source": [
    "df.describe(include='all')"
   ]
  },
  {
   "cell_type": "markdown",
   "id": "483f5d60",
   "metadata": {},
   "source": [
    "#### La variable target es \"Star Rating\""
   ]
  },
  {
   "cell_type": "code",
   "execution_count": 12,
   "id": "27f9e31b",
   "metadata": {},
   "outputs": [
    {
     "data": {
      "text/plain": [
       "Index(['Review Title', 'Review Text', 'wordcount', 'titleSentiment',\n",
       "       'textSentiment', 'Star Rating', 'sentimentValue'],\n",
       "      dtype='object')"
      ]
     },
     "execution_count": 12,
     "metadata": {},
     "output_type": "execute_result"
    }
   ],
   "source": [
    "df.columns"
   ]
  },
  {
   "cell_type": "code",
   "execution_count": 13,
   "id": "bca6e05e",
   "metadata": {},
   "outputs": [],
   "source": [
    "df.columns=['Review_Title', 'Review_Text', 'wordcount', 'titleSentiment','textSentiment', 'Star_Rating', 'sentimentValue']"
   ]
  },
  {
   "cell_type": "code",
   "execution_count": 14,
   "id": "584008d2",
   "metadata": {},
   "outputs": [
    {
     "data": {
      "text/html": [
       "<div>\n",
       "<style scoped>\n",
       "    .dataframe tbody tr th:only-of-type {\n",
       "        vertical-align: middle;\n",
       "    }\n",
       "\n",
       "    .dataframe tbody tr th {\n",
       "        vertical-align: top;\n",
       "    }\n",
       "\n",
       "    .dataframe thead th {\n",
       "        text-align: right;\n",
       "    }\n",
       "</style>\n",
       "<table border=\"1\" class=\"dataframe\">\n",
       "  <thead>\n",
       "    <tr style=\"text-align: right;\">\n",
       "      <th></th>\n",
       "      <th>Review_Title</th>\n",
       "      <th>Review_Text</th>\n",
       "      <th>wordcount</th>\n",
       "      <th>titleSentiment</th>\n",
       "      <th>textSentiment</th>\n",
       "      <th>Star_Rating</th>\n",
       "      <th>sentimentValue</th>\n",
       "    </tr>\n",
       "  </thead>\n",
       "  <tbody>\n",
       "    <tr>\n",
       "      <th>0</th>\n",
       "      <td>Sin conexión</td>\n",
       "      <td>Hola desde hace algo más de un mes me pone sin...</td>\n",
       "      <td>23</td>\n",
       "      <td>negative</td>\n",
       "      <td>negative</td>\n",
       "      <td>1</td>\n",
       "      <td>-0.486389</td>\n",
       "    </tr>\n",
       "    <tr>\n",
       "      <th>1</th>\n",
       "      <td>faltan cosas</td>\n",
       "      <td>Han mejorado la apariencia pero no</td>\n",
       "      <td>20</td>\n",
       "      <td>negative</td>\n",
       "      <td>negative</td>\n",
       "      <td>1</td>\n",
       "      <td>-0.586187</td>\n",
       "    </tr>\n",
       "  </tbody>\n",
       "</table>\n",
       "</div>"
      ],
      "text/plain": [
       "   Review_Title                                        Review_Text  wordcount  \\\n",
       "0  Sin conexión  Hola desde hace algo más de un mes me pone sin...         23   \n",
       "1  faltan cosas                 Han mejorado la apariencia pero no         20   \n",
       "\n",
       "  titleSentiment textSentiment  Star_Rating  sentimentValue  \n",
       "0       negative      negative            1       -0.486389  \n",
       "1       negative      negative            1       -0.586187  "
      ]
     },
     "execution_count": 14,
     "metadata": {},
     "output_type": "execute_result"
    }
   ],
   "source": [
    "df.head(2)"
   ]
  },
  {
   "cell_type": "markdown",
   "id": "3bcc3933",
   "metadata": {},
   "source": [
    "#### Recordar que la variable respuesta  \"Star_Rating\" tiene una puntuacion de  1-5 estrellitas\n",
    "- \"Star_Rating\" estrellas de 1-5  "
   ]
  },
  {
   "cell_type": "code",
   "execution_count": 15,
   "id": "3a2af269",
   "metadata": {},
   "outputs": [
    {
     "data": {
      "text/plain": [
       "Star_Rating\n",
       "1    37\n",
       "2    24\n",
       "3    78\n",
       "4    30\n",
       "5    88\n",
       "dtype: int64"
      ]
     },
     "execution_count": 15,
     "metadata": {},
     "output_type": "execute_result"
    }
   ],
   "source": [
    "df.groupby('Star_Rating').size()"
   ]
  },
  {
   "cell_type": "markdown",
   "id": "21187650",
   "metadata": {},
   "source": [
    "<a id=\"section12\"></a>\n",
    "## <font color=\"#004D7F\">1.2 Cambiar de tipo de dato: numerico a texto o viseversa</font>"
   ]
  },
  {
   "cell_type": "code",
   "execution_count": 16,
   "id": "698ba305",
   "metadata": {},
   "outputs": [
    {
     "data": {
      "text/plain": [
       "dtype('int64')"
      ]
     },
     "execution_count": 16,
     "metadata": {},
     "output_type": "execute_result"
    }
   ],
   "source": [
    "df.Star_Rating.dtype"
   ]
  },
  {
   "cell_type": "markdown",
   "id": "52426dd7",
   "metadata": {},
   "source": [
    "<a id=\"section121\"></a>\n",
    "## <font color=\"#004D7F\">1.2.1 Forma 1</font>"
   ]
  },
  {
   "cell_type": "markdown",
   "id": "c64d207f",
   "metadata": {},
   "source": [
    "### LA VARIABLE \"Star_Rating\""
   ]
  },
  {
   "cell_type": "markdown",
   "id": "2186d0b1",
   "metadata": {},
   "source": [
    "#### paso 1 :creacion de una copia"
   ]
  },
  {
   "cell_type": "code",
   "execution_count": 17,
   "id": "8b4715af",
   "metadata": {},
   "outputs": [],
   "source": [
    "df2=df.copy()"
   ]
  },
  {
   "cell_type": "markdown",
   "id": "598ce515",
   "metadata": {},
   "source": [
    "#### paso 2: cambio de formato"
   ]
  },
  {
   "cell_type": "code",
   "execution_count": 18,
   "id": "9faee50a",
   "metadata": {},
   "outputs": [],
   "source": [
    "df2=df2.astype({'Star_Rating':'object'})"
   ]
  },
  {
   "cell_type": "markdown",
   "id": "3a3bbac7",
   "metadata": {},
   "source": [
    "#### paso 3: informacion"
   ]
  },
  {
   "cell_type": "code",
   "execution_count": 19,
   "id": "20560501",
   "metadata": {},
   "outputs": [
    {
     "data": {
      "text/plain": [
       "Review_Title       object\n",
       "Review_Text        object\n",
       "wordcount           int64\n",
       "titleSentiment     object\n",
       "textSentiment      object\n",
       "Star_Rating        object\n",
       "sentimentValue    float64\n",
       "dtype: object"
      ]
     },
     "execution_count": 19,
     "metadata": {},
     "output_type": "execute_result"
    }
   ],
   "source": [
    "df2.dtypes"
   ]
  },
  {
   "cell_type": "markdown",
   "id": "0671b47c",
   "metadata": {},
   "source": [
    "### LA VARIABLE \"wordcount\""
   ]
  },
  {
   "cell_type": "markdown",
   "id": "f5035804",
   "metadata": {},
   "source": [
    "#### paso 1 :creacion de una copia"
   ]
  },
  {
   "cell_type": "code",
   "execution_count": 20,
   "id": "12836f0c",
   "metadata": {},
   "outputs": [],
   "source": [
    "df3=df2.copy()"
   ]
  },
  {
   "cell_type": "markdown",
   "id": "cc3d9341",
   "metadata": {},
   "source": [
    "#### paso 2: cambio de formato"
   ]
  },
  {
   "cell_type": "code",
   "execution_count": 21,
   "id": "f74ca213",
   "metadata": {},
   "outputs": [],
   "source": [
    "df3=df3.astype({'wordcount':'float64'})"
   ]
  },
  {
   "cell_type": "markdown",
   "id": "d1962a05",
   "metadata": {},
   "source": [
    "#### paso 3: informacion"
   ]
  },
  {
   "cell_type": "code",
   "execution_count": 22,
   "id": "1f8d064d",
   "metadata": {},
   "outputs": [
    {
     "data": {
      "text/plain": [
       "Review_Title       object\n",
       "Review_Text        object\n",
       "wordcount         float64\n",
       "titleSentiment     object\n",
       "textSentiment      object\n",
       "Star_Rating        object\n",
       "sentimentValue    float64\n",
       "dtype: object"
      ]
     },
     "execution_count": 22,
     "metadata": {},
     "output_type": "execute_result"
    }
   ],
   "source": [
    "df3.dtypes"
   ]
  },
  {
   "cell_type": "markdown",
   "id": "f9bc5c29",
   "metadata": {},
   "source": [
    "<a id=\"section122\"></a>\n",
    "## <font color=\"#004D7F\">1.2.2 Forma 2</font>"
   ]
  },
  {
   "cell_type": "markdown",
   "id": "9acb1318",
   "metadata": {},
   "source": [
    "### LA VARIABLE \"Star_Rating\"   //  int --> object//uso .astype(str)"
   ]
  },
  {
   "cell_type": "code",
   "execution_count": 23,
   "id": "a26d1867",
   "metadata": {},
   "outputs": [
    {
     "name": "stdout",
     "output_type": "stream",
     "text": [
      "<class 'pandas.core.frame.DataFrame'>\n",
      "RangeIndex: 257 entries, 0 to 256\n",
      "Data columns (total 7 columns):\n",
      " #   Column          Non-Null Count  Dtype  \n",
      "---  ------          --------------  -----  \n",
      " 0   Review_Title    257 non-null    object \n",
      " 1   Review_Text     257 non-null    object \n",
      " 2   wordcount       257 non-null    int64  \n",
      " 3   titleSentiment  231 non-null    object \n",
      " 4   textSentiment   257 non-null    object \n",
      " 5   Star_Rating     257 non-null    int64  \n",
      " 6   sentimentValue  257 non-null    float64\n",
      "dtypes: float64(1), int64(2), object(4)\n",
      "memory usage: 14.2+ KB\n"
     ]
    }
   ],
   "source": [
    "df.info()"
   ]
  },
  {
   "cell_type": "code",
   "execution_count": 24,
   "id": "cba6d283",
   "metadata": {},
   "outputs": [],
   "source": [
    "df['Star_Rating']=df['Star_Rating'].astype(str)"
   ]
  },
  {
   "cell_type": "code",
   "execution_count": 25,
   "id": "40ed5090",
   "metadata": {},
   "outputs": [
    {
     "name": "stdout",
     "output_type": "stream",
     "text": [
      "<class 'pandas.core.frame.DataFrame'>\n",
      "RangeIndex: 257 entries, 0 to 256\n",
      "Data columns (total 7 columns):\n",
      " #   Column          Non-Null Count  Dtype  \n",
      "---  ------          --------------  -----  \n",
      " 0   Review_Title    257 non-null    object \n",
      " 1   Review_Text     257 non-null    object \n",
      " 2   wordcount       257 non-null    int64  \n",
      " 3   titleSentiment  231 non-null    object \n",
      " 4   textSentiment   257 non-null    object \n",
      " 5   Star_Rating     257 non-null    object \n",
      " 6   sentimentValue  257 non-null    float64\n",
      "dtypes: float64(1), int64(1), object(5)\n",
      "memory usage: 14.2+ KB\n"
     ]
    }
   ],
   "source": [
    "df.info()"
   ]
  },
  {
   "cell_type": "markdown",
   "id": "39867b5d",
   "metadata": {},
   "source": [
    "### LA VARIABLE \"wordcount\" // int --> float// se uso  .astype(float)"
   ]
  },
  {
   "cell_type": "markdown",
   "id": "83f8943e",
   "metadata": {},
   "source": [
    "#### paso 1 :creacion de una copia"
   ]
  },
  {
   "cell_type": "code",
   "execution_count": 26,
   "id": "f8b11100",
   "metadata": {},
   "outputs": [
    {
     "name": "stdout",
     "output_type": "stream",
     "text": [
      "<class 'pandas.core.frame.DataFrame'>\n",
      "RangeIndex: 257 entries, 0 to 256\n",
      "Data columns (total 7 columns):\n",
      " #   Column          Non-Null Count  Dtype  \n",
      "---  ------          --------------  -----  \n",
      " 0   Review_Title    257 non-null    object \n",
      " 1   Review_Text     257 non-null    object \n",
      " 2   wordcount       257 non-null    int64  \n",
      " 3   titleSentiment  231 non-null    object \n",
      " 4   textSentiment   257 non-null    object \n",
      " 5   Star_Rating     257 non-null    object \n",
      " 6   sentimentValue  257 non-null    float64\n",
      "dtypes: float64(1), int64(1), object(5)\n",
      "memory usage: 14.2+ KB\n"
     ]
    }
   ],
   "source": [
    "df.info()"
   ]
  },
  {
   "cell_type": "markdown",
   "id": "a6d2a83d",
   "metadata": {},
   "source": [
    "#### paso 2: cambio de formato"
   ]
  },
  {
   "cell_type": "code",
   "execution_count": 27,
   "id": "54e6b9b5",
   "metadata": {},
   "outputs": [],
   "source": [
    "df['wordcount']=df['wordcount'].astype(float)"
   ]
  },
  {
   "cell_type": "markdown",
   "id": "2b2029e5",
   "metadata": {},
   "source": [
    "#### paso 3: informacion"
   ]
  },
  {
   "cell_type": "code",
   "execution_count": 28,
   "id": "a5303096",
   "metadata": {},
   "outputs": [
    {
     "name": "stdout",
     "output_type": "stream",
     "text": [
      "<class 'pandas.core.frame.DataFrame'>\n",
      "RangeIndex: 257 entries, 0 to 256\n",
      "Data columns (total 7 columns):\n",
      " #   Column          Non-Null Count  Dtype  \n",
      "---  ------          --------------  -----  \n",
      " 0   Review_Title    257 non-null    object \n",
      " 1   Review_Text     257 non-null    object \n",
      " 2   wordcount       257 non-null    float64\n",
      " 3   titleSentiment  231 non-null    object \n",
      " 4   textSentiment   257 non-null    object \n",
      " 5   Star_Rating     257 non-null    object \n",
      " 6   sentimentValue  257 non-null    float64\n",
      "dtypes: float64(2), object(5)\n",
      "memory usage: 14.2+ KB\n"
     ]
    }
   ],
   "source": [
    "df.info()"
   ]
  },
  {
   "cell_type": "code",
   "execution_count": 29,
   "id": "72679d09",
   "metadata": {},
   "outputs": [
    {
     "data": {
      "text/plain": [
       "0       23.0\n",
       "1       20.0\n",
       "2        4.0\n",
       "3       17.0\n",
       "4        6.0\n",
       "5        8.0\n",
       "6       23.0\n",
       "7       16.0\n",
       "8       21.0\n",
       "9       13.0\n",
       "10       4.0\n",
       "11       9.0\n",
       "12       4.0\n",
       "13      23.0\n",
       "14      14.0\n",
       "15      20.0\n",
       "16      26.0\n",
       "17       7.0\n",
       "18       5.0\n",
       "19      22.0\n",
       "20      13.0\n",
       "21       7.0\n",
       "22      18.0\n",
       "23       4.0\n",
       "24       2.0\n",
       "25      29.0\n",
       "26      30.0\n",
       "27      63.0\n",
       "28      33.0\n",
       "29      34.0\n",
       "30      76.0\n",
       "31      34.0\n",
       "32      36.0\n",
       "33      63.0\n",
       "34      45.0\n",
       "35      27.0\n",
       "36      32.0\n",
       "37     103.0\n",
       "38      22.0\n",
       "39      20.0\n",
       "40      27.0\n",
       "41       9.0\n",
       "42      13.0\n",
       "43      15.0\n",
       "44       3.0\n",
       "45       6.0\n",
       "46      20.0\n",
       "47       3.0\n",
       "48      13.0\n",
       "49       9.0\n",
       "50       1.0\n",
       "51       1.0\n",
       "52       5.0\n",
       "53       2.0\n",
       "54       7.0\n",
       "55      15.0\n",
       "56      23.0\n",
       "57       4.0\n",
       "58       9.0\n",
       "59       3.0\n",
       "60       8.0\n",
       "61      10.0\n",
       "62       6.0\n",
       "63       3.0\n",
       "64      19.0\n",
       "65       1.0\n",
       "66       1.0\n",
       "67       1.0\n",
       "68       1.0\n",
       "69       1.0\n",
       "70       1.0\n",
       "71       7.0\n",
       "72       2.0\n",
       "73       5.0\n",
       "74       4.0\n",
       "75       4.0\n",
       "76      17.0\n",
       "77      23.0\n",
       "78       4.0\n",
       "79      13.0\n",
       "80      12.0\n",
       "81       6.0\n",
       "82      14.0\n",
       "83       7.0\n",
       "84      28.0\n",
       "85       5.0\n",
       "86      23.0\n",
       "87       7.0\n",
       "88       4.0\n",
       "89      18.0\n",
       "90      20.0\n",
       "91       5.0\n",
       "92       4.0\n",
       "93      19.0\n",
       "94      17.0\n",
       "95      12.0\n",
       "96       3.0\n",
       "97       9.0\n",
       "98       5.0\n",
       "99       6.0\n",
       "100      2.0\n",
       "101     18.0\n",
       "102      4.0\n",
       "103     15.0\n",
       "104      5.0\n",
       "105      4.0\n",
       "106      1.0\n",
       "107      1.0\n",
       "108      6.0\n",
       "109      6.0\n",
       "110      4.0\n",
       "111     16.0\n",
       "112     12.0\n",
       "113      9.0\n",
       "114     11.0\n",
       "115      4.0\n",
       "116      8.0\n",
       "117     11.0\n",
       "118      6.0\n",
       "119     11.0\n",
       "120      8.0\n",
       "121      1.0\n",
       "122     10.0\n",
       "123      1.0\n",
       "124      3.0\n",
       "125      5.0\n",
       "126     22.0\n",
       "127      2.0\n",
       "128      2.0\n",
       "129      1.0\n",
       "130      7.0\n",
       "131     38.0\n",
       "132     49.0\n",
       "133     28.0\n",
       "134     52.0\n",
       "135     17.0\n",
       "136     34.0\n",
       "137     49.0\n",
       "138     16.0\n",
       "139     42.0\n",
       "140     22.0\n",
       "141      4.0\n",
       "142     42.0\n",
       "143     27.0\n",
       "144     35.0\n",
       "145     17.0\n",
       "146     16.0\n",
       "147     21.0\n",
       "148     16.0\n",
       "149     21.0\n",
       "150     21.0\n",
       "151     12.0\n",
       "152     25.0\n",
       "153     25.0\n",
       "154     30.0\n",
       "155     19.0\n",
       "156     10.0\n",
       "157      4.0\n",
       "158      3.0\n",
       "159      9.0\n",
       "160      1.0\n",
       "161      9.0\n",
       "162      2.0\n",
       "163      5.0\n",
       "164      1.0\n",
       "165     12.0\n",
       "166      8.0\n",
       "167     13.0\n",
       "168      6.0\n",
       "169      7.0\n",
       "170     12.0\n",
       "171      2.0\n",
       "172      2.0\n",
       "173     11.0\n",
       "174      5.0\n",
       "175     12.0\n",
       "176      5.0\n",
       "177      6.0\n",
       "178      8.0\n",
       "179      2.0\n",
       "180      7.0\n",
       "181      9.0\n",
       "182     12.0\n",
       "183     11.0\n",
       "184      5.0\n",
       "185      3.0\n",
       "186      6.0\n",
       "187      3.0\n",
       "188     10.0\n",
       "189      4.0\n",
       "190      3.0\n",
       "191      2.0\n",
       "192      2.0\n",
       "193      2.0\n",
       "194      6.0\n",
       "195      2.0\n",
       "196      2.0\n",
       "197      9.0\n",
       "198      9.0\n",
       "199      6.0\n",
       "200     10.0\n",
       "201     12.0\n",
       "202      3.0\n",
       "203      3.0\n",
       "204     11.0\n",
       "205      9.0\n",
       "206      3.0\n",
       "207     15.0\n",
       "208      7.0\n",
       "209      8.0\n",
       "210      7.0\n",
       "211      6.0\n",
       "212     18.0\n",
       "213      4.0\n",
       "214      1.0\n",
       "215      1.0\n",
       "216      7.0\n",
       "217      3.0\n",
       "218      2.0\n",
       "219      5.0\n",
       "220      1.0\n",
       "221     14.0\n",
       "222      2.0\n",
       "223      3.0\n",
       "224      6.0\n",
       "225      2.0\n",
       "226      2.0\n",
       "227      6.0\n",
       "228      3.0\n",
       "229      9.0\n",
       "230      2.0\n",
       "231      7.0\n",
       "232      5.0\n",
       "233      9.0\n",
       "234      2.0\n",
       "235      2.0\n",
       "236      3.0\n",
       "237     15.0\n",
       "238      1.0\n",
       "239      5.0\n",
       "240      3.0\n",
       "241      3.0\n",
       "242      2.0\n",
       "243      7.0\n",
       "244      2.0\n",
       "245      2.0\n",
       "246      2.0\n",
       "247      5.0\n",
       "248      1.0\n",
       "249      2.0\n",
       "250      2.0\n",
       "251      1.0\n",
       "252      3.0\n",
       "253      1.0\n",
       "254      1.0\n",
       "255      1.0\n",
       "256      3.0\n",
       "Name: wordcount, dtype: float64"
      ]
     },
     "execution_count": 29,
     "metadata": {},
     "output_type": "execute_result"
    }
   ],
   "source": [
    "df.wordcount"
   ]
  },
  {
   "cell_type": "code",
   "execution_count": 30,
   "id": "ee7f4c8f",
   "metadata": {},
   "outputs": [
    {
     "data": {
      "text/plain": [
       "<AxesSubplot:>"
      ]
     },
     "execution_count": 30,
     "metadata": {},
     "output_type": "execute_result"
    },
    {
     "data": {
      "image/png": "[encoded data removed]",
      "text/plain": [
       "<Figure size 720x720 with 1 Axes>"
      ]
     },
     "metadata": {},
     "output_type": "display_data"
    }
   ],
   "source": [
    "df.wordcount.hist()"
   ]
  },
  {
   "cell_type": "markdown",
   "id": "127d660c",
   "metadata": {},
   "source": [
    "<a id=\"section2\"></a>\n",
    "## <font color=\"#004D7F\">2 Rapidas Visualizaciones</font>"
   ]
  },
  {
   "cell_type": "code",
   "execution_count": 31,
   "id": "3abfe47a",
   "metadata": {},
   "outputs": [
    {
     "data": {
      "text/plain": [
       "Index(['Review_Title', 'Review_Text', 'wordcount', 'titleSentiment',\n",
       "       'textSentiment', 'Star_Rating', 'sentimentValue'],\n",
       "      dtype='object')"
      ]
     },
     "execution_count": 31,
     "metadata": {},
     "output_type": "execute_result"
    }
   ],
   "source": [
    "df.columns"
   ]
  },
  {
   "cell_type": "code",
   "execution_count": 32,
   "id": "edabe82b",
   "metadata": {},
   "outputs": [
    {
     "data": {
      "text/plain": [
       "<AxesSubplot:xlabel='Star_Rating'>"
      ]
     },
     "execution_count": 32,
     "metadata": {},
     "output_type": "execute_result"
    },
    {
     "data": {
      "image/png": "[encoded data removed]",
      "text/plain": [
       "<Figure size 720x720 with 1 Axes>"
      ]
     },
     "metadata": {},
     "output_type": "display_data"
    }
   ],
   "source": [
    "df.groupby('Star_Rating')['wordcount'].count().reset_index().plot.bar(x='Star_Rating',y='wordcount',rot=0)"
   ]
  },
  {
   "cell_type": "code",
   "execution_count": 33,
   "id": "c64b3f1d",
   "metadata": {},
   "outputs": [
    {
     "data": {
      "text/plain": [
       "Review_Title       object\n",
       "Review_Text        object\n",
       "wordcount         float64\n",
       "titleSentiment     object\n",
       "textSentiment      object\n",
       "Star_Rating        object\n",
       "sentimentValue    float64\n",
       "dtype: object"
      ]
     },
     "execution_count": 33,
     "metadata": {},
     "output_type": "execute_result"
    }
   ],
   "source": [
    "df.dtypes"
   ]
  },
  {
   "cell_type": "markdown",
   "id": "00ebfaef",
   "metadata": {},
   "source": [
    "<a id=\"section21\"></a>\n",
    "## <font color=\"#004D7F\">2.1 Particion del DataFrame</font>"
   ]
  },
  {
   "cell_type": "code",
   "execution_count": 34,
   "id": "3c580924",
   "metadata": {},
   "outputs": [],
   "source": [
    "from sklearn.model_selection import  train_test_split\n",
    "from sklearn.preprocessing import MinMaxScaler"
   ]
  },
  {
   "cell_type": "code",
   "execution_count": 35,
   "id": "fca100e9",
   "metadata": {},
   "outputs": [],
   "source": [
    "x=df[['wordcount','sentimentValue']].values     ##numpy\n",
    "y=df['Star_Rating'].values                      ##numpy"
   ]
  },
  {
   "cell_type": "code",
   "execution_count": 36,
   "id": "7c93b3a4",
   "metadata": {},
   "outputs": [],
   "source": [
    "x_train,x_test,y_train,y_test=train_test_split(x,y,random_state=0)"
   ]
  },
  {
   "cell_type": "markdown",
   "id": "f2ce0445",
   "metadata": {},
   "source": [
    "<a id=\"section211\"></a>\n",
    "## <font color=\"#004D7F\">2.1.1 Escalamiento en un mismo rango</font>"
   ]
  },
  {
   "cell_type": "code",
   "execution_count": 37,
   "id": "864e19d1",
   "metadata": {},
   "outputs": [],
   "source": [
    "scaler =MinMaxScaler()\n",
    "x_train=scaler.fit_transform(x_train)\n",
    "x_test=scaler.transform(x_test)"
   ]
  },
  {
   "cell_type": "code",
   "execution_count": 38,
   "id": "88f284ad",
   "metadata": {},
   "outputs": [
    {
     "data": {
      "text/html": [
       "<div>\n",
       "<style scoped>\n",
       "    .dataframe tbody tr th:only-of-type {\n",
       "        vertical-align: middle;\n",
       "    }\n",
       "\n",
       "    .dataframe tbody tr th {\n",
       "        vertical-align: top;\n",
       "    }\n",
       "\n",
       "    .dataframe thead th {\n",
       "        text-align: right;\n",
       "    }\n",
       "</style>\n",
       "<table border=\"1\" class=\"dataframe\">\n",
       "  <thead>\n",
       "    <tr style=\"text-align: right;\">\n",
       "      <th></th>\n",
       "      <th>0</th>\n",
       "      <th>1</th>\n",
       "    </tr>\n",
       "  </thead>\n",
       "  <tbody>\n",
       "    <tr>\n",
       "      <th>count</th>\n",
       "      <td>192.000000</td>\n",
       "      <td>192.000000</td>\n",
       "    </tr>\n",
       "    <tr>\n",
       "      <th>mean</th>\n",
       "      <td>0.143611</td>\n",
       "      <td>0.513086</td>\n",
       "    </tr>\n",
       "    <tr>\n",
       "      <th>std</th>\n",
       "      <td>0.173733</td>\n",
       "      <td>0.174944</td>\n",
       "    </tr>\n",
       "    <tr>\n",
       "      <th>min</th>\n",
       "      <td>0.000000</td>\n",
       "      <td>0.000000</td>\n",
       "    </tr>\n",
       "    <tr>\n",
       "      <th>25%</th>\n",
       "      <td>0.026667</td>\n",
       "      <td>0.416781</td>\n",
       "    </tr>\n",
       "    <tr>\n",
       "      <th>50%</th>\n",
       "      <td>0.080000</td>\n",
       "      <td>0.482369</td>\n",
       "    </tr>\n",
       "    <tr>\n",
       "      <th>75%</th>\n",
       "      <td>0.186667</td>\n",
       "      <td>0.607991</td>\n",
       "    </tr>\n",
       "    <tr>\n",
       "      <th>max</th>\n",
       "      <td>1.000000</td>\n",
       "      <td>1.000000</td>\n",
       "    </tr>\n",
       "  </tbody>\n",
       "</table>\n",
       "</div>"
      ],
      "text/plain": [
       "                0           1\n",
       "count  192.000000  192.000000\n",
       "mean     0.143611    0.513086\n",
       "std      0.173733    0.174944\n",
       "min      0.000000    0.000000\n",
       "25%      0.026667    0.416781\n",
       "50%      0.080000    0.482369\n",
       "75%      0.186667    0.607991\n",
       "max      1.000000    1.000000"
      ]
     },
     "execution_count": 38,
     "metadata": {},
     "output_type": "execute_result"
    }
   ],
   "source": [
    "pd.DataFrame(x_train).describe()"
   ]
  },
  {
   "cell_type": "markdown",
   "id": "7a962daa",
   "metadata": {},
   "source": [
    "#### Sin escalar "
   ]
  },
  {
   "cell_type": "code",
   "execution_count": 39,
   "id": "87770ae6",
   "metadata": {},
   "outputs": [
    {
     "data": {
      "text/plain": [
       "array([[23.        , -0.48638925],\n",
       "       [20.        , -0.58618747],\n",
       "       [ 4.        , -0.60224027]])"
      ]
     },
     "execution_count": 39,
     "metadata": {},
     "output_type": "execute_result"
    }
   ],
   "source": [
    "x[:3]"
   ]
  },
  {
   "cell_type": "markdown",
   "id": "87fdf584",
   "metadata": {},
   "source": [
    "#### escalado"
   ]
  },
  {
   "cell_type": "code",
   "execution_count": 40,
   "id": "d6fe44b7",
   "metadata": {},
   "outputs": [
    {
     "data": {
      "text/plain": [
       "array([[0.01333333, 0.87899938],\n",
       "       [0.82666667, 0.31422494],\n",
       "       [0.06666667, 0.46798105]])"
      ]
     },
     "execution_count": 40,
     "metadata": {},
     "output_type": "execute_result"
    }
   ],
   "source": [
    "x_train[:3]"
   ]
  },
  {
   "cell_type": "code",
   "execution_count": 41,
   "id": "4aea8732",
   "metadata": {},
   "outputs": [
    {
     "data": {
      "text/html": [
       "<div>\n",
       "<style scoped>\n",
       "    .dataframe tbody tr th:only-of-type {\n",
       "        vertical-align: middle;\n",
       "    }\n",
       "\n",
       "    .dataframe tbody tr th {\n",
       "        vertical-align: top;\n",
       "    }\n",
       "\n",
       "    .dataframe thead th {\n",
       "        text-align: right;\n",
       "    }\n",
       "</style>\n",
       "<table border=\"1\" class=\"dataframe\">\n",
       "  <thead>\n",
       "    <tr style=\"text-align: right;\">\n",
       "      <th></th>\n",
       "      <th>Review_Title</th>\n",
       "      <th>Review_Text</th>\n",
       "      <th>wordcount</th>\n",
       "      <th>titleSentiment</th>\n",
       "      <th>textSentiment</th>\n",
       "      <th>Star_Rating</th>\n",
       "      <th>sentimentValue</th>\n",
       "    </tr>\n",
       "  </thead>\n",
       "  <tbody>\n",
       "    <tr>\n",
       "      <th>0</th>\n",
       "      <td>Sin conexión</td>\n",
       "      <td>Hola desde hace algo más de un mes me pone sin...</td>\n",
       "      <td>23.0</td>\n",
       "      <td>negative</td>\n",
       "      <td>negative</td>\n",
       "      <td>1</td>\n",
       "      <td>-0.486389</td>\n",
       "    </tr>\n",
       "    <tr>\n",
       "      <th>1</th>\n",
       "      <td>faltan cosas</td>\n",
       "      <td>Han mejorado la apariencia pero no</td>\n",
       "      <td>20.0</td>\n",
       "      <td>negative</td>\n",
       "      <td>negative</td>\n",
       "      <td>1</td>\n",
       "      <td>-0.586187</td>\n",
       "    </tr>\n",
       "  </tbody>\n",
       "</table>\n",
       "</div>"
      ],
      "text/plain": [
       "   Review_Title                                        Review_Text  wordcount  \\\n",
       "0  Sin conexión  Hola desde hace algo más de un mes me pone sin...       23.0   \n",
       "1  faltan cosas                 Han mejorado la apariencia pero no       20.0   \n",
       "\n",
       "  titleSentiment textSentiment Star_Rating  sentimentValue  \n",
       "0       negative      negative           1       -0.486389  \n",
       "1       negative      negative           1       -0.586187  "
      ]
     },
     "execution_count": 41,
     "metadata": {},
     "output_type": "execute_result"
    }
   ],
   "source": [
    "df.head(2)"
   ]
  },
  {
   "cell_type": "code",
   "execution_count": 42,
   "id": "e21a3098",
   "metadata": {},
   "outputs": [
    {
     "data": {
      "text/plain": [
       "array([ 23.,  20.,   4.,  17.,   6.,   8.,  23.,  16.,  21.,  13.,   4.,\n",
       "         9.,   4.,  23.,  14.,  20.,  26.,   7.,   5.,  22.,  13.,   7.,\n",
       "        18.,   4.,   2.,  29.,  30.,  63.,  33.,  34.,  76.,  34.,  36.,\n",
       "        63.,  45.,  27.,  32., 103.,  22.,  20.,  27.,   9.,  13.,  15.,\n",
       "         3.,   6.,  20.,   3.,  13.,   9.,   1.,   1.,   5.,   2.,   7.,\n",
       "        15.,  23.,   4.,   9.,   3.,   8.,  10.,   6.,   3.,  19.,   1.,\n",
       "         1.,   1.,   1.,   1.,   1.,   7.,   2.,   5.,   4.,   4.,  17.,\n",
       "        23.,   4.,  13.,  12.,   6.,  14.,   7.,  28.,   5.,  23.,   7.,\n",
       "         4.,  18.,  20.,   5.,   4.,  19.,  17.,  12.,   3.,   9.,   5.,\n",
       "         6.,   2.,  18.,   4.,  15.,   5.,   4.,   1.,   1.,   6.,   6.,\n",
       "         4.,  16.,  12.,   9.,  11.,   4.,   8.,  11.,   6.,  11.,   8.,\n",
       "         1.,  10.,   1.,   3.,   5.,  22.,   2.,   2.,   1.,   7.,  38.,\n",
       "        49.,  28.,  52.,  17.,  34.,  49.,  16.,  42.,  22.,   4.,  42.,\n",
       "        27.,  35.,  17.,  16.,  21.,  16.,  21.,  21.,  12.,  25.,  25.,\n",
       "        30.,  19.,  10.,   4.,   3.,   9.,   1.,   9.,   2.,   5.,   1.,\n",
       "        12.,   8.,  13.,   6.,   7.,  12.,   2.,   2.,  11.,   5.,  12.,\n",
       "         5.,   6.,   8.,   2.,   7.,   9.,  12.,  11.,   5.,   3.,   6.,\n",
       "         3.,  10.,   4.,   3.,   2.,   2.,   2.,   6.,   2.,   2.,   9.,\n",
       "         9.,   6.,  10.,  12.,   3.,   3.,  11.,   9.,   3.,  15.,   7.,\n",
       "         8.,   7.,   6.,  18.,   4.,   1.,   1.,   7.,   3.,   2.,   5.,\n",
       "         1.,  14.,   2.,   3.,   6.,   2.,   2.,   6.,   3.,   9.,   2.,\n",
       "         7.,   5.,   9.,   2.,   2.,   3.,  15.,   1.,   5.,   3.,   3.,\n",
       "         2.,   7.,   2.,   2.,   2.,   5.,   1.,   2.,   2.,   1.,   3.,\n",
       "         1.,   1.,   1.,   3.])"
      ]
     },
     "execution_count": 42,
     "metadata": {},
     "output_type": "execute_result"
    }
   ],
   "source": [
    "x[:,0]"
   ]
  },
  {
   "cell_type": "markdown",
   "id": "350970b9",
   "metadata": {},
   "source": [
    "#### Sin escalar "
   ]
  },
  {
   "cell_type": "code",
   "execution_count": 43,
   "id": "b3395e29",
   "metadata": {},
   "outputs": [
    {
     "data": {
      "text/plain": [
       "(11.501945525291829, 13.134184617000507)"
      ]
     },
     "execution_count": 43,
     "metadata": {},
     "output_type": "execute_result"
    }
   ],
   "source": [
    "x[:,0].mean(),x[:,0].std()"
   ]
  },
  {
   "cell_type": "markdown",
   "id": "574c7caf",
   "metadata": {},
   "source": [
    "#### Escalado"
   ]
  },
  {
   "cell_type": "code",
   "execution_count": 44,
   "id": "ba9d42c5",
   "metadata": {},
   "outputs": [
    {
     "data": {
      "text/plain": [
       "(0.14361111111111113, 0.17327968364881124)"
      ]
     },
     "execution_count": 44,
     "metadata": {},
     "output_type": "execute_result"
    }
   ],
   "source": [
    "x_train[:,0].mean(),x_train[:,0].std()"
   ]
  },
  {
   "cell_type": "markdown",
   "id": "a17f72d6",
   "metadata": {},
   "source": [
    "### Entrenaminto"
   ]
  },
  {
   "cell_type": "code",
   "execution_count": 45,
   "id": "e6576c31",
   "metadata": {},
   "outputs": [
    {
     "data": {
      "text/plain": [
       "(192, 2)"
      ]
     },
     "execution_count": 45,
     "metadata": {},
     "output_type": "execute_result"
    }
   ],
   "source": [
    "x_train.shape"
   ]
  },
  {
   "cell_type": "markdown",
   "id": "99615214",
   "metadata": {},
   "source": [
    "#### Por defecto el ENTRENAMIENTO es 75%"
   ]
  },
  {
   "cell_type": "code",
   "execution_count": 46,
   "id": "006a51c2",
   "metadata": {},
   "outputs": [
    {
     "data": {
      "text/plain": [
       "0.7470817120622568"
      ]
     },
     "execution_count": 46,
     "metadata": {},
     "output_type": "execute_result"
    }
   ],
   "source": [
    "x_train.shape[0]/len(x)   #75"
   ]
  },
  {
   "cell_type": "code",
   "execution_count": 47,
   "id": "f8fd57cc",
   "metadata": {},
   "outputs": [
    {
     "data": {
      "text/plain": [
       "0.2529182879377432"
      ]
     },
     "execution_count": 47,
     "metadata": {},
     "output_type": "execute_result"
    }
   ],
   "source": [
    "x_test.shape[0]/len(x)    #25%"
   ]
  },
  {
   "cell_type": "markdown",
   "id": "cf99464d",
   "metadata": {},
   "source": [
    "<a id=\"section3\"></a>\n",
    "## <font color=\"#004D7F\">3 Creamos el Modelo KN-Vecinos mas cercanos</font>"
   ]
  },
  {
   "cell_type": "code",
   "execution_count": 48,
   "id": "dab95312",
   "metadata": {},
   "outputs": [
    {
     "name": "stdout",
     "output_type": "stream",
     "text": [
      "Classifier implementing the k-nearest neighbors vote.\n",
      "\n",
      "    Read more in the :ref:`User Guide <classification>`.\n",
      "\n",
      "    Parameters\n",
      "    ----------\n",
      "    n_neighbors : int, default=5\n",
      "        Number of neighbors to use by default for :meth:`kneighbors` queries.\n",
      "\n",
      "    weights : {'uniform', 'distance'} or callable, default='uniform'\n",
      "        weight function used in prediction.  Possible values:\n",
      "\n",
      "        - 'uniform' : uniform weights.  All points in each neighborhood\n",
      "          are weighted equally.\n",
      "        - 'distance' : weight points by the inverse of their distance.\n",
      "          in this case, closer neighbors of a query point will have a\n",
      "          greater influence than neighbors which are further away.\n",
      "        - [callable] : a user-defined function which accepts an\n",
      "          array of distances, and returns an array of the same shape\n",
      "          containing the weights.\n",
      "\n",
      "    algorithm : {'auto', 'ball_tree', 'kd_tree', 'brute'}, default='auto'\n",
      "        Algorithm used to compute the nearest neighbors:\n",
      "\n",
      "        - 'ball_tree' will use :class:`BallTree`\n",
      "        - 'kd_tree' will use :class:`KDTree`\n",
      "        - 'brute' will use a brute-force search.\n",
      "        - 'auto' will attempt to decide the most appropriate algorithm\n",
      "          based on the values passed to :meth:`fit` method.\n",
      "\n",
      "        Note: fitting on sparse input will override the setting of\n",
      "        this parameter, using brute force.\n",
      "\n",
      "    leaf_size : int, default=30\n",
      "        Leaf size passed to BallTree or KDTree.  This can affect the\n",
      "        speed of the construction and query, as well as the memory\n",
      "        required to store the tree.  The optimal value depends on the\n",
      "        nature of the problem.\n",
      "\n",
      "    p : int, default=2\n",
      "        Power parameter for the Minkowski metric. When p = 1, this is\n",
      "        equivalent to using manhattan_distance (l1), and euclidean_distance\n",
      "        (l2) for p = 2. For arbitrary p, minkowski_distance (l_p) is used.\n",
      "\n",
      "    metric : str or callable, default='minkowski'\n",
      "        the distance metric to use for the tree.  The default metric is\n",
      "        minkowski, and with p=2 is equivalent to the standard Euclidean\n",
      "        metric. See the documentation of :class:`DistanceMetric` for a\n",
      "        list of available metrics.\n",
      "        If metric is \"precomputed\", X is assumed to be a distance matrix and\n",
      "        must be square during fit. X may be a :term:`sparse graph`,\n",
      "        in which case only \"nonzero\" elements may be considered neighbors.\n",
      "\n",
      "    metric_params : dict, default=None\n",
      "        Additional keyword arguments for the metric function.\n",
      "\n",
      "    n_jobs : int, default=None\n",
      "        The number of parallel jobs to run for neighbors search.\n",
      "        ``None`` means 1 unless in a :obj:`joblib.parallel_backend` context.\n",
      "        ``-1`` means using all processors. See :term:`Glossary <n_jobs>`\n",
      "        for more details.\n",
      "        Doesn't affect :meth:`fit` method.\n",
      "\n",
      "    Attributes\n",
      "    ----------\n",
      "    classes_ : array of shape (n_classes,)\n",
      "        Class labels known to the classifier\n",
      "\n",
      "    effective_metric_ : str or callble\n",
      "        The distance metric used. It will be same as the `metric` parameter\n",
      "        or a synonym of it, e.g. 'euclidean' if the `metric` parameter set to\n",
      "        'minkowski' and `p` parameter set to 2.\n",
      "\n",
      "    effective_metric_params_ : dict\n",
      "        Additional keyword arguments for the metric function. For most metrics\n",
      "        will be same with `metric_params` parameter, but may also contain the\n",
      "        `p` parameter value if the `effective_metric_` attribute is set to\n",
      "        'minkowski'.\n",
      "\n",
      "    n_samples_fit_ : int\n",
      "        Number of samples in the fitted data.\n",
      "\n",
      "    outputs_2d_ : bool\n",
      "        False when `y`'s shape is (n_samples, ) or (n_samples, 1) during fit\n",
      "        otherwise True.\n",
      "\n",
      "    Examples\n",
      "    --------\n",
      "    >>> X = [[0], [1], [2], [3]]\n",
      "    >>> y = [0, 0, 1, 1]\n",
      "    >>> from sklearn.neighbors import KNeighborsClassifier\n",
      "    >>> neigh = KNeighborsClassifier(n_neighbors=3)\n",
      "    >>> neigh.fit(X, y)\n",
      "    KNeighborsClassifier(...)\n",
      "    >>> print(neigh.predict([[1.1]]))\n",
      "    [0]\n",
      "    >>> print(neigh.predict_proba([[0.9]]))\n",
      "    [[0.66666667 0.33333333]]\n",
      "\n",
      "    See Also\n",
      "    --------\n",
      "    RadiusNeighborsClassifier\n",
      "    KNeighborsRegressor\n",
      "    RadiusNeighborsRegressor\n",
      "    NearestNeighbors\n",
      "\n",
      "    Notes\n",
      "    -----\n",
      "    See :ref:`Nearest Neighbors <neighbors>` in the online documentation\n",
      "    for a discussion of the choice of ``algorithm`` and ``leaf_size``.\n",
      "\n",
      "    .. warning::\n",
      "\n",
      "       Regarding the Nearest Neighbors algorithms, if it is found that two\n",
      "       neighbors, neighbor `k+1` and `k`, have identical distances\n",
      "       but different labels, the results will depend on the ordering of the\n",
      "       training data.\n",
      "\n",
      "    https://en.wikipedia.org/wiki/K-nearest_neighbor_algorithm\n",
      "    \n"
     ]
    }
   ],
   "source": [
    "from sklearn.neighbors import KNeighborsClassifier\n",
    "print(KNeighborsClassifier.__doc__)"
   ]
  },
  {
   "cell_type": "markdown",
   "id": "42f1fd8c",
   "metadata": {},
   "source": [
    "<a id=\"section4\"></a>\n",
    "## <font color=\"#004D7F\">4 Como obtener el mejor valor de k</font>"
   ]
  },
  {
   "cell_type": "code",
   "execution_count": 49,
   "id": "1dd2705a",
   "metadata": {},
   "outputs": [
    {
     "data": {
      "text/plain": [
       "([<matplotlib.axis.XTick at 0x1c29f9344f0>,\n",
       "  <matplotlib.axis.XTick at 0x1c29f9345b0>,\n",
       "  <matplotlib.axis.XTick at 0x1c29f934eb0>,\n",
       "  <matplotlib.axis.XTick at 0x1c29f970d30>,\n",
       "  <matplotlib.axis.XTick at 0x1c29f9824c0>],\n",
       " [Text(0, 0, ''),\n",
       "  Text(0, 0, ''),\n",
       "  Text(0, 0, ''),\n",
       "  Text(0, 0, ''),\n",
       "  Text(0, 0, '')])"
      ]
     },
     "execution_count": 49,
     "metadata": {},
     "output_type": "execute_result"
    },
    {
     "data": {
      "image/png": "[encoded data removed]",
      "text/plain": [
       "<Figure size 720x720 with 1 Axes>"
      ]
     },
     "metadata": {},
     "output_type": "display_data"
    }
   ],
   "source": [
    "k_range = range(1, 20)\n",
    "scores = []\n",
    "for k in k_range:\n",
    "    knn = KNeighborsClassifier(n_neighbors = k)\n",
    "    knn.fit(x_train, y_train)\n",
    "    scores.append(knn.score(x_test, y_test))\n",
    "plt.figure()\n",
    "plt.xlabel('k')\n",
    "plt.ylabel('accuracy')\n",
    "plt.scatter(k_range, scores)\n",
    "plt.xticks([0,5,10,15,20])"
   ]
  },
  {
   "cell_type": "markdown",
   "id": "ab452dd9",
   "metadata": {},
   "source": [
    "#### Comentario:\n",
    "- Se puede observar que el valor optimo es  cuando k=7 "
   ]
  },
  {
   "cell_type": "code",
   "execution_count": 50,
   "id": "56a7c022",
   "metadata": {},
   "outputs": [],
   "source": [
    "valor_d_k=7"
   ]
  },
  {
   "cell_type": "markdown",
   "id": "5bf9d09e",
   "metadata": {},
   "source": [
    "### paso 1 : modelo de kn-vecinos mas cercanos"
   ]
  },
  {
   "cell_type": "code",
   "execution_count": 51,
   "id": "d61f1f02",
   "metadata": {},
   "outputs": [],
   "source": [
    "knn=KNeighborsClassifier(valor_d_k)"
   ]
  },
  {
   "cell_type": "markdown",
   "id": "29bd9b59",
   "metadata": {},
   "source": [
    "### paso 2 : ajustar"
   ]
  },
  {
   "cell_type": "code",
   "execution_count": 52,
   "id": "a7fa341b",
   "metadata": {},
   "outputs": [
    {
     "data": {
      "text/plain": [
       "KNeighborsClassifier(n_neighbors=7)"
      ]
     },
     "execution_count": 52,
     "metadata": {},
     "output_type": "execute_result"
    }
   ],
   "source": [
    "knn.fit(x_train,y_train)"
   ]
  },
  {
   "cell_type": "code",
   "execution_count": 53,
   "id": "b7fc99ef",
   "metadata": {},
   "outputs": [
    {
     "name": "stdout",
     "output_type": "stream",
     "text": [
      "Accuracy de k-nn clasificacion entrenamiento, 2 decimales :0.90\n",
      "Accuracy de k-nn clasificacion testeo, 2 decimales: 0.86\n"
     ]
    }
   ],
   "source": [
    "print('Accuracy de k-nn clasificacion entrenamiento, 2 decimales :{:.2f}'\n",
    "     .format(knn.score(x_train,y_train)))\n",
    "print('Accuracy de k-nn clasificacion testeo, 2 decimales: {:.2f}'\n",
    "     .format(knn.score(x_test,y_test)))"
   ]
  },
  {
   "cell_type": "markdown",
   "id": "2d402c0f",
   "metadata": {},
   "source": [
    "#### Comentario:\n",
    "- El accuracy de testeo y el accuracy de entrenamiento son similares por lo que indica que nuestro modelo es estable."
   ]
  },
  {
   "cell_type": "markdown",
   "id": "4a3abbd9",
   "metadata": {},
   "source": [
    "#### Nuestro 'testeo' debe tener menos o igual accuracy que el 'entrenamiento'"
   ]
  },
  {
   "cell_type": "code",
   "execution_count": 54,
   "id": "a98ffeda",
   "metadata": {},
   "outputs": [
    {
     "data": {
      "text/plain": [
       "Index(['Review_Title', 'Review_Text', 'wordcount', 'titleSentiment',\n",
       "       'textSentiment', 'Star_Rating', 'sentimentValue'],\n",
       "      dtype='object')"
      ]
     },
     "execution_count": 54,
     "metadata": {},
     "output_type": "execute_result"
    }
   ],
   "source": [
    "df.columns"
   ]
  },
  {
   "cell_type": "code",
   "execution_count": 55,
   "id": "358e59af",
   "metadata": {},
   "outputs": [
    {
     "data": {
      "text/plain": [
       "5    88\n",
       "3    78\n",
       "1    37\n",
       "4    30\n",
       "2    24\n",
       "Name: Star_Rating, dtype: int64"
      ]
     },
     "execution_count": 55,
     "metadata": {},
     "output_type": "execute_result"
    }
   ],
   "source": [
    "df.Star_Rating.value_counts()"
   ]
  },
  {
   "cell_type": "markdown",
   "id": "1832d0a4",
   "metadata": {},
   "source": [
    "<a id=\"section5\"></a>\n",
    "## <font color=\"#004D7F\">5 Prediccion</font>"
   ]
  },
  {
   "cell_type": "markdown",
   "id": "b39b98a6",
   "metadata": {},
   "source": [
    "### La variable respuesta es **'Star_Rating'**"
   ]
  },
  {
   "cell_type": "markdown",
   "id": "a8247402",
   "metadata": {},
   "source": [
    "### Las variables predictoras son **''wordcount' y 'sentimentValue''**"
   ]
  },
  {
   "cell_type": "markdown",
   "id": "a1823b62",
   "metadata": {},
   "source": [
    "#### Predicho: y_predicho "
   ]
  },
  {
   "cell_type": "code",
   "execution_count": 56,
   "id": "50e91c11",
   "metadata": {},
   "outputs": [
    {
     "data": {
      "text/html": [
       "<div>\n",
       "<style scoped>\n",
       "    .dataframe tbody tr th:only-of-type {\n",
       "        vertical-align: middle;\n",
       "    }\n",
       "\n",
       "    .dataframe tbody tr th {\n",
       "        vertical-align: top;\n",
       "    }\n",
       "\n",
       "    .dataframe thead th {\n",
       "        text-align: right;\n",
       "    }\n",
       "</style>\n",
       "<table border=\"1\" class=\"dataframe\">\n",
       "  <thead>\n",
       "    <tr style=\"text-align: right;\">\n",
       "      <th></th>\n",
       "      <th>Review_Title</th>\n",
       "      <th>Review_Text</th>\n",
       "      <th>wordcount</th>\n",
       "      <th>titleSentiment</th>\n",
       "      <th>textSentiment</th>\n",
       "      <th>Star_Rating</th>\n",
       "      <th>sentimentValue</th>\n",
       "    </tr>\n",
       "  </thead>\n",
       "  <tbody>\n",
       "    <tr>\n",
       "      <th>0</th>\n",
       "      <td>Sin conexión</td>\n",
       "      <td>Hola desde hace algo más de un mes me pone sin...</td>\n",
       "      <td>23.0</td>\n",
       "      <td>negative</td>\n",
       "      <td>negative</td>\n",
       "      <td>1</td>\n",
       "      <td>-0.486389</td>\n",
       "    </tr>\n",
       "    <tr>\n",
       "      <th>1</th>\n",
       "      <td>faltan cosas</td>\n",
       "      <td>Han mejorado la apariencia pero no</td>\n",
       "      <td>20.0</td>\n",
       "      <td>negative</td>\n",
       "      <td>negative</td>\n",
       "      <td>1</td>\n",
       "      <td>-0.586187</td>\n",
       "    </tr>\n",
       "  </tbody>\n",
       "</table>\n",
       "</div>"
      ],
      "text/plain": [
       "   Review_Title                                        Review_Text  wordcount  \\\n",
       "0  Sin conexión  Hola desde hace algo más de un mes me pone sin...       23.0   \n",
       "1  faltan cosas                 Han mejorado la apariencia pero no       20.0   \n",
       "\n",
       "  titleSentiment textSentiment Star_Rating  sentimentValue  \n",
       "0       negative      negative           1       -0.486389  \n",
       "1       negative      negative           1       -0.586187  "
      ]
     },
     "execution_count": 56,
     "metadata": {},
     "output_type": "execute_result"
    }
   ],
   "source": [
    "df.head(2)"
   ]
  },
  {
   "cell_type": "markdown",
   "id": "ddaffedb",
   "metadata": {},
   "source": [
    "#### Prediccion: y_predicho     viene de x_test"
   ]
  },
  {
   "cell_type": "code",
   "execution_count": 57,
   "id": "75c38f29",
   "metadata": {},
   "outputs": [
    {
     "data": {
      "text/plain": [
       "array(['3', '1', '4', '3', '4', '5', '3', '5', '3', '3', '4', '5', '3',\n",
       "       '5', '4', '3', '4', '5', '3', '3', '5', '3', '5', '3', '3', '5',\n",
       "       '1', '3', '5', '2', '5', '2', '3', '5', '5', '4', '5', '1', '1',\n",
       "       '5', '3', '1', '5', '5', '3', '5', '5', '3', '3', '4', '3', '3',\n",
       "       '3', '3', '3', '5', '5', '1', '5', '1', '4', '3', '1', '1', '5'],\n",
       "      dtype=object)"
      ]
     },
     "execution_count": 57,
     "metadata": {},
     "output_type": "execute_result"
    }
   ],
   "source": [
    "knn.predict(x_test)"
   ]
  },
  {
   "cell_type": "code",
   "execution_count": 58,
   "id": "b4016ae4",
   "metadata": {},
   "outputs": [],
   "source": [
    "y_predicho=knn.predict(x_test)"
   ]
  },
  {
   "cell_type": "code",
   "execution_count": 59,
   "id": "37b075eb",
   "metadata": {},
   "outputs": [],
   "source": [
    "y_predicho=pd.DataFrame(y_predicho)"
   ]
  },
  {
   "cell_type": "code",
   "execution_count": 60,
   "id": "06b01830",
   "metadata": {},
   "outputs": [
    {
     "data": {
      "text/html": [
       "<div>\n",
       "<style scoped>\n",
       "    .dataframe tbody tr th:only-of-type {\n",
       "        vertical-align: middle;\n",
       "    }\n",
       "\n",
       "    .dataframe tbody tr th {\n",
       "        vertical-align: top;\n",
       "    }\n",
       "\n",
       "    .dataframe thead th {\n",
       "        text-align: right;\n",
       "    }\n",
       "</style>\n",
       "<table border=\"1\" class=\"dataframe\">\n",
       "  <thead>\n",
       "    <tr style=\"text-align: right;\">\n",
       "      <th></th>\n",
       "      <th>Review_Title</th>\n",
       "      <th>Review_Text</th>\n",
       "      <th>wordcount</th>\n",
       "      <th>titleSentiment</th>\n",
       "      <th>textSentiment</th>\n",
       "      <th>Star_Rating</th>\n",
       "      <th>sentimentValue</th>\n",
       "      <th>y_predicho</th>\n",
       "    </tr>\n",
       "  </thead>\n",
       "  <tbody>\n",
       "    <tr>\n",
       "      <th>0</th>\n",
       "      <td>Sin conexión</td>\n",
       "      <td>Hola desde hace algo más de un mes me pone sin...</td>\n",
       "      <td>23.0</td>\n",
       "      <td>negative</td>\n",
       "      <td>negative</td>\n",
       "      <td>1</td>\n",
       "      <td>-0.486389</td>\n",
       "      <td>3</td>\n",
       "    </tr>\n",
       "    <tr>\n",
       "      <th>1</th>\n",
       "      <td>faltan cosas</td>\n",
       "      <td>Han mejorado la apariencia pero no</td>\n",
       "      <td>20.0</td>\n",
       "      <td>negative</td>\n",
       "      <td>negative</td>\n",
       "      <td>1</td>\n",
       "      <td>-0.586187</td>\n",
       "      <td>1</td>\n",
       "    </tr>\n",
       "    <tr>\n",
       "      <th>2</th>\n",
       "      <td>Es muy buena lo recomiendo</td>\n",
       "      <td>Andres e puto amoooo</td>\n",
       "      <td>4.0</td>\n",
       "      <td>NaN</td>\n",
       "      <td>negative</td>\n",
       "      <td>1</td>\n",
       "      <td>-0.602240</td>\n",
       "      <td>4</td>\n",
       "    </tr>\n",
       "  </tbody>\n",
       "</table>\n",
       "</div>"
      ],
      "text/plain": [
       "                 Review_Title  \\\n",
       "0                Sin conexión   \n",
       "1                faltan cosas   \n",
       "2  Es muy buena lo recomiendo   \n",
       "\n",
       "                                         Review_Text  wordcount  \\\n",
       "0  Hola desde hace algo más de un mes me pone sin...       23.0   \n",
       "1                 Han mejorado la apariencia pero no       20.0   \n",
       "2                               Andres e puto amoooo        4.0   \n",
       "\n",
       "  titleSentiment textSentiment Star_Rating  sentimentValue y_predicho  \n",
       "0       negative      negative           1       -0.486389          3  \n",
       "1       negative      negative           1       -0.586187          1  \n",
       "2            NaN      negative           1       -0.602240          4  "
      ]
     },
     "execution_count": 60,
     "metadata": {},
     "output_type": "execute_result"
    }
   ],
   "source": [
    "df['y_predicho']=y_predicho\n",
    "df.head(3)"
   ]
  },
  {
   "cell_type": "markdown",
   "id": "3160ac5e",
   "metadata": {},
   "source": [
    "#### Real : y_test"
   ]
  },
  {
   "cell_type": "code",
   "execution_count": 61,
   "id": "f504879a",
   "metadata": {},
   "outputs": [],
   "source": [
    "y_test=pd.DataFrame(y_test)"
   ]
  },
  {
   "cell_type": "code",
   "execution_count": 62,
   "id": "7130d877",
   "metadata": {},
   "outputs": [
    {
     "data": {
      "text/html": [
       "<div>\n",
       "<style scoped>\n",
       "    .dataframe tbody tr th:only-of-type {\n",
       "        vertical-align: middle;\n",
       "    }\n",
       "\n",
       "    .dataframe tbody tr th {\n",
       "        vertical-align: top;\n",
       "    }\n",
       "\n",
       "    .dataframe thead th {\n",
       "        text-align: right;\n",
       "    }\n",
       "</style>\n",
       "<table border=\"1\" class=\"dataframe\">\n",
       "  <thead>\n",
       "    <tr style=\"text-align: right;\">\n",
       "      <th></th>\n",
       "      <th>0</th>\n",
       "    </tr>\n",
       "  </thead>\n",
       "  <tbody>\n",
       "    <tr>\n",
       "      <th>0</th>\n",
       "      <td>5</td>\n",
       "    </tr>\n",
       "    <tr>\n",
       "      <th>1</th>\n",
       "      <td>1</td>\n",
       "    </tr>\n",
       "  </tbody>\n",
       "</table>\n",
       "</div>"
      ],
      "text/plain": [
       "   0\n",
       "0  5\n",
       "1  1"
      ]
     },
     "execution_count": 62,
     "metadata": {},
     "output_type": "execute_result"
    }
   ],
   "source": [
    "y_test.head(2)"
   ]
  },
  {
   "cell_type": "markdown",
   "id": "9622046f",
   "metadata": {},
   "source": [
    "<a id=\"section51\"></a>\n",
    "## <font color=\"#004D7F\">5.1 Metricas - Matrix de Confusion</font>"
   ]
  },
  {
   "cell_type": "code",
   "execution_count": 63,
   "id": "e81e673e",
   "metadata": {},
   "outputs": [],
   "source": [
    "from sklearn.metrics import classification_report\n",
    "from sklearn.metrics import confusion_matrix"
   ]
  },
  {
   "cell_type": "code",
   "execution_count": 64,
   "id": "56f9bc0d",
   "metadata": {},
   "outputs": [
    {
     "name": "stdout",
     "output_type": "stream",
     "text": [
      "[[ 9  0  1  0  0]\n",
      " [ 0  1  0  0  0]\n",
      " [ 0  1 17  0  1]\n",
      " [ 0  0  2  8  0]\n",
      " [ 0  0  4  0 21]]\n"
     ]
    }
   ],
   "source": [
    "print(confusion_matrix(y_test,y_predicho))"
   ]
  },
  {
   "cell_type": "code",
   "execution_count": 65,
   "id": "2f228e40",
   "metadata": {},
   "outputs": [
    {
     "name": "stdout",
     "output_type": "stream",
     "text": [
      "              precision    recall  f1-score   support\n",
      "\n",
      "           1       1.00      0.90      0.95        10\n",
      "           2       0.50      1.00      0.67         1\n",
      "           3       0.71      0.89      0.79        19\n",
      "           4       1.00      0.80      0.89        10\n",
      "           5       0.95      0.84      0.89        25\n",
      "\n",
      "    accuracy                           0.86        65\n",
      "   macro avg       0.83      0.89      0.84        65\n",
      "weighted avg       0.89      0.86      0.87        65\n",
      "\n"
     ]
    }
   ],
   "source": [
    "print(classification_report(y_test,y_predicho))"
   ]
  },
  {
   "cell_type": "markdown",
   "id": "e98948d4",
   "metadata": {},
   "source": [
    "Al ser un algoritmo supervisado debemos contar con suficientes muestras etiquetadas \n",
    "para poder entrenar el modelo con buenos resultados. \n",
    "\n",
    "Este algoritmo es bastante simple y -como vimos antes- necesitamos muchos recursos de memoria y cpu \n",
    "para mantener el dataset «vivo» y evaluar nuevos puntos. \n",
    "\n",
    "Esto no lo hace recomendable para conjuntos de datos muy grandes"
   ]
  },
  {
   "cell_type": "markdown",
   "id": "936599c9",
   "metadata": {},
   "source": [
    "<a id=\"section511\"></a>\n",
    "## <font color=\"#004D7F\">5.1.1 Tamaño de la figura</font>"
   ]
  },
  {
   "cell_type": "code",
   "execution_count": 66,
   "id": "e800b2ad",
   "metadata": {},
   "outputs": [
    {
     "data": {
      "text/plain": [
       "<Figure size 720x360 with 0 Axes>"
      ]
     },
     "execution_count": 66,
     "metadata": {},
     "output_type": "execute_result"
    },
    {
     "data": {
      "text/plain": [
       "<Figure size 720x360 with 0 Axes>"
      ]
     },
     "metadata": {},
     "output_type": "display_data"
    }
   ],
   "source": [
    "plt.figure(figsize=(10,5))"
   ]
  },
  {
   "cell_type": "code",
   "execution_count": 67,
   "id": "d355907d",
   "metadata": {},
   "outputs": [
    {
     "data": {
      "text/plain": [
       "<AxesSubplot:>"
      ]
     },
     "execution_count": 67,
     "metadata": {},
     "output_type": "execute_result"
    },
    {
     "data": {
      "image/png": "[encoded data removed]",
      "text/plain": [
       "<Figure size 720x720 with 2 Axes>"
      ]
     },
     "metadata": {},
     "output_type": "display_data"
    }
   ],
   "source": [
    "sns.heatmap(confusion_matrix(y_test,y_predicho),annot=True,linewidths=.5)"
   ]
  }
 ],
 "metadata": {
  "kernelspec": {
   "display_name": "Python 3 (ipykernel)",
   "language": "python",
   "name": "python3"
  },
  "language_info": {
   "codemirror_mode": {
    "name": "ipython",
    "version": 3
   },
   "file_extension": ".py",
   "mimetype": "text/x-python",
   "name": "python",
   "nbconvert_exporter": "python",
   "pygments_lexer": "ipython3",
   "version": "3.9.7"
  }
 },
 "nbformat": 4,
 "nbformat_minor": 5
}
